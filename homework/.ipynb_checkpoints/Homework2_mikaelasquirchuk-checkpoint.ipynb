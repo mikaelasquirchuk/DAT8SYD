{
 "cells": [
  {
   "cell_type": "markdown",
   "metadata": {},
   "source": [
    "# SYD DAT 8 Homework 2 - Visualisation and Regression\n",
    "\n",
    "## Homework - Due Friday 30th June"
   ]
  },
  {
   "cell_type": "markdown",
   "metadata": {},
   "source": [
    "#### Setup\n",
    "* Signup for an AWS account\n",
    "\n",
    "Done!"
   ]
  },
  {
   "cell_type": "markdown",
   "metadata": {},
   "source": [
    "#### Communication\n",
    "* Imagine you are trying to explain to someone what Linear Regression is - but they have no programming/maths experience? How would you explain the overall process, what a p-value means and what R-Squared means?"
   ]
  },
  {
   "cell_type": "markdown",
   "metadata": {},
   "source": [
    "*Linear regression* is a way for us to map the relationship between one or several factors (called _predictors_ or independent variables) and another unknown factor (the dependent variable or _target_), in a _straight line_ relationship. One example is using the precipitation, yesterday's temperature and humidity (as predictors) to predict today's temperature (the target). It is best to use when you're trying to predict a number, like the temperature or the price of a car.\n",
    "\n",
    "There are several ways to find the line that best predicts the value of the target based on the predictors. One way is by _gradient descent_, which essentially finds the line with the lowest error and spits it out. So if the equation for the line is y = mx + b, the error of the line will be (y1 - mx1 + b)^2 + (y2 - mx2 + b)^2 + ... (yn - mxn + b)^2/ (number of x,y pairs). The closer the error is to 0, the better the line. It then finds the values of m and b that will result in the lowest error value. \n",
    "See here for more information: [Link](https://spin.atomicobject.com/2014/06/24/gradient-descent-linear-regression/)\n",
    "![Image](https://spin.atomicobject.com/wp-content/uploads/linear_regression_error1.png)\n",
    "\n",
    "_R^2_ is a way to determine how well the \"linear regression\" finds the target using the predictors. It is a score between 1 and 0, where 1 is a perfect fit. Basically, it is the \"residual sum of squares\" (the sum of all the distances between the predicted line and the actual data point) over the \"total sum of squares\" (the sum of all the distances between the actual data point and the average target (e.g. the average temperature)). It is 1 - (diff between predicted + actual target / diff between average + actual target). You want this to be as close as possible to 1.\n",
    "\n",
    "_P-value_ is how we test whether there is any relationship at all between the predictors and the target. The p-value is to do with the frequency of that occurring randomly. For example, there would be no point in performing linear regression to find today's temperature in Sydney which used as a predictor the price of fish in China. If the P-value is higher than a small decimal (normally 0.05), it means there is no relationship between the target and the predictor. You are generally hoping the p-value will be 0, showing direct correlation between the predictor and target.\n",
    "\n"
   ]
  },
  {
   "cell_type": "markdown",
   "metadata": {},
   "source": [
    "* Read the paper [Useful things to know about machine learning]( https://homes.cs.washington.edu/~pedrod/papers/cacm12.pdf). \n",
    "    * What have we covered so far from this paper? \n",
    "    * Explain sections 6-13 in your own words"
   ]
  },
  {
   "cell_type": "markdown",
   "metadata": {},
   "source": []
  },
  {
   "cell_type": "markdown",
   "metadata": {},
   "source": [
    "#### Machine Learning\n",
    "\n",
    "* Describe 3 ways we can select what features to use in a model"
   ]
  },
  {
   "cell_type": "markdown",
   "metadata": {},
   "source": [
    "1. Regularisation\n",
    "2. x\n",
    "3. c"
   ]
  },
  {
   "cell_type": "markdown",
   "metadata": {},
   "source": [
    "* Complete the first 3 exercises from Chapter 3 of Introduction to Statistical Learning in Python"
   ]
  },
  {
   "cell_type": "markdown",
   "metadata": {},
   "source": []
  },
  {
   "cell_type": "markdown",
   "metadata": {},
   "source": [
    "#### Course Project\n",
    "* For the following setup a new github repository for your project and share it with Alasdair and Ian over Slack."
   ]
  },
  {
   "cell_type": "markdown",
   "metadata": {},
   "source": [
    "https://github.com/mikaelasquirchuk/dat8syd-project"
   ]
  },
  {
   "cell_type": "markdown",
   "metadata": {},
   "source": [
    "* Load the data you have gathered for your project into Python and run some summary statistics over the data. Are there any interesting features of the data that jump out? (Include the code)."
   ]
  },
  {
   "cell_type": "code",
   "execution_count": null,
   "metadata": {
    "collapsed": true
   },
   "outputs": [],
   "source": []
  },
  {
   "cell_type": "markdown",
   "metadata": {},
   "source": [
    "* Draft/Sketch (or wireframe) some data visualisations that would be useful for you to explore your data set."
   ]
  },
  {
   "cell_type": "code",
   "execution_count": null,
   "metadata": {
    "collapsed": true
   },
   "outputs": [],
   "source": []
  },
  {
   "cell_type": "markdown",
   "metadata": {},
   "source": [
    "* Are there any regresion or clustering techniques you could use in your project? Write them down (with the corresponding scikit learn function) and what you think you would get out of it. Try it out if you get a chance."
   ]
  },
  {
   "cell_type": "code",
   "execution_count": null,
   "metadata": {
    "collapsed": true
   },
   "outputs": [],
   "source": []
  },
  {
   "cell_type": "markdown",
   "metadata": {},
   "source": [
    "**Instructions: copy this file and append your name in the filename, e.g. Homework2_ian_hansel.ipynb.\n",
    "Then commit this in your local repository, push it to your github account and create a pull request so I can see your work. Remeber if you get stuck to look at the slides going over Fork, Clone, Commit, Push and Pull request.**"
   ]
  },
  {
   "cell_type": "code",
   "execution_count": null,
   "metadata": {
    "collapsed": true
   },
   "outputs": [],
   "source": []
  }
 ],
 "metadata": {
  "kernelspec": {
   "display_name": "Python 3",
   "language": "python",
   "name": "python3"
  },
  "language_info": {
   "codemirror_mode": {
    "name": "ipython",
    "version": 3
   },
   "file_extension": ".py",
   "mimetype": "text/x-python",
   "name": "python",
   "nbconvert_exporter": "python",
   "pygments_lexer": "ipython3",
   "version": "3.6.0"
  }
 },
 "nbformat": 4,
 "nbformat_minor": 0
}
