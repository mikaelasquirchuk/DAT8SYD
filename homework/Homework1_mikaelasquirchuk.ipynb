{
 "cells": [
  {
   "cell_type": "markdown",
   "metadata": {},
   "source": [
    "# SYD DAT 8 Homework 1 - Git and Markdown\n",
    "\n"
   ]
  },
  {
   "cell_type": "markdown",
   "metadata": {},
   "source": [
    "# Homework Output"
   ]
  },
  {
   "cell_type": "markdown",
   "metadata": {},
   "source": [
    "## Set up\n",
    "* Resolve any installation issues before next class.\n",
    "* Make sure you have a github profile and created a repo called \\\"SYD_DAT_8\\\"\n",
    "* Clone the class repo (this one!)\n",
    "* Review this [code](../labs/Week 1/00_python_refresher.py) for a recap of some Python basics."
   ]
  },
  {
   "cell_type": "markdown",
   "metadata": {},
   "source": [
    "## Communication\n",
    "### 5 Key Points from [Analyzing the Analyzers](http://http://cdn.oreillystatic.com/oreilly/radarreport/0636920029014/Analyzing_the_Analyzers.pdf)\n",
    "Read [Analyzing the Analyzers](http://cdn.oreillystatic.com/oreilly/radarreport/0636920029014/Analyzing_the_Analyzers.pdf) for a useful look at the different types of data scientists. Write down 5 key points you took away from the article"
   ]
  },
  {
   "cell_type": "markdown",
   "metadata": {},
   "source": [
    "1. \n",
    "2. \n",
    "3. \n",
    "4. \n",
    "5. "
   ]
  },
  {
   "cell_type": "markdown",
   "metadata": {},
   "source": [
    "### Read about some [Markdown Techniques](https://daringfireball.net/projects/markdown/syntax)\n",
    "\n",
    "### Summary of [The Data Science Handbook](http://www.thedatasciencehandbook.com/)\n",
    "\n",
    "Write a summary of 2 chapters of [The Data Science Handbook](http://www.thedatasciencehandbook.com/) in Markdown in this notebook and commit it to your repository on github.\n",
    "\n"
   ]
  },
  {
   "cell_type": "markdown",
   "metadata": {},
   "source": [
    "#### Chapter #: \n",
    "* x\n",
    "* x\n"
   ]
  },
  {
   "cell_type": "markdown",
   "metadata": {},
   "source": [
    "##  Programming\n",
    "### Exercise Four - Movie Lens Data\n",
    "Complete the lab from class and the additional Exercise below"
   ]
  },
  {
   "cell_type": "code",
   "execution_count": 60,
   "metadata": {
    "collapsed": false,
    "scrolled": true
   },
   "outputs": [
    {
     "data": {
      "text/html": [
       "<div>\n",
       "<table border=\"1\" class=\"dataframe\">\n",
       "  <thead>\n",
       "    <tr style=\"text-align: right;\">\n",
       "      <th></th>\n",
       "      <th>age</th>\n",
       "      <th>gender</th>\n",
       "      <th>occupation</th>\n",
       "      <th>zip_code</th>\n",
       "    </tr>\n",
       "    <tr>\n",
       "      <th>user_id</th>\n",
       "      <th></th>\n",
       "      <th></th>\n",
       "      <th></th>\n",
       "      <th></th>\n",
       "    </tr>\n",
       "  </thead>\n",
       "  <tbody>\n",
       "    <tr>\n",
       "      <th>496</th>\n",
       "      <td>21</td>\n",
       "      <td>F</td>\n",
       "      <td>student</td>\n",
       "      <td>55414</td>\n",
       "    </tr>\n",
       "    <tr>\n",
       "      <th>572</th>\n",
       "      <td>51</td>\n",
       "      <td>M</td>\n",
       "      <td>educator</td>\n",
       "      <td>20003</td>\n",
       "    </tr>\n",
       "    <tr>\n",
       "      <th>621</th>\n",
       "      <td>17</td>\n",
       "      <td>M</td>\n",
       "      <td>student</td>\n",
       "      <td>60402</td>\n",
       "    </tr>\n",
       "    <tr>\n",
       "      <th>684</th>\n",
       "      <td>28</td>\n",
       "      <td>M</td>\n",
       "      <td>student</td>\n",
       "      <td>55414</td>\n",
       "    </tr>\n",
       "    <tr>\n",
       "      <th>733</th>\n",
       "      <td>44</td>\n",
       "      <td>F</td>\n",
       "      <td>other</td>\n",
       "      <td>60630</td>\n",
       "    </tr>\n",
       "    <tr>\n",
       "      <th>805</th>\n",
       "      <td>27</td>\n",
       "      <td>F</td>\n",
       "      <td>other</td>\n",
       "      <td>20009</td>\n",
       "    </tr>\n",
       "    <tr>\n",
       "      <th>890</th>\n",
       "      <td>32</td>\n",
       "      <td>M</td>\n",
       "      <td>student</td>\n",
       "      <td>97301</td>\n",
       "    </tr>\n",
       "  </tbody>\n",
       "</table>\n",
       "</div>"
      ],
      "text/plain": [
       "         age gender occupation zip_code\n",
       "user_id                                \n",
       "496       21      F    student    55414\n",
       "572       51      M   educator    20003\n",
       "621       17      M    student    60402\n",
       "684       28      M    student    55414\n",
       "733       44      F      other    60630\n",
       "805       27      F      other    20009\n",
       "890       32      M    student    97301"
      ]
     },
     "execution_count": 60,
     "metadata": {},
     "output_type": "execute_result"
    }
   ],
   "source": [
    "import numpy as np\n",
    "import pandas as pd\n",
    "#create column names\n",
    "user_cols = ['user_id', 'age', 'gender', 'occupation', 'zip_code']\n",
    "#import data as users\n",
    "users = pd.read_table('../data/u.user', sep='|', header=None, names=user_cols, index_col='user_id', dtype={'zip_code':str})# for each occupation in 'users', count the number of occurrences\n",
    "#create data subset by occupation to make it easier for me\n",
    "byoccupation = users.groupby('occupation')\n",
    "# for each occupation, calculate the mean age\n",
    "byoccupation.age.mean()\n",
    "# for each occupation, calculate the minimum and maximum ages\n",
    "byoccupation.age.min()\n",
    "byoccupation.age.max()\n",
    "# for each combination of occupation and gender, calculate the mean age\n",
    "users.groupby(['occupation', 'gender']).age.mean()\n",
    "# randomly sample a DataFrame\n",
    "users.sample()\n",
    "# detect duplicate users\n",
    "duplicates = users.duplicated()\n",
    "# print duplicates\n",
    "users[duplicates == True]\n"
   ]
  },
  {
   "cell_type": "markdown",
   "metadata": {},
   "source": [
    "## Course Project"
   ]
  },
  {
   "cell_type": "markdown",
   "metadata": {},
   "source": [
    "* Come up with 5 different ideas for your course project. For each one list:\n",
    "  * Overview of your idea\n",
    "  * What data you will use\n",
    "  * What the outcome is that you are trying to achieve\n",
    "  * Any ideas of modelling techniques it may involve\n"
   ]
  },
  {
   "cell_type": "markdown",
   "metadata": {},
   "source": [
    "### Project idea 1: \n",
    "\n",
    "* I'd love to combine some kind of examination of different song qualities - genre, BPM, duration, key, tempo, time signature - and the song's relative popularity to develop a way to predict popularity based on these factors.\n",
    "* I would look at scraping Billboard 100 archive - http://www.billboard.com/archive/charts/1965/hot-100 - potentially using the method here: http://nbviewer.jupyter.org/github/lentzma/Billboard_Top_40/blob/master/DAT13FinalLentz.ipynb\n",
    "* My intended outcome would be some kind of predictor of song popularity based on this combination.\n"
   ]
  },
  {
   "cell_type": "markdown",
   "metadata": {
    "collapsed": true
   },
   "source": [
    "### Project idea 2: \n",
    "\n",
    "* Another idea would be some kind of sentiment analysis mapped over time - either using GDELT or Twitter scraping sentiment analysis - mapped against lunar data, also mapped temporally.\n",
    "* I would look at GDELT/sentiment data combined with lunar data collected from here: http://aa.usno.navy.mil/data/docs/api.php\n",
    "* The outcome would be some kind of predictor of sentiment based on lunar data - that is, to show that the moon phase has an impact on global sentiment (if it does)."
   ]
  },
  {
   "cell_type": "markdown",
   "metadata": {},
   "source": [
    "### Project idea 3: \n",
    "\n",
    "* There is a work conundrum that we face constantly at GA - how to tell how many students we enrol in a course won't make it to the first class, that is, they cancel. I've done analysis of this but haven't been able to make any meaningful insight. \n",
    "* I'd love to look at what factors contribute to a higher chance of cancellation, and potentially predict which students are more likely to cancel, or even what the final student number for a class is likely to be.\n",
    "* I can export data from our back-end that includes identifiers of the enrolment, who completed, how many calls they received, etc.\n",
    "* The end goal of the project would be to predict the actual starting class size from a set of students, or to flag students who are more likely to cancel."
   ]
  },
  {
   "cell_type": "markdown",
   "metadata": {},
   "source": [
    "### Project idea 4: \n",
    "\n",
    "* "
   ]
  },
  {
   "cell_type": "markdown",
   "metadata": {},
   "source": [
    "### Project idea 5: \n",
    "\n",
    "* "
   ]
  },
  {
   "cell_type": "code",
   "execution_count": null,
   "metadata": {
    "collapsed": true
   },
   "outputs": [],
   "source": []
  }
 ],
 "metadata": {
  "kernelspec": {
   "display_name": "Python 3",
   "language": "python",
   "name": "python3"
  },
  "language_info": {
   "codemirror_mode": {
    "name": "ipython",
    "version": 3
   },
   "file_extension": ".py",
   "mimetype": "text/x-python",
   "name": "python",
   "nbconvert_exporter": "python",
   "pygments_lexer": "ipython3",
   "version": "3.6.0"
  }
 },
 "nbformat": 4,
 "nbformat_minor": 0
}
