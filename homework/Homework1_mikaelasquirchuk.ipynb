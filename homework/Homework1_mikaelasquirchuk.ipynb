{
 "cells": [
  {
   "cell_type": "markdown",
   "metadata": {},
   "source": [
    "# SYD DAT 8 Homework 1 - Git and Markdown\n",
    "\n"
   ]
  },
  {
   "cell_type": "markdown",
   "metadata": {},
   "source": [
    "# Homework Output"
   ]
  },
  {
   "cell_type": "markdown",
   "metadata": {},
   "source": [
    "## Set up\n",
    "* Resolve any installation issues before next class.\n",
    "* Make sure you have a github profile and created a repo called \\\"SYD_DAT_8\\\"\n",
    "* Clone the class repo (this one!)\n",
    "* Review this [code](../labs/Week 1/00_python_refresher.py) for a recap of some Python basics."
   ]
  },
  {
   "cell_type": "markdown",
   "metadata": {},
   "source": [
    "## Communication\n",
    "### 5 Key Points from [Analyzing the Analyzers](http://http://cdn.oreillystatic.com/oreilly/radarreport/0636920029014/Analyzing_the_Analyzers.pdf)\n",
    "Read [Analyzing the Analyzers](http://cdn.oreillystatic.com/oreilly/radarreport/0636920029014/Analyzing_the_Analyzers.pdf) for a useful look at the different types of data scientists. Write down 5 key points you took away from the article"
   ]
  },
  {
   "cell_type": "markdown",
   "metadata": {},
   "source": [
    "* There is a broad misunderstanding of what data scientists do, and this has caused consternation with hiring. The authors set out to approach the problem the only way they knew how; data. \n",
    "* They collected data on how data scientists view themselves and came out with 4 categories:\n",
    "1. *Data Businesspeople* = \n",
    " * most focused on the organization and how data projects yield profit; \n",
    " * most likely to rate themselves highly as leaders and entrepreneurs; \n",
    " * most likely to have reported managing an employee (about 80% have); \n",
    " * quite likely to have done contract or consulting work + a substantial proportion have started a business;\n",
    " * least likely to have an advanced degree among our respondents, with about 60% having a Master’s or beyond;\n",
    " * most likely to have an MBA, at nearly 25%;\n",
    " * definitely have technical skills and were particularly likely to have undergraduate Engineering degrees\n",
    " * about 90% report at least occasionally working on gigabyte-scale problems, which far exceeds quarterly financials in a spreadsheet.  \n",
    "2. *Data Creatives* = \n",
    " * excel at applying a wide range of tools and technologies to a problem, or creating innovative prototypes at hackathons — the quintessential Jack of All Trades;\n",
    " * latched onto the term Artist like no other group;\n",
    " * have substantial academic experience, with about 3/4 having taught classes and presented papers;\n",
    " * common un‐ dergraduate degrees were in areas like Economics and Statistics, relatively few  have a PhD\n",
    " * have substantial business expertise — slightly more likely than Data Businesspeople to have done contract work (80%) or have started a business (40%);\n",
    " * most likely to identify as a Hacker;\n",
    " * had the deepest Open Source experience, with about half contributing to OSS projects and about half working on Open Data projects. \n",
    "3. *Data Developers* = \n",
    " * focused on the technical problem of managing data — how to get it, store it, and learn from it; \n",
    " * tended to rate themselves fairly highly as Scientists, although not as highly as Data Researchers did.\n",
    " * clearly writing code, probably production code, in their day-to-day work;\n",
    " * about half have Computer Science or Com‐ puter Engineering degrees, and about half have contributed to Open Source projects;\n",
    " * more Data Developers land in the Machine Learning/ Big Data skills group than other types of data scientist;\n",
    " * least likely to have done consulting work, managed an employee, or contributed to an Open Data project.\n",
    "4. *Data Researchers* = \n",
    " * majority of respondents whose top Skills Group was Statistics ended up in this category, for instance;\n",
    " * nearly 75% of Data Researchers have published in peer-reviewed journals, and over half have a PhD;\n",
    " * least likely to have started a business;\n",
    " * only half have managed an employee.\n",
    "* T-Shaped Data Scientist - overall base-level rankings in every skill group, but one stronger skill group. "
   ]
  },
  {
   "cell_type": "markdown",
   "metadata": {},
   "source": [
    "### Summary of [The Data Science Handbook](http://www.thedatasciencehandbook.com/)\n",
    "\n",
    "Write a summary of 2 chapters of [The Data Science Handbook](http://www.thedatasciencehandbook.com/) in Markdown in this notebook and commit it to your repository on github.\n",
    "\n"
   ]
  },
  {
   "cell_type": "markdown",
   "metadata": {},
   "source": [
    "#### How to Develop Data Science Skills, George Roumeliotis (Intuit): \n",
    "> \"Data Science is its own unique discipline, combining elements of applied mathematics, computer science, business consulting, and, increasingly, new product development.\"\n",
    "\n",
    "* Focus shifted from marketing optimisation to UX to *leveraging big data and advanced analytics to create new products that solve important problems for our customers*. \n",
    "* Goal = Empower individuals and small businesses by allowing them to benefit from the power of their own data as well as the collective wisdom of millions of fellow  customers.\n",
    "* More specifically, the technical table stakes for a Data Scientist are *advanced statistics, machine\n",
    " learning, SQL and Hadoop, and a mainstream programming language like Java*. So there’s a combination of applied mathematics and computer science. \n",
    "* Business consulting skills = equally important, but often overlooked. Can be the difference between a Data Scientist and a Data “Gopher\" (someone who responds to incoming requests for analyzing this or that, but who never has a seat at the table when the business decisions are being made). \n",
    "* Need to learn:\n",
    " * R\n",
    " * a mainstream programming language like Java or C++. \n",
    " * a mainstream scripting language like Python or Perl.\n",
    "* Start with bottom line up front, rather than hypothesis-tests-results, in a business setting (cf. academia). Allocate time as if you are the business owner.\n",
    "* Build relationships with non-technical colleagues and practice viewing the world in terms of business processes.\n",
    "* A successful Data Scientist changes the world around them.\n",
    "\n",
    "#### On Becoming a Successful Data Scientist, Hilary Mason:\n",
    "> \"A data scientist is someone who sits down with a question and gathers some data to answer it, or someone who starts with a data set and asks questions to learn more about it. They do some math, write some code, do the analysis, and then come to a conclusion.\" \n",
    "\n",
    "* Now the base infrastructure of data work is mature, and companies are working to make it easier to work with them.\n",
    "* Culture is important; data culture needs to grow.\n",
    "* Data scientists should function as the facilitator of asking and solving business questions. \n",
    "* Data science also involves story-telling - which is often neglected. \n",
    "* Working in a start-up with data is better than academia, where there isn't something collecting data already, or big business, where the data is stuck in databases or are highly controlled.\n",
    "* Start-ups are the perfect place where you have a product that’s generating its own data. As a data scientist you have input into how the product changes, so you can ask, “Can we collect this other thing?” or “Do you think if we tried this we might learn something else?” It’s very open as to what you do with it.\n",
    "* Look for good data sets. \n",
    "* When starting a project, the first question is: can we define the question we're interested in? The second question is: how do we know we've won? Thirdly, what's the first thing we will do with the output, as a business?\n",
    "* https://gist.github.com/campeterson/5946446\n",
    "\n"
   ]
  },
  {
   "cell_type": "markdown",
   "metadata": {},
   "source": [
    "##  Programming\n",
    "### Exercise Four - Movie Lens Data\n",
    "Complete the lab from class and the additional Exercise below"
   ]
  },
  {
   "cell_type": "code",
   "execution_count": 60,
   "metadata": {
    "collapsed": false,
    "scrolled": true
   },
   "outputs": [
    {
     "data": {
      "text/html": [
       "<div>\n",
       "<table border=\"1\" class=\"dataframe\">\n",
       "  <thead>\n",
       "    <tr style=\"text-align: right;\">\n",
       "      <th></th>\n",
       "      <th>age</th>\n",
       "      <th>gender</th>\n",
       "      <th>occupation</th>\n",
       "      <th>zip_code</th>\n",
       "    </tr>\n",
       "    <tr>\n",
       "      <th>user_id</th>\n",
       "      <th></th>\n",
       "      <th></th>\n",
       "      <th></th>\n",
       "      <th></th>\n",
       "    </tr>\n",
       "  </thead>\n",
       "  <tbody>\n",
       "    <tr>\n",
       "      <th>496</th>\n",
       "      <td>21</td>\n",
       "      <td>F</td>\n",
       "      <td>student</td>\n",
       "      <td>55414</td>\n",
       "    </tr>\n",
       "    <tr>\n",
       "      <th>572</th>\n",
       "      <td>51</td>\n",
       "      <td>M</td>\n",
       "      <td>educator</td>\n",
       "      <td>20003</td>\n",
       "    </tr>\n",
       "    <tr>\n",
       "      <th>621</th>\n",
       "      <td>17</td>\n",
       "      <td>M</td>\n",
       "      <td>student</td>\n",
       "      <td>60402</td>\n",
       "    </tr>\n",
       "    <tr>\n",
       "      <th>684</th>\n",
       "      <td>28</td>\n",
       "      <td>M</td>\n",
       "      <td>student</td>\n",
       "      <td>55414</td>\n",
       "    </tr>\n",
       "    <tr>\n",
       "      <th>733</th>\n",
       "      <td>44</td>\n",
       "      <td>F</td>\n",
       "      <td>other</td>\n",
       "      <td>60630</td>\n",
       "    </tr>\n",
       "    <tr>\n",
       "      <th>805</th>\n",
       "      <td>27</td>\n",
       "      <td>F</td>\n",
       "      <td>other</td>\n",
       "      <td>20009</td>\n",
       "    </tr>\n",
       "    <tr>\n",
       "      <th>890</th>\n",
       "      <td>32</td>\n",
       "      <td>M</td>\n",
       "      <td>student</td>\n",
       "      <td>97301</td>\n",
       "    </tr>\n",
       "  </tbody>\n",
       "</table>\n",
       "</div>"
      ],
      "text/plain": [
       "         age gender occupation zip_code\n",
       "user_id                                \n",
       "496       21      F    student    55414\n",
       "572       51      M   educator    20003\n",
       "621       17      M    student    60402\n",
       "684       28      M    student    55414\n",
       "733       44      F      other    60630\n",
       "805       27      F      other    20009\n",
       "890       32      M    student    97301"
      ]
     },
     "execution_count": 60,
     "metadata": {},
     "output_type": "execute_result"
    }
   ],
   "source": [
    "import numpy as np\n",
    "import pandas as pd\n",
    "#create column names\n",
    "user_cols = ['user_id', 'age', 'gender', 'occupation', 'zip_code']\n",
    "#import data as users\n",
    "users = pd.read_table('../data/u.user', sep='|', header=None, names=user_cols, index_col='user_id', dtype={'zip_code':str})# for each occupation in 'users', count the number of occurrences\n",
    "#create data subset by occupation to make it easier for me\n",
    "byoccupation = users.groupby('occupation')\n",
    "# for each occupation, calculate the mean age\n",
    "byoccupation.age.mean()\n",
    "# for each occupation, calculate the minimum and maximum ages\n",
    "byoccupation.age.min()\n",
    "byoccupation.age.max()\n",
    "# for each combination of occupation and gender, calculate the mean age\n",
    "users.groupby(['occupation', 'gender']).age.mean()\n",
    "# randomly sample a DataFrame\n",
    "users.sample()\n",
    "# detect duplicate users\n",
    "duplicates = users.duplicated()\n",
    "# print duplicates\n",
    "users[duplicates == True]\n"
   ]
  },
  {
   "cell_type": "markdown",
   "metadata": {},
   "source": [
    "## Course Project"
   ]
  },
  {
   "cell_type": "markdown",
   "metadata": {},
   "source": [
    "* Come up with 5 different ideas for your course project. For each one list:\n",
    "  * Overview of your idea\n",
    "  * What data you will use\n",
    "  * What the outcome is that you are trying to achieve\n",
    "  * Any ideas of modelling techniques it may involve\n"
   ]
  },
  {
   "cell_type": "markdown",
   "metadata": {},
   "source": [
    "### Project idea 1: \n",
    "\n",
    "\n"
   ]
  },
  {
   "cell_type": "code",
   "execution_count": null,
   "metadata": {
    "collapsed": true
   },
   "outputs": [],
   "source": []
  }
 ],
 "metadata": {
  "kernelspec": {
   "display_name": "Python 3",
   "language": "python",
   "name": "python3"
  },
  "language_info": {
   "codemirror_mode": {
    "name": "ipython",
    "version": 3
   },
   "file_extension": ".py",
   "mimetype": "text/x-python",
   "name": "python",
   "nbconvert_exporter": "python",
   "pygments_lexer": "ipython3",
   "version": "3.6.0"
  }
 },
 "nbformat": 4,
 "nbformat_minor": 0
}
