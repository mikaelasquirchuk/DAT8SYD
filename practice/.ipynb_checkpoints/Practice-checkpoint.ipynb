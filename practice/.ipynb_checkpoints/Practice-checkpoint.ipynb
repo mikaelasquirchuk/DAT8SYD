{
 "cells": [
  {
   "cell_type": "code",
   "execution_count": 5,
   "metadata": {
    "collapsed": false
   },
   "outputs": [],
   "source": [
    "import pandas as pd\n",
    "import numpy as np\n",
    "import statsmodels.formula.api as smf\n",
    "import matplotlib.pyplot as plt\n",
    "import matplotlib.cm as cm\n",
    "\n",
    "import gdelt\n",
    "import pycountry\n",
    "\n",
    "\n",
    "%matplotlib inline\n",
    "\n",
    "gdelt = gdelt.gdelt(version=2)"
   ]
  },
  {
   "cell_type": "code",
   "execution_count": null,
   "metadata": {
    "collapsed": false
   },
   "outputs": [],
   "source": [
    "results = gdelt.Search(['2016 12 1','2016 12 31'],table='events')[['MonthYear','Actor1CountryCode','Actor2CountryCode','AvgTone','ActionGeo_Lat','ActionGeo_Long']].dropna()"
   ]
  },
  {
   "cell_type": "code",
   "execution_count": null,
   "metadata": {
    "collapsed": false
   },
   "outputs": [],
   "source": [
    "results.shape"
   ]
  },
  {
   "cell_type": "code",
   "execution_count": null,
   "metadata": {
    "collapsed": false
   },
   "outputs": [],
   "source": [
    "results.columns"
   ]
  },
  {
   "cell_type": "code",
   "execution_count": null,
   "metadata": {
    "collapsed": false
   },
   "outputs": [],
   "source": [
    "results.describe()"
   ]
  },
  {
   "cell_type": "code",
   "execution_count": null,
   "metadata": {
    "collapsed": false,
    "scrolled": false
   },
   "outputs": [],
   "source": [
    "results.head()"
   ]
  },
  {
   "cell_type": "code",
   "execution_count": null,
   "metadata": {
    "collapsed": false
   },
   "outputs": [],
   "source": [
    "x = results['ActionGeo_Long']\n",
    "y = results['ActionGeo_Lat']\n",
    "\n",
    "tone = results['AvgTone']\n",
    "\n",
    "plt.figure(figsize=(15, 12))\n",
    "plt.title('Map of events')\n",
    "plt.scatter(x, y, c=tone, cmap=cm.hsv, s=10)"
   ]
  },
  {
   "cell_type": "code",
   "execution_count": null,
   "metadata": {
    "collapsed": false
   },
   "outputs": [],
   "source": [
    "list(pycountry.countries)[1]"
   ]
  },
  {
   "cell_type": "code",
   "execution_count": 21,
   "metadata": {
    "collapsed": false
   },
   "outputs": [],
   "source": [
    "import requests"
   ]
  },
  {
   "cell_type": "code",
   "execution_count": 66,
   "metadata": {
    "collapsed": false
   },
   "outputs": [
    {
     "data": {
      "text/plain": [
       "'{\\n      \"error\":false,\\n      \"apiversion\":\"2.0.0\",\\n      \"year\":1701,\\n      \"month\":1,\\n      \"day\":1,\\n      \"numphases\":1,\\n      \"datechanged\":false, \\n      \"phasedata\":[\\n            {\\n               \"phase\":\"Last Quarter\",\\n               \"date\":\"1701 Jan 01\",\\n               \"time\":\"18:22\"\\n            }\\n      ]\\n   }'"
      ]
     },
     "execution_count": 66,
     "metadata": {},
     "output_type": "execute_result"
    }
   ],
   "source": [
    "date = '1/1/1701'\n",
    "nump = '1'\n",
    "payload = 'date=' + date + '&nump=' + nump\n",
    "moon = requests.get(\"http://api.usno.navy.mil/moon/phase?\", params=payload)\n",
    "moon.text"
   ]
  },
  {
   "cell_type": "code",
   "execution_count": 9,
   "metadata": {
    "collapsed": false
   },
   "outputs": [
    {
     "name": "stdout",
     "output_type": "stream",
     "text": [
      "Collecting urllib2\n",
      "\u001b[31m  Could not find a version that satisfies the requirement urllib2 (from versions: )\u001b[0m\n",
      "\u001b[31mNo matching distribution found for urllib2\u001b[0m\n"
     ]
    }
   ],
   "source": []
  },
  {
   "cell_type": "markdown",
   "metadata": {},
   "source": [
    "Check out - https://zapier.com/learn/apis/chapter-2-protocols/\n",
    "\n",
    "http://aa.usno.navy.mil/data/docs/api.php"
   ]
  },
  {
   "cell_type": "code",
   "execution_count": null,
   "metadata": {
    "collapsed": true
   },
   "outputs": [],
   "source": []
  }
 ],
 "metadata": {
  "kernelspec": {
   "display_name": "Python 3",
   "language": "python",
   "name": "python3"
  },
  "language_info": {
   "codemirror_mode": {
    "name": "ipython",
    "version": 3
   },
   "file_extension": ".py",
   "mimetype": "text/x-python",
   "name": "python",
   "nbconvert_exporter": "python",
   "pygments_lexer": "ipython3",
   "version": "3.6.0"
  }
 },
 "nbformat": 4,
 "nbformat_minor": 2
}
