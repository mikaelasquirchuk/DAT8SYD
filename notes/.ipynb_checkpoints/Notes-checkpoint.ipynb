{
 "cells": [
  {
   "cell_type": "markdown",
   "metadata": {},
   "source": [
    "# Notes"
   ]
  },
  {
   "cell_type": "markdown",
   "metadata": {},
   "source": [
    "## Contents\n",
    "\n",
    "- <a href=\"Week%201%20Notes.ipynb\">Week 1 Lesson 1: Welcome + course overview</a>\n",
    "  - 1 - 23 May 2017\n",
    "- <a href=\"#Week%201%20Notes.ipynb\">Week 1 Lesson 2: Git + Github, Numpy + Pandas</a>\n",
    "  - 2 - 25 May 2017\n",
    "- <a href=\"Week%202%20Notes.ipynb\">Week 2 Lesson 1: Visualisation</a>\n",
    "  - 3 - 30 May 2017\n",
    "- <a href=\"Week%202%20Notes.ipynb\">Week 2 Lesson 2: Linear Regression</a>\n",
    "  - 4 - 1 June 2017\n",
    "- <a href=\"#Week%203%20Notes.ipynb1\">Week 3 Lesson 1: Logistic Regression</a>\n",
    "  - 5 - 6 June 2017\n",
    "- <a href=\"#Week%203%20Notes.ipynb\">Week 3 Lesson 2: Model Evaluation</a>\n",
    "  - 6 - 8 June 2017\n",
    "- <a href=\"#Week%204%20Notes.ipynb\">Week 4 Lesson 1: Regularisation</a>\n",
    "  - 7 - 13 June 2017\n",
    "- <a href=\"Week%204%20Notes.ipynb\">Week 4 Lesson 2: Clustering</a>\n",
    "  - 8 - 15 June 2017\n",
    "- <a href=\"#Week%205%20Notes.ipynb\">Week 5 Lesson 1: Recommendation Engines</a>\n",
    "  - 9 - 20 June 2017\n",
    "- <a href=\"#Week%205%20Notes.ipynb\">Week 5 Lesson 2: Databases + SQL in Python</a>\n",
    "  - 10 - 22 June 2017\n",
    "- <a href=\"Week%206%20Notes.ipynb\">Week 6 Lesson 1: Decision trees</a>\n",
    "  - 11 - 27 June 2017\n",
    "- <a href=\"Week%206%20Notes.ipynb\">Week 6 Lesson 2: Ensembling and random frees</a>\n",
    "  - 12 - 29 June 2017"
   ]
  },
  {
   "cell_type": "markdown",
   "metadata": {},
   "source": [
    "---"
   ]
  },
  {
   "cell_type": "markdown",
   "metadata": {},
   "source": [
    "## Week 7 Lesson 1\n",
    "## X\n",
    "13 - 4 July 2017"
   ]
  },
  {
   "cell_type": "markdown",
   "metadata": {},
   "source": []
  },
  {
   "cell_type": "markdown",
   "metadata": {},
   "source": [
    "---"
   ]
  },
  {
   "cell_type": "markdown",
   "metadata": {},
   "source": [
    "## Week 7 Lesson 2\n",
    "## X\n",
    "14 - 6 July 2017"
   ]
  },
  {
   "cell_type": "markdown",
   "metadata": {},
   "source": []
  },
  {
   "cell_type": "markdown",
   "metadata": {},
   "source": [
    "---"
   ]
  },
  {
   "cell_type": "markdown",
   "metadata": {},
   "source": [
    "## Week 8 Lesson 1:\n",
    "15 - 11 July 2017"
   ]
  },
  {
   "cell_type": "markdown",
   "metadata": {},
   "source": []
  },
  {
   "cell_type": "markdown",
   "metadata": {},
   "source": [
    "---"
   ]
  },
  {
   "cell_type": "markdown",
   "metadata": {},
   "source": [
    "## Week 8 Lesson 2\n",
    "## X\n",
    "16 - 13 July 2017"
   ]
  },
  {
   "cell_type": "markdown",
   "metadata": {},
   "source": []
  },
  {
   "cell_type": "markdown",
   "metadata": {},
   "source": [
    "---"
   ]
  },
  {
   "cell_type": "markdown",
   "metadata": {},
   "source": [
    "## Week 9 Lesson 1\n",
    "## X\n",
    "17 - 18 July 2017"
   ]
  },
  {
   "cell_type": "markdown",
   "metadata": {},
   "source": []
  },
  {
   "cell_type": "markdown",
   "metadata": {},
   "source": [
    "---"
   ]
  },
  {
   "cell_type": "markdown",
   "metadata": {},
   "source": [
    "## Week 9 Lesson 2\n",
    "## X\n",
    "18 - 20 July 2017"
   ]
  },
  {
   "cell_type": "markdown",
   "metadata": {},
   "source": []
  },
  {
   "cell_type": "markdown",
   "metadata": {},
   "source": [
    "---"
   ]
  },
  {
   "cell_type": "markdown",
   "metadata": {},
   "source": [
    "## Week 10 Lesson 1\n",
    "## X\n",
    "19 - 25 July 2017"
   ]
  },
  {
   "cell_type": "markdown",
   "metadata": {},
   "source": []
  },
  {
   "cell_type": "markdown",
   "metadata": {},
   "source": [
    "---"
   ]
  },
  {
   "cell_type": "markdown",
   "metadata": {},
   "source": [
    "## Week 10 Lesson 2\n",
    "## X\n",
    "20 - 27 July 2017"
   ]
  },
  {
   "cell_type": "markdown",
   "metadata": {},
   "source": []
  },
  {
   "cell_type": "markdown",
   "metadata": {},
   "source": [
    "---"
   ]
  }
 ],
 "metadata": {
  "kernelspec": {
   "display_name": "Python 3",
   "language": "python",
   "name": "python3"
  },
  "language_info": {
   "codemirror_mode": {
    "name": "ipython",
    "version": 3
   },
   "file_extension": ".py",
   "mimetype": "text/x-python",
   "name": "python",
   "nbconvert_exporter": "python",
   "pygments_lexer": "ipython3",
   "version": "3.6.0"
  }
 },
 "nbformat": 4,
 "nbformat_minor": 2
}
