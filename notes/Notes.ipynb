{
 "cells": [
  {
   "cell_type": "markdown",
   "metadata": {},
   "source": [
    "# Notes"
   ]
  },
  {
   "cell_type": "markdown",
   "metadata": {},
   "source": [
    "## Contents\n",
    "\n",
    "- <a href=\"#Week-1-Lesson-1\">Week 1 Lesson 1: Welcome + course overview</a>\n",
    "  - 1 - 23 May 2017\n",
    "- <a href=\"#Week-1-Lesson-2\">Week 1 Lesson 2: Git + Github, Numpy + Pandas</a>\n",
    "  - 2 - 25 May 2017\n",
    "- <a href=\"#Week-2-Lesson-1\">Week 2 Lesson 1: Visualisation</a>\n",
    "  - 3 - 30 May 2017\n",
    "- <a href=\"#Week-2-Lesson-2\">Week 2 Lesson 2: Linear Regression</a>\n",
    "  - 4 - 1 June 2017\n",
    "- <a href=\"#Week-3-Lesson-1\">Week 3 Lesson 1: Logistic Regression</a>\n",
    "  - 5 - 6 June 2017\n",
    "- <a href=\"#Week-3-Lesson-2\">Week 3 Lesson 2: Model Evaluation</a>\n",
    "  - 6 - 8 June 2017\n",
    "- <a href=\"#Week-4-Lesson-1\">Week 4 Lesson 1: Regularisation</a>\n",
    "  - 7 - 13 June 2017\n",
    "- <a href=\"#Week-4-Lesson-2\">Week 4 Lesson 2: Clustering</a>\n",
    "  - 8 - 15 June 2017\n",
    "- <a href=\"#Week-5-Lesson-1\">Week 5 Lesson 1: Recommendation Engines</a>\n",
    "  - 9 - 20 June 2017\n",
    "- <a href=\"#Week-5-Lesson-2\">Week 5 Lesson 2: Databases + SQL in Python</a>\n",
    "  - 10 - 22 June 2017\n",
    "- <a href=\"#Week-6-Lesson-1\">Week 6 Lesson 1: Decision trees</a>\n",
    "  - 11 - 27 June 2017"
   ]
  },
  {
   "cell_type": "markdown",
   "metadata": {},
   "source": [
    "## Week 1 Lesson 1\n",
    "## Welcome + course overview\n",
    "1 - 23 May 2017"
   ]
  },
  {
   "cell_type": "markdown",
   "metadata": {},
   "source": [
    "### Course overview\n",
    "* First, get a basic level of all the different areas of Data Science - theory, programming, statistics, visualisation, communication, subject matter expertise.\n",
    "* Then get to go into further detail in more advanced areas."
   ]
  },
  {
   "cell_type": "markdown",
   "metadata": {},
   "source": [
    "### Additional readings\n",
    "* Python for Data Analysis:  http://shop.oreilly.com/product/0636920023784.do\n",
    "* Command Line Crash Course: http://cli.learncodethehardway.org/book/"
   ]
  },
  {
   "cell_type": "markdown",
   "metadata": {},
   "source": [
    "----"
   ]
  },
  {
   "cell_type": "markdown",
   "metadata": {},
   "source": [
    "## Week 1 Lesson 2\n",
    "## Git + Github, Numpy + Pandas\n",
    "2 - 25 May 2017"
   ]
  },
  {
   "cell_type": "markdown",
   "metadata": {},
   "source": [
    "### Git\n",
    "* Version control system that allows you to track files and file changes in a repository (“repo”)\n",
    "* Primarily used by software developers\n",
    "* Most widely used version control system\n",
    "* Alternatives: Mercurial, Subversion, CVS\n",
    "* Runs from the command line (usually)\n",
    "* Can be used alone or in a team\n"
   ]
  },
  {
   "cell_type": "markdown",
   "metadata": {},
   "source": [
    "### Github\n",
    "* Allows you to put your Git repos online\n",
    "* Alternative: Bitbucket\n",
    "* Benefits of GitHub:\n",
    " * Backup of files\n",
    " * Visual interface for navigating repos\n",
    " * Makes repo collaboration easy\n",
    "* Git does not require GitHub"
   ]
  },
  {
   "cell_type": "markdown",
   "metadata": {},
   "source": [
    "<img src=git_chart.png width=500 align=left>"
   ]
  },
  {
   "cell_type": "markdown",
   "metadata": {},
   "source": [
    "### Numpy\n",
    "\n",
    "* Numpy can be used to perform general maths functions, and also create arrays of data!"
   ]
  },
  {
   "cell_type": "code",
   "execution_count": 14,
   "metadata": {
    "collapsed": true
   },
   "outputs": [],
   "source": [
    "import numpy as np"
   ]
  },
  {
   "cell_type": "code",
   "execution_count": 15,
   "metadata": {
    "collapsed": false
   },
   "outputs": [
    {
     "data": {
      "text/plain": [
       "array([20, 30, 40, 50])"
      ]
     },
     "execution_count": 15,
     "metadata": {},
     "output_type": "execute_result"
    }
   ],
   "source": [
    "a = np.array( [20,30,40,50] )\n",
    "a"
   ]
  },
  {
   "cell_type": "code",
   "execution_count": 16,
   "metadata": {
    "collapsed": false
   },
   "outputs": [
    {
     "data": {
      "text/plain": [
       "array([0, 1, 2, 3])"
      ]
     },
     "execution_count": 16,
     "metadata": {},
     "output_type": "execute_result"
    }
   ],
   "source": [
    "b = np.arange(4)\n",
    "b"
   ]
  },
  {
   "cell_type": "code",
   "execution_count": 17,
   "metadata": {
    "collapsed": false
   },
   "outputs": [
    {
     "data": {
      "text/plain": [
       "array([20, 29, 38, 47])"
      ]
     },
     "execution_count": 17,
     "metadata": {},
     "output_type": "execute_result"
    }
   ],
   "source": [
    "c = a-b\n",
    "c"
   ]
  },
  {
   "cell_type": "code",
   "execution_count": 18,
   "metadata": {
    "collapsed": false
   },
   "outputs": [
    {
     "data": {
      "text/plain": [
       "array([0, 2, 4, 6])"
      ]
     },
     "execution_count": 18,
     "metadata": {},
     "output_type": "execute_result"
    }
   ],
   "source": [
    "d = b*2\n",
    "d"
   ]
  },
  {
   "cell_type": "code",
   "execution_count": 19,
   "metadata": {
    "collapsed": false
   },
   "outputs": [
    {
     "data": {
      "text/plain": [
       "array([[[1, 2, 3, 9],\n",
       "        [6, 7, 9, 1],\n",
       "        [1, 9, 6, 7]],\n",
       "\n",
       "       [[8, 4, 7, 1],\n",
       "        [9, 6, 9, 2],\n",
       "        [1, 9, 6, 5]]])"
      ]
     },
     "execution_count": 19,
     "metadata": {},
     "output_type": "execute_result"
    }
   ],
   "source": [
    "e = np.random.randint(1,10,(2,3,4))\n",
    "e"
   ]
  },
  {
   "cell_type": "code",
   "execution_count": 20,
   "metadata": {
    "collapsed": false
   },
   "outputs": [
    {
     "data": {
      "text/plain": [
       "array([[[1, 2, 3, 9],\n",
       "        [6, 7, 9, 1],\n",
       "        [1, 9, 6, 7]]])"
      ]
     },
     "execution_count": 20,
     "metadata": {},
     "output_type": "execute_result"
    }
   ],
   "source": [
    "e[:1]"
   ]
  },
  {
   "cell_type": "markdown",
   "metadata": {},
   "source": [
    "### Pandas\n",
    "* Pandas is all about that reading. You can read files using pandas, including CSV files, URLs."
   ]
  },
  {
   "cell_type": "code",
   "execution_count": 21,
   "metadata": {
    "collapsed": true
   },
   "outputs": [],
   "source": [
    "import pandas as pd"
   ]
  },
  {
   "cell_type": "markdown",
   "metadata": {},
   "source": [
    "#### Importing data"
   ]
  },
  {
   "cell_type": "code",
   "execution_count": 22,
   "metadata": {
    "collapsed": false
   },
   "outputs": [],
   "source": [
    "pd.read_table('../data/u.user', header=None)\n",
    "user_cols = ['user_id', 'age', 'gender', 'occupation', 'zip_code']\n",
    "users = pd.read_table('../data/u.user', sep='|', header=None, names=user_cols, index_col='user_id', dtype={'zip_code':str})"
   ]
  },
  {
   "cell_type": "markdown",
   "metadata": {},
   "source": [
    "#### Exploring the data"
   ]
  },
  {
   "cell_type": "code",
   "execution_count": 23,
   "metadata": {
    "collapsed": false
   },
   "outputs": [
    {
     "name": "stdout",
     "output_type": "stream",
     "text": [
      "<class 'pandas.core.frame.DataFrame'>\n",
      "Int64Index: 943 entries, 1 to 943\n",
      "Data columns (total 4 columns):\n",
      "age           943 non-null int64\n",
      "gender        943 non-null object\n",
      "occupation    943 non-null object\n",
      "zip_code      943 non-null object\n",
      "dtypes: int64(1), object(3)\n",
      "memory usage: 36.8+ KB\n"
     ]
    }
   ],
   "source": [
    "users                   # print the first 30 and last 30 rows\n",
    "type(users)             # DataFrame\n",
    "users.head()            # print the first 5 rows\n",
    "users.head(10)          # print the first 10 rows\n",
    "users.tail()            # print the last 5 rows\n",
    "users.index             # \"the index\" (aka \"the labels\")\n",
    "users.columns           # column names (which is \"an index\")\n",
    "users.dtypes            # data types of each column\n",
    "users.shape             # number of rows and columns\n",
    "users.values            # underlying numpy array\n",
    "users.info()            # concise summary (including memory usage)"
   ]
  },
  {
   "cell_type": "code",
   "execution_count": 24,
   "metadata": {
    "collapsed": false
   },
   "outputs": [],
   "source": [
    "#users['gender']         # select one column\n",
    "#type(users['gender'])   # Series\n",
    "#users[['gender']]\n",
    "#type(users[['gender']])   # DataFrame\n",
    "#users.gender            # select one column using the DataFrame attribute"
   ]
  },
  {
   "cell_type": "code",
   "execution_count": 25,
   "metadata": {
    "collapsed": false
   },
   "outputs": [
    {
     "data": {
      "text/plain": [
       "34.05196182396607"
      ]
     },
     "execution_count": 25,
     "metadata": {},
     "output_type": "execute_result"
    }
   ],
   "source": [
    "#users.describe()                    # describe all numeric columns\n",
    "#users.describe(include=['object'])  # describe all object columns (can include multiple types)\n",
    "#users.describe(include='all')       # describe all columns\n",
    "#users.gender.describe()             # describe a single column\n",
    "users.age.mean()                    # only calculate the mean"
   ]
  },
  {
   "cell_type": "code",
   "execution_count": 26,
   "metadata": {
    "collapsed": false
   },
   "outputs": [
    {
     "data": {
      "text/plain": [
       "30    39\n",
       "25    38\n",
       "22    37\n",
       "28    36\n",
       "27    35\n",
       "26    34\n",
       "24    33\n",
       "29    32\n",
       "20    32\n",
       "32    28\n",
       "23    28\n",
       "35    27\n",
       "21    27\n",
       "33    26\n",
       "31    25\n",
       "19    23\n",
       "44    23\n",
       "39    22\n",
       "40    21\n",
       "36    21\n",
       "42    21\n",
       "51    20\n",
       "50    20\n",
       "48    20\n",
       "49    19\n",
       "37    19\n",
       "18    18\n",
       "34    17\n",
       "38    17\n",
       "45    15\n",
       "      ..\n",
       "47    14\n",
       "43    13\n",
       "46    12\n",
       "53    12\n",
       "55    11\n",
       "41    10\n",
       "57     9\n",
       "60     9\n",
       "52     6\n",
       "56     6\n",
       "15     6\n",
       "13     5\n",
       "16     5\n",
       "54     4\n",
       "63     3\n",
       "14     3\n",
       "65     3\n",
       "70     3\n",
       "61     3\n",
       "59     3\n",
       "58     3\n",
       "64     2\n",
       "68     2\n",
       "69     2\n",
       "62     2\n",
       "11     1\n",
       "10     1\n",
       "73     1\n",
       "66     1\n",
       "7      1\n",
       "Name: age, dtype: int64"
      ]
     },
     "execution_count": 26,
     "metadata": {},
     "output_type": "execute_result"
    }
   ],
   "source": [
    "#users.occupation.value_counts()     # most useful for categorical variables\n",
    "users.age.value_counts()        # can also be used with numeric variables"
   ]
  },
  {
   "cell_type": "markdown",
   "metadata": {},
   "source": [
    "#### Filtering"
   ]
  },
  {
   "cell_type": "code",
   "execution_count": 27,
   "metadata": {
    "collapsed": false
   },
   "outputs": [
    {
     "data": {
      "text/plain": [
       "student          64\n",
       "other             4\n",
       "none              3\n",
       "writer            2\n",
       "entertainment     2\n",
       "artist            1\n",
       "salesman          1\n",
       "Name: occupation, dtype: int64"
      ]
     },
     "execution_count": 27,
     "metadata": {},
     "output_type": "execute_result"
    }
   ],
   "source": [
    "#young_bool = users.age < 20         # create a Series of booleans...\n",
    "#users[young_bool]                   # ...and use that Series to filter rows\n",
    "#users[users.age < 20]               # or, combine into a single step\n",
    "#users[users.age < 20].occupation    # select one column from the filtered results\n",
    "users[users.age < 20].occupation.value_counts()     # value_counts of resulting Series"
   ]
  },
  {
   "cell_type": "code",
   "execution_count": 28,
   "metadata": {
    "collapsed": false
   },
   "outputs": [
    {
     "data": {
      "text/html": [
       "<div>\n",
       "<table border=\"1\" class=\"dataframe\">\n",
       "  <thead>\n",
       "    <tr style=\"text-align: right;\">\n",
       "      <th></th>\n",
       "      <th>age</th>\n",
       "      <th>gender</th>\n",
       "      <th>occupation</th>\n",
       "      <th>zip_code</th>\n",
       "    </tr>\n",
       "    <tr>\n",
       "      <th>user_id</th>\n",
       "      <th></th>\n",
       "      <th></th>\n",
       "      <th></th>\n",
       "      <th></th>\n",
       "    </tr>\n",
       "  </thead>\n",
       "  <tbody>\n",
       "    <tr>\n",
       "      <th>10</th>\n",
       "      <td>53</td>\n",
       "      <td>M</td>\n",
       "      <td>lawyer</td>\n",
       "      <td>90703</td>\n",
       "    </tr>\n",
       "    <tr>\n",
       "      <th>125</th>\n",
       "      <td>30</td>\n",
       "      <td>M</td>\n",
       "      <td>lawyer</td>\n",
       "      <td>22202</td>\n",
       "    </tr>\n",
       "    <tr>\n",
       "      <th>126</th>\n",
       "      <td>28</td>\n",
       "      <td>F</td>\n",
       "      <td>lawyer</td>\n",
       "      <td>20015</td>\n",
       "    </tr>\n",
       "    <tr>\n",
       "      <th>138</th>\n",
       "      <td>46</td>\n",
       "      <td>M</td>\n",
       "      <td>doctor</td>\n",
       "      <td>53211</td>\n",
       "    </tr>\n",
       "    <tr>\n",
       "      <th>161</th>\n",
       "      <td>50</td>\n",
       "      <td>M</td>\n",
       "      <td>lawyer</td>\n",
       "      <td>55104</td>\n",
       "    </tr>\n",
       "    <tr>\n",
       "      <th>205</th>\n",
       "      <td>47</td>\n",
       "      <td>M</td>\n",
       "      <td>lawyer</td>\n",
       "      <td>06371</td>\n",
       "    </tr>\n",
       "    <tr>\n",
       "      <th>251</th>\n",
       "      <td>28</td>\n",
       "      <td>M</td>\n",
       "      <td>doctor</td>\n",
       "      <td>85032</td>\n",
       "    </tr>\n",
       "    <tr>\n",
       "      <th>299</th>\n",
       "      <td>29</td>\n",
       "      <td>M</td>\n",
       "      <td>doctor</td>\n",
       "      <td>63108</td>\n",
       "    </tr>\n",
       "    <tr>\n",
       "      <th>339</th>\n",
       "      <td>35</td>\n",
       "      <td>M</td>\n",
       "      <td>lawyer</td>\n",
       "      <td>37901</td>\n",
       "    </tr>\n",
       "    <tr>\n",
       "      <th>365</th>\n",
       "      <td>29</td>\n",
       "      <td>M</td>\n",
       "      <td>lawyer</td>\n",
       "      <td>20009</td>\n",
       "    </tr>\n",
       "    <tr>\n",
       "      <th>419</th>\n",
       "      <td>37</td>\n",
       "      <td>M</td>\n",
       "      <td>lawyer</td>\n",
       "      <td>43215</td>\n",
       "    </tr>\n",
       "    <tr>\n",
       "      <th>427</th>\n",
       "      <td>51</td>\n",
       "      <td>M</td>\n",
       "      <td>doctor</td>\n",
       "      <td>85258</td>\n",
       "    </tr>\n",
       "    <tr>\n",
       "      <th>444</th>\n",
       "      <td>51</td>\n",
       "      <td>F</td>\n",
       "      <td>lawyer</td>\n",
       "      <td>53202</td>\n",
       "    </tr>\n",
       "    <tr>\n",
       "      <th>589</th>\n",
       "      <td>21</td>\n",
       "      <td>M</td>\n",
       "      <td>lawyer</td>\n",
       "      <td>90034</td>\n",
       "    </tr>\n",
       "    <tr>\n",
       "      <th>680</th>\n",
       "      <td>33</td>\n",
       "      <td>M</td>\n",
       "      <td>lawyer</td>\n",
       "      <td>90405</td>\n",
       "    </tr>\n",
       "    <tr>\n",
       "      <th>841</th>\n",
       "      <td>45</td>\n",
       "      <td>M</td>\n",
       "      <td>doctor</td>\n",
       "      <td>47401</td>\n",
       "    </tr>\n",
       "    <tr>\n",
       "      <th>845</th>\n",
       "      <td>64</td>\n",
       "      <td>M</td>\n",
       "      <td>doctor</td>\n",
       "      <td>97405</td>\n",
       "    </tr>\n",
       "    <tr>\n",
       "      <th>846</th>\n",
       "      <td>27</td>\n",
       "      <td>M</td>\n",
       "      <td>lawyer</td>\n",
       "      <td>47130</td>\n",
       "    </tr>\n",
       "    <tr>\n",
       "      <th>935</th>\n",
       "      <td>42</td>\n",
       "      <td>M</td>\n",
       "      <td>doctor</td>\n",
       "      <td>66221</td>\n",
       "    </tr>\n",
       "  </tbody>\n",
       "</table>\n",
       "</div>"
      ],
      "text/plain": [
       "         age gender occupation zip_code\n",
       "user_id                                \n",
       "10        53      M     lawyer    90703\n",
       "125       30      M     lawyer    22202\n",
       "126       28      F     lawyer    20015\n",
       "138       46      M     doctor    53211\n",
       "161       50      M     lawyer    55104\n",
       "205       47      M     lawyer    06371\n",
       "251       28      M     doctor    85032\n",
       "299       29      M     doctor    63108\n",
       "339       35      M     lawyer    37901\n",
       "365       29      M     lawyer    20009\n",
       "419       37      M     lawyer    43215\n",
       "427       51      M     doctor    85258\n",
       "444       51      F     lawyer    53202\n",
       "589       21      M     lawyer    90034\n",
       "680       33      M     lawyer    90405\n",
       "841       45      M     doctor    47401\n",
       "845       64      M     doctor    97405\n",
       "846       27      M     lawyer    47130\n",
       "935       42      M     doctor    66221"
      ]
     },
     "execution_count": 28,
     "metadata": {},
     "output_type": "execute_result"
    }
   ],
   "source": [
    "# logical filtering with multiple conditions\n",
    "#users[(users.age < 20) & (users.gender=='M')]       # ampersand for AND condition\n",
    "#users[(users.age < 20) | (users.age > 60)]          # pipe for OR condition\n",
    "users[users.occupation.isin(['doctor', 'lawyer'])]  # alternative to multiple OR conditions"
   ]
  },
  {
   "cell_type": "markdown",
   "metadata": {},
   "source": [
    "#### Sorting"
   ]
  },
  {
   "cell_type": "code",
   "execution_count": 29,
   "metadata": {
    "collapsed": false
   },
   "outputs": [
    {
     "data": {
      "text/html": [
       "<div>\n",
       "<table border=\"1\" class=\"dataframe\">\n",
       "  <thead>\n",
       "    <tr style=\"text-align: right;\">\n",
       "      <th></th>\n",
       "      <th>age</th>\n",
       "      <th>gender</th>\n",
       "      <th>occupation</th>\n",
       "      <th>zip_code</th>\n",
       "    </tr>\n",
       "    <tr>\n",
       "      <th>user_id</th>\n",
       "      <th></th>\n",
       "      <th></th>\n",
       "      <th></th>\n",
       "      <th></th>\n",
       "    </tr>\n",
       "  </thead>\n",
       "  <tbody>\n",
       "    <tr>\n",
       "      <th>118</th>\n",
       "      <td>21</td>\n",
       "      <td>M</td>\n",
       "      <td>administrator</td>\n",
       "      <td>90210</td>\n",
       "    </tr>\n",
       "    <tr>\n",
       "      <th>180</th>\n",
       "      <td>22</td>\n",
       "      <td>F</td>\n",
       "      <td>administrator</td>\n",
       "      <td>60202</td>\n",
       "    </tr>\n",
       "    <tr>\n",
       "      <th>282</th>\n",
       "      <td>22</td>\n",
       "      <td>M</td>\n",
       "      <td>administrator</td>\n",
       "      <td>20057</td>\n",
       "    </tr>\n",
       "    <tr>\n",
       "      <th>317</th>\n",
       "      <td>22</td>\n",
       "      <td>M</td>\n",
       "      <td>administrator</td>\n",
       "      <td>13210</td>\n",
       "    </tr>\n",
       "    <tr>\n",
       "      <th>439</th>\n",
       "      <td>23</td>\n",
       "      <td>F</td>\n",
       "      <td>administrator</td>\n",
       "      <td>20817</td>\n",
       "    </tr>\n",
       "    <tr>\n",
       "      <th>509</th>\n",
       "      <td>23</td>\n",
       "      <td>M</td>\n",
       "      <td>administrator</td>\n",
       "      <td>10011</td>\n",
       "    </tr>\n",
       "    <tr>\n",
       "      <th>394</th>\n",
       "      <td>25</td>\n",
       "      <td>M</td>\n",
       "      <td>administrator</td>\n",
       "      <td>96819</td>\n",
       "    </tr>\n",
       "    <tr>\n",
       "      <th>665</th>\n",
       "      <td>25</td>\n",
       "      <td>M</td>\n",
       "      <td>administrator</td>\n",
       "      <td>55412</td>\n",
       "    </tr>\n",
       "    <tr>\n",
       "      <th>726</th>\n",
       "      <td>25</td>\n",
       "      <td>F</td>\n",
       "      <td>administrator</td>\n",
       "      <td>80538</td>\n",
       "    </tr>\n",
       "    <tr>\n",
       "      <th>78</th>\n",
       "      <td>26</td>\n",
       "      <td>M</td>\n",
       "      <td>administrator</td>\n",
       "      <td>61801</td>\n",
       "    </tr>\n",
       "    <tr>\n",
       "      <th>86</th>\n",
       "      <td>26</td>\n",
       "      <td>M</td>\n",
       "      <td>administrator</td>\n",
       "      <td>46005</td>\n",
       "    </tr>\n",
       "    <tr>\n",
       "      <th>62</th>\n",
       "      <td>27</td>\n",
       "      <td>F</td>\n",
       "      <td>administrator</td>\n",
       "      <td>97214</td>\n",
       "    </tr>\n",
       "    <tr>\n",
       "      <th>525</th>\n",
       "      <td>27</td>\n",
       "      <td>F</td>\n",
       "      <td>administrator</td>\n",
       "      <td>19711</td>\n",
       "    </tr>\n",
       "    <tr>\n",
       "      <th>261</th>\n",
       "      <td>28</td>\n",
       "      <td>M</td>\n",
       "      <td>administrator</td>\n",
       "      <td>85202</td>\n",
       "    </tr>\n",
       "    <tr>\n",
       "      <th>500</th>\n",
       "      <td>28</td>\n",
       "      <td>M</td>\n",
       "      <td>administrator</td>\n",
       "      <td>94305</td>\n",
       "    </tr>\n",
       "    <tr>\n",
       "      <th>748</th>\n",
       "      <td>28</td>\n",
       "      <td>M</td>\n",
       "      <td>administrator</td>\n",
       "      <td>94720</td>\n",
       "    </tr>\n",
       "    <tr>\n",
       "      <th>750</th>\n",
       "      <td>28</td>\n",
       "      <td>M</td>\n",
       "      <td>administrator</td>\n",
       "      <td>32303</td>\n",
       "    </tr>\n",
       "    <tr>\n",
       "      <th>768</th>\n",
       "      <td>29</td>\n",
       "      <td>M</td>\n",
       "      <td>administrator</td>\n",
       "      <td>12866</td>\n",
       "    </tr>\n",
       "    <tr>\n",
       "      <th>922</th>\n",
       "      <td>29</td>\n",
       "      <td>F</td>\n",
       "      <td>administrator</td>\n",
       "      <td>21114</td>\n",
       "    </tr>\n",
       "    <tr>\n",
       "      <th>42</th>\n",
       "      <td>30</td>\n",
       "      <td>M</td>\n",
       "      <td>administrator</td>\n",
       "      <td>17870</td>\n",
       "    </tr>\n",
       "    <tr>\n",
       "      <th>174</th>\n",
       "      <td>30</td>\n",
       "      <td>F</td>\n",
       "      <td>administrator</td>\n",
       "      <td>52302</td>\n",
       "    </tr>\n",
       "    <tr>\n",
       "      <th>190</th>\n",
       "      <td>30</td>\n",
       "      <td>M</td>\n",
       "      <td>administrator</td>\n",
       "      <td>95938</td>\n",
       "    </tr>\n",
       "    <tr>\n",
       "      <th>436</th>\n",
       "      <td>30</td>\n",
       "      <td>F</td>\n",
       "      <td>administrator</td>\n",
       "      <td>17345</td>\n",
       "    </tr>\n",
       "    <tr>\n",
       "      <th>447</th>\n",
       "      <td>30</td>\n",
       "      <td>M</td>\n",
       "      <td>administrator</td>\n",
       "      <td>55113</td>\n",
       "    </tr>\n",
       "    <tr>\n",
       "      <th>95</th>\n",
       "      <td>31</td>\n",
       "      <td>M</td>\n",
       "      <td>administrator</td>\n",
       "      <td>10707</td>\n",
       "    </tr>\n",
       "    <tr>\n",
       "      <th>578</th>\n",
       "      <td>31</td>\n",
       "      <td>M</td>\n",
       "      <td>administrator</td>\n",
       "      <td>M7A1A</td>\n",
       "    </tr>\n",
       "    <tr>\n",
       "      <th>762</th>\n",
       "      <td>32</td>\n",
       "      <td>M</td>\n",
       "      <td>administrator</td>\n",
       "      <td>95050</td>\n",
       "    </tr>\n",
       "    <tr>\n",
       "      <th>940</th>\n",
       "      <td>32</td>\n",
       "      <td>M</td>\n",
       "      <td>administrator</td>\n",
       "      <td>02215</td>\n",
       "    </tr>\n",
       "    <tr>\n",
       "      <th>191</th>\n",
       "      <td>33</td>\n",
       "      <td>M</td>\n",
       "      <td>administrator</td>\n",
       "      <td>95161</td>\n",
       "    </tr>\n",
       "    <tr>\n",
       "      <th>400</th>\n",
       "      <td>33</td>\n",
       "      <td>F</td>\n",
       "      <td>administrator</td>\n",
       "      <td>78213</td>\n",
       "    </tr>\n",
       "    <tr>\n",
       "      <th>...</th>\n",
       "      <td>...</td>\n",
       "      <td>...</td>\n",
       "      <td>...</td>\n",
       "      <td>...</td>\n",
       "    </tr>\n",
       "    <tr>\n",
       "      <th>668</th>\n",
       "      <td>29</td>\n",
       "      <td>F</td>\n",
       "      <td>writer</td>\n",
       "      <td>10016</td>\n",
       "    </tr>\n",
       "    <tr>\n",
       "      <th>199</th>\n",
       "      <td>30</td>\n",
       "      <td>M</td>\n",
       "      <td>writer</td>\n",
       "      <td>17604</td>\n",
       "    </tr>\n",
       "    <tr>\n",
       "      <th>557</th>\n",
       "      <td>30</td>\n",
       "      <td>F</td>\n",
       "      <td>writer</td>\n",
       "      <td>11217</td>\n",
       "    </tr>\n",
       "    <tr>\n",
       "      <th>28</th>\n",
       "      <td>32</td>\n",
       "      <td>M</td>\n",
       "      <td>writer</td>\n",
       "      <td>55369</td>\n",
       "    </tr>\n",
       "    <tr>\n",
       "      <th>122</th>\n",
       "      <td>32</td>\n",
       "      <td>F</td>\n",
       "      <td>writer</td>\n",
       "      <td>22206</td>\n",
       "    </tr>\n",
       "    <tr>\n",
       "      <th>796</th>\n",
       "      <td>32</td>\n",
       "      <td>F</td>\n",
       "      <td>writer</td>\n",
       "      <td>33755</td>\n",
       "    </tr>\n",
       "    <tr>\n",
       "      <th>833</th>\n",
       "      <td>34</td>\n",
       "      <td>M</td>\n",
       "      <td>writer</td>\n",
       "      <td>90019</td>\n",
       "    </tr>\n",
       "    <tr>\n",
       "      <th>264</th>\n",
       "      <td>36</td>\n",
       "      <td>F</td>\n",
       "      <td>writer</td>\n",
       "      <td>90064</td>\n",
       "    </tr>\n",
       "    <tr>\n",
       "      <th>385</th>\n",
       "      <td>36</td>\n",
       "      <td>M</td>\n",
       "      <td>writer</td>\n",
       "      <td>10003</td>\n",
       "    </tr>\n",
       "    <tr>\n",
       "      <th>911</th>\n",
       "      <td>37</td>\n",
       "      <td>F</td>\n",
       "      <td>writer</td>\n",
       "      <td>53210</td>\n",
       "    </tr>\n",
       "    <tr>\n",
       "      <th>504</th>\n",
       "      <td>40</td>\n",
       "      <td>F</td>\n",
       "      <td>writer</td>\n",
       "      <td>92115</td>\n",
       "    </tr>\n",
       "    <tr>\n",
       "      <th>798</th>\n",
       "      <td>40</td>\n",
       "      <td>F</td>\n",
       "      <td>writer</td>\n",
       "      <td>64131</td>\n",
       "    </tr>\n",
       "    <tr>\n",
       "      <th>842</th>\n",
       "      <td>40</td>\n",
       "      <td>M</td>\n",
       "      <td>writer</td>\n",
       "      <td>93055</td>\n",
       "    </tr>\n",
       "    <tr>\n",
       "      <th>390</th>\n",
       "      <td>42</td>\n",
       "      <td>F</td>\n",
       "      <td>writer</td>\n",
       "      <td>85016</td>\n",
       "    </tr>\n",
       "    <tr>\n",
       "      <th>745</th>\n",
       "      <td>42</td>\n",
       "      <td>M</td>\n",
       "      <td>writer</td>\n",
       "      <td>55113</td>\n",
       "    </tr>\n",
       "    <tr>\n",
       "      <th>491</th>\n",
       "      <td>43</td>\n",
       "      <td>F</td>\n",
       "      <td>writer</td>\n",
       "      <td>53711</td>\n",
       "    </tr>\n",
       "    <tr>\n",
       "      <th>236</th>\n",
       "      <td>44</td>\n",
       "      <td>F</td>\n",
       "      <td>writer</td>\n",
       "      <td>53214</td>\n",
       "    </tr>\n",
       "    <tr>\n",
       "      <th>389</th>\n",
       "      <td>44</td>\n",
       "      <td>F</td>\n",
       "      <td>writer</td>\n",
       "      <td>83702</td>\n",
       "    </tr>\n",
       "    <tr>\n",
       "      <th>736</th>\n",
       "      <td>48</td>\n",
       "      <td>F</td>\n",
       "      <td>writer</td>\n",
       "      <td>94618</td>\n",
       "    </tr>\n",
       "    <tr>\n",
       "      <th>829</th>\n",
       "      <td>48</td>\n",
       "      <td>M</td>\n",
       "      <td>writer</td>\n",
       "      <td>80209</td>\n",
       "    </tr>\n",
       "    <tr>\n",
       "      <th>196</th>\n",
       "      <td>49</td>\n",
       "      <td>M</td>\n",
       "      <td>writer</td>\n",
       "      <td>55105</td>\n",
       "    </tr>\n",
       "    <tr>\n",
       "      <th>518</th>\n",
       "      <td>49</td>\n",
       "      <td>F</td>\n",
       "      <td>writer</td>\n",
       "      <td>99709</td>\n",
       "    </tr>\n",
       "    <tr>\n",
       "      <th>853</th>\n",
       "      <td>49</td>\n",
       "      <td>M</td>\n",
       "      <td>writer</td>\n",
       "      <td>40515</td>\n",
       "    </tr>\n",
       "    <tr>\n",
       "      <th>503</th>\n",
       "      <td>50</td>\n",
       "      <td>F</td>\n",
       "      <td>writer</td>\n",
       "      <td>27514</td>\n",
       "    </tr>\n",
       "    <tr>\n",
       "      <th>772</th>\n",
       "      <td>50</td>\n",
       "      <td>M</td>\n",
       "      <td>writer</td>\n",
       "      <td>27105</td>\n",
       "    </tr>\n",
       "    <tr>\n",
       "      <th>548</th>\n",
       "      <td>51</td>\n",
       "      <td>M</td>\n",
       "      <td>writer</td>\n",
       "      <td>95468</td>\n",
       "    </tr>\n",
       "    <tr>\n",
       "      <th>370</th>\n",
       "      <td>52</td>\n",
       "      <td>M</td>\n",
       "      <td>writer</td>\n",
       "      <td>08534</td>\n",
       "    </tr>\n",
       "    <tr>\n",
       "      <th>392</th>\n",
       "      <td>52</td>\n",
       "      <td>M</td>\n",
       "      <td>writer</td>\n",
       "      <td>59801</td>\n",
       "    </tr>\n",
       "    <tr>\n",
       "      <th>558</th>\n",
       "      <td>56</td>\n",
       "      <td>F</td>\n",
       "      <td>writer</td>\n",
       "      <td>63132</td>\n",
       "    </tr>\n",
       "    <tr>\n",
       "      <th>464</th>\n",
       "      <td>60</td>\n",
       "      <td>M</td>\n",
       "      <td>writer</td>\n",
       "      <td>94583</td>\n",
       "    </tr>\n",
       "  </tbody>\n",
       "</table>\n",
       "<p>943 rows × 4 columns</p>\n",
       "</div>"
      ],
      "text/plain": [
       "         age gender     occupation zip_code\n",
       "user_id                                    \n",
       "118       21      M  administrator    90210\n",
       "180       22      F  administrator    60202\n",
       "282       22      M  administrator    20057\n",
       "317       22      M  administrator    13210\n",
       "439       23      F  administrator    20817\n",
       "509       23      M  administrator    10011\n",
       "394       25      M  administrator    96819\n",
       "665       25      M  administrator    55412\n",
       "726       25      F  administrator    80538\n",
       "78        26      M  administrator    61801\n",
       "86        26      M  administrator    46005\n",
       "62        27      F  administrator    97214\n",
       "525       27      F  administrator    19711\n",
       "261       28      M  administrator    85202\n",
       "500       28      M  administrator    94305\n",
       "748       28      M  administrator    94720\n",
       "750       28      M  administrator    32303\n",
       "768       29      M  administrator    12866\n",
       "922       29      F  administrator    21114\n",
       "42        30      M  administrator    17870\n",
       "174       30      F  administrator    52302\n",
       "190       30      M  administrator    95938\n",
       "436       30      F  administrator    17345\n",
       "447       30      M  administrator    55113\n",
       "95        31      M  administrator    10707\n",
       "578       31      M  administrator    M7A1A\n",
       "762       32      M  administrator    95050\n",
       "940       32      M  administrator    02215\n",
       "191       33      M  administrator    95161\n",
       "400       33      F  administrator    78213\n",
       "...      ...    ...            ...      ...\n",
       "668       29      F         writer    10016\n",
       "199       30      M         writer    17604\n",
       "557       30      F         writer    11217\n",
       "28        32      M         writer    55369\n",
       "122       32      F         writer    22206\n",
       "796       32      F         writer    33755\n",
       "833       34      M         writer    90019\n",
       "264       36      F         writer    90064\n",
       "385       36      M         writer    10003\n",
       "911       37      F         writer    53210\n",
       "504       40      F         writer    92115\n",
       "798       40      F         writer    64131\n",
       "842       40      M         writer    93055\n",
       "390       42      F         writer    85016\n",
       "745       42      M         writer    55113\n",
       "491       43      F         writer    53711\n",
       "236       44      F         writer    53214\n",
       "389       44      F         writer    83702\n",
       "736       48      F         writer    94618\n",
       "829       48      M         writer    80209\n",
       "196       49      M         writer    55105\n",
       "518       49      F         writer    99709\n",
       "853       49      M         writer    40515\n",
       "503       50      F         writer    27514\n",
       "772       50      M         writer    27105\n",
       "548       51      M         writer    95468\n",
       "370       52      M         writer    08534\n",
       "392       52      M         writer    59801\n",
       "558       56      F         writer    63132\n",
       "464       60      M         writer    94583\n",
       "\n",
       "[943 rows x 4 columns]"
      ]
     },
     "execution_count": 29,
     "metadata": {},
     "output_type": "execute_result"
    }
   ],
   "source": [
    "users.age.sort_values()                   # sort a column\n",
    "users.sort_values(by='age')                   # sort a DataFrame by a single column\n",
    "users.sort_values(by='age', ascending=False)  # use descending order instead\n",
    "users.sort_values(by=['occupation', 'age'])   # sort by multiple columns"
   ]
  },
  {
   "cell_type": "markdown",
   "metadata": {},
   "source": [
    "#### Missing values\n",
    "scikit-learn models expect that all values are numeric and hold meaning. Thus, missing values are not allowed by scikit-learn. One possible strategy is to just drop missing values:"
   ]
  },
  {
   "cell_type": "code",
   "execution_count": 30,
   "metadata": {
    "collapsed": false
   },
   "outputs": [
    {
     "data": {
      "text/plain": [
       "30    39\n",
       "25    38\n",
       "22    37\n",
       "28    36\n",
       "27    35\n",
       "26    34\n",
       "24    33\n",
       "29    32\n",
       "20    32\n",
       "32    28\n",
       "23    28\n",
       "35    27\n",
       "21    27\n",
       "33    26\n",
       "31    25\n",
       "19    23\n",
       "44    23\n",
       "39    22\n",
       "40    21\n",
       "36    21\n",
       "42    21\n",
       "51    20\n",
       "50    20\n",
       "48    20\n",
       "49    19\n",
       "37    19\n",
       "18    18\n",
       "34    17\n",
       "38    17\n",
       "45    15\n",
       "      ..\n",
       "47    14\n",
       "43    13\n",
       "46    12\n",
       "53    12\n",
       "55    11\n",
       "41    10\n",
       "57     9\n",
       "60     9\n",
       "52     6\n",
       "56     6\n",
       "15     6\n",
       "13     5\n",
       "16     5\n",
       "54     4\n",
       "63     3\n",
       "14     3\n",
       "65     3\n",
       "70     3\n",
       "61     3\n",
       "59     3\n",
       "58     3\n",
       "64     2\n",
       "68     2\n",
       "69     2\n",
       "62     2\n",
       "11     1\n",
       "10     1\n",
       "73     1\n",
       "66     1\n",
       "7      1\n",
       "Name: age, dtype: int64"
      ]
     },
     "execution_count": 30,
     "metadata": {},
     "output_type": "execute_result"
    }
   ],
   "source": [
    "users.age.value_counts()              # excludes missing values\n",
    "users.age.value_counts(dropna=False)  # includes missing values"
   ]
  },
  {
   "cell_type": "code",
   "execution_count": 31,
   "metadata": {
    "collapsed": false
   },
   "outputs": [
    {
     "data": {
      "text/plain": [
       "user_id\n",
       "1      False\n",
       "2      False\n",
       "3      False\n",
       "4      False\n",
       "5      False\n",
       "6      False\n",
       "7      False\n",
       "8      False\n",
       "9      False\n",
       "10     False\n",
       "11     False\n",
       "12     False\n",
       "13     False\n",
       "14     False\n",
       "15     False\n",
       "16     False\n",
       "17     False\n",
       "18     False\n",
       "19     False\n",
       "20     False\n",
       "21     False\n",
       "22     False\n",
       "23     False\n",
       "24     False\n",
       "25     False\n",
       "26     False\n",
       "27     False\n",
       "28     False\n",
       "29     False\n",
       "30     False\n",
       "       ...  \n",
       "914    False\n",
       "915    False\n",
       "916    False\n",
       "917    False\n",
       "918    False\n",
       "919    False\n",
       "920    False\n",
       "921    False\n",
       "922    False\n",
       "923    False\n",
       "924    False\n",
       "925    False\n",
       "926    False\n",
       "927    False\n",
       "928    False\n",
       "929    False\n",
       "930    False\n",
       "931    False\n",
       "932    False\n",
       "933    False\n",
       "934    False\n",
       "935    False\n",
       "936    False\n",
       "937    False\n",
       "938    False\n",
       "939    False\n",
       "940    False\n",
       "941    False\n",
       "942    False\n",
       "943    False\n",
       "Name: age, dtype: bool"
      ]
     },
     "execution_count": 31,
     "metadata": {},
     "output_type": "execute_result"
    }
   ],
   "source": [
    "users.age.isnull()           # True if missing, False if not missing\n",
    "#users.age.isnull().sum()     # count the missing values\n",
    "#users.age.notnull()          # True if not missing, False if missing\n",
    "#users[users.age.notnull()]  # only show rows where continent is not missing"
   ]
  },
  {
   "cell_type": "code",
   "execution_count": 32,
   "metadata": {
    "collapsed": false
   },
   "outputs": [
    {
     "data": {
      "text/plain": [
       "user_id\n",
       "1      True\n",
       "2      True\n",
       "3      True\n",
       "4      True\n",
       "5      True\n",
       "6      True\n",
       "7      True\n",
       "8      True\n",
       "9      True\n",
       "10     True\n",
       "11     True\n",
       "12     True\n",
       "13     True\n",
       "14     True\n",
       "15     True\n",
       "16     True\n",
       "17     True\n",
       "18     True\n",
       "19     True\n",
       "20     True\n",
       "21     True\n",
       "22     True\n",
       "23     True\n",
       "24     True\n",
       "25     True\n",
       "26     True\n",
       "27     True\n",
       "28     True\n",
       "29     True\n",
       "30     True\n",
       "       ... \n",
       "914    True\n",
       "915    True\n",
       "916    True\n",
       "917    True\n",
       "918    True\n",
       "919    True\n",
       "920    True\n",
       "921    True\n",
       "922    True\n",
       "923    True\n",
       "924    True\n",
       "925    True\n",
       "926    True\n",
       "927    True\n",
       "928    True\n",
       "929    True\n",
       "930    True\n",
       "931    True\n",
       "932    True\n",
       "933    True\n",
       "934    True\n",
       "935    True\n",
       "936    True\n",
       "937    True\n",
       "938    True\n",
       "939    True\n",
       "940    True\n",
       "941    True\n",
       "942    True\n",
       "943    True\n",
       "Name: age, dtype: bool"
      ]
     },
     "execution_count": 32,
     "metadata": {},
     "output_type": "execute_result"
    }
   ],
   "source": [
    "# use 'tilde' ~ to negate the boolean values\n",
    "~users.age.isnull()  "
   ]
  },
  {
   "cell_type": "code",
   "execution_count": 33,
   "metadata": {
    "collapsed": false
   },
   "outputs": [
    {
     "data": {
      "text/plain": [
       "age           0\n",
       "gender        0\n",
       "occupation    0\n",
       "zip_code      0\n",
       "dtype: int64"
      ]
     },
     "execution_count": 33,
     "metadata": {},
     "output_type": "execute_result"
    }
   ],
   "source": [
    "users.isnull()             # DataFrame of booleans\n",
    "users.isnull().sum()       # count the missing values in each column"
   ]
  },
  {
   "cell_type": "markdown",
   "metadata": {},
   "source": [
    "Another way is to impute missing values:"
   ]
  },
  {
   "cell_type": "code",
   "execution_count": 34,
   "metadata": {
    "collapsed": false
   },
   "outputs": [
    {
     "ename": "KeyError",
     "evalue": "'Column not found: age'",
     "output_type": "error",
     "traceback": [
      "\u001b[0;31m---------------------------------------------------------------------------\u001b[0m",
      "\u001b[0;31mKeyError\u001b[0m                                  Traceback (most recent call last)",
      "\u001b[0;32m<ipython-input-34-7f99645bbb88>\u001b[0m in \u001b[0;36m<module>\u001b[0;34m()\u001b[0m\n\u001b[1;32m      2\u001b[0m \u001b[0musers\u001b[0m\u001b[0;34m.\u001b[0m\u001b[0mage\u001b[0m\u001b[0;34m.\u001b[0m\u001b[0mfillna\u001b[0m\u001b[0;34m(\u001b[0m\u001b[0mvalue\u001b[0m\u001b[0;34m=\u001b[0m\u001b[0;34m'NA'\u001b[0m\u001b[0;34m,\u001b[0m \u001b[0minplace\u001b[0m\u001b[0;34m=\u001b[0m\u001b[0;32mTrue\u001b[0m\u001b[0;34m)\u001b[0m   \u001b[0;31m# modifies 'drinks' in-place\u001b[0m\u001b[0;34m\u001b[0m\u001b[0m\n\u001b[1;32m      3\u001b[0m \u001b[0;31m# Fill any null values of age by taking average by gender, class and parch\u001b[0m\u001b[0;34m\u001b[0m\u001b[0;34m\u001b[0m\u001b[0m\n\u001b[0;32m----> 4\u001b[0;31m \u001b[0musers\u001b[0m\u001b[0;34m[\u001b[0m\u001b[0;34m'age'\u001b[0m\u001b[0;34m]\u001b[0m\u001b[0;34m=\u001b[0m\u001b[0musers\u001b[0m\u001b[0;34m[\u001b[0m\u001b[0;34m[\u001b[0m\u001b[0;34m'occupation'\u001b[0m\u001b[0;34m,\u001b[0m\u001b[0;34m'gender'\u001b[0m\u001b[0;34m]\u001b[0m\u001b[0;34m]\u001b[0m\u001b[0;34m.\u001b[0m\u001b[0mgroupby\u001b[0m\u001b[0;34m(\u001b[0m\u001b[0;34m[\u001b[0m\u001b[0;34m'occupation'\u001b[0m\u001b[0;34m,\u001b[0m\u001b[0;34m'gender'\u001b[0m\u001b[0;34m]\u001b[0m\u001b[0;34m)\u001b[0m\u001b[0;34m[\u001b[0m\u001b[0;34m'age'\u001b[0m\u001b[0;34m]\u001b[0m\u001b[0;34m.\u001b[0m\u001b[0mtransform\u001b[0m\u001b[0;34m(\u001b[0m\u001b[0;32mlambda\u001b[0m \u001b[0mx\u001b[0m\u001b[0;34m:\u001b[0m \u001b[0mx\u001b[0m\u001b[0;34m.\u001b[0m\u001b[0mfillna\u001b[0m\u001b[0;34m(\u001b[0m\u001b[0mx\u001b[0m\u001b[0;34m.\u001b[0m\u001b[0mmean\u001b[0m\u001b[0;34m(\u001b[0m\u001b[0;34m)\u001b[0m\u001b[0;34m)\u001b[0m\u001b[0;34m)\u001b[0m\u001b[0;34m\u001b[0m\u001b[0m\n\u001b[0m",
      "\u001b[0;32m/anaconda/lib/python3.6/site-packages/pandas/core/base.py\u001b[0m in \u001b[0;36m__getitem__\u001b[0;34m(self, key)\u001b[0m\n\u001b[1;32m    345\u001b[0m         \u001b[0;32melse\u001b[0m\u001b[0;34m:\u001b[0m\u001b[0;34m\u001b[0m\u001b[0m\n\u001b[1;32m    346\u001b[0m             \u001b[0;32mif\u001b[0m \u001b[0mkey\u001b[0m \u001b[0;32mnot\u001b[0m \u001b[0;32min\u001b[0m \u001b[0mself\u001b[0m\u001b[0;34m.\u001b[0m\u001b[0mobj\u001b[0m\u001b[0;34m:\u001b[0m\u001b[0;34m\u001b[0m\u001b[0m\n\u001b[0;32m--> 347\u001b[0;31m                 \u001b[0;32mraise\u001b[0m \u001b[0mKeyError\u001b[0m\u001b[0;34m(\u001b[0m\u001b[0;34m\"Column not found: %s\"\u001b[0m \u001b[0;34m%\u001b[0m \u001b[0mkey\u001b[0m\u001b[0;34m)\u001b[0m\u001b[0;34m\u001b[0m\u001b[0m\n\u001b[0m\u001b[1;32m    348\u001b[0m             \u001b[0;32mreturn\u001b[0m \u001b[0mself\u001b[0m\u001b[0;34m.\u001b[0m\u001b[0m_gotitem\u001b[0m\u001b[0;34m(\u001b[0m\u001b[0mkey\u001b[0m\u001b[0;34m,\u001b[0m \u001b[0mndim\u001b[0m\u001b[0;34m=\u001b[0m\u001b[0;36m1\u001b[0m\u001b[0;34m)\u001b[0m\u001b[0;34m\u001b[0m\u001b[0m\n\u001b[1;32m    349\u001b[0m \u001b[0;34m\u001b[0m\u001b[0m\n",
      "\u001b[0;31mKeyError\u001b[0m: 'Column not found: age'"
     ]
    }
   ],
   "source": [
    "users.age.fillna(value='NA')                 # fill in missing values with 'NA'\n",
    "users.age.fillna(value='NA', inplace=True)   # modifies 'drinks' in-place\n",
    "# Fill any null values of age by taking average by gender, class and parch\n",
    "users['age']=users[['occupation','gender']].groupby(['occupation','gender'])['age'].transform(lambda x: x.fillna(x.mean()))\n"
   ]
  },
  {
   "cell_type": "code",
   "execution_count": null,
   "metadata": {
    "collapsed": false
   },
   "outputs": [],
   "source": [
    "users.sum(axis=0)      # sums \"down\" the 0 axis (rows)\n",
    "users.sum()            # axis=0 is the default\n",
    "users.sum(axis=1)      # sums \"across\" the 1 axis (columns)"
   ]
  },
  {
   "cell_type": "markdown",
   "metadata": {},
   "source": [
    "### Additional readings\n",
    "[Basic Git commands list](\"https://confluence.atlassian.com/bitbucketserver/basic-git-commands-776639767.html\")\n",
    "\n",
    "[Good resourses](\"https://help.github.com/articles/git-and-github-learning-resources/\")"
   ]
  },
  {
   "cell_type": "markdown",
   "metadata": {},
   "source": [
    "---"
   ]
  },
  {
   "cell_type": "markdown",
   "metadata": {},
   "source": [
    "## Week 2 Lesson 1\n",
    "## Visualisation\n",
    "3 - 30 May 2017"
   ]
  },
  {
   "cell_type": "code",
   "execution_count": null,
   "metadata": {
    "collapsed": false
   },
   "outputs": [],
   "source": [
    "import urllib\n",
    "import matplotlib.pyplot as plt\n",
    "#!pip install seaborn\n",
    "import seaborn as sns\n",
    "#!pip install seaborn\n",
    "import plotly\n",
    "import plotly.plotly as py\n",
    "import plotly.graph_objs as go \n",
    "#!pip install folium\n",
    "import folium\n",
    "import plotly.figure_factory as ff\n",
    "\n",
    "plotly.tools.set_credentials_file(username='Msquirchuk', api_key='kTj4gydNrsbGuMDjMcNn')\n",
    "\n",
    "%matplotlib inline\n",
    "sns.set(color_codes=True)"
   ]
  },
  {
   "cell_type": "markdown",
   "metadata": {},
   "source": [
    "### What is data visualisation?\n",
    "* Data visualisation is the representation of data in a graphical way to more easily or clearly convey the patterns in data."
   ]
  },
  {
   "cell_type": "markdown",
   "metadata": {},
   "source": [
    "### Why do we visualise data?\n",
    "* Visualisation helps data analysts:\n",
    " * understand the data and what patterns exist (exploratory);\n",
    " * explain the data to non-data-ists (reporting) or in a simple way.\n",
    "* The greatest value of a picture is when it forces us to notice what we never expected to see. - John W Tukey, Exploratory Data Analysis, 1977."
   ]
  },
  {
   "cell_type": "markdown",
   "metadata": {},
   "source": [
    "### How can we visualise data?\n",
    "* There are many data visualisation tools: the easier ones to use can do less stuff."
   ]
  },
  {
   "cell_type": "markdown",
   "metadata": {},
   "source": [
    "<img src=\"pythonvislandscape.png\" width=450 align=left>\n",
    "<img src=\"chart-suggestions.png\" width=450 align=right>"
   ]
  },
  {
   "cell_type": "markdown",
   "metadata": {},
   "source": [
    "### How do we visualise data?"
   ]
  },
  {
   "cell_type": "markdown",
   "metadata": {},
   "source": [
    "#### Bar charts\n",
    "* Shows numeric summaries across different categories (either horizontally or vertically)."
   ]
  },
  {
   "cell_type": "code",
   "execution_count": null,
   "metadata": {
    "collapsed": false
   },
   "outputs": [],
   "source": [
    "y = [3, 10, 7, 5, 3, 4.5, 6, 8.1]\n",
    "N = len(y)\n",
    "x = range(N)\n",
    "plt.bar(x, y)"
   ]
  },
  {
   "cell_type": "code",
   "execution_count": null,
   "metadata": {
    "collapsed": false
   },
   "outputs": [],
   "source": [
    "zoodata = [go.Bar(\n",
    " x=['giraffes', 'orangutans', 'monkeys'],\n",
    " y=[20, 14, 23]\n",
    " )]\n",
    "\n",
    "py.iplot(zoodata)"
   ]
  },
  {
   "cell_type": "code",
   "execution_count": null,
   "metadata": {
    "collapsed": false
   },
   "outputs": [],
   "source": [
    "df = pd.read_csv(\"https://raw.githubusercontent.com/plotly/datasets/master/school_earnings.csv\")\n",
    "\n",
    "trace_women = Bar(x=df.School,\n",
    "                  y=df.Women,\n",
    "                  name='Women',\n",
    "                  marker=dict(color='#ffcdd2'))\n",
    "\n",
    "trace_men = Bar(x=df.School,\n",
    "                y=df.Men,\n",
    "                name='Men',\n",
    "                marker=dict(color='#A2D5F2'))\n",
    "\n",
    "trace_gap = Bar(x=df.School,\n",
    "                y=df.gap,\n",
    "                name='Gap',\n",
    "                marker=dict(color='#59606D'))\n",
    "\n",
    "data = [trace_women, trace_men, trace_gap]\n",
    "layout = Layout(title=\"Average Earnings for Graduates\",\n",
    "                xaxis=dict(title='School'),\n",
    "                yaxis=dict(title='Salary (in thousands)'))\n",
    "\n",
    "fig = Figure(data=data, layout=layout)\n",
    "\n",
    "py.iplot(fig, filename='styled_bar')"
   ]
  },
  {
   "cell_type": "markdown",
   "metadata": {},
   "source": [
    "#### Histograms\n",
    "* Shows the distribution of data over a continuous interval\n",
    "* Allows us to see the shape of our data"
   ]
  },
  {
   "cell_type": "code",
   "execution_count": null,
   "metadata": {
    "collapsed": false
   },
   "outputs": [],
   "source": [
    "raw_data=urllib.request.urlopen(\"http://goo.gl/HppjFh\")\n",
    "dataset = pd.read_csv(raw_data, delimiter=\",\", names=('sepal_length', 'sepal_width', 'petal_length', 'petal_width', 'species'))\n",
    "dataset[['sepal_width']].hist()"
   ]
  },
  {
   "cell_type": "code",
   "execution_count": null,
   "metadata": {
    "collapsed": false
   },
   "outputs": [],
   "source": [
    "dataset.loc[dataset['species'] == 'Iris-setosa','sepal_length'].hist()"
   ]
  },
  {
   "cell_type": "code",
   "execution_count": null,
   "metadata": {
    "collapsed": false
   },
   "outputs": [],
   "source": [
    "x = np.random.randn(500)\n",
    "data = [go.Histogram(x=x)]\n",
    "py.iplot(data, filename='basic histogram') "
   ]
  },
  {
   "cell_type": "markdown",
   "metadata": {},
   "source": [
    "#### Scatterplots\n",
    "* Shows values between two variables, one on each axis.\n",
    "* Used to see a relationship between variables"
   ]
  },
  {
   "cell_type": "code",
   "execution_count": null,
   "metadata": {
    "collapsed": false,
    "scrolled": true
   },
   "outputs": [],
   "source": [
    "plt.scatter(dataset['sepal_length'],dataset['sepal_width'],100,'rgb')"
   ]
  },
  {
   "cell_type": "code",
   "execution_count": null,
   "metadata": {
    "collapsed": false
   },
   "outputs": [],
   "source": [
    "sns.lmplot(x='sepal_width', y=\"sepal_length\", hue=\"species\", data=dataset, fit_reg=True)"
   ]
  },
  {
   "cell_type": "code",
   "execution_count": null,
   "metadata": {
    "collapsed": false
   },
   "outputs": [],
   "source": [
    "sns.jointplot(x=\"sepal_width\", y=\"sepal_length\", data=dataset)"
   ]
  },
  {
   "cell_type": "code",
   "execution_count": null,
   "metadata": {
    "collapsed": false
   },
   "outputs": [],
   "source": [
    "sns.pairplot(dataset, hue='species');"
   ]
  },
  {
   "cell_type": "code",
   "execution_count": null,
   "metadata": {
    "collapsed": false
   },
   "outputs": [],
   "source": [
    "N = 1000\n",
    "random_x = np.random.randn(N)\n",
    "random_y = np.random.randn(N)\n",
    "trace = go.Scatter(\n",
    " x = random_x,\n",
    " y = random_y,\n",
    " mode = 'markers'\n",
    ")\n",
    "data = [trace]\n",
    "py.iplot(data, filename='basic-scatter')"
   ]
  },
  {
   "cell_type": "markdown",
   "metadata": {},
   "source": [
    "#### Box and whisker plots\n",
    "* Displays numerical distribution summaries by groups through quartiles\n",
    "* Can compare different distributions "
   ]
  },
  {
   "cell_type": "code",
   "execution_count": null,
   "metadata": {
    "collapsed": false
   },
   "outputs": [],
   "source": [
    "spread = np.random.rand(50) * 100\n",
    "center = np.ones(25) * 50\n",
    "flier_high = np.random.rand(10) * 100 + 100\n",
    "flier_low = np.random.rand(10) * -100\n",
    "data = np.concatenate((spread, center, flier_high, flier_low), 0)\n",
    "\n",
    "plt.boxplot(data)"
   ]
  },
  {
   "cell_type": "code",
   "execution_count": null,
   "metadata": {
    "collapsed": false
   },
   "outputs": [],
   "source": [
    "spread = np.random.rand(50) * 100\n",
    "center = np.ones(25) * 40\n",
    "flier_high = np.random.rand(10) * 100 + 100\n",
    "flier_low = np.random.rand(10) * -100\n",
    "d2 = np.concatenate((spread, center, flier_high, flier_low), 0)\n",
    "data.shape = (-1, 1)\n",
    "d2.shape = (-1, 1)\n",
    "# data = concatenate( (data, d2), 1 )\n",
    "# Making a 2-D array only works if all the columns are the\n",
    "# same length.  If they are not, then use a list instead.\n",
    "# This is actually more efficient because boxplot converts\n",
    "# a 2-D array into a list of vectors internally anyway.\n",
    "data = [data, d2, d2[::2, 0]]\n",
    "# multiple box plots on one figure\n",
    "plt.figure()\n",
    "plt.boxplot(data)"
   ]
  },
  {
   "cell_type": "code",
   "execution_count": null,
   "metadata": {
    "collapsed": false
   },
   "outputs": [],
   "source": [
    "y0 = np.random.randn(50)-1\n",
    "y1 = np.random.randn(50)+1\n",
    "trace0 = go.Box(\n",
    " y=y0\n",
    ")\n",
    "trace1 = go.Box(\n",
    " y=y1\n",
    ")\n",
    "data = [trace0, trace1]\n",
    "py.iplot(data) "
   ]
  },
  {
   "cell_type": "markdown",
   "metadata": {},
   "source": [
    "#### Density plots\n",
    "* Similar to a histogram but smooths out the distribution with a continuous line\n",
    "* Not affected by bin choices "
   ]
  },
  {
   "cell_type": "code",
   "execution_count": 1,
   "metadata": {
    "collapsed": false
   },
   "outputs": [
    {
     "ename": "NameError",
     "evalue": "name 'np' is not defined",
     "output_type": "error",
     "traceback": [
      "\u001b[0;31m---------------------------------------------------------------------------\u001b[0m",
      "\u001b[0;31mNameError\u001b[0m                                 Traceback (most recent call last)",
      "\u001b[0;32m<ipython-input-1-6bb8814b3e3c>\u001b[0m in \u001b[0;36m<module>\u001b[0;34m()\u001b[0m\n\u001b[1;32m      4\u001b[0m \u001b[0;34m\u001b[0m\u001b[0m\n\u001b[1;32m      5\u001b[0m \u001b[0mdensity\u001b[0m \u001b[0;34m=\u001b[0m \u001b[0mgaussian_kde\u001b[0m\u001b[0;34m(\u001b[0m\u001b[0mdata\u001b[0m\u001b[0;34m)\u001b[0m\u001b[0;34m\u001b[0m\u001b[0m\n\u001b[0;32m----> 6\u001b[0;31m \u001b[0mxs\u001b[0m \u001b[0;34m=\u001b[0m \u001b[0mnp\u001b[0m\u001b[0;34m.\u001b[0m\u001b[0mlinspace\u001b[0m\u001b[0;34m(\u001b[0m\u001b[0;36m0\u001b[0m\u001b[0;34m,\u001b[0m\u001b[0;36m8\u001b[0m\u001b[0;34m,\u001b[0m\u001b[0;36m200\u001b[0m\u001b[0;34m)\u001b[0m\u001b[0;34m\u001b[0m\u001b[0m\n\u001b[0m\u001b[1;32m      7\u001b[0m \u001b[0mdensity\u001b[0m\u001b[0;34m.\u001b[0m\u001b[0mcovariance_factor\u001b[0m \u001b[0;34m=\u001b[0m \u001b[0;32mlambda\u001b[0m \u001b[0;34m:\u001b[0m \u001b[0;36m.25\u001b[0m\u001b[0;34m\u001b[0m\u001b[0m\n\u001b[1;32m      8\u001b[0m \u001b[0mdensity\u001b[0m\u001b[0;34m.\u001b[0m\u001b[0m_compute_covariance\u001b[0m\u001b[0;34m(\u001b[0m\u001b[0;34m)\u001b[0m\u001b[0;34m\u001b[0m\u001b[0m\n",
      "\u001b[0;31mNameError\u001b[0m: name 'np' is not defined"
     ]
    }
   ],
   "source": [
    "from scipy.stats import gaussian_kde\n",
    "\n",
    "data = [1.5]*7 + [2.5]*2 + [3.5]*8 + [4.5]*3 + [5.5]*1 + [6.5]*8\n",
    "\n",
    "density = gaussian_kde(data)\n",
    "xs = np.linspace(0,8,200)\n",
    "density.covariance_factor = lambda : .25\n",
    "density._compute_covariance()\n",
    "plt.plot(xs,density(xs))\n",
    "plt.show()"
   ]
  },
  {
   "cell_type": "markdown",
   "metadata": {},
   "source": [
    "#### Heat maps\n",
    "* Colour coding applied to tabular data.\n",
    "* Provides a generalised view of the data by each cell "
   ]
  },
  {
   "cell_type": "code",
   "execution_count": null,
   "metadata": {
    "collapsed": false
   },
   "outputs": [],
   "source": [
    "x = np.random.randn(8873)\n",
    "y = np.random.randn(8873)\n",
    "\n",
    "heatmap, xedges, yedges = np.histogram2d(x, y, bins=50)\n",
    "extent = [xedges[0], xedges[-1], yedges[0], yedges[-1]]\n",
    "\n",
    "plt.clf()\n",
    "plt.imshow(heatmap.T, extent=extent, origin='lower')\n",
    "plt.show()"
   ]
  },
  {
   "cell_type": "code",
   "execution_count": null,
   "metadata": {
    "collapsed": false
   },
   "outputs": [],
   "source": [
    "trace = go.Heatmap(z=[[1, 20, 30],\n",
    " [20, 1, 60],\n",
    " [30, 60, 1]])\n",
    "data=[trace]\n",
    "py.iplot(data, filename='basic-heatmap') "
   ]
  },
  {
   "cell_type": "code",
   "execution_count": null,
   "metadata": {
    "collapsed": true
   },
   "outputs": [],
   "source": [
    "x = np.random.randn(2000)\n",
    "y = np.random.randn(2000)\n",
    "plotly.offline.iplot([Histogram2dContour(x=x, y=y, contours=Contours(coloring='heatmap')),\n",
    "       Scatter(x=x, y=y, mode='markers', marker=Marker(color='white', size=3, opacity=0.3))], show_link=False)"
   ]
  },
  {
   "cell_type": "markdown",
   "metadata": {},
   "source": [
    "#### Line graphs\n",
    "* Used to display a numeric value over a continuous value or time\n",
    "* Used to observe trends and changes over time"
   ]
  },
  {
   "cell_type": "code",
   "execution_count": null,
   "metadata": {
    "collapsed": false
   },
   "outputs": [],
   "source": [
    "y = range(3)\n",
    "x = [3,4,5]\n",
    "plt.plot(x,y)"
   ]
  },
  {
   "cell_type": "code",
   "execution_count": null,
   "metadata": {
    "collapsed": false
   },
   "outputs": [],
   "source": [
    "N = 500\n",
    "random_x = np.linspace(0, 1, N)\n",
    "random_y = np.random.randn(N)\n",
    "trace = go.Scatter(\n",
    " x = random_x,\n",
    " y = random_y\n",
    ")\n",
    "data = [trace]\n",
    "py.iplot(data, filename='basic-line') "
   ]
  },
  {
   "cell_type": "markdown",
   "metadata": {},
   "source": [
    "#### Parallel coordinates\n",
    "* Plot multiple numeric variables across each observation\n",
    "* Each axis is scaled and each line through the graph is an observation"
   ]
  },
  {
   "cell_type": "code",
   "execution_count": null,
   "metadata": {
    "collapsed": false
   },
   "outputs": [],
   "source": [
    "data = [\n",
    "    go.Parcoords(\n",
    "        line = dict(color = 'blue'),\n",
    "        dimensions = list([\n",
    "            dict(range = [1,5],\n",
    "                 constraintrange = [1,2],\n",
    "                 label = 'A', values = [1,4]),\n",
    "            dict(range = [1.5,5],\n",
    "                 tickvals = [1.5,3,4.5],\n",
    "                 label = 'B', values = [3,1.5]),\n",
    "            dict(range = [1,5],\n",
    "                 tickvals = [1,2,4,5],\n",
    "                 label = 'C', values = [2,4],\n",
    "                 ticktext = ['text 1', 'text 2', 'text 3', 'text 4']),\n",
    "            dict(range = [1,5],\n",
    "                 label = 'D', values = [4,2])\n",
    "        ])\n",
    "    )\n",
    "]\n",
    "\n",
    "py.iplot(data, filename = 'parcoord-dimensions')"
   ]
  },
  {
   "cell_type": "code",
   "execution_count": 2,
   "metadata": {
    "collapsed": false
   },
   "outputs": [
    {
     "ename": "NameError",
     "evalue": "name 'dataset' is not defined",
     "output_type": "error",
     "traceback": [
      "\u001b[0;31m---------------------------------------------------------------------------\u001b[0m",
      "\u001b[0;31mNameError\u001b[0m                                 Traceback (most recent call last)",
      "\u001b[0;32m<ipython-input-2-4be81156e76b>\u001b[0m in \u001b[0;36m<module>\u001b[0;34m()\u001b[0m\n\u001b[1;32m      1\u001b[0m \u001b[0;32mfrom\u001b[0m \u001b[0mpandas\u001b[0m\u001b[0;34m.\u001b[0m\u001b[0mtools\u001b[0m\u001b[0;34m.\u001b[0m\u001b[0mplotting\u001b[0m \u001b[0;32mimport\u001b[0m \u001b[0mparallel_coordinates\u001b[0m\u001b[0;34m\u001b[0m\u001b[0m\n\u001b[0;32m----> 2\u001b[0;31m \u001b[0mparallel_coordinates\u001b[0m \u001b[0;34m(\u001b[0m\u001b[0mdataset\u001b[0m\u001b[0;34m,\u001b[0m \u001b[0;34m'species'\u001b[0m\u001b[0;34m)\u001b[0m\u001b[0;34m\u001b[0m\u001b[0m\n\u001b[0m",
      "\u001b[0;31mNameError\u001b[0m: name 'dataset' is not defined"
     ]
    }
   ],
   "source": [
    "from pandas.tools.plotting import parallel_coordinates\n",
    "parallel_coordinates (dataset, 'species')"
   ]
  },
  {
   "cell_type": "markdown",
   "metadata": {},
   "source": [
    "#### Maps\n",
    "* Allows us to plot points geographically\n",
    "* We can overlay information on a map, usually loaded as a collection of ‘tiles’. "
   ]
  },
  {
   "cell_type": "code",
   "execution_count": null,
   "metadata": {
    "collapsed": false
   },
   "outputs": [],
   "source": [
    "map_object = folium.Map(location=[-33.8, 151.2], zoom_start=2,\n",
    "tiles=\"Stamen toner\")\n",
    "marker = folium.features.Marker([-33.869824, 151.206423],popup=\"General Assembly!\")\n",
    "map_object.add_child(marker) "
   ]
  },
  {
   "cell_type": "code",
   "execution_count": null,
   "metadata": {
    "collapsed": true
   },
   "outputs": [],
   "source": [
    "df_airports = pd.read_csv('https://raw.githubusercontent.com/plotly/datasets/master/2011_february_us_airport_traffic.csv')\n",
    "df_airports.head()\n",
    "\n",
    "df_flight_paths = pd.read_csv('https://raw.githubusercontent.com/plotly/datasets/master/2011_february_aa_flight_paths.csv')\n",
    "df_flight_paths.head()\n",
    "\n",
    "airports = [ dict(\n",
    "        type = 'scattergeo',\n",
    "        locationmode = 'USA-states',\n",
    "        lon = df_airports['long'],\n",
    "        lat = df_airports['lat'],\n",
    "        hoverinfo = 'text',\n",
    "        text = df_airports['airport'],\n",
    "        mode = 'markers',\n",
    "        marker = dict(\n",
    "            size=2,\n",
    "            color='rgb(255, 0, 0)',\n",
    "            line = dict(\n",
    "                width=3,\n",
    "                color='rgba(68, 68, 68, 0)'\n",
    "            )\n",
    "        ))]\n",
    "\n",
    "flight_paths = []\n",
    "for i in range( len( df_flight_paths ) ):\n",
    "    flight_paths.append(\n",
    "        dict(\n",
    "            type = 'scattergeo',\n",
    "            locationmode = 'USA-states',\n",
    "            lon = [ df_flight_paths['start_lon'][i], df_flight_paths['end_lon'][i] ],\n",
    "            lat = [ df_flight_paths['start_lat'][i], df_flight_paths['end_lat'][i] ],\n",
    "            mode = 'lines',\n",
    "            line = dict(\n",
    "                width = 1,\n",
    "                color = 'red',\n",
    "            ),\n",
    "            opacity = float(df_flight_paths['cnt'][i])/float(df_flight_paths['cnt'].max()),\n",
    "        )\n",
    "    )\n",
    "\n",
    "layout = dict(\n",
    "        title = 'Feb. 2011 American Airline flight paths<br>(Hover for airport names)',\n",
    "        showlegend = False,\n",
    "        height = 800,\n",
    "        geo = dict(\n",
    "            scope='north america',\n",
    "            projection=dict( type='azimuthal equal area' ),\n",
    "            showland = True,\n",
    "            landcolor = 'rgb(243, 243, 243)',\n",
    "            countrycolor = 'rgb(204, 204, 204)',\n",
    "        ),\n",
    "    )\n",
    "\n",
    "fig = dict( data=flight_paths + airports, layout=layout )\n",
    "\n",
    "py.iplot(fig)"
   ]
  },
  {
   "cell_type": "markdown",
   "metadata": {},
   "source": [
    "### Charts to avoid\n",
    "* Stacked area maps\n",
    "* Word clouds\n",
    "* Pie charts"
   ]
  },
  {
   "cell_type": "markdown",
   "metadata": {},
   "source": [
    "### Additional readings\n",
    "* Edward Tuſte, The Visual Display of Quantitative Information\n",
    "* Leland Wilkinson, The Grammar of Graphics\n",
    "* Scott Murray, Interactive Data Visualisation for the Web (free online)\n",
    "* flowingdata.com\n",
    "* New York Times (Upshot)"
   ]
  },
  {
   "cell_type": "markdown",
   "metadata": {},
   "source": [
    "---"
   ]
  },
  {
   "cell_type": "markdown",
   "metadata": {},
   "source": [
    "## Week 2 Lesson 2\n",
    "## Linear Regression\n",
    "4 - 1 June 2017"
   ]
  },
  {
   "cell_type": "markdown",
   "metadata": {},
   "source": [
    "### Supervised vs unsupervised learning\n",
    "* Supervised learning is where there is a target output - we want something to come out of our model.\n",
    " * Regression: If the target variable is numeric then we have a regression problem.\n",
    " * cf. Classification: If the target variable is a category (for example trying to predict a type of flower) the we have a classification problem - we are trying to classify what group that y belongs to.\n",
    " * Features: Data values that provide information to help guess the target, aka predictor or independent variables.\n",
    "* Unsupervised learning is where there is no output, but we want to observe the model of the data, e.g. for exploration. We want to find some underlying structure or patterns in the data but in this case we don’t have any labeled data."
   ]
  },
  {
   "cell_type": "markdown",
   "metadata": {},
   "source": [
    "### Linear Regression \n",
    "* We want to model a linear relationship (think straight line) between our target variable y and our input variable x:\n",
    "y=Xβ+ϵ, where:\n",
    " * y = target variable\n",
    " * X = input variable\n",
    " * β = coefficients\n",
    " * ϵ = error term \n",
    "* It is the explanation of a continuous variable given a series of independent variables.\n",
    "* The simplest version is just a line of best fit: y = mx + b... It explains the relationship between x and y using the starting point b and the power in explanation m.\n",
    "* Linear regression is a simple approach to supervised learning. It assumes that the dependence of Y on X1, X2 ,… Xp is linear. True regression functions are never linear.\n",
    "* Linear relationship in the parameters, β, we can transform the actual values of the inputs if we want.\n",
    "* Variance of the error term, ϵ, is constant. This means there is no systematic pattern in the values of X and the variance of ϵ. The mean of ϵ = 0. ϵ has a normal distribution. If it does not, it could introduce bias. \n",
    "* There will be no perfect (or near perfect) co-linearity between any of the input variables. Otherwise the fitting procedure will break. \n",
    "\n",
    "\n",
    "#### How it works\n",
    "_Ordinary Least Squares_\n",
    "<img src=\"linear-regression-rss.png\" align=right width=300>\n",
    "* Creating a linear regression model is really about minimising the _Residual Sum of Squares_ or RSE. This is the Sum of the squared difference between our observed value and the value from the model. That is: <img src=\"RSS-equation.png\" width=400>\n",
    "* Wording the function as: <img src=\"linear-equation.png\">\n",
    "* Wording RSS as a function of e (error): <img src=\"rssaserror.png\">\n",
    "* Error is just the difference between yi and y as it is observed. So, expanding: <img src=\"rssaserror2.png\">\n",
    "* Resolving this equation, it means:\n",
    "<img src=\"OLS.png\">\n",
    "\n"
   ]
  },
  {
   "cell_type": "markdown",
   "metadata": {},
   "source": [
    "#### R-Squared\n",
    "* R-squared is the central metric introduced for linear regression. The closer to 1 the R-squared, the better the fit. \n",
    "* R-squared measures explain variance, but it doesn't tell the magnitude or scale of error.\n",
    "\n",
    "<img src=\"R2-equations.png\" width=500 align=left>"
   ]
  },
  {
   "cell_type": "markdown",
   "metadata": {},
   "source": [
    "### Multiple linear regression\n",
    "* Multi-dimensions allows for complex models even with linear components.\n",
    "\n",
    "<img src=\"multiple-linear-regression2.png\" align=right width=200 >\n",
    "\n",
    "* The ideal scenario is when the predictors are uncorrelated:\n",
    " * Interpretations can be made such as “a unit change in Xj is associated with a βj change in Y , while all the other variables stay fixed”.\n",
    " * Correlations amongst predictors cause problems when Xj changes, everything else changes.\n",
    "\n",
    " <img src=\"multiple-linear-regression.png\" align=left width=400>\n"
   ]
  },
  {
   "cell_type": "markdown",
   "metadata": {},
   "source": [
    "#### Make sure you visualise your data and check the actual model fit !!! \n",
    "See [Anscombe's Quartet](https://en.wikipedia.org/wiki/Anscombe%27s_quartet) for why!\n",
    "<img src=\"anscombes-quartet.png\" width=400 align=right>"
   ]
  },
  {
   "cell_type": "code",
   "execution_count": null,
   "metadata": {
    "collapsed": false
   },
   "outputs": [],
   "source": [
    "import pandas as pd\n",
    "import statsmodels.formula.api as smf\n",
    "\n",
    "house_data = pd.read_csv(\"../data/chicagohouseprices2.csv\", index_col=0)\n",
    "house_data.head(1)\n",
    "#replace missing data\n",
    "house_data.fillna(value='NA', inplace=True) \n",
    "#look at the correlations between the data\n",
    "pd.scatter_matrix(house_data, figsize=(15,15))"
   ]
  },
  {
   "cell_type": "code",
   "execution_count": null,
   "metadata": {
    "collapsed": false
   },
   "outputs": [],
   "source": [
    "#create the linear model\n",
    "lm1 = smf.ols(formula='Price ~ Bath + HouseSizeSqft', data=house_data).fit()\n",
    "#print the coefficients\n",
    "lm1.params\n",
    "#print the regression results\n",
    "lm1.summary()"
   ]
  },
  {
   "cell_type": "code",
   "execution_count": null,
   "metadata": {
    "collapsed": false
   },
   "outputs": [],
   "source": [
    "lm2 = smf.ols(formula='Price ~ Bath + CrimeIndex + MinutesToLoop + MilesToLake + Age + LotSizeSqft + HouseSizeSqft + SchoolIndex + EstimatedPrice', data=house_data).fit()\n",
    "lm2.params\n",
    "lm2.summary()"
   ]
  },
  {
   "cell_type": "markdown",
   "metadata": {},
   "source": [
    "---"
   ]
  },
  {
   "cell_type": "markdown",
   "metadata": {},
   "source": [
    "## Week 3 Lesson 1\n",
    "## Logistic Regression\n",
    "5 - 6 June 2017"
   ]
  },
  {
   "cell_type": "markdown",
   "metadata": {},
   "source": [
    "### Regression vs Classification\n",
    "* If the y variable is numeric then we have a regression problem - we are trying to predict a continuous number\n",
    "* If the y variable is a category (for example trying to predict a type of flower) the we have a classification problem - we are trying to classify what group that y belongs to.\n",
    "* We want to build a classifier that correctly identifies which class our target variable y belongs to given our input variable x. \n",
    "* Why not use the linear regression model? y=Xβ+ϵ\n",
    " * If we only have a binary response variable (0 or 1) it might make sense… BUT we can have our estimated value of y > 1 or y < 0 … which doesn’t make sense.\n",
    " * What of the case where we have more than one class? Linear regression cannot easily handle these cases.\n",
    " * We want a classification method that can handle these cases and give us results we can easily interpret. \n",
    "\n",
    "<img src=\"logit-function.png\" width=400 align=right>\n",
    "### p(1|x) = β0+β1\n",
    "* This is a good starting point but we still have the problem of p(Y) being outside the 0,1 range.\n",
    "* We need to model p(Y=1|X) using a function that gives outputs between 0 and 1. Basically we want something that looks like the following:\n",
    "<img src=\"logistic-regression.png\" width=300 align=right>\n",
    "\n",
    "\n",
    "\n",
    "* We can see that it this function is linear in X\n",
    " * p | (p - 1) is called the ‘odds’ and can be any value from 0 to ∞\n",
    " * log ( p | (p - 1) ) is called the ‘log-odds’ or ‘logit’"
   ]
  },
  {
   "cell_type": "markdown",
   "metadata": {},
   "source": [
    "### Accuracy Score\n",
    "* This is simply the fraction of correct predictions from the model. So it is the number of correct predictions divided by the number of observations in our dataset."
   ]
  },
  {
   "cell_type": "markdown",
   "metadata": {},
   "source": [
    "<img src=\"confusion-matrix.png\" align=right>\n",
    "### Confusion Matrix\n",
    "* A confusion matrix shows us what the predicted class was against what the actual class was. \n",
    "* The true class makes up the rows or the vertical axes and the predicted class makes up the columns or the horizontal axis.\n",
    "* Any entries in the diagonal of the matrix are those that are correctly classified. \n"
   ]
  },
  {
   "cell_type": "markdown",
   "metadata": {},
   "source": [
    "<img src=\"roc-curve.png\" align=right>\n",
    "### Receiver Operating Characteristic\n",
    "\n",
    "* The Receiver Operating Characteristic or ROC curve shows the performance of a binary classifier system as its discrimination threshold is varied. \n",
    "* It is created by plotting the fraction of true positives out of the positives (TPR = true positive rate) vs. the fraction of false positives out of the negatives (FPR = false positive rate), at various threshold settings.\n",
    "* By computing the Area Under the Curve of the ROC curve we get a single number summary of accuracy.\n",
    "* The closer that number is to 1 the more accurate our model is. \n"
   ]
  },
  {
   "cell_type": "code",
   "execution_count": 35,
   "metadata": {
    "collapsed": false
   },
   "outputs": [
    {
     "name": "stderr",
     "output_type": "stream",
     "text": [
      "/anaconda/lib/python3.6/site-packages/sklearn/cross_validation.py:44: DeprecationWarning:\n",
      "\n",
      "This module was deprecated in version 0.18 in favor of the model_selection module into which all the refactored classes and functions are moved. Also note that the interface of the new CV iterators are different from that of this module. This module will be removed in 0.20.\n",
      "\n"
     ]
    },
    {
     "name": "stdout",
     "output_type": "stream",
     "text": [
      "LogisticRegression(C=1.0, class_weight=None, dual=False, fit_intercept=True,\n",
      "          intercept_scaling=1, max_iter=100, multi_class='ovr', n_jobs=1,\n",
      "          penalty='l2', random_state=None, solver='liblinear', tol=0.0001,\n",
      "          verbose=0, warm_start=False)\n"
     ]
    }
   ],
   "source": [
    "import pandas as pd\n",
    "#read the data\n",
    "titanic = pd.read_csv('../data/titanic.csv', index_col='PassengerId')\n",
    "#define the columns to read (x), and the target (y)\n",
    "feature_cols = ['Pclass', 'Parch']\n",
    "X = titanic[feature_cols]\n",
    "y = titanic.Survived\n",
    "#split the data\n",
    "from sklearn.cross_validation import train_test_split\n",
    "X_train, X_test, y_train, y_test = train_test_split(X, y, random_state=1)\n",
    "#fit the logreg model and print the coefficients\n",
    "from sklearn.linear_model import LogisticRegression\n",
    "logreg = LogisticRegression()\n",
    "logreg.fit(X_train, y_train)\n",
    "zip(feature_cols, logreg.coef_[0])\n",
    "print(logreg.fit(X_train, y_train))"
   ]
  },
  {
   "cell_type": "code",
   "execution_count": 36,
   "metadata": {
    "collapsed": false
   },
   "outputs": [
    {
     "name": "stdout",
     "output_type": "stream",
     "text": [
      "0.668161434978\n",
      "[[105  23]\n",
      " [ 51  44]]\n"
     ]
    }
   ],
   "source": [
    "#make predictions on testing set and test accuracy\n",
    "y_pred_class = logreg.predict(X_test)\n",
    "from sklearn import metrics\n",
    "print(metrics.accuracy_score(y_test, y_pred_class))\n",
    "#print the confusion matrix\n",
    "from sklearn import metrics\n",
    "prds = logreg.predict(X)\n",
    "print(metrics.confusion_matrix(y_test, y_pred_class))"
   ]
  },
  {
   "cell_type": "code",
   "execution_count": null,
   "metadata": {
    "collapsed": false
   },
   "outputs": [],
   "source": [
    "#generate the ROC curve\n",
    "import matplotlib.pyplot as plt\n",
    "# Generate the prediction values for each of the test observations using predict_proba() function rather than just predict\n",
    "preds = logreg.predict_proba(X_test)[:,1]\n",
    "# Store the false positive rate(fpr), true positive rate (tpr) in vectors for use in the graph\n",
    "fpr, tpr, _ = metrics.roc_curve(y_test, preds)\n",
    "# Store the Area Under the Curve (AUC) so we can annotate our graph with this metric\n",
    "roc_auc = metrics.auc(fpr,tpr)\n",
    "# Plot the ROC Curve\n",
    "plt.figure()\n",
    "lw = 2\n",
    "plt.plot(fpr, tpr, color='darkorange',\n",
    "         lw=lw, label='ROC curve (area = %0.2f)' % roc_auc)\n",
    "plt.plot([0, 1], [0, 1], color='navy', lw=lw, linestyle='--')\n",
    "plt.xlim([0.0, 1.0])\n",
    "plt.ylim([0.0, 1.05])\n",
    "plt.xlabel('False Positive Rate')\n",
    "plt.ylabel('True Positive Rate')\n",
    "plt.title('Receiver operating characteristic example')\n",
    "plt.legend(loc=\"lower right\")\n",
    "plt.show()\n",
    "# What's happening here is we are changing the cutoff value from 0 to 1.\n",
    "# When we have a cutoff of zero this means that we have no positive predictions so both fpr and tpr are both 0\n",
    "# Our aim when modelling is to maximise the area under the curve, the closer to one the better the model."
   ]
  },
  {
   "cell_type": "code",
   "execution_count": 40,
   "metadata": {
    "collapsed": false
   },
   "outputs": [
    {
     "name": "stdout",
     "output_type": "stream",
     "text": [
      "0.80269058296\n"
     ]
    },
    {
     "data": {
      "image/png": "[encoded data removed]",
      "text/plain": [
       "<matplotlib.figure.Figure at 0x11352ab00>"
      ]
     },
     "metadata": {},
     "output_type": "display_data"
    }
   ],
   "source": [
    "#split data into binaries where not binary\n",
    "titanic_with_dummies = pd.get_dummies(data=titanic, columns = ['Sex', 'Embarked', 'Pclass'], prefix = ['Sex', 'Embarked', 'Pclass'] )\n",
    "titanic_with_dummies['Age'] = titanic_with_dummies[['Age',\"Parch\",\"Sex_male\",'Pclass_1', 'Pclass_2']].groupby([\"Parch\",\"Sex_male\",'Pclass_1', 'Pclass_2'])['Age'].transform(lambda x: x.fillna(x.mean()))\n",
    "feature_cols = ['Parch', 'Sex_male', 'Sex_female', 'Pclass_1', 'Pclass_2', 'Pclass_3', 'Fare', 'Age']\n",
    "X = titanic_with_dummies[feature_cols]\n",
    "y = titanic_with_dummies.Survived\n",
    "X_train, X_test, y_train, y_test = train_test_split(X, y, random_state=1)\n",
    "logreg.fit(X_train, y_train)\n",
    "zip(feature_cols, logreg.coef_[0])\n",
    "y_pred_class = logreg.predict(X_test)\n",
    "print(metrics.accuracy_score(y_test, y_pred_class))\n",
    "preds = logreg.predict_proba(X_test)[:,1]\n",
    "fpr, tpr, _ = metrics.roc_curve(y_test, preds)\n",
    "roc_auc = metrics.auc(fpr,tpr)\n",
    "plt.figure()\n",
    "lw = 2\n",
    "plt.plot(fpr, tpr, color='darkorange',\n",
    "         lw=lw, label='ROC curve (area = %0.2f)' % roc_auc)\n",
    "plt.plot([0, 1], [0, 1], color='navy', lw=lw, linestyle='--')\n",
    "plt.xlim([0.0, 1.0])\n",
    "plt.ylim([0.0, 1.05])\n",
    "plt.xlabel('False Positive Rate')\n",
    "plt.ylabel('True Positive Rate')\n",
    "plt.title('Receiver operating characteristic example')\n",
    "plt.legend(loc=\"lower right\")\n",
    "plt.show()"
   ]
  },
  {
   "cell_type": "markdown",
   "metadata": {},
   "source": [
    "### KNN Classification"
   ]
  },
  {
   "cell_type": "code",
   "execution_count": null,
   "metadata": {
    "collapsed": false
   },
   "outputs": [],
   "source": [
    "from sklearn.neighbors import KNeighborsClassifier\n",
    "KNN_model = KNeighborsClassifier(5)\n",
    "KNN_model.fit(X_train, y_train)\n",
    "y_pred_class = KNN_model.predict(X_test)\n",
    "# Print the new accuracy rate\n",
    "print(metrics.accuracy_score(y_test, y_pred_class))"
   ]
  },
  {
   "cell_type": "code",
   "execution_count": null,
   "metadata": {
    "collapsed": false
   },
   "outputs": [],
   "source": [
    "from sklearn.naive_bayes import GaussianNB\n",
    "NB_model = GaussianNB()\n",
    "NB_model.fit(X_train, y_train)\n",
    "y_pred_class = NB_model.predict(X_test)\n",
    "# Print the new accuracy rate\n",
    "print(metrics.accuracy_score(y_test, y_pred_class))"
   ]
  },
  {
   "cell_type": "markdown",
   "metadata": {},
   "source": [
    "### Additional readings\n",
    "* Logistic Regression applied to loan applications https://github.com/nborwankar/LearnDataScience\n",
    "* Odds Ratio in Logistic Regression http://www.ats.ucla.edu/stat/mult_pkg/faq/general/odds_ratio.htm"
   ]
  },
  {
   "cell_type": "markdown",
   "metadata": {},
   "source": [
    "---"
   ]
  },
  {
   "cell_type": "markdown",
   "metadata": {},
   "source": [
    "## Week 3 Lesson 2\n",
    "## Model Evaluation\n",
    "6 - 8 June 2017"
   ]
  },
  {
   "cell_type": "markdown",
   "metadata": {},
   "source": [
    "### What is model evaluation?\n",
    "* Model evaluation is how we test whether our model works on new data."
   ]
  },
  {
   "cell_type": "markdown",
   "metadata": {},
   "source": [
    "### Why do we do model evaluation?\n",
    "* A model bsed on training data has a set error - the training error - for how well the model fits training data. This is a good way to see how the model fits _that_ data, but not all data. \n",
    "* We want to test other data on the model for a better measure of accuracy.\n",
    "* Without model evaluation, you run the risk of over-fitting the training data, which will have high accuracy for the training data but low accuracy for everything else.\n",
    "* This is what we call **bias**: if your model has too much bias, it will be accurate for the training data, but will be too closely fit to the data and so won't have the same accuracy for new data.\n",
    "* **Variance** is the opposite: if your model has too much variance, it won't be accurate for the training data, because it's not fit well enough.\n",
    "<img src=\"bias-and-variance.png\">"
   ]
  },
  {
   "cell_type": "code",
   "execution_count": null,
   "metadata": {
    "collapsed": true
   },
   "outputs": [],
   "source": [
    "import pandas as pd\n",
    "import numpy as np\n",
    "import seaborn as sns\n",
    "%matplotlib inline"
   ]
  },
  {
   "cell_type": "markdown",
   "metadata": {},
   "source": [
    "#### High Variance, Low Bias:"
   ]
  },
  {
   "cell_type": "code",
   "execution_count": null,
   "metadata": {
    "collapsed": false
   },
   "outputs": [],
   "source": [
    "df = pd.read_table('http://people.sc.fsu.edu/~jburkardt/datasets/regression/x01.txt', sep='\\s+', skiprows=33, names=['id','brain','body'], index_col='id')\n",
    "np.random.seed(12345)\n",
    "df = df[df.body < 200]\n",
    "df['sample'] = np.random.randint(1, 3, len(df))\n",
    "\n",
    "sns.lmplot(x='body', y='brain', data=df, ci=None, hue='sample')\n",
    "sns.plt.xlim(-10, 200)\n",
    "sns.plt.ylim(-10, 250)"
   ]
  },
  {
   "cell_type": "markdown",
   "metadata": {},
   "source": [
    "#### Low Variance, High Bias"
   ]
  },
  {
   "cell_type": "code",
   "execution_count": null,
   "metadata": {
    "collapsed": false
   },
   "outputs": [],
   "source": [
    "sns.lmplot(x='body', y='brain', data=df, ci=None, hue='sample', order=8)\n",
    "sns.plt.xlim(-10, 200)\n",
    "sns.plt.ylim(-10, 250)"
   ]
  },
  {
   "cell_type": "markdown",
   "metadata": {},
   "source": [
    "#### Good balance"
   ]
  },
  {
   "cell_type": "code",
   "execution_count": null,
   "metadata": {
    "collapsed": false
   },
   "outputs": [],
   "source": [
    "sns.lmplot(x='body', y='brain', data=df, ci=None, hue='sample', order=2)\n",
    "sns.plt.xlim(-10, 200)\n",
    "sns.plt.ylim(-10, 250)"
   ]
  },
  {
   "cell_type": "markdown",
   "metadata": {},
   "source": [
    "### How do we do model evaluation?\n",
    "* We do model evaluation by separating out training data and test data from our dataset, and using the training data to build the model. We then test its accuracy on test data. This is the out-of-sample error (OOS).\n",
    "* If we had a different training/test split, the OOS error would be different.\n",
    "* One way of improving this will be to use multiple splits for test and training data. Train the model with different splits of data, and test with the rest from that split.\n",
    "* This is called **cross-validation**."
   ]
  },
  {
   "cell_type": "code",
   "execution_count": null,
   "metadata": {
    "collapsed": false
   },
   "outputs": [],
   "source": [
    "#We'll be using logistic regression with Titanic dataset:\n",
    "import pandas as pd\n",
    "titanic = pd.read_csv('../data/titanic.csv', index_col='PassengerId')\n",
    "#Imputing values for Age:\n",
    "from sklearn.preprocessing import Imputer\n",
    "imp = Imputer(strategy='mean', axis=1)\n",
    "titanic['Age'] = imp.fit_transform(titanic.Age.values.reshape(1,-1)).T\n",
    "#Logreg on Age:\n",
    "feature_cols = ['Pclass', 'Parch','Age']\n",
    "X = titanic[feature_cols]\n",
    "y = titanic.Survived\n",
    "from sklearn.cross_validation import train_test_split\n",
    "X_train, X_test, y_train, y_test = train_test_split(X, y, random_state=1)\n",
    "from sklearn.linear_model import LogisticRegression\n",
    "logreg = LogisticRegression(C=1e9)\n",
    "logreg.fit(X_train, y_train)\n",
    "y_pred_class = logreg.predict(X_test)"
   ]
  },
  {
   "cell_type": "markdown",
   "metadata": {},
   "source": [
    "#### Cross-validation\n",
    "* Steps for K-fold cross-validation:\n",
    " 1. Randomly split the dataset into K equal partitions.\n",
    " 2. Use partition 1 as test set & union of other partitions as training set.\n",
    " 3. Calculate test set error.\n",
    " 4. Repeat steps 2-3 using a different partition as the test set at each iteration.\n",
    " 5. Take the average test set error as the estimate of OOS accuracy.\n",
    "* Features of K-fold cross-validation:\n",
    " 1. More accurate estimate of OOS prediction error.\n",
    " 2. More efficient use of data than single train/test split.\n",
    "   * Each record in our dataset is used for both training and testing.\n",
    " 3. Presents tradeoff between efficiency an computational expense.\n",
    "   * 10-fold CV is 10x more expensive than a single train/test split\n",
    " 4. Can be used for parameter tuning and model selection."
   ]
  },
  {
   "cell_type": "code",
   "execution_count": 37,
   "metadata": {
    "collapsed": false
   },
   "outputs": [
    {
     "name": "stdout",
     "output_type": "stream",
     "text": [
      "0.811659192825\n"
     ]
    }
   ],
   "source": [
    "titanicwd = pd.get_dummies(data=titanic, columns = ['Sex', 'Embarked', 'Pclass'], prefix = ['Sex', 'Embarked', 'Pclass'] )\n",
    "# Fill any null values of age by taking average by gender, class and parch\n",
    "titanicwd['Age']=titanicwd[[\"Age\",\"Parch\",\"Sex_male\",\"Pclass_1\",\"Pclass_2\"]].groupby([\"Parch\",\"Sex_male\",'Pclass_1', 'Pclass_2'])['Age'].transform(lambda x: x.fillna(x.mean()))\n",
    "from sklearn.linear_model import LogisticRegression\n",
    "from sklearn.cross_validation import train_test_split\n",
    "from sklearn import metrics\n",
    "from sklearn.cross_validation import cross_val_score\n",
    "feature_cols = ['Sex_male', 'Sex_female','Embarked_C','Embarked_Q','Embarked_S','Pclass_1', 'Pclass_2', 'Pclass_3','Parch', 'Age','SibSp']\n",
    "X = titanicwd[feature_cols]\n",
    "y = titanicwd.Survived\n",
    "\n",
    "X_train, X_test, y_train, y_test = train_test_split(X, y, random_state=1)\n",
    "logreg.fit(X_train, y_train)\n",
    "zip(feature_cols, logreg.coef_[0])\n",
    "y_pred_class = logreg.predict(X_test)\n",
    "\n",
    "print(metrics.accuracy_score(y_test, y_pred_class))"
   ]
  },
  {
   "cell_type": "code",
   "execution_count": 38,
   "metadata": {
    "collapsed": false
   },
   "outputs": [
    {
     "name": "stdout",
     "output_type": "stream",
     "text": [
      "[ 0.8         0.78888889  0.78651685  0.84269663  0.82022472  0.78651685\n",
      "  0.80898876  0.79775281  0.82022472  0.82954545]\n"
     ]
    }
   ],
   "source": [
    "scores = cross_val_score(LogisticRegression(), X, y, scoring='accuracy', cv=10)\n",
    "print(scores)"
   ]
  },
  {
   "cell_type": "code",
   "execution_count": 39,
   "metadata": {
    "collapsed": false
   },
   "outputs": [
    {
     "name": "stdout",
     "output_type": "stream",
     "text": [
      "0.808135569175\n"
     ]
    }
   ],
   "source": [
    "print(scores.mean())"
   ]
  },
  {
   "cell_type": "code",
   "execution_count": null,
   "metadata": {
    "collapsed": false
   },
   "outputs": [],
   "source": [
    "from sklearn import cross_validation\n",
    "from sklearn import linear_model\n",
    "mse_values = []\n",
    "scores = []\n",
    "n = 0\n",
    "\n",
    "feature_cols = ['Sex_male', 'Sex_female','Embarked_C','Embarked_Q','Embarked_S','Pclass_1', 'Pclass_2', 'Pclass_3',]\n",
    "modeldata = titanicwd[feature_cols]\n",
    "y = titanicwd.Survived \n",
    "\n",
    "kf = cross_validation.KFold(len(modeldata), n_folds=10, shuffle=True)\n",
    "\n",
    "print(\"~~~~ CROSS VALIDATION each fold ~~~~\")\n",
    "for train_index, test_index in kf:\n",
    "    lm = linear_model.LinearRegression().fit(modeldata.iloc[train_index], y.iloc[train_index])\n",
    "    mse_values.append(metrics.mean_squared_error(y.iloc[test_index], lm.predict(modeldata.iloc[test_index])))\n",
    "    scores.append(lm.score(modeldata, y))\n",
    "    n+=1\n",
    "    print ('Model', n)\n",
    "    print ('MSE:', mse_values[n-1])\n",
    "    print ('R2:', scores[n-1])\n",
    "\n",
    "\n",
    "print (\"~~~~ SUMMARY OF CROSS VALIDATION ~~~~\")\n",
    "print ('Mean of MSE for all folds:', np.mean(mse_values))\n",
    "print ('Mean of R2 for all folds:', np.mean(scores))"
   ]
  },
  {
   "cell_type": "markdown",
   "metadata": {},
   "source": [
    "#### Null accuracy\n",
    "* **Null accuracy** is the accuracy that could be achieved by always predicting the **most frequent class**. It is a baseline against which you may want to measure your classifier."
   ]
  },
  {
   "cell_type": "code",
   "execution_count": null,
   "metadata": {
    "collapsed": false
   },
   "outputs": [],
   "source": [
    "print (y_test.mean())\n",
    "print (1 - y_test.mean())"
   ]
  },
  {
   "cell_type": "code",
   "execution_count": null,
   "metadata": {
    "collapsed": false
   },
   "outputs": [],
   "source": [
    "from sklearn.dummy import DummyClassifier\n",
    "dumb = DummyClassifier(strategy='most_frequent')\n",
    "dumb.fit(X_train, y_train)\n",
    "y_dumb_class = dumb.predict(X_test)\n",
    "print (metrics.accuracy_score(y_test, y_dumb_class))"
   ]
  },
  {
   "cell_type": "markdown",
   "metadata": {},
   "source": [
    "#### Confusion matrix\n",
    "* Confusion Matrix is another way to evaluate a model. It is a table to describe the performance of a classifier.\n",
    "* **Sensitivity | Recall** = (number of true positives) | (true positives + false negatives - as in, number of all real positives)\n",
    "* **Specificity** = (number of true negatives) | (true negatives + false positives - as in number of all real negatives)"
   ]
  },
  {
   "cell_type": "code",
   "execution_count": null,
   "metadata": {
    "collapsed": false
   },
   "outputs": [],
   "source": [
    "# confusion matrix\n",
    "metrics.confusion_matrix(y_test, y_pred_class)"
   ]
  },
  {
   "cell_type": "code",
   "execution_count": null,
   "metadata": {
    "collapsed": false
   },
   "outputs": [],
   "source": [
    "#load confusion_matrix_nice.py\n",
    "#from confusion_matrix_nice import plot_confusion_matrix\n",
    "%run confusion_matrix_nice\n",
    "cnf_mat = metrics.confusion_matrix(y_test, y_pred_class, labels = titanic.Survived.unique())\n",
    "class_labels = titanic.Survived.unique()\n",
    "plt.figure()\n",
    "plot_confusion_matrix(cnf_mat, class_labels,\n",
    "                          normalize=False,\n",
    "                          title='Confusion matrix',\n",
    "                          cmap=plt.cm.Blues)\n",
    "plt.show()"
   ]
  },
  {
   "cell_type": "code",
   "execution_count": null,
   "metadata": {
    "collapsed": false
   },
   "outputs": [],
   "source": [
    "#sensitivity = TP / TP + FN\n",
    "#specificity = TN / TN + FP\n",
    "sensitivity=43/(43+52)\n",
    "specificity = 107/(107+21)\n",
    "print(sensitivity,specificity)"
   ]
  },
  {
   "cell_type": "code",
   "execution_count": null,
   "metadata": {
    "collapsed": false
   },
   "outputs": [],
   "source": [
    "y_pred_prob = logreg.predict_proba(X_test)[:, 1]\n",
    "%matplotlib inline\n",
    "import matplotlib.pyplot as plt\n",
    "plt.hist(y_pred_prob)\n",
    "plt.xlabel('Predicted probability of survival')\n",
    "plt.ylabel('Frequency')"
   ]
  },
  {
   "cell_type": "code",
   "execution_count": null,
   "metadata": {
    "collapsed": true
   },
   "outputs": [],
   "source": [
    "import numpy as np\n",
    "y_pred_class = np.where(y_pred_prob > 0.25, 1, 0)"
   ]
  },
  {
   "cell_type": "code",
   "execution_count": null,
   "metadata": {
    "collapsed": false
   },
   "outputs": [],
   "source": [
    "print (metrics.confusion_matrix(y_test, y_pred_class))"
   ]
  },
  {
   "cell_type": "code",
   "execution_count": null,
   "metadata": {
    "collapsed": false
   },
   "outputs": [],
   "source": [
    "sensitivity = 68 / (27 + 68)\n",
    "specificity = 57/ (57 + 71)\n",
    "print(sensitivity,specificity)"
   ]
  },
  {
   "cell_type": "markdown",
   "metadata": {},
   "source": [
    "#### Precision + recall\n",
    "* **Precision** = (number of true positives) | (true positives + false positives - as in number of all predicted positives)\n",
    "* **Sensitivity | Recall** = (number of true positives) | (true positives + false negatives - as in, number of all real positives)"
   ]
  },
  {
   "cell_type": "code",
   "execution_count": null,
   "metadata": {
    "collapsed": false
   },
   "outputs": [],
   "source": [
    "#Accuracy score returns the percent of true positives and true negatives samples (in decimal format with 1 being perfect)\n",
    "print('Accuracy score:',metrics.accuracy_score(y_test, y_pred_class))\n",
    "#Precision score returns the correctly identified \n",
    "# = # true positives / true positives + false positives:\n",
    "print('Precision score:',metrics.precision_score(y_test, y_pred_class))\n",
    "#Recall score returns the # of  positives correctly predicted \n",
    "# = # true positives / true positives + false negatives:\n",
    "print('Recall score:',metrics.recall_score(y_test,y_pred_class))\n",
    "# The F1 score can be interpreted as a weighted average of the precision and recall.\n",
    "# An F1 score reaches its best value at 1 and worst score at 0. \n",
    "# The relative contribution of precision and recall to the F1 score are equal. \n",
    "# F1 = 2 * (precision * recall) / (precision + recall)\n",
    "print('F1 score:',metrics.f1_score(y_test,y_pred_class))"
   ]
  },
  {
   "cell_type": "markdown",
   "metadata": {},
   "source": [
    "### Additional readings\n",
    "* Caltech's Learning From Data course visualising bias and variance (15 mins) http://work.caltech.edu/library/081.html\n",
    "* Rahul Patwari has a great video on ROC Curves (12 minutes)  https://www.youtube.com/watch?v=21Igj5Pr6u4\n",
    "* Have a look at scikit-learn’s documentation on model evaluation http://scikit-learn.org/stable/modules/model_evaluation.html"
   ]
  },
  {
   "cell_type": "markdown",
   "metadata": {},
   "source": [
    "---"
   ]
  },
  {
   "cell_type": "markdown",
   "metadata": {},
   "source": [
    "## Week 4 Lesson 1\n",
    "## Regularisation\n",
    "7 - 13 June 2017"
   ]
  },
  {
   "cell_type": "markdown",
   "metadata": {},
   "source": [
    "### Subset selection\n",
    "* We could fit a separate linear regression model for every combination of our features. But what happens when we have a large number of features? Computation time becomes a factor and we also need to consider that as we include more features we are increasing the chance we include a variable that doesn’t add any predictive power for future data. "
   ]
  },
  {
   "cell_type": "code",
   "execution_count": null,
   "metadata": {
    "collapsed": false
   },
   "outputs": [],
   "source": [
    "import pandas as pd\n",
    "crime = pd.read_csv('http://archive.ics.uci.edu/ml/machine-learning-databases/communities/communities.data', header=None, na_values=['?'])\n",
    "crime = crime.iloc[:, 5:]\n",
    "crime.dropna(inplace=True)\n",
    "crime.head()\n",
    "X = crime.iloc[:, :-1]\n",
    "y = crime.iloc[:, -1]\n",
    "from sklearn.model_selection import train_test_split\n",
    "X_train, X_test, y_train, y_test = train_test_split(X, y, random_state=1)\n",
    "from sklearn.linear_model import LinearRegression\n",
    "lm = LinearRegression()\n",
    "lm.fit(X_train, y_train)\n",
    "lm.coef_"
   ]
  },
  {
   "cell_type": "markdown",
   "metadata": {},
   "source": [
    "### Regularisation\n",
    "* Regularisation works by using a tuning parameter lambda or alpha that imposes a penalty on the size of coefficients.\n",
    "* Instead of minimizing the \"loss function\" (mean squared error), it minimizes the \"loss plus penalty\".\n",
    "* A tiny alpha imposes no penalty on the coefficient size, and is equivalent to a normal linear model.\n",
    "* Increasing the alpha penalizes the coefficients and shrinks them toward zero.\n",
    "\n",
    "* Recall from Week 2 that the ordinary least squares procedure estimates coefficients that minimise:\n",
    "<img src=\"RSS-equation-again.png\">\n",
    "* Regularization (or Shrinkage) is a way to constrain the estimates of beta to be close or equal to zero. "
   ]
  },
  {
   "cell_type": "code",
   "execution_count": null,
   "metadata": {
    "collapsed": false
   },
   "outputs": [],
   "source": [
    "import numpy as np\n",
    "from sklearn import metrics\n",
    "preds = lm.predict(X_test)\n",
    "print('RMSE (no regularization) =', np.sqrt(metrics.mean_squared_error(y_test, preds)))"
   ]
  },
  {
   "cell_type": "markdown",
   "metadata": {},
   "source": [
    "#### Ridge Regression regularisation\n",
    "* Ridge Regression is similar to least squares, except we include a penalty term, the λ term is a tuning parameter. \n",
    "* When it is zero we get least squares, as it increases the term, (the shrinkage penalty) has more of an impact and the coefficients will **approach** zero.\n",
    "<img src=\"ridge-regression.png\">\n"
   ]
  },
  {
   "cell_type": "code",
   "execution_count": null,
   "metadata": {
    "collapsed": false
   },
   "outputs": [],
   "source": [
    "from sklearn.linear_model import Ridge\n",
    "rreg = Ridge(alpha=0.1, normalize=True)\n",
    "rreg.fit(X_train, y_train)\n",
    "rreg.coef_\n",
    "preds = rreg.predict(X_test)\n",
    "print('RMSE (Ridge reg.) =', np.sqrt(metrics.mean_squared_error(y_test, preds)))\n",
    "# Is this model better? Why?\n",
    "# Yes, this model is a better result. It is removing those coefficients / columns that don't play a part in predicting the value of X.  "
   ]
  },
  {
   "cell_type": "code",
   "execution_count": null,
   "metadata": {
    "collapsed": false
   },
   "outputs": [],
   "source": [
    "# use RidgeCV to select best alpha\n",
    "from sklearn.linear_model import RidgeCV\n",
    "alpha_range = 10.**np.arange(-2, 3)\n",
    "rregcv = RidgeCV(normalize=True, scoring='neg_mean_squared_error', alphas=alpha_range)\n",
    "rregcv.fit(X_train, y_train)\n",
    "# Print the optimal value of Alpha for Ridge Regression\n",
    "print('Optimal Alpha Value: ', rregcv.alpha_)\n",
    "# Print the RMSE for the ridge regression model\n",
    "preds = rregcv.predict(X_test)\n",
    "print ('RMSE (Ridge CV reg.) =', np.sqrt(metrics.mean_squared_error(y_test, preds)))\n",
    "# What is the range of alpha values we are searching over?\n",
    "# We are searching from 0.01 (10^-2) and 1000 (10^3)"
   ]
  },
  {
   "cell_type": "markdown",
   "metadata": {},
   "source": [
    "#### Lasso Regression regularisation\n",
    "Lasso Regression is similar to Ridge Regression, except we have the absolute value of beta in our penalty term, the λ term is a tuning parameter. \n",
    "When it is zero we get least squares, as it increases the term, (the shrinkage penalty) has more of an impact and the coefficients will **equal** zero.\n",
    "<img src=\"lasso-regression.png\">"
   ]
  },
  {
   "cell_type": "markdown",
   "metadata": {},
   "source": [
    "<img src=\"comparelassoridge.png\">"
   ]
  },
  {
   "cell_type": "markdown",
   "metadata": {},
   "source": [
    "* Lasso regularization is useful if we believe many features are irrelevant, since a feature with a zero coefficient is essentially removed from the model. Thus, it is a useful technique for feature selection."
   ]
  },
  {
   "cell_type": "code",
   "execution_count": null,
   "metadata": {
    "collapsed": false
   },
   "outputs": [],
   "source": [
    "########## Lasso Regression Model ##########\n",
    "# lasso (alpha must be positive, larger means more regularization)\n",
    "from sklearn.linear_model import Lasso\n",
    "las = Lasso(alpha=0.01, normalize=True)\n",
    "las.fit(X_train, y_train)\n",
    "las.coef_\n",
    "preds = las.predict(X_test)\n",
    "print('RMSE (Lasso reg.) =', np.sqrt(metrics.mean_squared_error(y_test, preds)))"
   ]
  },
  {
   "cell_type": "code",
   "execution_count": null,
   "metadata": {
    "collapsed": false
   },
   "outputs": [],
   "source": [
    "# use LassoCV to select best alpha (tries 100 alphas by default)\n",
    "from sklearn.linear_model import LassoCV\n",
    "alpha_range = 10.**np.arange(-10, 10)\n",
    "lascv = LassoCV(normalize=True, alphas=alpha_range)\n",
    "lascv.fit(X_train, y_train)\n",
    "print('Optimal Alpha Value: ',lascv.alpha_)\n",
    "lascv.coef_\n",
    "preds = lascv.predict(X_test)\n",
    "print('RMSE (Lasso CV reg.) =', np.sqrt(metrics.mean_squared_error(y_test, preds)))"
   ]
  },
  {
   "cell_type": "markdown",
   "metadata": {},
   "source": [
    "#### ElasticNet"
   ]
  },
  {
   "cell_type": "code",
   "execution_count": null,
   "metadata": {
    "collapsed": false
   },
   "outputs": [],
   "source": [
    "from sklearn.linear_model import ElasticNet\n",
    "enet = ElasticNet(alpha=0.1, l1_ratio=0.7)\n",
    "enet.fit(X_train, y_train)\n",
    "enet.coef_\n",
    "preds=enet.predict(X_test)\n",
    "print('RMSE (ENET reg.)', np.sqrt(metrics.mean_squared_error(y_test, preds)))\n",
    "print('-----')\n",
    "\n",
    "from sklearn.linear_model import ElasticNetCV\n",
    "enetCV = ElasticNetCV(normalize=True, alphas=alpha_range)\n",
    "enetCV.fit(X_train, y_train)\n",
    "print('Optimal Alpha Value: ',enetCV.alpha_)\n",
    "enetCV.coef_\n",
    "preds = enetCV.predict(X_test)\n",
    "print('RMSE (ENET CV reg.)', np.sqrt(metrics.mean_squared_error(y_test, preds)))"
   ]
  },
  {
   "cell_type": "markdown",
   "metadata": {},
   "source": [
    "---"
   ]
  },
  {
   "cell_type": "markdown",
   "metadata": {},
   "source": [
    "## Week 4 Lesson 2\n",
    "## Clustering\n",
    "8 - 15 June 2017"
   ]
  },
  {
   "cell_type": "markdown",
   "metadata": {},
   "source": [
    "### What is clustering?\n",
    "* Recall unsupervised learning is when we are trying to find interesting patterns or groups in our data. We don’t have a variable we are trying to predict (a Y value).\n",
    "* Clustering aims to discover subgroups in our data where the points are similar to each other. So we have a collection of groups and all points belonging to the same group are similar. Points in different groups are different to each other.\n",
    "* We have to decide what variables we will construct the groups on. What makes them different (or similar)?"
   ]
  },
  {
   "cell_type": "markdown",
   "metadata": {},
   "source": [
    "### Why do we cluster data?\n",
    "* To enhance our understanding of a dataset by dividing the data into groups.\n",
    "* Clustering provides a layer of abstraction from individual data points.\n",
    "* The goal is to extract and enhance the natural structure of the data"
   ]
  },
  {
   "cell_type": "markdown",
   "metadata": {},
   "source": [
    "### How do we cluster data?\n",
    "\n"
   ]
  },
  {
   "cell_type": "markdown",
   "metadata": {},
   "source": [
    "#### K-means clustering\n",
    "1. Choose k initial centroids (note that k is an input):\n",
    " * randomly (but may yield divergent behavior)\n",
    " * perform alternative clustering task, use resulting centroids as initial k-means centroids\n",
    " * start with global centroid, choose point at max distance, repeat (but might select outlier)\n",
    "2. For each point:\n",
    " * find distance to each centroid\n",
    " * assign point to nearest centroid:\n",
    "  * The similarity criterion is determined by the measure we choose.\n",
    "  * In the case of k-means clustering, the similarity metric is the Euclidian distance:\n",
    "  <img src=\"euclidian-distance.png\">\n",
    "3. Recalculate centroid positions.\n",
    "4. Repeat steps 2-3 until stopping criteria met.\n",
    " * We iterate until some stopping criteria are met; in general, suitable convergence is achieved in a small number of steps. \n",
    " * Stopping criteria can be based on the centroids (eg, if positions change by no more than ε) or on the points (eg, if no more than x% change clusters between iterations).\n",
    " \n",
    "See this great visualisation: http://shabal.in/visuals/kmeans/6.html\n",
    "\n",
    "* Strengths: K-means is a popular algorithm because of its computational efficiency and simple and intuitive nature.\n",
    "* Weaknesses: However, K-means is highly scale dependent, and is not suitable for data with widely varying shapes and densities."
   ]
  },
  {
   "cell_type": "code",
   "execution_count": null,
   "metadata": {
    "collapsed": true
   },
   "outputs": [],
   "source": [
    "from sklearn.cluster import KMeans\n",
    "import matplotlib.pyplot as plt\n",
    "from sklearn import datasets\n",
    "import pandas as pd\n",
    "import numpy as np\n",
    "%matplotlib inline"
   ]
  },
  {
   "cell_type": "code",
   "execution_count": null,
   "metadata": {
    "collapsed": false
   },
   "outputs": [],
   "source": [
    "iris = datasets.load_iris()\n",
    "d = iris.data"
   ]
  },
  {
   "cell_type": "code",
   "execution_count": null,
   "metadata": {
    "collapsed": false
   },
   "outputs": [],
   "source": [
    "est = KMeans(n_clusters=3, init='random')\n",
    "est.fit(d)\n",
    "y_kmeans = est.predict(d)\n",
    "#plot it up with centres\n",
    "colors = np.array(['#FF0054','#FBD039','#23C2BC'])\n",
    "plt.figure()\n",
    "plt.scatter(d[:, 2], d[:, 0], c=colors[y_kmeans], s=50)\n",
    "plt.xlabel(iris.feature_names[2])\n",
    "plt.ylabel(iris.feature_names[0])\n",
    "plt.scatter(centers[:, 2], centers[:, 0], c='k', linewidths=3,\n",
    "            marker='+', s=300)"
   ]
  },
  {
   "cell_type": "markdown",
   "metadata": {},
   "source": [
    "### Cluster validation (the Silhouette Coefficient)\n",
    "* Cohesion measures clustering effectiveness within a cluster.\n",
    "<img src=\"cohesion.png\">\n",
    "* Separation measures clustering effectiveness between clusters.\n",
    "<img src=\"separation.png\">\n",
    "* A useful measure that combines the ideas of cohesion and separation is the silhouette coefficient. For point xi, this is given by: \n",
    "<img src=\"silhouette-coefficient.png\">\n",
    "* such that: \n",
    " * ai = average in-cluster distance to xi\n",
    " * bij = average between-cluster distance to xi\n",
    " * bi = minj(bij).\n",
    "* The silhouette coefficient can take values between -1 and 1.\n",
    "* In general, we want separation to be high and cohesion to be low. \n",
    "* This corresponds to a value of SC close to +1. A negative silhouette coefficient means the cluster radius is larger than the space between clusters, and thus clusters overlap\n",
    "* One useful application of cluster validation and the silhouette coefficient is to determine the best number of clusters for your dataset.  \n",
    "* Ultimately, cluster validation and clustering in general are suggestive techniques that rely on human interpretation to be meaningful."
   ]
  },
  {
   "cell_type": "code",
   "execution_count": null,
   "metadata": {
    "collapsed": false
   },
   "outputs": [],
   "source": [
    "from sklearn.cluster import KMeans\n",
    "import numpy as np\n",
    "from sklearn.datasets.samples_generator import make_blobs\n",
    "import matplotlib.pyplot as plt\n",
    "from sklearn import metrics\n",
    "\n",
    "np.random.seed(0)\n",
    "\n",
    "'''\n",
    "K = 2\n",
    "'''\n",
    "\n",
    "# Generate and Plot Dummy Data for k = 2\n",
    "centres = [[2, 0.75], [0, 0]]\n",
    "X0, labels0_true = make_blobs(n_samples=300, centers=centres[0], cluster_std=[[0.2,0.2]])\n",
    "X1, labels1_true = make_blobs(n_samples=300, centers=centres[1], cluster_std=[[0.2,0.2]])\n",
    "X = np.concatenate((X0,X1))\n",
    "labels_true = np.concatenate((labels0_true,labels1_true+1))\n",
    "colors = np.array(['#FF0054','#FBD039'])\n",
    "plt.figure(figsize=(12, 8))\n",
    "plt.suptitle('Cluster Validation Evaluation', fontsize=15)\n",
    "plt.subplot(331)\n",
    "plt.text(-0.5, 1.5, 'k=2', fontsize=14)\n",
    "for k, col in zip(range(2), colors):\n",
    "    my_members = labels_true == k\n",
    "    cluster_center = centres[k]\n",
    "    plt.scatter(X[my_members, 0], X[my_members, 1], c=col, marker='o',s=20) \n",
    "    plt.scatter(cluster_center[0], cluster_center[1], c=col, marker='o', s=200)\n",
    "plt.axis('equal')\n",
    "plt.title('Data with truth labels')\n",
    "plt.ylabel('y')"
   ]
  },
  {
   "cell_type": "code",
   "execution_count": null,
   "metadata": {
    "collapsed": false
   },
   "outputs": [],
   "source": [
    "k_rng = range(1,15)\n",
    "est = [KMeans(n_clusters = k).fit(X) for k in k_rng]\n",
    "silhouette_score = [metrics.silhouette_score(X, e.labels_, metric='euclidean') for e in est[1:]]\n",
    "plt.plot(k_rng[1:], silhouette_score, 'b*-')\n",
    "plt.xlim([1,15])\n",
    "plt.grid(True)\n",
    "plt.title('Silhouette Coefficient')\n",
    "plt.plot(2,silhouette_score[0], 'o', markersize=12, markeredgewidth=1.5,\n",
    "         markerfacecolor='None', markeredgecolor='r')"
   ]
  },
  {
   "cell_type": "code",
   "execution_count": null,
   "metadata": {
    "collapsed": false
   },
   "outputs": [],
   "source": [
    "# Calculate the within sum of squared errors for different values of K, highlighting k = 2\n",
    "within_sum_squares = [e.inertia_ for e in est]\n",
    "plt.plot(k_rng, within_sum_squares, 'b*-')\n",
    "plt.xlim([1,15])\n",
    "plt.grid(True)\n",
    "plt.title('Within Sum of Squared Errors')\n",
    "plt.plot(2,within_sum_squares[1], 'ro', markersize=12, markeredgewidth=1.5,\n",
    "         markerfacecolor='None', markeredgecolor='r')"
   ]
  },
  {
   "cell_type": "markdown",
   "metadata": {},
   "source": [
    "#### Limitations of K-Means\n",
    "\n",
    "Adapted from Bart Baddely's 2014 PyData Presentation: http://nbviewer.ipython.org/github/BartBaddeley/PyDataTalk-2014/blob/master/PyDataTalk.ipynb\n",
    "\n",
    "Agenda: \n",
    "1. K-means might not work when dimensions have different scales\n",
    "2. K-means might not work for non-spherical shapes\n",
    "3. K-means might not work for clusters of different sizes"
   ]
  },
  {
   "cell_type": "code",
   "execution_count": null,
   "metadata": {
    "collapsed": true
   },
   "outputs": [],
   "source": [
    "from sklearn.cluster import KMeans\n",
    "import numpy as np\n",
    "from sklearn.datasets.samples_generator import make_blobs, make_moons\n",
    "import matplotlib.pyplot as plt\n",
    "from sklearn.metrics.pairwise import euclidean_distances"
   ]
  },
  {
   "cell_type": "code",
   "execution_count": null,
   "metadata": {
    "collapsed": false
   },
   "outputs": [],
   "source": [
    "#1) DIMENSIONS WITH DIFFERENT SCALES\n",
    "\n",
    "# Generate data with differing variances\n",
    "np.random.seed(0)\n",
    "\n",
    "centres = [[1, 0.75], [1, -0.75], [0, 0]]\n",
    "\n",
    "X0, labels0_true = make_blobs(n_samples=300, centers=centres[0], cluster_std=[[0.6,0.1]])\n",
    "X1, labels1_true = make_blobs(n_samples=300, centers=centres[1], cluster_std=[[0.6,0.1]])\n",
    "X2, labels2_true = make_blobs(n_samples=300, centers=centres[2], cluster_std=[[0.6,0.1]])\n",
    "X = np.concatenate((X0,X1,X2))\n",
    "labels_true = np.concatenate((labels0_true,labels1_true+1,labels2_true+2))\n",
    "\n",
    "colors = np.array(['#FF0054','#FBD039','#23C2BC'])\n",
    "\n",
    "plt.figure(figsize=(12, 6))\n",
    "plt.suptitle('Dimensions with Different Scales', fontsize=15)\n",
    "for k, col in zip(range(3), colors):\n",
    "    my_members = labels_true == k\n",
    "    cluster_center = centres[k]\n",
    "    plt.scatter(X[my_members, 0], X[my_members, 1], c=col, marker='o',s=20) \n",
    "    plt.scatter(cluster_center[0], cluster_center[1], c=col, marker='o', s=200)\n",
    "plt.axis('equal')\n",
    "plt.title('Original data')\n",
    "\n",
    "# Compute clustering with 3 Clusters\n",
    "k_means_3 = KMeans(init='k-means++', n_clusters=3, n_init=10)\n",
    "k_means_3.fit(X)\n",
    "k_means_3_labels = k_means_3.labels_\n",
    "k_means_3_cluster_centres = k_means_3.cluster_centers_\n",
    "\n",
    "# Plot result\n",
    "distance = euclidean_distances(k_means_3_cluster_centres,\n",
    "                               centres,\n",
    "                               squared=True)\n",
    "order = distance.argmin(axis=0)\n",
    "for k, col in zip(range(3), colors):              \n",
    "    my_members = k_means_3_labels == order[k]\n",
    "    plt.scatter(X[my_members, 0], X[my_members, 1],c=col, marker='o', s=20)           \n",
    "    cluster_center = k_means_3_cluster_centres[order[k]]\n",
    "    plt.scatter(cluster_center[0], cluster_center[1], marker = 'o', c=col, s=200, alpha=0.8)            \n",
    "plt.axis('equal')\n",
    "plt.title('KMeans 3')"
   ]
  },
  {
   "cell_type": "code",
   "execution_count": null,
   "metadata": {
    "collapsed": false
   },
   "outputs": [],
   "source": [
    "#2: NON-SPHERICAL SHAPES\n",
    "\n",
    "[X, true_labels] = make_moons(n_samples=1000, noise=.05)\n",
    "\n",
    "plt.figure(figsize=(12, 6))\n",
    "plt.suptitle('Non-Spherical Shapes', fontsize=15)\n",
    "for k, col in zip(range(2), colors):\n",
    "    my_members = true_labels == k\n",
    "    plt.scatter(X[my_members, 0], X[my_members, 1], c=col, marker='o', s=20)\n",
    "\n",
    "plt.axis('equal')\n",
    "plt.title('Original Data') \n",
    "    \n",
    "# Compute clustering with 2 Clusters\n",
    "k_means_2 = KMeans(init='k-means++', n_clusters=2, n_init=10)\n",
    "k_means_2.fit(X)\n",
    "k_means_2_labels = k_means_2.labels_\n",
    "k_means_2_cluster_centers = k_means_2.cluster_centers_\n",
    "\n",
    "for k, col in zip(range(2), colors):           \n",
    "    my_members = k_means_2_labels == k\n",
    "    plt.scatter(X[my_members, 0], X[my_members, 1],c=col, marker='o', s=20)     \n",
    "    cluster_center = k_means_2_cluster_centers[k]\n",
    "    plt.scatter(cluster_center[0], cluster_center[1], marker = 'o', c=col, s=200, alpha=0.8) \n",
    "plt.axis('equal')\n",
    "plt.title('KMeans 2')"
   ]
  },
  {
   "cell_type": "code",
   "execution_count": null,
   "metadata": {
    "collapsed": false
   },
   "outputs": [],
   "source": [
    "#3: CLUSTERS OF DIFFERENT SIZES\n",
    "\n",
    "\n",
    "np.random.seed(0)\n",
    "\n",
    "centres = [[-1, 0], [1, 0], [3, 0]]\n",
    "\n",
    "X0, labels0_true = make_blobs(n_samples=100, centers=centres[0], cluster_std=[[0.2,0.2]])\n",
    "X1, labels1_true = make_blobs(n_samples=400, centers=centres[1], cluster_std=[[0.6,0.6]])\n",
    "X2, labels2_true = make_blobs(n_samples=100, centers=centres[2], cluster_std=[[0.2,0.2]])\n",
    "X = np.concatenate((X0,X1,X2))\n",
    "labels_true = np.concatenate((labels0_true,labels1_true+1,labels2_true+2))\n",
    "\n",
    "plt.figure(figsize=(12, 6))\n",
    "plt.suptitle('Clusters of Different Sizes', fontsize=15)\n",
    "for k, col in zip(range(3), colors):\n",
    "    my_members = labels_true == k\n",
    "    cluster_center = centres[k]\n",
    "    plt.scatter(X[my_members, 0], X[my_members, 1], c=col, marker='o',s=20) \n",
    "    plt.scatter(cluster_center[0], cluster_center[1], c=col, marker='o', s=200)\n",
    "plt.axis('equal')\n",
    "plt.title('Original data')\n",
    "\n",
    "# Compute clustering with 3 Clusters\n",
    "k_means_3 = KMeans(init='k-means++', n_clusters=3, n_init=10)\n",
    "k_means_3.fit(X)\n",
    "k_means_3_labels = k_means_3.labels_\n",
    "k_means_3_cluster_centres = k_means_3.cluster_centers_\n",
    "\n",
    "# Plot result\n",
    "distance = euclidean_distances(k_means_3_cluster_centres,\n",
    "                               centres,\n",
    "                               squared=True)\n",
    "order = distance.argmin(axis=0)\n",
    "for k, col in zip(range(3), colors):              \n",
    "    my_members = k_means_3_labels == order[k]\n",
    "    plt.scatter(X[my_members, 0], X[my_members, 1],c=col, marker='o', s=20)           \n",
    "    cluster_center = k_means_3_cluster_centres[order[k]]\n",
    "    plt.scatter(cluster_center[0], cluster_center[1], marker = 'o', c=col, s=200, alpha=0.8)            \n",
    "plt.axis('equal')\n",
    "plt.title('KMeans 3')"
   ]
  },
  {
   "cell_type": "markdown",
   "metadata": {},
   "source": [
    "#### DBSCAN clustering\n",
    "\n",
    "* Criteria:\n",
    " * ε (or Epsilon) is the radius \n",
    " * minPoints (number of points within the ε-Neighborhood required for classification)\n",
    "* DBSCAN iterates through every point\n",
    "* Core object is a point meeting the criteria.\n",
    "* Outlier is outside the radius.\n",
    "* Pros\n",
    " * Recovers more complex cluster shapes\n",
    " * Finds the number of clusters\n",
    " * Automatically find outliers\n",
    "* Cons\n",
    " * Requires a distance function\n",
    " * Not as scalable as K-means\n",
    " * Calculating connected components can be difficult"
   ]
  },
  {
   "cell_type": "code",
   "execution_count": null,
   "metadata": {
    "collapsed": true
   },
   "outputs": [],
   "source": [
    "from sklearn.cluster import DBSCAN\n",
    "from sklearn.datasets.samples_generator import make_blobs, make_moons\n",
    "import matplotlib.pyplot as plt"
   ]
  },
  {
   "cell_type": "code",
   "execution_count": null,
   "metadata": {
    "collapsed": true
   },
   "outputs": [],
   "source": [
    "#1) DIMENSIONS WITH DIFFERENT SCALES\n",
    "# Generate data with differing variances\n",
    "np.random.seed(0)\n",
    "\n",
    "centres = [[1, 0.75], [1, -0.75], [0, 0]]\n",
    "\n",
    "X0, labels0_true = make_blobs(n_samples=300, centers=centres[0], cluster_std=[[0.6,0.1]])\n",
    "X1, labels1_true = make_blobs(n_samples=300, centers=centres[1], cluster_std=[[0.6,0.1]])\n",
    "X2, labels2_true = make_blobs(n_samples=300, centers=centres[2], cluster_std=[[0.6,0.1]])\n",
    "X = np.concatenate((X0,X1,X2))\n",
    "labels_true = np.concatenate((labels0_true,labels1_true+1,labels2_true+2))\n",
    "\n",
    "colors = np.array(['#FF0054','#FBD039','#23C2BC'])\n",
    "\n",
    "plt.figure(figsize=(12, 6))\n",
    "plt.suptitle('Dimensions with Different Scales', fontsize=15)\n",
    "for k, col in zip(range(3), colors):\n",
    "    my_members = labels_true == k\n",
    "    cluster_center = centres[k]\n",
    "    plt.scatter(X[my_members, 0], X[my_members, 1], c=col, marker='o',s=20) \n",
    "    plt.scatter(cluster_center[0], cluster_center[1], c=col, marker='o', s=200)\n",
    "plt.axis('equal')\n",
    "plt.title('Original data')\n",
    "\n",
    "# Compute clustering with 3 Clusters\n",
    "db = DBSCAN(eps=0.2, min_samples=5)\n",
    "db.fit(X)\n",
    "labels = db.labels_\n",
    "core_samples_mask = np.zeros_like(db.labels_, dtype=bool)\n",
    "core_samples_mask[db.core_sample_indices_] = True\n",
    "\n",
    "db_csi = db.core_sample_indices_\n",
    "\n",
    "# Plot result\n",
    "n_clusters_ = len(set(labels)) - (1 if -1 in labels else 0)\n",
    "\n",
    "print('Estimated number of clusters: %d' % n_clusters_)\n",
    "print(\"Homogeneity: %0.3f\" % metrics.homogeneity_score(labels_true, labels))\n",
    "print(\"Completeness: %0.3f\" % metrics.completeness_score(labels_true, labels))\n",
    "print(\"V-measure: %0.3f\" % metrics.v_measure_score(labels_true, labels))\n",
    "print(\"Adjusted Rand Index: %0.3f\"\n",
    "      % metrics.adjusted_rand_score(labels_true, labels))\n",
    "print(\"Adjusted Mutual Information: %0.3f\"\n",
    "      % metrics.adjusted_mutual_info_score(labels_true, labels))\n",
    "print(\"Silhouette Coefficient: %0.3f\"\n",
    "      % metrics.silhouette_score(X, labels))\n",
    "\n",
    "unique_labels = set(labels)\n",
    "colors = [plt.cm.Spectral(each)\n",
    "          for each in np.linspace(0, 1, len(unique_labels))]\n",
    "for k, col in zip(unique_labels, colors):\n",
    "    class_member_mask = (labels == k)\n",
    "    xy = X[class_member_mask & core_samples_mask]\n",
    "    plt.plot(xy[:, 0], xy[:, 1], 'o',markersize=5)\n",
    "    xy = X[class_member_mask & ~core_samples_mask]\n",
    "    plt.plot(xy[:, 0], xy[:, 1], 'o', markersize=6)\n",
    "plt.title('Estimated number of clusters: %d' % n_clusters_)\n",
    "plt.show()"
   ]
  },
  {
   "cell_type": "code",
   "execution_count": null,
   "metadata": {
    "collapsed": true
   },
   "outputs": [],
   "source": [
    "#2: NON-SPHERICAL SHAPES\n",
    "\n",
    "[X, true_labels] = make_moons(n_samples=1000, noise=.05)\n",
    "\n",
    "plt.figure(figsize=(12, 6))\n",
    "plt.suptitle('Non-Spherical Shapes', fontsize=15)\n",
    "for k, col in zip(range(2), colors):\n",
    "    my_members = true_labels == k\n",
    "    plt.scatter(X[my_members, 0], X[my_members, 1], c=col, marker='o', s=20)\n",
    "\n",
    "plt.axis('equal')\n",
    "plt.title('Original Data') \n",
    "    \n",
    "db = DBSCAN(eps=0.2, min_samples=5)\n",
    "db.fit(X)\n",
    "labels = db.labels_\n",
    "core_samples_mask = np.zeros_like(db.labels_, dtype=bool)\n",
    "core_samples_mask[db.core_sample_indices_] = True\n",
    "\n",
    "# Plot result\n",
    "n_clusters_ = len(set(labels)) - (1 if -1 in labels else 0)\n",
    "\n",
    "print('Estimated number of clusters: %d' % n_clusters_)\n",
    "#print(\"Homogeneity: %0.3f\" % metrics.homogeneity_score(labels_true, labels))\n",
    "#print(\"Completeness: %0.3f\" % metrics.completeness_score(labels_true, labels))\n",
    "#print(\"V-measure: %0.3f\" % metrics.v_measure_score(labels_true, labels))\n",
    "#print(\"Adjusted Rand Index: %0.3f\"\n",
    "     # % metrics.adjusted_rand_score(labels_true, labels))\n",
    "#print(\"Adjusted Mutual Information: %0.3f\"\n",
    "      #% metrics.adjusted_mutual_info_score(labels_true, labels))\n",
    "print(\"Silhouette Coefficient: %0.3f\"\n",
    "      % metrics.silhouette_score(X, labels))\n",
    "\n",
    "unique_labels = set(labels)\n",
    "colors = [plt.cm.Spectral(each)\n",
    "          for each in np.linspace(0, 1, len(unique_labels))]\n",
    "for k, col in zip(unique_labels, colors):\n",
    "    class_member_mask = (labels == k)\n",
    "    xy = X[class_member_mask & core_samples_mask]\n",
    "    plt.plot(xy[:, 0], xy[:, 1], 'o',markersize=5)\n",
    "    xy = X[class_member_mask & ~core_samples_mask]\n",
    "    plt.plot(xy[:, 0], xy[:, 1], 'o', markersize=6)\n",
    "plt.title('Estimated number of clusters: %d' % n_clusters_)\n",
    "plt.show()"
   ]
  },
  {
   "cell_type": "code",
   "execution_count": null,
   "metadata": {
    "collapsed": false
   },
   "outputs": [],
   "source": [
    "#3: CLUSTERS OF DIFFERENT SIZES\n",
    "\n",
    "np.random.seed(0)\n",
    "\n",
    "centres = [[-1, 0], [1, 0], [3, 0]]\n",
    "\n",
    "X0, labels0_true = make_blobs(n_samples=100, centers=centres[0], cluster_std=[[0.2,0.2]])\n",
    "X1, labels1_true = make_blobs(n_samples=400, centers=centres[1], cluster_std=[[0.6,0.6]])\n",
    "X2, labels2_true = make_blobs(n_samples=100, centers=centres[2], cluster_std=[[0.2,0.2]])\n",
    "X = np.concatenate((X0,X1,X2))\n",
    "labels_true = np.concatenate((labels0_true,labels1_true+1,labels2_true+2))\n",
    "\n",
    "plt.figure(figsize=(12, 6))\n",
    "plt.suptitle('Clusters of Different Sizes', fontsize=15)\n",
    "for k, col in zip(range(3), colors):\n",
    "    my_members = labels_true == k\n",
    "    cluster_center = centres[k]\n",
    "    plt.scatter(X[my_members, 0], X[my_members, 1], c=col, marker='o',s=20) \n",
    "    plt.scatter(cluster_center[0], cluster_center[1], c=col, marker='o', s=200)\n",
    "plt.axis('equal')\n",
    "plt.title('Original data')\n",
    "\n",
    "\n",
    "db = DBSCAN(eps=0.15, min_samples=5)\n",
    "db.fit(X)\n",
    "labels = db.labels_\n",
    "core_samples_mask = np.zeros_like(db.labels_, dtype=bool)\n",
    "core_samples_mask[db.core_sample_indices_] = True\n",
    "\n",
    "# Plot result\n",
    "n_clusters_ = len(set(labels)) - (1 if -1 in labels else 0)\n",
    "\n",
    "print('Estimated number of clusters: %d' % n_clusters_)\n",
    "#print(\"Homogeneity: %0.3f\" % metrics.homogeneity_score(labels_true, labels))\n",
    "#print(\"Completeness: %0.3f\" % metrics.completeness_score(labels_true, labels))\n",
    "#print(\"V-measure: %0.3f\" % metrics.v_measure_score(labels_true, labels))\n",
    "#print(\"Adjusted Rand Index: %0.3f\"\n",
    "     # % metrics.adjusted_rand_score(labels_true, labels))\n",
    "#print(\"Adjusted Mutual Information: %0.3f\"\n",
    "      #% metrics.adjusted_mutual_info_score(labels_true, labels))\n",
    "print(\"Silhouette Coefficient: %0.3f\"\n",
    "      % metrics.silhouette_score(X, labels))\n",
    "\n",
    "unique_labels = set(labels)\n",
    "colors = [plt.cm.Spectral(each)\n",
    "          for each in np.linspace(0, 1, len(unique_labels))]\n",
    "for k, col in zip(unique_labels, colors):\n",
    "    class_member_mask = (labels == k)\n",
    "    xy = X[class_member_mask & core_samples_mask]\n",
    "    plt.plot(xy[:, 0], xy[:, 1], 'o',markersize=5)\n",
    "    xy = X[class_member_mask & ~core_samples_mask]\n",
    "    plt.plot(xy[:, 0], xy[:, 1], 'o', markersize=6)\n",
    "plt.title('Estimated number of clusters: %d' % n_clusters_)\n",
    "plt.show()"
   ]
  },
  {
   "cell_type": "markdown",
   "metadata": {},
   "source": [
    "#### Other clustering options\n",
    "<img src=\"clustering_options.png\">\n",
    "<img src=\"clustering-differences.png\">"
   ]
  },
  {
   "cell_type": "markdown",
   "metadata": {},
   "source": [
    "---"
   ]
  },
  {
   "cell_type": "markdown",
   "metadata": {},
   "source": [
    "## Week 5 Lesson 1\n",
    "## Recommendation Engines\n",
    "9 - 20 June 2017"
   ]
  },
  {
   "cell_type": "markdown",
   "metadata": {},
   "source": [
    "- Recommendation engines aims to match users to things (movies, songs, items, events, etc) they might enjoy but have not yet tried. The rating is produced by analysing other user/item ratings (and sometimes item characteristics) to provide personalised recommendations to users.\n",
    "- There are two general approaches to the design:"
   ]
  },
  {
   "cell_type": "markdown",
   "metadata": {},
   "source": [
    "### Content-based filtering\n",
    "- In content-based filtering, items are mapped into a feature space, and recommendations depend on item characteristics.\n",
    "- Content-based filtering begins by mapping each item into a feature space. Both users and items are represented by vectors in this space. \n",
    "- Item vectors measure the degree to which the item is described by each feature, and user vectors measure a user’s preferences for each feature.\n",
    "- Ratings are generated by taking dot products of user & item vectors.\n",
    "- Content-based filtering has some difficulties: \n",
    " - Must map items into a feature space (manual work)\n",
    " -  Recommendations are limited in scope (items must be similar to each other)\n",
    " - Hard to create cross-content recommendations (eg books/music films...this would require comparing elements from different feature spaces)"
   ]
  },
  {
   "cell_type": "markdown",
   "metadata": {},
   "source": [
    "<img src=\"collaborative_filtering.png\" width=400 align=right>\n",
    "### Collaborative filtering\n",
    "- In contrast, the only data under consideration in collaborative filtering are user-item ratings, and recommendations depend on user preferences.\n",
    "- Collaborative filtering refers to a family of methods for predicting ratings where instead of thinking about users and items in terms of a feature space, we are only interested in the existing user-item ratings themselves.\n",
    "- In this case, our dataset is a ratings matrix whose columns correspond to items, and whose rows correspond to users. This will be the general form of the data we analyse for collaborative filtering. The method relies on previous user-item ratings (or feedback).\n"
   ]
  },
  {
   "cell_type": "markdown",
   "metadata": {},
   "source": [
    "#### Cold-start problem\n",
    "- Collaborative filtering is susceptible to the Cold Start problem.\n",
    "- What happens if we don’t have any (or enough) reviews?\n",
    "- Until users rate several items, we don’t know anything about their preferences.\n",
    "- We can get around this by enhancing our recommendations using implicit feedback, which may include things like item browsing behaviour, search patterns, purchase history, etc. Or by using a hybrid model."
   ]
  },
  {
   "cell_type": "markdown",
   "metadata": {},
   "source": [
    "#### Jaccard Similarity:\n",
    "- Defines similarity between two sets of objects.\n",
    "<img src=\"jacard-similarity.png\">"
   ]
  },
  {
   "cell_type": "markdown",
   "metadata": {},
   "source": [
    "#### Measuring error\n",
    "<img src=\"measuring-error.png\" align=left>"
   ]
  },
  {
   "cell_type": "markdown",
   "metadata": {},
   "source": [
    "#### Explicit vs Implicit Data\n",
    "- Explicit data is when you ask the user to rate something, e.g. 1-5 star rating for a movie.\n",
    "- Implicit data is when you observe a users behaviour and record."
   ]
  },
  {
   "cell_type": "markdown",
   "metadata": {},
   "source": [
    "#### Algorithms for Recommendations\n",
    "- Alternating Least Squares (ALS) \n",
    "- Stochastic Gradient Descent (SGD) \n",
    "- Singular Value Decomposition (SVD) \n",
    "- Factorization Machine (FM) \n",
    "- Collaborative Less is More Filtering (CLiMF)"
   ]
  },
  {
   "cell_type": "code",
   "execution_count": null,
   "metadata": {
    "collapsed": false
   },
   "outputs": [],
   "source": [
    "!pip install scikit-surprise"
   ]
  },
  {
   "cell_type": "code",
   "execution_count": null,
   "metadata": {
    "collapsed": false
   },
   "outputs": [],
   "source": [
    "# Load Surprise\n",
    "from surprise import SVD\n",
    "from surprise import Dataset\n",
    "from surprise import evaluate, print_perf\n",
    "from surprise import Reader"
   ]
  },
  {
   "cell_type": "code",
   "execution_count": null,
   "metadata": {
    "collapsed": false
   },
   "outputs": [],
   "source": [
    "reader = Reader(line_format='user item rating timestamp', sep='\\t')\n",
    "\n",
    "data = Dataset.load_from_file(file_path = '../data/u.data', reader=reader)\n",
    "data.split(n_folds=3)\n",
    "\n",
    "algo = SVD()\n",
    "perf = evaluate(algo, data, measures=['RMSE', 'MAE'])\n",
    "print_perf(perf)"
   ]
  },
  {
   "cell_type": "code",
   "execution_count": null,
   "metadata": {
    "collapsed": false
   },
   "outputs": [],
   "source": [
    "# 3. Make individual recommendations\n",
    "uid = str(196)  # raw user id (as in the ratings file). They are **strings**!\n",
    "iid = str(302)  # raw item id (as in the ratings file). They are **strings**!\n",
    "\n",
    "# get a prediction for specific users and items.\n",
    "pred = algo.predict(uid, iid, r_ui=2, verbose=True)"
   ]
  },
  {
   "cell_type": "code",
   "execution_count": null,
   "metadata": {
    "collapsed": true
   },
   "outputs": [],
   "source": [
    "#Other recommendation algorithms:\n",
    "#random_pred.NormalPredictor    Algorithm predicting a random rating based on the distribution of the training set, which is assumed to be normal.\n",
    "#baseline_only.BaselineOnly    Algorithm predicting the baseline estimate for given user and item.\n",
    "#knns.KNNBasic    A basic collaborative filtering algorithm.\n",
    "#knns.KNNWithMeans    A basic collaborative filtering algorithm, taking into account the mean ratings of each user.\n",
    "#knns.KNNBaseline    A basic collaborative filtering algorithm taking into account a baseline rating.\n",
    "#matrix_factorization.SVD    The famous SVD algorithm, as popularized by Simon Funk during the Netflix Prize.\n",
    "#matrix_factorization.SVDpp    The SVD++ algorithm, an extension of SVD taking into account implicit ratings.\n",
    "#matrix_factorization.NMF    A collaborative filtering algorithm based on Non-negative Matrix Factorization.\n",
    "#slope_one.SlopeOne    A simple yet accurate collaborative filtering algorithm.\n",
    "#co_clustering.CoClustering    A collaborative filtering algorithm based on co-clustering."
   ]
  },
  {
   "cell_type": "markdown",
   "metadata": {},
   "source": [
    "---"
   ]
  },
  {
   "cell_type": "markdown",
   "metadata": {},
   "source": [
    "## Week 5 Lesson 2\n",
    "## Databases + SQL in Python\n",
    "10 - 22 June 2017"
   ]
  },
  {
   "cell_type": "markdown",
   "metadata": {},
   "source": [
    "### Databases\n",
    "- Databases are computer systems that manage storage and querying of data. Databases provide a way to organise data along with efficient methods to retrieve specific information.\n",
    "- Typically, retrieval is performed using a query language, a mini programming syntax with a few basic operators for data transformation, the most common of which is SQL.\n",
    "- Databases are the standard solution for data storage and are much more robust than text, CSV or json files. Most analyses involve pulling data to and from a resource and in most settings, that means using a database.\n",
    "- Databases can come in many flavours, designed to serve for different use cases.\n",
    "- Databases are ‘modelled’ to suit their intended purpose. \n",
    "\n",
    "#### Relational databases and schema\n",
    "- A relational database is a database based tabular data and links between data entities or concepts.\n",
    "- A relational database is organised into tables. Each table should correspond to one entity or concept.\n",
    "- A table is made up rows and columns, similar to a Pandas dataframe or Excel spreadsheet.\n",
    "- A table also has a schema which is a set of rules for what goes in each table. These specify what columns are contained in the table and what type those columns are (text, integers, floats, etc.).\n",
    "\n",
    "#### Primary and foreign keys\n",
    "- Each table typically has a primary key column. This column is a unique value per row and serves as the identifier for the row.\n",
    "- A table can have many foreign keys as well. A foreign key is a column that contains values to link the table to the other tables.\n",
    "\n",
    "#### Transactions\n",
    "- A unit of work performed against a database is called a transaction. This term generally represents any change in database.\n",
    "- ACID is a set of properties that guarantee that database transactions are processed reliably.\n",
    " - Atomicity \"all or nothing\": if one part of the transaction fails, the entire transaction fails, and the database state is left unchanged.\n",
    " - Consistency ensures that any transaction will bring the database from one valid state to another.\n",
    " - Isolation ensures that the concurrent execution of transactions results in a system state that would be obtained if transactions were executed serially, i.e., one after the other.\n",
    " - Durability ensures that once a transaction has been committed, it will remain so, even in the event of power loss, crashes, or errors."
   ]
  },
  {
   "cell_type": "markdown",
   "metadata": {},
   "source": [
    "### The sqlite3 package\n",
    "- The command line utility can be useful for basic SQL tasks, but since we're using python for the rest of code it will often be easier to access sqlite directly from within python. We can use the python sqlite3 package for just this purpose.\n",
    "- Open a connection to an SQLite database file. As before, if the file does not already exist it will automatically be created."
   ]
  },
  {
   "cell_type": "code",
   "execution_count": null,
   "metadata": {
    "collapsed": false
   },
   "outputs": [],
   "source": [
    "import sqlite3\n",
    "sqlite_db = 'test_db.sqlite'\n",
    "conn = sqlite3.connect(sqlite_db) \n",
    "c = conn.cursor()"
   ]
  },
  {
   "cell_type": "markdown",
   "metadata": {},
   "source": [
    "- The syntax to create a table is similar to the console, only now we use the execute method of the cursor object c that we just created:"
   ]
  },
  {
   "cell_type": "code",
   "execution_count": null,
   "metadata": {
    "collapsed": false
   },
   "outputs": [],
   "source": [
    "c.execute('CREATE TABLE houses (field1 INTEGER PRIMARY KEY, sqft INTEGER, bdrms INTEGER, age INTEGER, price INTEGER);')\n",
    "\n",
    "# Save (commit) the changes\n",
    "conn.commit()"
   ]
  },
  {
   "cell_type": "markdown",
   "metadata": {},
   "source": [
    "With the database saved the table should now be viewable using SQLite Manager.\n",
    "\n",
    "#### Adding data\n",
    "\n",
    "Since we're back in python, we can now use regular programming techniques in conjunction with the sqlite connection.  In particular, the cursor's `execute()` method supports value substitutionusing the `?` character, which makes adding multiple records a bit easier.  See the [docs](https://docs.python.org/2.7/library/sqlite3.html) for more details."
   ]
  },
  {
   "cell_type": "code",
   "execution_count": null,
   "metadata": {
    "collapsed": true
   },
   "outputs": [],
   "source": [
    "last_sale = (None, 4000, 5, 22, 619000)\n",
    "c.execute('INSERT INTO houses VALUES (?,?,?,?,?)',last_sale)\n",
    "\n",
    "# Remember to commit the changes\n",
    "conn.commit()"
   ]
  },
  {
   "cell_type": "markdown",
   "metadata": {},
   "source": [
    "- Notice that in this syntax we use the python None value, rather than NULL, to trigger SQLite to auto-increment the Primary Key.\n",
    "- There is a related cursor method executemany() which takes an array of tuples and loops through them, substituting one tuple at a time."
   ]
  },
  {
   "cell_type": "code",
   "execution_count": null,
   "metadata": {
    "collapsed": true
   },
   "outputs": [],
   "source": [
    "recent_sales = [\n",
    "  (None, 2390, 4, 34, 319000),\n",
    "  (None, 1870, 3, 14, 289000),\n",
    "  (None, 1505, 3, 90, 269000),\n",
    "]\n",
    "\n",
    "c.executemany('INSERT INTO houses VALUES (?, ?, ?, ?, ?)', recent_sales)\n",
    "\n",
    "conn.commit()"
   ]
  },
  {
   "cell_type": "code",
   "execution_count": null,
   "metadata": {
    "collapsed": false
   },
   "outputs": [],
   "source": [
    "c.execute('select * from houses').fetchall()"
   ]
  },
  {
   "cell_type": "markdown",
   "metadata": {},
   "source": [
    "#### Adding data from a csv file\n",
    "- Next let's load our housing.csv data into an array, and then INSERT those records into the database. In this example we'll use the numpy genfromtxt function to read the file and parse the contents."
   ]
  },
  {
   "cell_type": "code",
   "execution_count": null,
   "metadata": {
    "collapsed": false
   },
   "outputs": [],
   "source": [
    "from numpy import genfromtxt\n",
    "\n",
    "# import into nparray of ints, then convert to list of lists\n",
    "data = genfromtxt('../data/housing-data.csv', dtype='i8', delimiter=',', skip_header=1).tolist()\n",
    "\n",
    "# append a None value to beginning of each sub-list\n",
    "for d in data:\n",
    "    d.insert(0, None)\n",
    "\n",
    "for d in data:\n",
    "    c.execute('INSERT INTO houses VALUES (?, ?, ?, ?, ?)', d)\n",
    "\n",
    "conn.commit()"
   ]
  },
  {
   "cell_type": "markdown",
   "metadata": {},
   "source": [
    "- Remember that all elements in a numpy array must be the same data type, so if we want to 'add a None' to each row, we need to work around this. Lists can contain mixed types, so that is one approach.\n",
    "- Still, in this case the value we're adding is the same for all records, so we could have simply used a 'None' in the INSERT statement directly."
   ]
  },
  {
   "cell_type": "markdown",
   "metadata": {},
   "source": [
    "#### Deleting data "
   ]
  },
  {
   "cell_type": "code",
   "execution_count": null,
   "metadata": {
    "collapsed": false
   },
   "outputs": [],
   "source": [
    "# similar syntax as before\n",
    "results = c.execute(\"SELECT * FROM houses WHERE bdrms = 4\")\n",
    "\n",
    "# here results is a cursor object - use fetchall() to extract a list\n",
    "results.fetchall()"
   ]
  },
  {
   "cell_type": "markdown",
   "metadata": {},
   "source": [
    "#### Pandas connector\n",
    "\n",
    "- While databases provide many analytical capabilities, often it's useful to pull the data back into Python for more flexible programming. Large, fixed operations would be more efficient in a database, but Pandas allows for interactive processing.\n",
    "- For example, if you want to aggregate nightly log-ins or sales to present a report or dashboard, this operation is likely not changing and operating on a large dataset. This can run very efficiently in a database rather than by connecting to it with Python.\n",
    "- However, if we want to investigate login or sales data further and ask more interactive questions, then Python would be more practical.\n",
    "- Pandas can connect to most relational databases. In this demonstration, we will create and connect to a SQLite database.\n",
    "- SQLite creates portable SQL databases saved in a single file. These databases are stored in a very efficient manner and allow fast querying, making them ideal for small databases or databases that need to be moved across machines."
   ]
  },
  {
   "cell_type": "code",
   "execution_count": null,
   "metadata": {
    "collapsed": true
   },
   "outputs": [],
   "source": [
    "import pandas as pd\n",
    "from pandas.io import sql"
   ]
  },
  {
   "cell_type": "markdown",
   "metadata": {},
   "source": [
    "### Writing data into a database\n",
    "\n",
    "Data in Pandas can be loaded into a relational database. For the most part, Pandas can use column information to infer the schema for the table it creates."
   ]
  },
  {
   "cell_type": "code",
   "execution_count": null,
   "metadata": {
    "collapsed": false
   },
   "outputs": [],
   "source": [
    "import pandas as pd\n",
    "\n",
    "data = pd.read_csv('../data/housing-data.csv', low_memory=False)\n",
    "data.head()"
   ]
  },
  {
   "cell_type": "markdown",
   "metadata": {},
   "source": [
    "Data is moved to the database through the to_sql command, similar to the to_csv command.\n",
    "to_sql takes as arguments:\n",
    "- `name`, the table name to create\n",
    "- `con`, a connection to a database\n",
    "- `index`, whether to input the index column\n",
    "- `schema`, if we want to write a custom schema for the new table\n",
    "- `if_exists`, what to do if the table already exists. We can overwrite it, add to it, or fail"
   ]
  },
  {
   "cell_type": "code",
   "execution_count": null,
   "metadata": {
    "collapsed": true
   },
   "outputs": [],
   "source": [
    "data.to_sql('houses_pandas',\n",
    "            con=conn,\n",
    "            if_exists='replace',\n",
    "            index=False)"
   ]
  },
  {
   "cell_type": "code",
   "execution_count": null,
   "metadata": {
    "collapsed": false
   },
   "outputs": [],
   "source": [
    "c.execute('select bdrms, avg(price) from houses_pandas group by bdrms').fetchall()"
   ]
  },
  {
   "cell_type": "markdown",
   "metadata": {},
   "source": [
    "<a name=\"guided-practice\"></a>\n",
    "\n",
    "\n",
    "### SQL Syntax \n",
    "\n",
    "\n",
    "###### Select\n",
    "Every query should start with `SELECT`.  `SELECT` is followed by the names of the columns in the output.\n",
    "\n",
    "`SELECT` is always paired with `FROM`, and `FROM` identifies the table to retrieve data from.\n",
    "\n",
    "```sql\n",
    "SELECT\n",
    "<columns>\n",
    "FROM\n",
    "<table>\n",
    "```\n",
    "\n",
    "`SELECT *` denotes returns *all* of the columns.\n",
    "\n",
    "Housing Data example:\n",
    "```sql\n",
    "SELECT\n",
    "sqft, bdrms\n",
    "FROM houses_pandas;\n",
    "```\n",
    "\n",
    "**Check:** Write a query that returns the `sqft`, `bdrms` and `price`.\n",
    ">\n",
    "```sql\n",
    "SELECT\n",
    "sqft, bdrms, price\n",
    "FROM houses_pandas;\n",
    "```\n",
    "\n",
    "##### Where\n",
    "\n",
    "`WHERE` is used to filter table to a specific criteria and follows the `FROM` clause.\n",
    "\n",
    "```sql\n",
    "SELECT\n",
    "<columns>\n",
    "FROM\n",
    "<table>\n",
    "WHERE\n",
    "<condition>\n",
    "```\n",
    "Example:\n",
    "```sql\n",
    "SELECT\n",
    "sqft, bdrms, age, price\n",
    "FROM houses_pandas\n",
    "WHERE bdrms = 2 and price < 250000;\n",
    "```\n",
    "\n",
    "The condition is some filter applied to the rows, where rows that match the condition will be in the output.\n",
    "\n",
    "**Check:** Write a query that returns the `sqft`, `bdrms`, `age` for when houses older than 60 years."
   ]
  },
  {
   "cell_type": "markdown",
   "metadata": {},
   "source": [
    "##### Aggregations\n",
    "\n",
    "Aggregations (or aggregate functions) are functions where the values of multiple rows are grouped together as input on certain criteria to form a single value of more significant meaning or measurement such as a set, a bag or a list.\n",
    "\n",
    "Examples of aggregate funtions:\n",
    "\n",
    "- Average (i.e., arithmetic mean)\n",
    "- Count\n",
    "- Maximum\n",
    "- Minimum\n",
    "- Median\n",
    "- Mode\n",
    "- Sum\n",
    "\n",
    "In SQL they are performed in a `SELECT` statement as follows.\n",
    "\n",
    "```sql\n",
    "SELECT COUNT(price)\n",
    "FROM houses_pandas;\n",
    "```\n",
    "\n",
    "```sql\n",
    "SELECT AVG(sqft), MIN(price), MAX(price)\n",
    "FROM houses_pandas\n",
    "WHERE bdrms = 2;\n",
    "```"
   ]
  },
  {
   "cell_type": "markdown",
   "metadata": {},
   "source": [
    "##### Joins\n",
    "\n",
    "Below is a link to a handy reference for SQL joins. In this chart joins are represented in terms of sets and venn diagrams. \n",
    "https://www.codeproject.com/Articles/33052/Visual-Representation-of-SQL-Joins\n",
    "\n",
    "Alternatively, remember the merge functionality of pandas.\n",
    "https://github.com/pandas-dev/pandas/blob/master/doc/cheatsheet/Pandas_Cheat_Sheet.pdf"
   ]
  },
  {
   "cell_type": "code",
   "execution_count": null,
   "metadata": {
    "collapsed": false
   },
   "outputs": [],
   "source": [
    "import sqlite3\n",
    "conn = sqlite3.connect('../data/enron.db') \n",
    "c = conn.cursor()\n",
    "c.execute(\"SELECT name FROM sqlite_master WHERE type='table';\").fetchall()\n",
    "fields = c.execute(\"SELECT sql from sqlite_master WHERE type='table' and name='MessageBase';\").fetchall()\n",
    "print (''.join(fields[0]))\n",
    "fields = c.execute(\"SELECT sql from sqlite_master WHERE type='table' and name='RecipientBase';\").fetchall()\n",
    "print (''.join(fields[0]))\n",
    "fields = c.execute(\"SELECT sql from sqlite_master WHERE type='table' and name='EmployeeBase';\").fetchall()\n",
    "print (''.join(fields[0]))\n",
    "\n",
    "results = c.execute(\"SELECT * FROM EmployeeBase LIMIT 5;\").fetchall()\n",
    "for row in results:\n",
    "    print (row)\n",
    "\n",
    "import pandas as pd\n",
    "employees = pd.read_sql(\"SELECT * FROM EmployeeBase;\", conn)\n",
    "recipients = pd.read_sql(\"SELECT * FROM RecipientBase;\", conn)\n",
    "messages = pd.read_sql(\"SELECT * FROM MessageBase;\", conn)\n",
    "\n",
    "employees.describe()\n",
    "\n",
    "#representing data\n",
    "import scipy.special\n",
    "from bokeh.layouts import gridplot\n",
    "from bokeh.plotting import figure, output_notebook, show\n",
    "p1 = figure(title=\"Distribution of Recipients\",tools=\"save\")\n",
    "hist, edges = np.histogram(recipients.rno, density=False, bins=10)\n",
    "x = np.arange(0,57)\n",
    "p1.quad(top=hist, bottom=0, left=edges[:10], right=edges[1:], fill_color=\"#008080\")\n",
    "p1.legend.location = \"center_right\"\n",
    "p1.xaxis.axis_label = 'No of Recipients'\n",
    "p1.yaxis.axis_label = 'Messages'\n",
    "output_notebook()\n",
    "show(p1)\n",
    "\n",
    "#Pandas merge\n",
    "rm = pd.merge(recipients,messages,on=\"mid\")\n",
    "rme = pd.merge(rm,employees,left_on=\"from_eid\",right_on=\"eid\")"
   ]
  },
  {
   "cell_type": "markdown",
   "metadata": {},
   "source": [
    "### Additional resources\n",
    "- [sqlite3 home](http://www.sqlite.org)  \n",
    "- [SQLite - Python tutorial](http://sebastianraschka.com/Articles/2014_sqlite_in_python_tutorial.html)  \n",
    "- [SQL zoo](http://www.sqlzoo.net)  Great for learning syntax"
   ]
  },
  {
   "cell_type": "markdown",
   "metadata": {},
   "source": [
    "---"
   ]
  },
  {
   "cell_type": "markdown",
   "metadata": {},
   "source": [
    "## Week 6 Lesson 1\n",
    "## Decision trees\n",
    "11 - 27 June 2017"
   ]
  },
  {
   "cell_type": "markdown",
   "metadata": {},
   "source": [
    "### What are decisions trees?\n",
    "- A supervised learning technique that can be used for classification or regression. \n",
    "- Scans for a feature to split on that results in the greatest separation between classes in the resulting nodes."
   ]
  },
  {
   "cell_type": "markdown",
   "metadata": {},
   "source": [
    "### Why use decision trees?\n",
    "- Visually engaging and easy to interpret.\n",
    "- Foundation for getting into very powerful techniques. \n",
    "- But prone to overfitting.\n",
    "- Predictive power is lower in comparison to many other modern techniques."
   ]
  },
  {
   "cell_type": "markdown",
   "metadata": {},
   "source": [
    "### How do decision trees work?\n",
    "- Decision trees work by scanning for a feature to split on that results in the greatest separation between classes in the resulting nodes. This can be measured by the Gini index:\n",
    "<img src=\"gini-index.png\" width=500>\n",
    "- Decision trees are not linear, and they don't draw a linear trend in the data. It's more like they cut the data up:\n",
    "<img src=\"non-linear-trees.png\" width=500>\n",
    "- For a classification tree, we predict that each observation belongs to the most commonly occurring class of training observations in the region to which it belongs. \n",
    "- http://www.r2d3.us/visual-intro-to-machine-learning-part-1/"
   ]
  },
  {
   "cell_type": "code",
   "execution_count": 8,
   "metadata": {
    "collapsed": true
   },
   "outputs": [],
   "source": [
    "from sklearn import tree\n",
    "import pandas as pd\n",
    "import numpy as np\n",
    "from sklearn.model_selection import train_test_split\n",
    "from sklearn import metrics\n",
    "import matplotlib.pyplot as plt\n",
    "import seaborn as sns\n",
    "\n",
    "%matplotlib inline"
   ]
  },
  {
   "cell_type": "code",
   "execution_count": 9,
   "metadata": {
    "collapsed": false
   },
   "outputs": [
    {
     "name": "stdout",
     "output_type": "stream",
     "text": [
      "['sales' 'accounting' 'hr' 'technical' 'support' 'management' 'IT'\n",
      " 'product_mng' 'marketing' 'RandD']\n",
      "['low' 'medium' 'high']\n"
     ]
    },
    {
     "data": {
      "text/html": [
       "<div>\n",
       "<table border=\"1\" class=\"dataframe\">\n",
       "  <thead>\n",
       "    <tr style=\"text-align: right;\">\n",
       "      <th></th>\n",
       "      <th>satisfaction_level</th>\n",
       "      <th>last_evaluation</th>\n",
       "      <th>number_project</th>\n",
       "      <th>average_montly_hours</th>\n",
       "      <th>time_spend_company</th>\n",
       "      <th>Work_accident</th>\n",
       "      <th>left</th>\n",
       "      <th>promotion_last_5years</th>\n",
       "      <th>sales_IT</th>\n",
       "      <th>sales_RandD</th>\n",
       "      <th>...</th>\n",
       "      <th>sales_hr</th>\n",
       "      <th>sales_management</th>\n",
       "      <th>sales_marketing</th>\n",
       "      <th>sales_product_mng</th>\n",
       "      <th>sales_sales</th>\n",
       "      <th>sales_support</th>\n",
       "      <th>sales_technical</th>\n",
       "      <th>salary_high</th>\n",
       "      <th>salary_low</th>\n",
       "      <th>salary_medium</th>\n",
       "    </tr>\n",
       "  </thead>\n",
       "  <tbody>\n",
       "    <tr>\n",
       "      <th>0</th>\n",
       "      <td>0.38</td>\n",
       "      <td>0.53</td>\n",
       "      <td>2</td>\n",
       "      <td>157</td>\n",
       "      <td>3</td>\n",
       "      <td>0</td>\n",
       "      <td>1</td>\n",
       "      <td>0</td>\n",
       "      <td>0</td>\n",
       "      <td>0</td>\n",
       "      <td>...</td>\n",
       "      <td>0</td>\n",
       "      <td>0</td>\n",
       "      <td>0</td>\n",
       "      <td>0</td>\n",
       "      <td>1</td>\n",
       "      <td>0</td>\n",
       "      <td>0</td>\n",
       "      <td>0</td>\n",
       "      <td>1</td>\n",
       "      <td>0</td>\n",
       "    </tr>\n",
       "    <tr>\n",
       "      <th>1</th>\n",
       "      <td>0.80</td>\n",
       "      <td>0.86</td>\n",
       "      <td>5</td>\n",
       "      <td>262</td>\n",
       "      <td>6</td>\n",
       "      <td>0</td>\n",
       "      <td>1</td>\n",
       "      <td>0</td>\n",
       "      <td>0</td>\n",
       "      <td>0</td>\n",
       "      <td>...</td>\n",
       "      <td>0</td>\n",
       "      <td>0</td>\n",
       "      <td>0</td>\n",
       "      <td>0</td>\n",
       "      <td>1</td>\n",
       "      <td>0</td>\n",
       "      <td>0</td>\n",
       "      <td>0</td>\n",
       "      <td>0</td>\n",
       "      <td>1</td>\n",
       "    </tr>\n",
       "    <tr>\n",
       "      <th>2</th>\n",
       "      <td>0.11</td>\n",
       "      <td>0.88</td>\n",
       "      <td>7</td>\n",
       "      <td>272</td>\n",
       "      <td>4</td>\n",
       "      <td>0</td>\n",
       "      <td>1</td>\n",
       "      <td>0</td>\n",
       "      <td>0</td>\n",
       "      <td>0</td>\n",
       "      <td>...</td>\n",
       "      <td>0</td>\n",
       "      <td>0</td>\n",
       "      <td>0</td>\n",
       "      <td>0</td>\n",
       "      <td>1</td>\n",
       "      <td>0</td>\n",
       "      <td>0</td>\n",
       "      <td>0</td>\n",
       "      <td>0</td>\n",
       "      <td>1</td>\n",
       "    </tr>\n",
       "    <tr>\n",
       "      <th>3</th>\n",
       "      <td>0.72</td>\n",
       "      <td>0.87</td>\n",
       "      <td>5</td>\n",
       "      <td>223</td>\n",
       "      <td>5</td>\n",
       "      <td>0</td>\n",
       "      <td>1</td>\n",
       "      <td>0</td>\n",
       "      <td>0</td>\n",
       "      <td>0</td>\n",
       "      <td>...</td>\n",
       "      <td>0</td>\n",
       "      <td>0</td>\n",
       "      <td>0</td>\n",
       "      <td>0</td>\n",
       "      <td>1</td>\n",
       "      <td>0</td>\n",
       "      <td>0</td>\n",
       "      <td>0</td>\n",
       "      <td>1</td>\n",
       "      <td>0</td>\n",
       "    </tr>\n",
       "    <tr>\n",
       "      <th>4</th>\n",
       "      <td>0.37</td>\n",
       "      <td>0.52</td>\n",
       "      <td>2</td>\n",
       "      <td>159</td>\n",
       "      <td>3</td>\n",
       "      <td>0</td>\n",
       "      <td>1</td>\n",
       "      <td>0</td>\n",
       "      <td>0</td>\n",
       "      <td>0</td>\n",
       "      <td>...</td>\n",
       "      <td>0</td>\n",
       "      <td>0</td>\n",
       "      <td>0</td>\n",
       "      <td>0</td>\n",
       "      <td>1</td>\n",
       "      <td>0</td>\n",
       "      <td>0</td>\n",
       "      <td>0</td>\n",
       "      <td>1</td>\n",
       "      <td>0</td>\n",
       "    </tr>\n",
       "  </tbody>\n",
       "</table>\n",
       "<p>5 rows × 21 columns</p>\n",
       "</div>"
      ],
      "text/plain": [
       "   satisfaction_level  last_evaluation  number_project  average_montly_hours  \\\n",
       "0                0.38             0.53               2                   157   \n",
       "1                0.80             0.86               5                   262   \n",
       "2                0.11             0.88               7                   272   \n",
       "3                0.72             0.87               5                   223   \n",
       "4                0.37             0.52               2                   159   \n",
       "\n",
       "   time_spend_company  Work_accident  left  promotion_last_5years  sales_IT  \\\n",
       "0                   3              0     1                      0         0   \n",
       "1                   6              0     1                      0         0   \n",
       "2                   4              0     1                      0         0   \n",
       "3                   5              0     1                      0         0   \n",
       "4                   3              0     1                      0         0   \n",
       "\n",
       "   sales_RandD      ...        sales_hr  sales_management  sales_marketing  \\\n",
       "0            0      ...               0                 0                0   \n",
       "1            0      ...               0                 0                0   \n",
       "2            0      ...               0                 0                0   \n",
       "3            0      ...               0                 0                0   \n",
       "4            0      ...               0                 0                0   \n",
       "\n",
       "   sales_product_mng  sales_sales  sales_support  sales_technical  \\\n",
       "0                  0            1              0                0   \n",
       "1                  0            1              0                0   \n",
       "2                  0            1              0                0   \n",
       "3                  0            1              0                0   \n",
       "4                  0            1              0                0   \n",
       "\n",
       "   salary_high  salary_low  salary_medium  \n",
       "0            0           1              0  \n",
       "1            0           0              1  \n",
       "2            0           0              1  \n",
       "3            0           1              0  \n",
       "4            0           1              0  \n",
       "\n",
       "[5 rows x 21 columns]"
      ]
     },
     "execution_count": 9,
     "metadata": {},
     "output_type": "execute_result"
    }
   ],
   "source": [
    "#Read the data\n",
    "hr_data = pd.read_csv('../data/HR_comma_sep.csv')\n",
    "hr_data.head()\n",
    "#Prepare the data\n",
    "#Check the unique values for the strings\n",
    "print(hr_data['sales'].unique())\n",
    "print(hr_data['salary'].unique())\n",
    "# Convert categorical columns to binary representations\n",
    "hr_data_with_dummies = pd.get_dummies(data=hr_data, columns = ['sales', 'salary'], prefix = ['sales', 'salary'] )\n",
    "hr_data_with_dummies.head()"
   ]
  },
  {
   "cell_type": "code",
   "execution_count": 10,
   "metadata": {
    "collapsed": false
   },
   "outputs": [
    {
     "data": {
      "text/html": [
       "<div>\n",
       "<table border=\"1\" class=\"dataframe\">\n",
       "  <thead>\n",
       "    <tr style=\"text-align: right;\">\n",
       "      <th></th>\n",
       "      <th>satisfaction_level</th>\n",
       "      <th>last_evaluation</th>\n",
       "      <th>number_project</th>\n",
       "      <th>average_montly_hours</th>\n",
       "      <th>time_spend_company</th>\n",
       "      <th>Work_accident</th>\n",
       "      <th>left</th>\n",
       "      <th>promotion_last_5years</th>\n",
       "      <th>sales_IT</th>\n",
       "      <th>sales_RandD</th>\n",
       "      <th>...</th>\n",
       "      <th>sales_hr</th>\n",
       "      <th>sales_management</th>\n",
       "      <th>sales_marketing</th>\n",
       "      <th>sales_product_mng</th>\n",
       "      <th>sales_sales</th>\n",
       "      <th>sales_support</th>\n",
       "      <th>sales_technical</th>\n",
       "      <th>salary_high</th>\n",
       "      <th>salary_low</th>\n",
       "      <th>salary_medium</th>\n",
       "    </tr>\n",
       "  </thead>\n",
       "  <tbody>\n",
       "    <tr>\n",
       "      <th>satisfaction_level</th>\n",
       "      <td>1.000000</td>\n",
       "      <td>0.105021</td>\n",
       "      <td>-0.142970</td>\n",
       "      <td>-0.020048</td>\n",
       "      <td>-0.100866</td>\n",
       "      <td>0.058697</td>\n",
       "      <td>-0.388375</td>\n",
       "      <td>0.025605</td>\n",
       "      <td>0.006373</td>\n",
       "      <td>0.006615</td>\n",
       "      <td>...</td>\n",
       "      <td>-0.012841</td>\n",
       "      <td>0.007172</td>\n",
       "      <td>0.005715</td>\n",
       "      <td>0.006919</td>\n",
       "      <td>0.004007</td>\n",
       "      <td>0.009185</td>\n",
       "      <td>-0.009345</td>\n",
       "      <td>0.029708</td>\n",
       "      <td>-0.047415</td>\n",
       "      <td>0.031367</td>\n",
       "    </tr>\n",
       "    <tr>\n",
       "      <th>last_evaluation</th>\n",
       "      <td>0.105021</td>\n",
       "      <td>1.000000</td>\n",
       "      <td>0.349333</td>\n",
       "      <td>0.339742</td>\n",
       "      <td>0.131591</td>\n",
       "      <td>-0.007104</td>\n",
       "      <td>0.006567</td>\n",
       "      <td>-0.008684</td>\n",
       "      <td>0.001269</td>\n",
       "      <td>-0.005471</td>\n",
       "      <td>...</td>\n",
       "      <td>-0.009645</td>\n",
       "      <td>0.009662</td>\n",
       "      <td>-0.000311</td>\n",
       "      <td>-0.001989</td>\n",
       "      <td>-0.023031</td>\n",
       "      <td>0.017104</td>\n",
       "      <td>0.013742</td>\n",
       "      <td>-0.020628</td>\n",
       "      <td>0.005221</td>\n",
       "      <td>0.006191</td>\n",
       "    </tr>\n",
       "    <tr>\n",
       "      <th>number_project</th>\n",
       "      <td>-0.142970</td>\n",
       "      <td>0.349333</td>\n",
       "      <td>1.000000</td>\n",
       "      <td>0.417211</td>\n",
       "      <td>0.196786</td>\n",
       "      <td>-0.004741</td>\n",
       "      <td>0.023787</td>\n",
       "      <td>-0.006064</td>\n",
       "      <td>0.003287</td>\n",
       "      <td>0.009703</td>\n",
       "      <td>...</td>\n",
       "      <td>-0.027356</td>\n",
       "      <td>0.009728</td>\n",
       "      <td>-0.023064</td>\n",
       "      <td>0.000829</td>\n",
       "      <td>-0.013388</td>\n",
       "      <td>0.000303</td>\n",
       "      <td>0.028596</td>\n",
       "      <td>-0.008726</td>\n",
       "      <td>-0.002504</td>\n",
       "      <td>0.007377</td>\n",
       "    </tr>\n",
       "    <tr>\n",
       "      <th>average_montly_hours</th>\n",
       "      <td>-0.020048</td>\n",
       "      <td>0.339742</td>\n",
       "      <td>0.417211</td>\n",
       "      <td>1.000000</td>\n",
       "      <td>0.127755</td>\n",
       "      <td>-0.010143</td>\n",
       "      <td>0.071287</td>\n",
       "      <td>-0.003544</td>\n",
       "      <td>0.006967</td>\n",
       "      <td>-0.001177</td>\n",
       "      <td>...</td>\n",
       "      <td>-0.010783</td>\n",
       "      <td>0.000834</td>\n",
       "      <td>-0.008210</td>\n",
       "      <td>-0.005494</td>\n",
       "      <td>-0.001718</td>\n",
       "      <td>-0.002444</td>\n",
       "      <td>0.013638</td>\n",
       "      <td>-0.007101</td>\n",
       "      <td>-0.001050</td>\n",
       "      <td>0.005007</td>\n",
       "    </tr>\n",
       "    <tr>\n",
       "      <th>time_spend_company</th>\n",
       "      <td>-0.100866</td>\n",
       "      <td>0.131591</td>\n",
       "      <td>0.196786</td>\n",
       "      <td>0.127755</td>\n",
       "      <td>1.000000</td>\n",
       "      <td>0.002120</td>\n",
       "      <td>0.144822</td>\n",
       "      <td>0.067433</td>\n",
       "      <td>-0.006053</td>\n",
       "      <td>-0.021116</td>\n",
       "      <td>...</td>\n",
       "      <td>-0.022194</td>\n",
       "      <td>0.115436</td>\n",
       "      <td>0.012096</td>\n",
       "      <td>-0.003919</td>\n",
       "      <td>0.015150</td>\n",
       "      <td>-0.030111</td>\n",
       "      <td>-0.027991</td>\n",
       "      <td>0.039953</td>\n",
       "      <td>-0.040110</td>\n",
       "      <td>0.018299</td>\n",
       "    </tr>\n",
       "    <tr>\n",
       "      <th>Work_accident</th>\n",
       "      <td>0.058697</td>\n",
       "      <td>-0.007104</td>\n",
       "      <td>-0.004741</td>\n",
       "      <td>-0.010143</td>\n",
       "      <td>0.002120</td>\n",
       "      <td>1.000000</td>\n",
       "      <td>-0.154622</td>\n",
       "      <td>0.039245</td>\n",
       "      <td>-0.009293</td>\n",
       "      <td>0.017167</td>\n",
       "      <td>...</td>\n",
       "      <td>-0.015649</td>\n",
       "      <td>0.011242</td>\n",
       "      <td>0.011367</td>\n",
       "      <td>0.001246</td>\n",
       "      <td>-0.004955</td>\n",
       "      <td>0.012079</td>\n",
       "      <td>-0.006070</td>\n",
       "      <td>0.009040</td>\n",
       "      <td>-0.006813</td>\n",
       "      <td>0.001856</td>\n",
       "    </tr>\n",
       "    <tr>\n",
       "      <th>left</th>\n",
       "      <td>-0.388375</td>\n",
       "      <td>0.006567</td>\n",
       "      <td>0.023787</td>\n",
       "      <td>0.071287</td>\n",
       "      <td>0.144822</td>\n",
       "      <td>-0.154622</td>\n",
       "      <td>1.000000</td>\n",
       "      <td>-0.061788</td>\n",
       "      <td>-0.010925</td>\n",
       "      <td>-0.046596</td>\n",
       "      <td>...</td>\n",
       "      <td>0.028249</td>\n",
       "      <td>-0.046035</td>\n",
       "      <td>-0.000859</td>\n",
       "      <td>-0.011029</td>\n",
       "      <td>0.009923</td>\n",
       "      <td>0.010700</td>\n",
       "      <td>0.020076</td>\n",
       "      <td>-0.120929</td>\n",
       "      <td>0.134722</td>\n",
       "      <td>-0.068833</td>\n",
       "    </tr>\n",
       "    <tr>\n",
       "      <th>promotion_last_5years</th>\n",
       "      <td>0.025605</td>\n",
       "      <td>-0.008684</td>\n",
       "      <td>-0.006064</td>\n",
       "      <td>-0.003544</td>\n",
       "      <td>0.067433</td>\n",
       "      <td>0.039245</td>\n",
       "      <td>-0.061788</td>\n",
       "      <td>1.000000</td>\n",
       "      <td>-0.038942</td>\n",
       "      <td>0.021268</td>\n",
       "      <td>...</td>\n",
       "      <td>-0.001531</td>\n",
       "      <td>0.128087</td>\n",
       "      <td>0.049253</td>\n",
       "      <td>-0.037288</td>\n",
       "      <td>0.012353</td>\n",
       "      <td>-0.035605</td>\n",
       "      <td>-0.035799</td>\n",
       "      <td>0.076756</td>\n",
       "      <td>-0.082832</td>\n",
       "      <td>0.040985</td>\n",
       "    </tr>\n",
       "    <tr>\n",
       "      <th>sales_IT</th>\n",
       "      <td>0.006373</td>\n",
       "      <td>0.001269</td>\n",
       "      <td>0.003287</td>\n",
       "      <td>0.006967</td>\n",
       "      <td>-0.006053</td>\n",
       "      <td>-0.009293</td>\n",
       "      <td>-0.010925</td>\n",
       "      <td>-0.038942</td>\n",
       "      <td>1.000000</td>\n",
       "      <td>-0.070240</td>\n",
       "      <td>...</td>\n",
       "      <td>-0.067949</td>\n",
       "      <td>-0.062500</td>\n",
       "      <td>-0.073524</td>\n",
       "      <td>-0.075503</td>\n",
       "      <td>-0.184302</td>\n",
       "      <td>-0.124705</td>\n",
       "      <td>-0.140484</td>\n",
       "      <td>-0.016089</td>\n",
       "      <td>0.005116</td>\n",
       "      <td>0.003775</td>\n",
       "    </tr>\n",
       "    <tr>\n",
       "      <th>sales_RandD</th>\n",
       "      <td>0.006615</td>\n",
       "      <td>-0.005471</td>\n",
       "      <td>0.009703</td>\n",
       "      <td>-0.001177</td>\n",
       "      <td>-0.021116</td>\n",
       "      <td>0.017167</td>\n",
       "      <td>-0.046596</td>\n",
       "      <td>0.021268</td>\n",
       "      <td>-0.070240</td>\n",
       "      <td>1.000000</td>\n",
       "      <td>...</td>\n",
       "      <td>-0.053570</td>\n",
       "      <td>-0.049274</td>\n",
       "      <td>-0.057965</td>\n",
       "      <td>-0.059525</td>\n",
       "      <td>-0.145300</td>\n",
       "      <td>-0.098315</td>\n",
       "      <td>-0.110755</td>\n",
       "      <td>-0.015115</td>\n",
       "      <td>-0.011887</td>\n",
       "      <td>0.020402</td>\n",
       "    </tr>\n",
       "    <tr>\n",
       "      <th>sales_accounting</th>\n",
       "      <td>-0.028649</td>\n",
       "      <td>0.002193</td>\n",
       "      <td>0.004189</td>\n",
       "      <td>0.000524</td>\n",
       "      <td>0.003909</td>\n",
       "      <td>-0.012836</td>\n",
       "      <td>0.015201</td>\n",
       "      <td>-0.004852</td>\n",
       "      <td>-0.069293</td>\n",
       "      <td>-0.054629</td>\n",
       "      <td>...</td>\n",
       "      <td>-0.052848</td>\n",
       "      <td>-0.048610</td>\n",
       "      <td>-0.057183</td>\n",
       "      <td>-0.058723</td>\n",
       "      <td>-0.143341</td>\n",
       "      <td>-0.096989</td>\n",
       "      <td>-0.109262</td>\n",
       "      <td>0.011821</td>\n",
       "      <td>-0.009759</td>\n",
       "      <td>0.003285</td>\n",
       "    </tr>\n",
       "    <tr>\n",
       "      <th>sales_hr</th>\n",
       "      <td>-0.012841</td>\n",
       "      <td>-0.009645</td>\n",
       "      <td>-0.027356</td>\n",
       "      <td>-0.010783</td>\n",
       "      <td>-0.022194</td>\n",
       "      <td>-0.015649</td>\n",
       "      <td>0.028249</td>\n",
       "      <td>-0.001531</td>\n",
       "      <td>-0.067949</td>\n",
       "      <td>-0.053570</td>\n",
       "      <td>...</td>\n",
       "      <td>1.000000</td>\n",
       "      <td>-0.047667</td>\n",
       "      <td>-0.056075</td>\n",
       "      <td>-0.057584</td>\n",
       "      <td>-0.140562</td>\n",
       "      <td>-0.095109</td>\n",
       "      <td>-0.107143</td>\n",
       "      <td>-0.017858</td>\n",
       "      <td>-0.015690</td>\n",
       "      <td>0.025765</td>\n",
       "    </tr>\n",
       "    <tr>\n",
       "      <th>sales_management</th>\n",
       "      <td>0.007172</td>\n",
       "      <td>0.009662</td>\n",
       "      <td>0.009728</td>\n",
       "      <td>0.000834</td>\n",
       "      <td>0.115436</td>\n",
       "      <td>0.011242</td>\n",
       "      <td>-0.046035</td>\n",
       "      <td>0.128087</td>\n",
       "      <td>-0.062500</td>\n",
       "      <td>-0.049274</td>\n",
       "      <td>...</td>\n",
       "      <td>-0.047667</td>\n",
       "      <td>1.000000</td>\n",
       "      <td>-0.051578</td>\n",
       "      <td>-0.052966</td>\n",
       "      <td>-0.129289</td>\n",
       "      <td>-0.087482</td>\n",
       "      <td>-0.098551</td>\n",
       "      <td>0.209077</td>\n",
       "      <td>-0.084641</td>\n",
       "      <td>-0.030716</td>\n",
       "    </tr>\n",
       "    <tr>\n",
       "      <th>sales_marketing</th>\n",
       "      <td>0.005715</td>\n",
       "      <td>-0.000311</td>\n",
       "      <td>-0.023064</td>\n",
       "      <td>-0.008210</td>\n",
       "      <td>0.012096</td>\n",
       "      <td>0.011367</td>\n",
       "      <td>-0.000859</td>\n",
       "      <td>0.049253</td>\n",
       "      <td>-0.073524</td>\n",
       "      <td>-0.057965</td>\n",
       "      <td>...</td>\n",
       "      <td>-0.056075</td>\n",
       "      <td>-0.051578</td>\n",
       "      <td>1.000000</td>\n",
       "      <td>-0.062308</td>\n",
       "      <td>-0.152093</td>\n",
       "      <td>-0.102911</td>\n",
       "      <td>-0.115933</td>\n",
       "      <td>0.009642</td>\n",
       "      <td>-0.009479</td>\n",
       "      <td>0.004213</td>\n",
       "    </tr>\n",
       "    <tr>\n",
       "      <th>sales_product_mng</th>\n",
       "      <td>0.006919</td>\n",
       "      <td>-0.001989</td>\n",
       "      <td>0.000829</td>\n",
       "      <td>-0.005494</td>\n",
       "      <td>-0.003919</td>\n",
       "      <td>0.001246</td>\n",
       "      <td>-0.011029</td>\n",
       "      <td>-0.037288</td>\n",
       "      <td>-0.075503</td>\n",
       "      <td>-0.059525</td>\n",
       "      <td>...</td>\n",
       "      <td>-0.057584</td>\n",
       "      <td>-0.052966</td>\n",
       "      <td>-0.062308</td>\n",
       "      <td>1.000000</td>\n",
       "      <td>-0.156187</td>\n",
       "      <td>-0.105682</td>\n",
       "      <td>-0.119054</td>\n",
       "      <td>-0.006514</td>\n",
       "      <td>0.006191</td>\n",
       "      <td>-0.002632</td>\n",
       "    </tr>\n",
       "    <tr>\n",
       "      <th>sales_sales</th>\n",
       "      <td>0.004007</td>\n",
       "      <td>-0.023031</td>\n",
       "      <td>-0.013388</td>\n",
       "      <td>-0.001718</td>\n",
       "      <td>0.015150</td>\n",
       "      <td>-0.004955</td>\n",
       "      <td>0.009923</td>\n",
       "      <td>0.012353</td>\n",
       "      <td>-0.184302</td>\n",
       "      <td>-0.145300</td>\n",
       "      <td>...</td>\n",
       "      <td>-0.140562</td>\n",
       "      <td>-0.129289</td>\n",
       "      <td>-0.152093</td>\n",
       "      <td>-0.156187</td>\n",
       "      <td>1.000000</td>\n",
       "      <td>-0.257967</td>\n",
       "      <td>-0.290608</td>\n",
       "      <td>-0.039273</td>\n",
       "      <td>0.023766</td>\n",
       "      <td>-0.002174</td>\n",
       "    </tr>\n",
       "    <tr>\n",
       "      <th>sales_support</th>\n",
       "      <td>0.009185</td>\n",
       "      <td>0.017104</td>\n",
       "      <td>0.000303</td>\n",
       "      <td>-0.002444</td>\n",
       "      <td>-0.030111</td>\n",
       "      <td>0.012079</td>\n",
       "      <td>0.010700</td>\n",
       "      <td>-0.035605</td>\n",
       "      <td>-0.124705</td>\n",
       "      <td>-0.098315</td>\n",
       "      <td>...</td>\n",
       "      <td>-0.095109</td>\n",
       "      <td>-0.087482</td>\n",
       "      <td>-0.102911</td>\n",
       "      <td>-0.105682</td>\n",
       "      <td>-0.257967</td>\n",
       "      <td>1.000000</td>\n",
       "      <td>-0.196636</td>\n",
       "      <td>-0.029184</td>\n",
       "      <td>0.022038</td>\n",
       "      <td>-0.006035</td>\n",
       "    </tr>\n",
       "    <tr>\n",
       "      <th>sales_technical</th>\n",
       "      <td>-0.009345</td>\n",
       "      <td>0.013742</td>\n",
       "      <td>0.028596</td>\n",
       "      <td>0.013638</td>\n",
       "      <td>-0.027991</td>\n",
       "      <td>-0.006070</td>\n",
       "      <td>0.020076</td>\n",
       "      <td>-0.035799</td>\n",
       "      <td>-0.140484</td>\n",
       "      <td>-0.110755</td>\n",
       "      <td>...</td>\n",
       "      <td>-0.107143</td>\n",
       "      <td>-0.098551</td>\n",
       "      <td>-0.115933</td>\n",
       "      <td>-0.119054</td>\n",
       "      <td>-0.290608</td>\n",
       "      <td>-0.196636</td>\n",
       "      <td>1.000000</td>\n",
       "      <td>-0.014672</td>\n",
       "      <td>0.015674</td>\n",
       "      <td>-0.007673</td>\n",
       "    </tr>\n",
       "    <tr>\n",
       "      <th>salary_high</th>\n",
       "      <td>0.029708</td>\n",
       "      <td>-0.020628</td>\n",
       "      <td>-0.008726</td>\n",
       "      <td>-0.007101</td>\n",
       "      <td>0.039953</td>\n",
       "      <td>0.009040</td>\n",
       "      <td>-0.120929</td>\n",
       "      <td>0.076756</td>\n",
       "      <td>-0.016089</td>\n",
       "      <td>-0.015115</td>\n",
       "      <td>...</td>\n",
       "      <td>-0.017858</td>\n",
       "      <td>0.209077</td>\n",
       "      <td>0.009642</td>\n",
       "      <td>-0.006514</td>\n",
       "      <td>-0.039273</td>\n",
       "      <td>-0.029184</td>\n",
       "      <td>-0.014672</td>\n",
       "      <td>1.000000</td>\n",
       "      <td>-0.292560</td>\n",
       "      <td>-0.260274</td>\n",
       "    </tr>\n",
       "    <tr>\n",
       "      <th>salary_low</th>\n",
       "      <td>-0.047415</td>\n",
       "      <td>0.005221</td>\n",
       "      <td>-0.002504</td>\n",
       "      <td>-0.001050</td>\n",
       "      <td>-0.040110</td>\n",
       "      <td>-0.006813</td>\n",
       "      <td>0.134722</td>\n",
       "      <td>-0.082832</td>\n",
       "      <td>0.005116</td>\n",
       "      <td>-0.011887</td>\n",
       "      <td>...</td>\n",
       "      <td>-0.015690</td>\n",
       "      <td>-0.084641</td>\n",
       "      <td>-0.009479</td>\n",
       "      <td>0.006191</td>\n",
       "      <td>0.023766</td>\n",
       "      <td>0.022038</td>\n",
       "      <td>0.015674</td>\n",
       "      <td>-0.292560</td>\n",
       "      <td>1.000000</td>\n",
       "      <td>-0.847144</td>\n",
       "    </tr>\n",
       "    <tr>\n",
       "      <th>salary_medium</th>\n",
       "      <td>0.031367</td>\n",
       "      <td>0.006191</td>\n",
       "      <td>0.007377</td>\n",
       "      <td>0.005007</td>\n",
       "      <td>0.018299</td>\n",
       "      <td>0.001856</td>\n",
       "      <td>-0.068833</td>\n",
       "      <td>0.040985</td>\n",
       "      <td>0.003775</td>\n",
       "      <td>0.020402</td>\n",
       "      <td>...</td>\n",
       "      <td>0.025765</td>\n",
       "      <td>-0.030716</td>\n",
       "      <td>0.004213</td>\n",
       "      <td>-0.002632</td>\n",
       "      <td>-0.002174</td>\n",
       "      <td>-0.006035</td>\n",
       "      <td>-0.007673</td>\n",
       "      <td>-0.260274</td>\n",
       "      <td>-0.847144</td>\n",
       "      <td>1.000000</td>\n",
       "    </tr>\n",
       "  </tbody>\n",
       "</table>\n",
       "<p>21 rows × 21 columns</p>\n",
       "</div>"
      ],
      "text/plain": [
       "                       satisfaction_level  last_evaluation  number_project  \\\n",
       "satisfaction_level               1.000000         0.105021       -0.142970   \n",
       "last_evaluation                  0.105021         1.000000        0.349333   \n",
       "number_project                  -0.142970         0.349333        1.000000   \n",
       "average_montly_hours            -0.020048         0.339742        0.417211   \n",
       "time_spend_company              -0.100866         0.131591        0.196786   \n",
       "Work_accident                    0.058697        -0.007104       -0.004741   \n",
       "left                            -0.388375         0.006567        0.023787   \n",
       "promotion_last_5years            0.025605        -0.008684       -0.006064   \n",
       "sales_IT                         0.006373         0.001269        0.003287   \n",
       "sales_RandD                      0.006615        -0.005471        0.009703   \n",
       "sales_accounting                -0.028649         0.002193        0.004189   \n",
       "sales_hr                        -0.012841        -0.009645       -0.027356   \n",
       "sales_management                 0.007172         0.009662        0.009728   \n",
       "sales_marketing                  0.005715        -0.000311       -0.023064   \n",
       "sales_product_mng                0.006919        -0.001989        0.000829   \n",
       "sales_sales                      0.004007        -0.023031       -0.013388   \n",
       "sales_support                    0.009185         0.017104        0.000303   \n",
       "sales_technical                 -0.009345         0.013742        0.028596   \n",
       "salary_high                      0.029708        -0.020628       -0.008726   \n",
       "salary_low                      -0.047415         0.005221       -0.002504   \n",
       "salary_medium                    0.031367         0.006191        0.007377   \n",
       "\n",
       "                       average_montly_hours  time_spend_company  \\\n",
       "satisfaction_level                -0.020048           -0.100866   \n",
       "last_evaluation                    0.339742            0.131591   \n",
       "number_project                     0.417211            0.196786   \n",
       "average_montly_hours               1.000000            0.127755   \n",
       "time_spend_company                 0.127755            1.000000   \n",
       "Work_accident                     -0.010143            0.002120   \n",
       "left                               0.071287            0.144822   \n",
       "promotion_last_5years             -0.003544            0.067433   \n",
       "sales_IT                           0.006967           -0.006053   \n",
       "sales_RandD                       -0.001177           -0.021116   \n",
       "sales_accounting                   0.000524            0.003909   \n",
       "sales_hr                          -0.010783           -0.022194   \n",
       "sales_management                   0.000834            0.115436   \n",
       "sales_marketing                   -0.008210            0.012096   \n",
       "sales_product_mng                 -0.005494           -0.003919   \n",
       "sales_sales                       -0.001718            0.015150   \n",
       "sales_support                     -0.002444           -0.030111   \n",
       "sales_technical                    0.013638           -0.027991   \n",
       "salary_high                       -0.007101            0.039953   \n",
       "salary_low                        -0.001050           -0.040110   \n",
       "salary_medium                      0.005007            0.018299   \n",
       "\n",
       "                       Work_accident      left  promotion_last_5years  \\\n",
       "satisfaction_level          0.058697 -0.388375               0.025605   \n",
       "last_evaluation            -0.007104  0.006567              -0.008684   \n",
       "number_project             -0.004741  0.023787              -0.006064   \n",
       "average_montly_hours       -0.010143  0.071287              -0.003544   \n",
       "time_spend_company          0.002120  0.144822               0.067433   \n",
       "Work_accident               1.000000 -0.154622               0.039245   \n",
       "left                       -0.154622  1.000000              -0.061788   \n",
       "promotion_last_5years       0.039245 -0.061788               1.000000   \n",
       "sales_IT                   -0.009293 -0.010925              -0.038942   \n",
       "sales_RandD                 0.017167 -0.046596               0.021268   \n",
       "sales_accounting           -0.012836  0.015201              -0.004852   \n",
       "sales_hr                   -0.015649  0.028249              -0.001531   \n",
       "sales_management            0.011242 -0.046035               0.128087   \n",
       "sales_marketing             0.011367 -0.000859               0.049253   \n",
       "sales_product_mng           0.001246 -0.011029              -0.037288   \n",
       "sales_sales                -0.004955  0.009923               0.012353   \n",
       "sales_support               0.012079  0.010700              -0.035605   \n",
       "sales_technical            -0.006070  0.020076              -0.035799   \n",
       "salary_high                 0.009040 -0.120929               0.076756   \n",
       "salary_low                 -0.006813  0.134722              -0.082832   \n",
       "salary_medium               0.001856 -0.068833               0.040985   \n",
       "\n",
       "                       sales_IT  sales_RandD      ...        sales_hr  \\\n",
       "satisfaction_level     0.006373     0.006615      ...       -0.012841   \n",
       "last_evaluation        0.001269    -0.005471      ...       -0.009645   \n",
       "number_project         0.003287     0.009703      ...       -0.027356   \n",
       "average_montly_hours   0.006967    -0.001177      ...       -0.010783   \n",
       "time_spend_company    -0.006053    -0.021116      ...       -0.022194   \n",
       "Work_accident         -0.009293     0.017167      ...       -0.015649   \n",
       "left                  -0.010925    -0.046596      ...        0.028249   \n",
       "promotion_last_5years -0.038942     0.021268      ...       -0.001531   \n",
       "sales_IT               1.000000    -0.070240      ...       -0.067949   \n",
       "sales_RandD           -0.070240     1.000000      ...       -0.053570   \n",
       "sales_accounting      -0.069293    -0.054629      ...       -0.052848   \n",
       "sales_hr              -0.067949    -0.053570      ...        1.000000   \n",
       "sales_management      -0.062500    -0.049274      ...       -0.047667   \n",
       "sales_marketing       -0.073524    -0.057965      ...       -0.056075   \n",
       "sales_product_mng     -0.075503    -0.059525      ...       -0.057584   \n",
       "sales_sales           -0.184302    -0.145300      ...       -0.140562   \n",
       "sales_support         -0.124705    -0.098315      ...       -0.095109   \n",
       "sales_technical       -0.140484    -0.110755      ...       -0.107143   \n",
       "salary_high           -0.016089    -0.015115      ...       -0.017858   \n",
       "salary_low             0.005116    -0.011887      ...       -0.015690   \n",
       "salary_medium          0.003775     0.020402      ...        0.025765   \n",
       "\n",
       "                       sales_management  sales_marketing  sales_product_mng  \\\n",
       "satisfaction_level             0.007172         0.005715           0.006919   \n",
       "last_evaluation                0.009662        -0.000311          -0.001989   \n",
       "number_project                 0.009728        -0.023064           0.000829   \n",
       "average_montly_hours           0.000834        -0.008210          -0.005494   \n",
       "time_spend_company             0.115436         0.012096          -0.003919   \n",
       "Work_accident                  0.011242         0.011367           0.001246   \n",
       "left                          -0.046035        -0.000859          -0.011029   \n",
       "promotion_last_5years          0.128087         0.049253          -0.037288   \n",
       "sales_IT                      -0.062500        -0.073524          -0.075503   \n",
       "sales_RandD                   -0.049274        -0.057965          -0.059525   \n",
       "sales_accounting              -0.048610        -0.057183          -0.058723   \n",
       "sales_hr                      -0.047667        -0.056075          -0.057584   \n",
       "sales_management               1.000000        -0.051578          -0.052966   \n",
       "sales_marketing               -0.051578         1.000000          -0.062308   \n",
       "sales_product_mng             -0.052966        -0.062308           1.000000   \n",
       "sales_sales                   -0.129289        -0.152093          -0.156187   \n",
       "sales_support                 -0.087482        -0.102911          -0.105682   \n",
       "sales_technical               -0.098551        -0.115933          -0.119054   \n",
       "salary_high                    0.209077         0.009642          -0.006514   \n",
       "salary_low                    -0.084641        -0.009479           0.006191   \n",
       "salary_medium                 -0.030716         0.004213          -0.002632   \n",
       "\n",
       "                       sales_sales  sales_support  sales_technical  \\\n",
       "satisfaction_level        0.004007       0.009185        -0.009345   \n",
       "last_evaluation          -0.023031       0.017104         0.013742   \n",
       "number_project           -0.013388       0.000303         0.028596   \n",
       "average_montly_hours     -0.001718      -0.002444         0.013638   \n",
       "time_spend_company        0.015150      -0.030111        -0.027991   \n",
       "Work_accident            -0.004955       0.012079        -0.006070   \n",
       "left                      0.009923       0.010700         0.020076   \n",
       "promotion_last_5years     0.012353      -0.035605        -0.035799   \n",
       "sales_IT                 -0.184302      -0.124705        -0.140484   \n",
       "sales_RandD              -0.145300      -0.098315        -0.110755   \n",
       "sales_accounting         -0.143341      -0.096989        -0.109262   \n",
       "sales_hr                 -0.140562      -0.095109        -0.107143   \n",
       "sales_management         -0.129289      -0.087482        -0.098551   \n",
       "sales_marketing          -0.152093      -0.102911        -0.115933   \n",
       "sales_product_mng        -0.156187      -0.105682        -0.119054   \n",
       "sales_sales               1.000000      -0.257967        -0.290608   \n",
       "sales_support            -0.257967       1.000000        -0.196636   \n",
       "sales_technical          -0.290608      -0.196636         1.000000   \n",
       "salary_high              -0.039273      -0.029184        -0.014672   \n",
       "salary_low                0.023766       0.022038         0.015674   \n",
       "salary_medium            -0.002174      -0.006035        -0.007673   \n",
       "\n",
       "                       salary_high  salary_low  salary_medium  \n",
       "satisfaction_level        0.029708   -0.047415       0.031367  \n",
       "last_evaluation          -0.020628    0.005221       0.006191  \n",
       "number_project           -0.008726   -0.002504       0.007377  \n",
       "average_montly_hours     -0.007101   -0.001050       0.005007  \n",
       "time_spend_company        0.039953   -0.040110       0.018299  \n",
       "Work_accident             0.009040   -0.006813       0.001856  \n",
       "left                     -0.120929    0.134722      -0.068833  \n",
       "promotion_last_5years     0.076756   -0.082832       0.040985  \n",
       "sales_IT                 -0.016089    0.005116       0.003775  \n",
       "sales_RandD              -0.015115   -0.011887       0.020402  \n",
       "sales_accounting          0.011821   -0.009759       0.003285  \n",
       "sales_hr                 -0.017858   -0.015690       0.025765  \n",
       "sales_management          0.209077   -0.084641      -0.030716  \n",
       "sales_marketing           0.009642   -0.009479       0.004213  \n",
       "sales_product_mng        -0.006514    0.006191      -0.002632  \n",
       "sales_sales              -0.039273    0.023766      -0.002174  \n",
       "sales_support            -0.029184    0.022038      -0.006035  \n",
       "sales_technical          -0.014672    0.015674      -0.007673  \n",
       "salary_high               1.000000   -0.292560      -0.260274  \n",
       "salary_low               -0.292560    1.000000      -0.847144  \n",
       "salary_medium            -0.260274   -0.847144       1.000000  \n",
       "\n",
       "[21 rows x 21 columns]"
      ]
     },
     "execution_count": 10,
     "metadata": {},
     "output_type": "execute_result"
    },
    {
     "data": {
      "image/png": "[encoded data removed]",
      "text/plain": [
       "<matplotlib.figure.Figure at 0x112e272e8>"
      ]
     },
     "metadata": {},
     "output_type": "display_data"
    }
   ],
   "source": [
    "#Find the correlations in the data\n",
    "#Plot a Correlation Matrix\n",
    "corr = hr_data_with_dummies.corr()\n",
    "corr = (corr)\n",
    "sns.heatmap(corr, \n",
    "            xticklabels=corr.columns.values,\n",
    "            yticklabels=corr.columns.values)\n",
    "sns.plt.title('Heatmap of Correlation Matrix')\n",
    "corr"
   ]
  },
  {
   "cell_type": "code",
   "execution_count": 11,
   "metadata": {
    "collapsed": false
   },
   "outputs": [
    {
     "data": {
      "text/html": [
       "<div>\n",
       "<table border=\"1\" class=\"dataframe\">\n",
       "  <thead>\n",
       "    <tr style=\"text-align: right;\">\n",
       "      <th></th>\n",
       "      <th>left</th>\n",
       "    </tr>\n",
       "  </thead>\n",
       "  <tbody>\n",
       "    <tr>\n",
       "      <th>time_spend_company</th>\n",
       "      <td>0.144822</td>\n",
       "    </tr>\n",
       "    <tr>\n",
       "      <th>salary_low</th>\n",
       "      <td>0.134722</td>\n",
       "    </tr>\n",
       "    <tr>\n",
       "      <th>average_montly_hours</th>\n",
       "      <td>0.071287</td>\n",
       "    </tr>\n",
       "    <tr>\n",
       "      <th>sales_hr</th>\n",
       "      <td>0.028249</td>\n",
       "    </tr>\n",
       "    <tr>\n",
       "      <th>number_project</th>\n",
       "      <td>0.023787</td>\n",
       "    </tr>\n",
       "    <tr>\n",
       "      <th>sales_technical</th>\n",
       "      <td>0.020076</td>\n",
       "    </tr>\n",
       "    <tr>\n",
       "      <th>sales_accounting</th>\n",
       "      <td>0.015201</td>\n",
       "    </tr>\n",
       "    <tr>\n",
       "      <th>sales_support</th>\n",
       "      <td>0.010700</td>\n",
       "    </tr>\n",
       "    <tr>\n",
       "      <th>sales_sales</th>\n",
       "      <td>0.009923</td>\n",
       "    </tr>\n",
       "    <tr>\n",
       "      <th>last_evaluation</th>\n",
       "      <td>0.006567</td>\n",
       "    </tr>\n",
       "    <tr>\n",
       "      <th>sales_marketing</th>\n",
       "      <td>-0.000859</td>\n",
       "    </tr>\n",
       "    <tr>\n",
       "      <th>sales_IT</th>\n",
       "      <td>-0.010925</td>\n",
       "    </tr>\n",
       "    <tr>\n",
       "      <th>sales_product_mng</th>\n",
       "      <td>-0.011029</td>\n",
       "    </tr>\n",
       "    <tr>\n",
       "      <th>sales_management</th>\n",
       "      <td>-0.046035</td>\n",
       "    </tr>\n",
       "    <tr>\n",
       "      <th>sales_RandD</th>\n",
       "      <td>-0.046596</td>\n",
       "    </tr>\n",
       "    <tr>\n",
       "      <th>promotion_last_5years</th>\n",
       "      <td>-0.061788</td>\n",
       "    </tr>\n",
       "    <tr>\n",
       "      <th>salary_medium</th>\n",
       "      <td>-0.068833</td>\n",
       "    </tr>\n",
       "    <tr>\n",
       "      <th>salary_high</th>\n",
       "      <td>-0.120929</td>\n",
       "    </tr>\n",
       "    <tr>\n",
       "      <th>Work_accident</th>\n",
       "      <td>-0.154622</td>\n",
       "    </tr>\n",
       "    <tr>\n",
       "      <th>satisfaction_level</th>\n",
       "      <td>-0.388375</td>\n",
       "    </tr>\n",
       "  </tbody>\n",
       "</table>\n",
       "</div>"
      ],
      "text/plain": [
       "                           left\n",
       "time_spend_company     0.144822\n",
       "salary_low             0.134722\n",
       "average_montly_hours   0.071287\n",
       "sales_hr               0.028249\n",
       "number_project         0.023787\n",
       "sales_technical        0.020076\n",
       "sales_accounting       0.015201\n",
       "sales_support          0.010700\n",
       "sales_sales            0.009923\n",
       "last_evaluation        0.006567\n",
       "sales_marketing       -0.000859\n",
       "sales_IT              -0.010925\n",
       "sales_product_mng     -0.011029\n",
       "sales_management      -0.046035\n",
       "sales_RandD           -0.046596\n",
       "promotion_last_5years -0.061788\n",
       "salary_medium         -0.068833\n",
       "salary_high           -0.120929\n",
       "Work_accident         -0.154622\n",
       "satisfaction_level    -0.388375"
      ]
     },
     "execution_count": 11,
     "metadata": {},
     "output_type": "execute_result"
    }
   ],
   "source": [
    "#Extract 'left' column, because 'left' is our target value\n",
    "corr_left = pd.DataFrame(corr['left'].drop('left'))\n",
    "corr_left.sort_values(by = 'left', ascending = False)"
   ]
  },
  {
   "cell_type": "markdown",
   "metadata": {},
   "source": [
    "#### Important !!!\n",
    "The correlation only shows us a linear correlation between variables and you should only use this as a rough guide to gain an understanding of the dataset. This is just an exploratory measure."
   ]
  },
  {
   "cell_type": "code",
   "execution_count": 12,
   "metadata": {
    "collapsed": false
   },
   "outputs": [
    {
     "data": {
      "text/plain": [
       "<matplotlib.text.Text at 0x1129eae48>"
      ]
     },
     "execution_count": 12,
     "metadata": {},
     "output_type": "execute_result"
    },
    {
     "data": {
      "image/png": "[encoded data removed]",
      "text/plain": [
       "<matplotlib.figure.Figure at 0x113a07208>"
      ]
     },
     "metadata": {},
     "output_type": "display_data"
    },
    {
     "data": {
      "image/png": "[encoded data removed]",
      "text/plain": [
       "<matplotlib.figure.Figure at 0x113991a20>"
      ]
     },
     "metadata": {},
     "output_type": "display_data"
    },
    {
     "data": {
      "image/png": "[encoded data removed]",
      "text/plain": [
       "<matplotlib.figure.Figure at 0x113d8dbe0>"
      ]
     },
     "metadata": {},
     "output_type": "display_data"
    },
    {
     "data": {
      "image/png": "[encoded data removed]",
      "text/plain": [
       "<matplotlib.figure.Figure at 0x113cc7518>"
      ]
     },
     "metadata": {},
     "output_type": "display_data"
    }
   ],
   "source": [
    "# Visualise the data to understand what might be happening with the employees leaving\n",
    "#time spend with promotion\n",
    "plt.figure(figsize = (10,6))\n",
    "sns.barplot(x='time_spend_company', y = 'left', hue = 'promotion_last_5years', data = hr_data)\n",
    "#department\n",
    "plt.figure(figsize = (16,6))\n",
    "sns.barplot(x='sales', y = 'left', data = hr_data)\n",
    "#satisfaction level distribution\n",
    "g = sns.FacetGrid(hr_data, col = 'left')\n",
    "g.map(sns.boxplot, 'satisfaction_level')\n",
    "#differences\n",
    "plt.figure(figsize = (12,12))\n",
    "plt.subplot(1,2,1)\n",
    "plt.plot(hr_data.satisfaction_level[hr_data.left == 1],hr_data.last_evaluation[hr_data.left == 1],'o', alpha = 0.1)\n",
    "plt.ylabel('Last Evaluation')\n",
    "plt.title('Employees who left')\n",
    "plt.xlabel('Satisfaction level')\n",
    "plt.subplot(1,2,2)\n",
    "plt.title('Employees who stayed')\n",
    "plt.plot(hr_data.satisfaction_level[hr_data.left == 0],hr_data.last_evaluation[hr_data.left == 0],'o', alpha = 0.1)\n",
    "plt.xlim([0.4,1])\n",
    "plt.ylabel('Last Evaluation')\n",
    "plt.xlabel('Satisfaction level')"
   ]
  },
  {
   "cell_type": "code",
   "execution_count": 16,
   "metadata": {
    "collapsed": false
   },
   "outputs": [
    {
     "data": {
      "text/plain": [
       "DecisionTreeClassifier(class_weight=None, criterion='gini', max_depth=None,\n",
       "            max_features=None, max_leaf_nodes=None,\n",
       "            min_impurity_split=1e-07, min_samples_leaf=1,\n",
       "            min_samples_split=2, min_weight_fraction_leaf=0.0,\n",
       "            presort=False, random_state=None, splitter='best')"
      ]
     },
     "execution_count": 16,
     "metadata": {},
     "output_type": "execute_result"
    }
   ],
   "source": [
    "#Train-Test split\n",
    "from sklearn.model_selection import train_test_split\n",
    "data = hr_data_with_dummies.drop('left', 1)\n",
    "label = hr_data_with_dummies.left\n",
    "data_train, data_test, label_train, label_test = train_test_split(data, label, test_size = 0.2, random_state = 42)\n",
    "# Decision tree\n",
    "from sklearn import tree\n",
    "dt = tree.DecisionTreeClassifier()\n",
    "dt.fit(data_train, label_train)"
   ]
  },
  {
   "cell_type": "code",
   "execution_count": 17,
   "metadata": {
    "collapsed": false
   },
   "outputs": [
    {
     "name": "stdout",
     "output_type": "stream",
     "text": [
      "Training score:  1.0\n",
      "Testing score:  0.975333333333\n"
     ]
    }
   ],
   "source": [
    "dt_score_train = dt.score(data_train, label_train)\n",
    "print(\"Training score: \",dt_score_train)\n",
    "dt_score_test = dt.score(data_test, label_test)\n",
    "print(\"Testing score: \",dt_score_test)"
   ]
  },
  {
   "cell_type": "code",
   "execution_count": 24,
   "metadata": {
    "collapsed": false
   },
   "outputs": [
    {
     "data": {
      "text/plain": [
       "(14999, 20)"
      ]
     },
     "execution_count": 24,
     "metadata": {},
     "output_type": "execute_result"
    }
   ],
   "source": [
    "dt.classes_\n",
    "data.head(1)\n",
    "data.shape"
   ]
  },
  {
   "cell_type": "markdown",
   "metadata": {},
   "source": [
    "#### Test another employee"
   ]
  },
  {
   "cell_type": "code",
   "execution_count": 32,
   "metadata": {
    "collapsed": false
   },
   "outputs": [
    {
     "name": "stderr",
     "output_type": "stream",
     "text": [
      "/anaconda/lib/python3.6/site-packages/sklearn/utils/validation.py:395: DeprecationWarning: Passing 1d arrays as data is deprecated in 0.17 and will raise ValueError in 0.19. Reshape your data either using X.reshape(-1, 1) if your data has a single feature or X.reshape(1, -1) if it contains a single sample.\n",
      "  DeprecationWarning)\n"
     ]
    },
    {
     "data": {
      "text/plain": [
       "array([[ 0.,  1.]])"
      ]
     },
     "execution_count": 32,
     "metadata": {},
     "output_type": "execute_result"
    }
   ],
   "source": [
    "employeea = [0.1,0.4,3,160,4,0,1,0,0,0,0,0,1,0,0,0,0,0,1,0]\n",
    "dt.predict_proba(employeea)"
   ]
  },
  {
   "cell_type": "code",
   "execution_count": 33,
   "metadata": {
    "collapsed": false
   },
   "outputs": [
    {
     "name": "stderr",
     "output_type": "stream",
     "text": [
      "/anaconda/lib/python3.6/site-packages/sklearn/utils/validation.py:395: DeprecationWarning: Passing 1d arrays as data is deprecated in 0.17 and will raise ValueError in 0.19. Reshape your data either using X.reshape(-1, 1) if your data has a single feature or X.reshape(1, -1) if it contains a single sample.\n",
      "  DeprecationWarning)\n"
     ]
    },
    {
     "data": {
      "text/plain": [
       "array([1])"
      ]
     },
     "execution_count": 33,
     "metadata": {},
     "output_type": "execute_result"
    }
   ],
   "source": [
    "dt.predict(employeea)"
   ]
  },
  {
   "cell_type": "code",
   "execution_count": 14,
   "metadata": {
    "collapsed": false
   },
   "outputs": [
    {
     "name": "stdout",
     "output_type": "stream",
     "text": [
      "Collecting graphviz\n",
      "  Downloading graphviz-0.7.1-py2.py3-none-any.whl\n",
      "Installing collected packages: graphviz\n",
      "Successfully installed graphviz-0.7.1\n",
      "Collecting pydot\n",
      "  Downloading pydot-1.2.3.tar.gz\n",
      "Requirement already satisfied: pyparsing>=2.1.4 in /anaconda/lib/python3.6/site-packages (from pydot)\n",
      "Building wheels for collected packages: pydot\n",
      "  Running setup.py bdist_wheel for pydot ... \u001b[?25l-\b \b\\\b \bdone\n",
      "\u001b[?25h  Stored in directory: /Users/production/Library/Caches/pip/wheels/47/8c/c2/4ac7bd0219b4ce5e08d03dc3467014c7a94b2efecfc29df2b2\n",
      "Successfully built pydot\n",
      "Installing collected packages: pydot\n",
      "Successfully installed pydot-1.2.3\n",
      "digraph Tree {\n",
      "node [shape=box] ;\n",
      "0 [label=\"X[0] <= 0.465\\ngini = 0.3635\\nsamples = 11999\\nvalue = [9134, 2865]\"] ;\n",
      "1 [label=\"X[2] <= 2.5\\ngini = 0.4767\\nsamples = 3354\\nvalue = [1315, 2039]\"] ;\n",
      "0 -> 1 [labeldistance=2.5, labelangle=45, headlabel=\"True\"] ;\n",
      "2 [label=\"X[1] <= 0.575\\ngini = 0.2169\\nsamples = 1390\\nvalue = [172, 1218]\"] ;\n",
      "1 -> 2 ;\n",
      "3 [label=\"X[1] <= 0.445\\ngini = 0.1019\\nsamples = 1282\\nvalue = [69, 1213]\"] ;\n",
      "2 -> 3 ;\n",
      "4 [label=\"gini = 0.0\\nsamples = 33\\nvalue = [33, 0]\"] ;\n",
      "3 -> 4 ;\n",
      "5 [label=\"X[3] <= 125.5\\ngini = 0.056\\nsamples = 1249\\nvalue = [36, 1213]\"] ;\n",
      "3 -> 5 ;\n",
      "6 [label=\"gini = 0.0\\nsamples = 11\\nvalue = [11, 0]\"] ;\n",
      "5 -> 6 ;\n",
      "7 [label=\"X[3] <= 163.5\\ngini = 0.0396\\nsamples = 1238\\nvalue = [25, 1213]\"] ;\n",
      "5 -> 7 ;\n",
      "8 [label=\"X[0] <= 0.34\\ngini = 0.0179\\nsamples = 1219\\nvalue = [11, 1208]\"] ;\n",
      "7 -> 8 ;\n",
      "9 [label=\"X[3] <= 140.0\\ngini = 0.3457\\nsamples = 9\\nvalue = [7, 2]\"] ;\n",
      "8 -> 9 ;\n",
      "10 [label=\"gini = 0.0\\nsamples = 2\\nvalue = [0, 2]\"] ;\n",
      "9 -> 10 ;\n",
      "11 [label=\"gini = 0.0\\nsamples = 7\\nvalue = [7, 0]\"] ;\n",
      "9 -> 11 ;\n",
      "12 [label=\"X[17] <= 0.5\\ngini = 0.0066\\nsamples = 1210\\nvalue = [4, 1206]\"] ;\n",
      "8 -> 12 ;\n",
      "13 [label=\"X[14] <= 0.5\\ngini = 0.0017\\nsamples = 1171\\nvalue = [1, 1170]\"] ;\n",
      "12 -> 13 ;\n",
      "14 [label=\"gini = 0.0\\nsamples = 813\\nvalue = [0, 813]\"] ;\n",
      "13 -> 14 ;\n",
      "15 [label=\"X[3] <= 150.5\\ngini = 0.0056\\nsamples = 358\\nvalue = [1, 357]\"] ;\n",
      "13 -> 15 ;\n",
      "16 [label=\"gini = 0.0\\nsamples = 234\\nvalue = [0, 234]\"] ;\n",
      "15 -> 16 ;\n",
      "17 [label=\"X[3] <= 151.5\\ngini = 0.016\\nsamples = 124\\nvalue = [1, 123]\"] ;\n",
      "15 -> 17 ;\n",
      "18 [label=\"X[0] <= 0.415\\ngini = 0.1975\\nsamples = 9\\nvalue = [1, 8]\"] ;\n",
      "17 -> 18 ;\n",
      "19 [label=\"gini = 0.0\\nsamples = 8\\nvalue = [0, 8]\"] ;\n",
      "18 -> 19 ;\n",
      "20 [label=\"gini = 0.0\\nsamples = 1\\nvalue = [1, 0]\"] ;\n",
      "18 -> 20 ;\n",
      "21 [label=\"gini = 0.0\\nsamples = 115\\nvalue = [0, 115]\"] ;\n",
      "17 -> 21 ;\n",
      "22 [label=\"X[5] <= 0.5\\ngini = 0.142\\nsamples = 39\\nvalue = [3, 36]\"] ;\n",
      "12 -> 22 ;\n",
      "23 [label=\"X[7] <= 0.5\\ngini = 0.0997\\nsamples = 38\\nvalue = [2, 36]\"] ;\n",
      "22 -> 23 ;\n",
      "24 [label=\"gini = 0.0\\nsamples = 34\\nvalue = [0, 34]\"] ;\n",
      "23 -> 24 ;\n",
      "25 [label=\"X[0] <= 0.385\\ngini = 0.5\\nsamples = 4\\nvalue = [2, 2]\"] ;\n",
      "23 -> 25 ;\n",
      "26 [label=\"gini = 0.0\\nsamples = 2\\nvalue = [2, 0]\"] ;\n",
      "25 -> 26 ;\n",
      "27 [label=\"gini = 0.0\\nsamples = 2\\nvalue = [0, 2]\"] ;\n",
      "25 -> 27 ;\n",
      "28 [label=\"gini = 0.0\\nsamples = 1\\nvalue = [1, 0]\"] ;\n",
      "22 -> 28 ;\n",
      "29 [label=\"X[3] <= 234.0\\ngini = 0.3878\\nsamples = 19\\nvalue = [14, 5]\"] ;\n",
      "7 -> 29 ;\n",
      "30 [label=\"gini = 0.0\\nsamples = 13\\nvalue = [13, 0]\"] ;\n",
      "29 -> 30 ;\n",
      "31 [label=\"X[3] <= 266.0\\ngini = 0.2778\\nsamples = 6\\nvalue = [1, 5]\"] ;\n",
      "29 -> 31 ;\n",
      "32 [label=\"gini = 0.0\\nsamples = 5\\nvalue = [0, 5]\"] ;\n",
      "31 -> 32 ;\n",
      "33 [label=\"gini = 0.0\\nsamples = 1\\nvalue = [1, 0]\"] ;\n",
      "31 -> 33 ;\n",
      "34 [label=\"X[3] <= 280.0\\ngini = 0.0883\\nsamples = 108\\nvalue = [103, 5]\"] ;\n",
      "2 -> 34 ;\n",
      "35 [label=\"X[16] <= 0.5\\ngini = 0.0555\\nsamples = 105\\nvalue = [102, 3]\"] ;\n",
      "34 -> 35 ;\n",
      "36 [label=\"gini = 0.0\\nsamples = 87\\nvalue = [87, 0]\"] ;\n",
      "35 -> 36 ;\n",
      "37 [label=\"X[3] <= 157.0\\ngini = 0.2778\\nsamples = 18\\nvalue = [15, 3]\"] ;\n",
      "35 -> 37 ;\n",
      "38 [label=\"X[3] <= 145.0\\ngini = 0.4898\\nsamples = 7\\nvalue = [4, 3]\"] ;\n",
      "37 -> 38 ;\n",
      "39 [label=\"gini = 0.0\\nsamples = 4\\nvalue = [4, 0]\"] ;\n",
      "38 -> 39 ;\n",
      "40 [label=\"gini = 0.0\\nsamples = 3\\nvalue = [0, 3]\"] ;\n",
      "38 -> 40 ;\n",
      "41 [label=\"gini = 0.0\\nsamples = 11\\nvalue = [11, 0]\"] ;\n",
      "37 -> 41 ;\n",
      "42 [label=\"X[1] <= 0.76\\ngini = 0.4444\\nsamples = 3\\nvalue = [1, 2]\"] ;\n",
      "34 -> 42 ;\n",
      "43 [label=\"gini = 0.0\\nsamples = 2\\nvalue = [0, 2]\"] ;\n",
      "42 -> 43 ;\n",
      "44 [label=\"gini = 0.0\\nsamples = 1\\nvalue = [1, 0]\"] ;\n",
      "42 -> 44 ;\n",
      "45 [label=\"X[0] <= 0.115\\ngini = 0.4866\\nsamples = 1964\\nvalue = [1143, 821]\"] ;\n",
      "1 -> 45 ;\n",
      "46 [label=\"gini = 0.0\\nsamples = 728\\nvalue = [0, 728]\"] ;\n",
      "45 -> 46 ;\n",
      "47 [label=\"X[2] <= 6.5\\ngini = 0.1392\\nsamples = 1236\\nvalue = [1143, 93]\"] ;\n",
      "45 -> 47 ;\n",
      "48 [label=\"X[3] <= 289.0\\ngini = 0.1249\\nsamples = 1225\\nvalue = [1143, 82]\"] ;\n",
      "47 -> 48 ;\n",
      "49 [label=\"X[1] <= 0.995\\ngini = 0.1115\\nsamples = 1215\\nvalue = [1143, 72]\"] ;\n",
      "48 -> 49 ;\n",
      "50 [label=\"X[0] <= 0.305\\ngini = 0.1039\\nsamples = 1201\\nvalue = [1135, 66]\"] ;\n",
      "49 -> 50 ;\n",
      "51 [label=\"X[0] <= 0.175\\ngini = 0.0676\\nsamples = 742\\nvalue = [716, 26]\"] ;\n",
      "50 -> 51 ;\n",
      "52 [label=\"X[4] <= 3.5\\ngini = 0.1049\\nsamples = 270\\nvalue = [255, 15]\"] ;\n",
      "51 -> 52 ;\n",
      "53 [label=\"X[1] <= 0.77\\ngini = 0.2159\\nsamples = 65\\nvalue = [57, 8]\"] ;\n",
      "52 -> 53 ;\n",
      "54 [label=\"X[10] <= 0.5\\ngini = 0.1244\\nsamples = 45\\nvalue = [42, 3]\"] ;\n",
      "53 -> 54 ;\n",
      "55 [label=\"X[0] <= 0.145\\ngini = 0.0887\\nsamples = 43\\nvalue = [41, 2]\"] ;\n",
      "54 -> 55 ;\n",
      "56 [label=\"X[0] <= 0.135\\ngini = 0.32\\nsamples = 10\\nvalue = [8, 2]\"] ;\n",
      "55 -> 56 ;\n",
      "57 [label=\"gini = 0.0\\nsamples = 7\\nvalue = [7, 0]\"] ;\n",
      "56 -> 57 ;\n",
      "58 [label=\"X[19] <= 0.5\\ngini = 0.4444\\nsamples = 3\\nvalue = [1, 2]\"] ;\n",
      "56 -> 58 ;\n",
      "59 [label=\"gini = 0.0\\nsamples = 1\\nvalue = [1, 0]\"] ;\n",
      "58 -> 59 ;\n",
      "60 [label=\"gini = 0.0\\nsamples = 2\\nvalue = [0, 2]\"] ;\n",
      "58 -> 60 ;\n",
      "61 [label=\"gini = 0.0\\nsamples = 33\\nvalue = [33, 0]\"] ;\n",
      "55 -> 61 ;\n",
      "62 [label=\"X[3] <= 231.0\\ngini = 0.5\\nsamples = 2\\nvalue = [1, 1]\"] ;\n",
      "54 -> 62 ;\n",
      "63 [label=\"gini = 0.0\\nsamples = 1\\nvalue = [1, 0]\"] ;\n",
      "62 -> 63 ;\n",
      "64 [label=\"gini = 0.0\\nsamples = 1\\nvalue = [0, 1]\"] ;\n",
      "62 -> 64 ;\n",
      "65 [label=\"X[0] <= 0.165\\ngini = 0.375\\nsamples = 20\\nvalue = [15, 5]\"] ;\n",
      "53 -> 65 ;\n",
      "66 [label=\"X[1] <= 0.805\\ngini = 0.2076\\nsamples = 17\\nvalue = [15, 2]\"] ;\n",
      "65 -> 66 ;\n",
      "67 [label=\"X[0] <= 0.135\\ngini = 0.48\\nsamples = 5\\nvalue = [3, 2]\"] ;\n",
      "66 -> 67 ;\n",
      "68 [label=\"gini = 0.0\\nsamples = 2\\nvalue = [0, 2]\"] ;\n",
      "67 -> 68 ;\n",
      "69 [label=\"gini = 0.0\\nsamples = 3\\nvalue = [3, 0]\"] ;\n",
      "67 -> 69 ;\n",
      "70 [label=\"gini = 0.0\\nsamples = 12\\nvalue = [12, 0]\"] ;\n",
      "66 -> 70 ;\n",
      "71 [label=\"gini = 0.0\\nsamples = 3\\nvalue = [0, 3]\"] ;\n",
      "65 -> 71 ;\n",
      "72 [label=\"X[1] <= 0.755\\ngini = 0.066\\nsamples = 205\\nvalue = [198, 7]\"] ;\n",
      "52 -> 72 ;\n",
      "73 [label=\"X[1] <= 0.745\\ngini = 0.1212\\nsamples = 108\\nvalue = [101, 7]\"] ;\n",
      "72 -> 73 ;\n",
      "74 [label=\"X[9] <= 0.5\\ngini = 0.0915\\nsamples = 104\\nvalue = [99, 5]\"] ;\n",
      "73 -> 74 ;\n",
      "75 [label=\"X[3] <= 159.0\\ngini = 0.0761\\nsamples = 101\\nvalue = [97, 4]\"] ;\n",
      "74 -> 75 ;\n",
      "76 [label=\"X[3] <= 156.0\\ngini = 0.2268\\nsamples = 23\\nvalue = [20, 3]\"] ;\n",
      "75 -> 76 ;\n",
      "77 [label=\"X[17] <= 0.5\\ngini = 0.0907\\nsamples = 21\\nvalue = [20, 1]\"] ;\n",
      "76 -> 77 ;\n",
      "78 [label=\"gini = 0.0\\nsamples = 16\\nvalue = [16, 0]\"] ;\n",
      "77 -> 78 ;\n",
      "79 [label=\"X[15] <= 0.5\\ngini = 0.32\\nsamples = 5\\nvalue = [4, 1]\"] ;\n",
      "77 -> 79 ;\n",
      "80 [label=\"gini = 0.0\\nsamples = 4\\nvalue = [4, 0]\"] ;\n",
      "79 -> 80 ;\n",
      "81 [label=\"gini = 0.0\\nsamples = 1\\nvalue = [0, 1]\"] ;\n",
      "79 -> 81 ;\n",
      "82 [label=\"gini = 0.0\\nsamples = 2\\nvalue = [0, 2]\"] ;\n",
      "76 -> 82 ;\n",
      "83 [label=\"X[0] <= 0.165\\ngini = 0.0253\\nsamples = 78\\nvalue = [77, 1]\"] ;\n",
      "75 -> 83 ;\n",
      "84 [label=\"gini = 0.0\\nsamples = 64\\nvalue = [64, 0]\"] ;\n",
      "83 -> 84 ;\n",
      "85 [label=\"X[14] <= 0.5\\ngini = 0.1327\\nsamples = 14\\nvalue = [13, 1]\"] ;\n",
      "83 -> 85 ;\n",
      "86 [label=\"gini = 0.0\\nsamples = 9\\nvalue = [9, 0]\"] ;\n",
      "85 -> 86 ;\n",
      "87 [label=\"X[2] <= 5.5\\ngini = 0.32\\nsamples = 5\\nvalue = [4, 1]\"] ;\n",
      "85 -> 87 ;\n",
      "88 [label=\"gini = 0.0\\nsamples = 3\\nvalue = [3, 0]\"] ;\n",
      "87 -> 88 ;\n",
      "89 [label=\"X[3] <= 227.5\\ngini = 0.5\\nsamples = 2\\nvalue = [1, 1]\"] ;\n",
      "87 -> 89 ;\n",
      "90 [label=\"gini = 0.0\\nsamples = 1\\nvalue = [1, 0]\"] ;\n",
      "89 -> 90 ;\n",
      "91 [label=\"gini = 0.0\\nsamples = 1\\nvalue = [0, 1]\"] ;\n",
      "89 -> 91 ;\n",
      "92 [label=\"X[1] <= 0.655\\ngini = 0.4444\\nsamples = 3\\nvalue = [2, 1]\"] ;\n",
      "74 -> 92 ;\n",
      "93 [label=\"gini = 0.0\\nsamples = 1\\nvalue = [0, 1]\"] ;\n",
      "92 -> 93 ;\n",
      "94 [label=\"gini = 0.0\\nsamples = 2\\nvalue = [2, 0]\"] ;\n",
      "92 -> 94 ;\n",
      "95 [label=\"X[18] <= 0.5\\ngini = 0.5\\nsamples = 4\\nvalue = [2, 2]\"] ;\n",
      "73 -> 95 ;\n",
      "96 [label=\"X[14] <= 0.5\\ngini = 0.4444\\nsamples = 3\\nvalue = [2, 1]\"] ;\n",
      "95 -> 96 ;\n",
      "97 [label=\"gini = 0.0\\nsamples = 2\\nvalue = [2, 0]\"] ;\n",
      "96 -> 97 ;\n",
      "98 [label=\"gini = 0.0\\nsamples = 1\\nvalue = [0, 1]\"] ;\n",
      "96 -> 98 ;\n",
      "99 [label=\"gini = 0.0\\nsamples = 1\\nvalue = [0, 1]\"] ;\n",
      "95 -> 99 ;\n",
      "100 [label=\"gini = 0.0\\nsamples = 97\\nvalue = [97, 0]\"] ;\n",
      "72 -> 100 ;\n",
      "101 [label=\"X[1] <= 0.505\\ngini = 0.0455\\nsamples = 472\\nvalue = [461, 11]\"] ;\n",
      "51 -> 101 ;\n",
      "102 [label=\"X[8] <= 0.5\\ngini = 0.1372\\nsamples = 81\\nvalue = [75, 6]\"] ;\n",
      "101 -> 102 ;\n",
      "103 [label=\"X[3] <= 212.0\\ngini = 0.0997\\nsamples = 76\\nvalue = [72, 4]\"] ;\n",
      "102 -> 103 ;\n",
      "104 [label=\"gini = 0.0\\nsamples = 49\\nvalue = [49, 0]\"] ;\n",
      "103 -> 104 ;\n",
      "105 [label=\"X[3] <= 219.5\\ngini = 0.2524\\nsamples = 27\\nvalue = [23, 4]\"] ;\n",
      "103 -> 105 ;\n",
      "106 [label=\"X[1] <= 0.465\\ngini = 0.5\\nsamples = 8\\nvalue = [4, 4]\"] ;\n",
      "105 -> 106 ;\n",
      "107 [label=\"X[5] <= 0.5\\ngini = 0.32\\nsamples = 5\\nvalue = [1, 4]\"] ;\n",
      "106 -> 107 ;\n",
      "108 [label=\"gini = 0.0\\nsamples = 4\\nvalue = [0, 4]\"] ;\n",
      "107 -> 108 ;\n",
      "109 [label=\"gini = 0.0\\nsamples = 1\\nvalue = [1, 0]\"] ;\n",
      "107 -> 109 ;\n",
      "110 [label=\"gini = 0.0\\nsamples = 3\\nvalue = [3, 0]\"] ;\n",
      "106 -> 110 ;\n",
      "111 [label=\"gini = 0.0\\nsamples = 19\\nvalue = [19, 0]\"] ;\n",
      "105 -> 111 ;\n",
      "112 [label=\"X[4] <= 5.5\\ngini = 0.48\\nsamples = 5\\nvalue = [3, 2]\"] ;\n",
      "102 -> 112 ;\n",
      "113 [label=\"gini = 0.0\\nsamples = 3\\nvalue = [3, 0]\"] ;\n",
      "112 -> 113 ;\n",
      "114 [label=\"gini = 0.0\\nsamples = 2\\nvalue = [0, 2]\"] ;\n",
      "112 -> 114 ;\n",
      "115 [label=\"X[1] <= 0.985\\ngini = 0.0252\\nsamples = 391\\nvalue = [386, 5]\"] ;\n",
      "101 -> 115 ;\n",
      "116 [label=\"X[3] <= 280.5\\ngini = 0.0207\\nsamples = 382\\nvalue = [378, 4]\"] ;\n",
      "115 -> 116 ;\n",
      "117 [label=\"X[0] <= 0.295\\ngini = 0.0161\\nsamples = 369\\nvalue = [366, 3]\"] ;\n",
      "116 -> 117 ;\n",
      "118 [label=\"X[3] <= 168.5\\ngini = 0.0112\\nsamples = 355\\nvalue = [353, 2]\"] ;\n",
      "117 -> 118 ;\n",
      "119 [label=\"X[3] <= 167.5\\ngini = 0.0339\\nsamples = 116\\nvalue = [114, 2]\"] ;\n",
      "118 -> 119 ;\n",
      "120 [label=\"X[16] <= 0.5\\ngini = 0.0175\\nsamples = 113\\nvalue = [112, 1]\"] ;\n",
      "119 -> 120 ;\n",
      "121 [label=\"gini = 0.0\\nsamples = 96\\nvalue = [96, 0]\"] ;\n",
      "120 -> 121 ;\n",
      "122 [label=\"X[1] <= 0.875\\ngini = 0.1107\\nsamples = 17\\nvalue = [16, 1]\"] ;\n",
      "120 -> 122 ;\n",
      "123 [label=\"gini = 0.0\\nsamples = 14\\nvalue = [14, 0]\"] ;\n",
      "122 -> 123 ;\n",
      "124 [label=\"X[1] <= 0.915\\ngini = 0.4444\\nsamples = 3\\nvalue = [2, 1]\"] ;\n",
      "122 -> 124 ;\n",
      "125 [label=\"gini = 0.0\\nsamples = 1\\nvalue = [0, 1]\"] ;\n",
      "124 -> 125 ;\n",
      "126 [label=\"gini = 0.0\\nsamples = 2\\nvalue = [2, 0]\"] ;\n",
      "124 -> 126 ;\n",
      "127 [label=\"X[15] <= 0.5\\ngini = 0.4444\\nsamples = 3\\nvalue = [2, 1]\"] ;\n",
      "119 -> 127 ;\n",
      "128 [label=\"gini = 0.0\\nsamples = 2\\nvalue = [2, 0]\"] ;\n",
      "127 -> 128 ;\n",
      "129 [label=\"gini = 0.0\\nsamples = 1\\nvalue = [0, 1]\"] ;\n",
      "127 -> 129 ;\n",
      "130 [label=\"gini = 0.0\\nsamples = 239\\nvalue = [239, 0]\"] ;\n",
      "118 -> 130 ;\n",
      "131 [label=\"X[8] <= 0.5\\ngini = 0.1327\\nsamples = 14\\nvalue = [13, 1]\"] ;\n",
      "117 -> 131 ;\n",
      "132 [label=\"gini = 0.0\\nsamples = 13\\nvalue = [13, 0]\"] ;\n",
      "131 -> 132 ;\n",
      "133 [label=\"gini = 0.0\\nsamples = 1\\nvalue = [0, 1]\"] ;\n",
      "131 -> 133 ;\n",
      "134 [label=\"X[0] <= 0.205\\ngini = 0.142\\nsamples = 13\\nvalue = [12, 1]\"] ;\n",
      "116 -> 134 ;\n",
      "135 [label=\"X[0] <= 0.19\\ngini = 0.375\\nsamples = 4\\nvalue = [3, 1]\"] ;\n",
      "134 -> 135 ;\n",
      "136 [label=\"gini = 0.0\\nsamples = 3\\nvalue = [3, 0]\"] ;\n",
      "135 -> 136 ;\n",
      "137 [label=\"gini = 0.0\\nsamples = 1\\nvalue = [0, 1]\"] ;\n",
      "135 -> 137 ;\n",
      "138 [label=\"gini = 0.0\\nsamples = 9\\nvalue = [9, 0]\"] ;\n",
      "134 -> 138 ;\n",
      "139 [label=\"X[3] <= 194.0\\ngini = 0.1975\\nsamples = 9\\nvalue = [8, 1]\"] ;\n",
      "115 -> 139 ;\n",
      "140 [label=\"gini = 0.0\\nsamples = 7\\nvalue = [7, 0]\"] ;\n",
      "139 -> 140 ;\n",
      "141 [label=\"X[7] <= 0.5\\ngini = 0.5\\nsamples = 2\\nvalue = [1, 1]\"] ;\n",
      "139 -> 141 ;\n",
      "142 [label=\"gini = 0.0\\nsamples = 1\\nvalue = [0, 1]\"] ;\n",
      "141 -> 142 ;\n",
      "143 [label=\"gini = 0.0\\nsamples = 1\\nvalue = [1, 0]\"] ;\n",
      "141 -> 143 ;\n",
      "144 [label=\"X[0] <= 0.315\\ngini = 0.1591\\nsamples = 459\\nvalue = [419, 40]\"] ;\n",
      "50 -> 144 ;\n",
      "145 [label=\"X[2] <= 3.5\\ngini = 0.4082\\nsamples = 35\\nvalue = [25, 10]\"] ;\n",
      "144 -> 145 ;\n",
      "146 [label=\"gini = 0.0\\nsamples = 9\\nvalue = [9, 0]\"] ;\n",
      "145 -> 146 ;\n",
      "147 [label=\"X[5] <= 0.5\\ngini = 0.4734\\nsamples = 26\\nvalue = [16, 10]\"] ;\n",
      "145 -> 147 ;\n",
      "148 [label=\"X[3] <= 233.5\\ngini = 0.5\\nsamples = 20\\nvalue = [10, 10]\"] ;\n",
      "147 -> 148 ;\n",
      "149 [label=\"X[3] <= 190.5\\ngini = 0.4688\\nsamples = 16\\nvalue = [10, 6]\"] ;\n",
      "148 -> 149 ;\n",
      "150 [label=\"X[3] <= 120.0\\ngini = 0.4444\\nsamples = 9\\nvalue = [3, 6]\"] ;\n",
      "149 -> 150 ;\n",
      "151 [label=\"gini = 0.0\\nsamples = 3\\nvalue = [3, 0]\"] ;\n",
      "150 -> 151 ;\n",
      "152 [label=\"gini = 0.0\\nsamples = 6\\nvalue = [0, 6]\"] ;\n",
      "150 -> 152 ;\n",
      "153 [label=\"gini = 0.0\\nsamples = 7\\nvalue = [7, 0]\"] ;\n",
      "149 -> 153 ;\n",
      "154 [label=\"gini = 0.0\\nsamples = 4\\nvalue = [0, 4]\"] ;\n",
      "148 -> 154 ;\n",
      "155 [label=\"gini = 0.0\\nsamples = 6\\nvalue = [6, 0]\"] ;\n",
      "147 -> 155 ;\n",
      "156 [label=\"X[3] <= 198.5\\ngini = 0.1315\\nsamples = 424\\nvalue = [394, 30]\"] ;\n",
      "144 -> 156 ;\n",
      "157 [label=\"X[1] <= 0.855\\ngini = 0.0723\\nsamples = 293\\nvalue = [282, 11]\"] ;\n",
      "156 -> 157 ;\n",
      "158 [label=\"X[18] <= 0.5\\ngini = 0.0379\\nsamples = 259\\nvalue = [254, 5]\"] ;\n",
      "157 -> 158 ;\n",
      "159 [label=\"gini = 0.0\\nsamples = 146\\nvalue = [146, 0]\"] ;\n",
      "158 -> 159 ;\n",
      "160 [label=\"X[0] <= 0.345\\ngini = 0.0846\\nsamples = 113\\nvalue = [108, 5]\"] ;\n",
      "158 -> 160 ;\n",
      "161 [label=\"X[14] <= 0.5\\ngini = 0.2778\\nsamples = 18\\nvalue = [15, 3]\"] ;\n",
      "160 -> 161 ;\n",
      "162 [label=\"gini = 0.0\\nsamples = 13\\nvalue = [13, 0]\"] ;\n",
      "161 -> 162 ;\n",
      "163 [label=\"X[3] <= 139.0\\ngini = 0.48\\nsamples = 5\\nvalue = [2, 3]\"] ;\n",
      "161 -> 163 ;\n",
      "164 [label=\"gini = 0.0\\nsamples = 2\\nvalue = [2, 0]\"] ;\n",
      "163 -> 164 ;\n",
      "165 [label=\"gini = 0.0\\nsamples = 3\\nvalue = [0, 3]\"] ;\n",
      "163 -> 165 ;\n",
      "166 [label=\"X[13] <= 0.5\\ngini = 0.0412\\nsamples = 95\\nvalue = [93, 2]\"] ;\n",
      "160 -> 166 ;\n",
      "167 [label=\"X[12] <= 0.5\\ngini = 0.0215\\nsamples = 92\\nvalue = [91, 1]\"] ;\n",
      "166 -> 167 ;\n",
      "168 [label=\"gini = 0.0\\nsamples = 89\\nvalue = [89, 0]\"] ;\n",
      "167 -> 168 ;\n",
      "169 [label=\"X[3] <= 141.5\\ngini = 0.4444\\nsamples = 3\\nvalue = [2, 1]\"] ;\n",
      "167 -> 169 ;\n",
      "170 [label=\"gini = 0.0\\nsamples = 1\\nvalue = [0, 1]\"] ;\n",
      "169 -> 170 ;\n",
      "171 [label=\"gini = 0.0\\nsamples = 2\\nvalue = [2, 0]\"] ;\n",
      "169 -> 171 ;\n",
      "172 [label=\"X[2] <= 5.0\\ngini = 0.4444\\nsamples = 3\\nvalue = [2, 1]\"] ;\n",
      "166 -> 172 ;\n",
      "173 [label=\"gini = 0.0\\nsamples = 2\\nvalue = [2, 0]\"] ;\n",
      "172 -> 173 ;\n",
      "174 [label=\"gini = 0.0\\nsamples = 1\\nvalue = [0, 1]\"] ;\n",
      "172 -> 174 ;\n",
      "175 [label=\"X[4] <= 2.5\\ngini = 0.2907\\nsamples = 34\\nvalue = [28, 6]\"] ;\n",
      "157 -> 175 ;\n",
      "176 [label=\"X[3] <= 145.5\\ngini = 0.375\\nsamples = 4\\nvalue = [1, 3]\"] ;\n",
      "175 -> 176 ;\n",
      "177 [label=\"gini = 0.0\\nsamples = 1\\nvalue = [1, 0]\"] ;\n",
      "176 -> 177 ;\n",
      "178 [label=\"gini = 0.0\\nsamples = 3\\nvalue = [0, 3]\"] ;\n",
      "176 -> 178 ;\n",
      "179 [label=\"X[16] <= 0.5\\ngini = 0.18\\nsamples = 30\\nvalue = [27, 3]\"] ;\n",
      "175 -> 179 ;\n",
      "180 [label=\"gini = 0.0\\nsamples = 22\\nvalue = [22, 0]\"] ;\n",
      "179 -> 180 ;\n",
      "181 [label=\"X[1] <= 0.9\\ngini = 0.4688\\nsamples = 8\\nvalue = [5, 3]\"] ;\n",
      "179 -> 181 ;\n",
      "182 [label=\"X[3] <= 166.5\\ngini = 0.375\\nsamples = 4\\nvalue = [1, 3]\"] ;\n",
      "181 -> 182 ;\n",
      "183 [label=\"gini = 0.0\\nsamples = 3\\nvalue = [0, 3]\"] ;\n",
      "182 -> 183 ;\n",
      "184 [label=\"gini = 0.0\\nsamples = 1\\nvalue = [1, 0]\"] ;\n",
      "182 -> 184 ;\n",
      "185 [label=\"gini = 0.0\\nsamples = 4\\nvalue = [4, 0]\"] ;\n",
      "181 -> 185 ;\n",
      "186 [label=\"X[3] <= 199.5\\ngini = 0.248\\nsamples = 131\\nvalue = [112, 19]\"] ;\n",
      "156 -> 186 ;\n",
      "187 [label=\"X[16] <= 0.5\\ngini = 0.375\\nsamples = 4\\nvalue = [1, 3]\"] ;\n",
      "186 -> 187 ;\n",
      "188 [label=\"gini = 0.0\\nsamples = 1\\nvalue = [1, 0]\"] ;\n",
      "187 -> 188 ;\n",
      "189 [label=\"gini = 0.0\\nsamples = 3\\nvalue = [0, 3]\"] ;\n",
      "187 -> 189 ;\n",
      "190 [label=\"X[11] <= 0.5\\ngini = 0.2202\\nsamples = 127\\nvalue = [111, 16]\"] ;\n",
      "186 -> 190 ;\n",
      "191 [label=\"X[1] <= 0.615\\ngini = 0.1904\\nsamples = 122\\nvalue = [109, 13]\"] ;\n",
      "190 -> 191 ;\n",
      "192 [label=\"gini = 0.0\\nsamples = 42\\nvalue = [42, 0]\"] ;\n",
      "191 -> 192 ;\n",
      "193 [label=\"X[1] <= 0.655\\ngini = 0.2722\\nsamples = 80\\nvalue = [67, 13]\"] ;\n",
      "191 -> 193 ;\n",
      "194 [label=\"X[0] <= 0.425\\ngini = 0.4938\\nsamples = 9\\nvalue = [5, 4]\"] ;\n",
      "193 -> 194 ;\n",
      "195 [label=\"gini = 0.0\\nsamples = 5\\nvalue = [5, 0]\"] ;\n",
      "194 -> 195 ;\n",
      "196 [label=\"gini = 0.0\\nsamples = 4\\nvalue = [0, 4]\"] ;\n",
      "194 -> 196 ;\n",
      "197 [label=\"X[1] <= 0.98\\ngini = 0.2214\\nsamples = 71\\nvalue = [62, 9]\"] ;\n",
      "193 -> 197 ;\n",
      "198 [label=\"X[15] <= 0.5\\ngini = 0.1871\\nsamples = 67\\nvalue = [60, 7]\"] ;\n",
      "197 -> 198 ;\n",
      "199 [label=\"X[3] <= 275.5\\ngini = 0.1305\\nsamples = 57\\nvalue = [53, 4]\"] ;\n",
      "198 -> 199 ;\n",
      "200 [label=\"X[0] <= 0.445\\ngini = 0.0754\\nsamples = 51\\nvalue = [49, 2]\"] ;\n",
      "199 -> 200 ;\n",
      "201 [label=\"X[3] <= 205.5\\ngini = 0.04\\nsamples = 49\\nvalue = [48, 1]\"] ;\n",
      "200 -> 201 ;\n",
      "202 [label=\"X[0] <= 0.405\\ngini = 0.32\\nsamples = 5\\nvalue = [4, 1]\"] ;\n",
      "201 -> 202 ;\n",
      "203 [label=\"gini = 0.0\\nsamples = 4\\nvalue = [4, 0]\"] ;\n",
      "202 -> 203 ;\n",
      "204 [label=\"gini = 0.0\\nsamples = 1\\nvalue = [0, 1]\"] ;\n",
      "202 -> 204 ;\n",
      "205 [label=\"gini = 0.0\\nsamples = 44\\nvalue = [44, 0]\"] ;\n",
      "201 -> 205 ;\n",
      "206 [label=\"X[2] <= 4.5\\ngini = 0.5\\nsamples = 2\\nvalue = [1, 1]\"] ;\n",
      "200 -> 206 ;\n",
      "207 [label=\"gini = 0.0\\nsamples = 1\\nvalue = [0, 1]\"] ;\n",
      "206 -> 207 ;\n",
      "208 [label=\"gini = 0.0\\nsamples = 1\\nvalue = [1, 0]\"] ;\n",
      "206 -> 208 ;\n",
      "209 [label=\"X[1] <= 0.835\\ngini = 0.4444\\nsamples = 6\\nvalue = [4, 2]\"] ;\n",
      "199 -> 209 ;\n",
      "210 [label=\"X[0] <= 0.375\\ngini = 0.4444\\nsamples = 3\\nvalue = [1, 2]\"] ;\n",
      "209 -> 210 ;\n",
      "211 [label=\"gini = 0.0\\nsamples = 2\\nvalue = [0, 2]\"] ;\n",
      "210 -> 211 ;\n",
      "212 [label=\"gini = 0.0\\nsamples = 1\\nvalue = [1, 0]\"] ;\n",
      "210 -> 212 ;\n",
      "213 [label=\"gini = 0.0\\nsamples = 3\\nvalue = [3, 0]\"] ;\n",
      "209 -> 213 ;\n",
      "214 [label=\"X[0] <= 0.335\\ngini = 0.42\\nsamples = 10\\nvalue = [7, 3]\"] ;\n",
      "198 -> 214 ;\n",
      "215 [label=\"gini = 0.0\\nsamples = 3\\nvalue = [0, 3]\"] ;\n",
      "214 -> 215 ;\n",
      "216 [label=\"gini = 0.0\\nsamples = 7\\nvalue = [7, 0]\"] ;\n",
      "214 -> 216 ;\n",
      "217 [label=\"X[3] <= 235.5\\ngini = 0.5\\nsamples = 4\\nvalue = [2, 2]\"] ;\n",
      "197 -> 217 ;\n",
      "218 [label=\"gini = 0.0\\nsamples = 2\\nvalue = [2, 0]\"] ;\n",
      "217 -> 218 ;\n",
      "219 [label=\"gini = 0.0\\nsamples = 2\\nvalue = [0, 2]\"] ;\n",
      "217 -> 219 ;\n",
      "220 [label=\"X[3] <= 235.0\\ngini = 0.48\\nsamples = 5\\nvalue = [2, 3]\"] ;\n",
      "190 -> 220 ;\n",
      "221 [label=\"gini = 0.0\\nsamples = 2\\nvalue = [0, 2]\"] ;\n",
      "220 -> 221 ;\n",
      "222 [label=\"X[19] <= 0.5\\ngini = 0.4444\\nsamples = 3\\nvalue = [2, 1]\"] ;\n",
      "220 -> 222 ;\n",
      "223 [label=\"gini = 0.0\\nsamples = 1\\nvalue = [0, 1]\"] ;\n",
      "222 -> 223 ;\n",
      "224 [label=\"gini = 0.0\\nsamples = 2\\nvalue = [2, 0]\"] ;\n",
      "222 -> 224 ;\n",
      "225 [label=\"X[3] <= 190.0\\ngini = 0.4898\\nsamples = 14\\nvalue = [8, 6]\"] ;\n",
      "49 -> 225 ;\n",
      "226 [label=\"X[0] <= 0.365\\ngini = 0.2449\\nsamples = 7\\nvalue = [6, 1]\"] ;\n",
      "225 -> 226 ;\n",
      "227 [label=\"gini = 0.0\\nsamples = 6\\nvalue = [6, 0]\"] ;\n",
      "226 -> 227 ;\n",
      "228 [label=\"gini = 0.0\\nsamples = 1\\nvalue = [0, 1]\"] ;\n",
      "226 -> 228 ;\n",
      "229 [label=\"X[2] <= 4.5\\ngini = 0.4082\\nsamples = 7\\nvalue = [2, 5]\"] ;\n",
      "225 -> 229 ;\n",
      "230 [label=\"gini = 0.0\\nsamples = 5\\nvalue = [0, 5]\"] ;\n",
      "229 -> 230 ;\n",
      "231 [label=\"gini = 0.0\\nsamples = 2\\nvalue = [2, 0]\"] ;\n",
      "229 -> 231 ;\n",
      "232 [label=\"gini = 0.0\\nsamples = 10\\nvalue = [0, 10]\"] ;\n",
      "48 -> 232 ;\n",
      "233 [label=\"gini = 0.0\\nsamples = 11\\nvalue = [0, 11]\"] ;\n",
      "47 -> 233 ;\n",
      "234 [label=\"X[4] <= 4.5\\ngini = 0.1728\\nsamples = 8645\\nvalue = [7819, 826]\"] ;\n",
      "0 -> 234 [labeldistance=2.5, labelangle=-45, headlabel=\"False\"] ;\n",
      "235 [label=\"X[2] <= 6.5\\ngini = 0.0285\\nsamples = 7053\\nvalue = [6951, 102]\"] ;\n",
      "234 -> 235 ;\n",
      "236 [label=\"X[3] <= 290.5\\ngini = 0.0274\\nsamples = 7049\\nvalue = [6951, 98]\"] ;\n",
      "235 -> 236 ;\n",
      "237 [label=\"X[4] <= 3.5\\ngini = 0.0263\\nsamples = 7045\\nvalue = [6951, 94]\"] ;\n",
      "236 -> 237 ;\n",
      "238 [label=\"X[2] <= 5.5\\ngini = 0.017\\nsamples = 5943\\nvalue = [5892, 51]\"] ;\n",
      "237 -> 238 ;\n",
      "239 [label=\"X[2] <= 2.5\\ngini = 0.0149\\nsamples = 5866\\nvalue = [5822, 44]\"] ;\n",
      "238 -> 239 ;\n",
      "240 [label=\"X[3] <= 196.5\\ngini = 0.0848\\nsamples = 338\\nvalue = [323, 15]\"] ;\n",
      "239 -> 240 ;\n",
      "241 [label=\"X[1] <= 0.895\\ngini = 0.0112\\nsamples = 177\\nvalue = [176, 1]\"] ;\n",
      "240 -> 241 ;\n",
      "242 [label=\"gini = 0.0\\nsamples = 156\\nvalue = [156, 0]\"] ;\n",
      "241 -> 242 ;\n",
      "243 [label=\"X[0] <= 0.845\\ngini = 0.0907\\nsamples = 21\\nvalue = [20, 1]\"] ;\n",
      "241 -> 243 ;\n",
      "244 [label=\"gini = 0.0\\nsamples = 17\\nvalue = [17, 0]\"] ;\n",
      "243 -> 244 ;\n",
      "245 [label=\"X[3] <= 162.5\\ngini = 0.375\\nsamples = 4\\nvalue = [3, 1]\"] ;\n",
      "243 -> 245 ;\n",
      "246 [label=\"gini = 0.0\\nsamples = 3\\nvalue = [3, 0]\"] ;\n",
      "245 -> 246 ;\n",
      "247 [label=\"gini = 0.0\\nsamples = 1\\nvalue = [0, 1]\"] ;\n",
      "245 -> 247 ;\n",
      "248 [label=\"X[0] <= 0.485\\ngini = 0.1588\\nsamples = 161\\nvalue = [147, 14]\"] ;\n",
      "240 -> 248 ;\n",
      "249 [label=\"gini = 0.0\\nsamples = 3\\nvalue = [0, 3]\"] ;\n",
      "248 -> 249 ;\n",
      "250 [label=\"X[1] <= 0.48\\ngini = 0.1295\\nsamples = 158\\nvalue = [147, 11]\"] ;\n",
      "248 -> 250 ;\n",
      "251 [label=\"X[1] <= 0.465\\ngini = 0.3967\\nsamples = 11\\nvalue = [8, 3]\"] ;\n",
      "250 -> 251 ;\n",
      "252 [label=\"gini = 0.0\\nsamples = 8\\nvalue = [8, 0]\"] ;\n",
      "251 -> 252 ;\n",
      "253 [label=\"gini = 0.0\\nsamples = 3\\nvalue = [0, 3]\"] ;\n",
      "251 -> 253 ;\n",
      "254 [label=\"X[1] <= 0.995\\ngini = 0.1029\\nsamples = 147\\nvalue = [139, 8]\"] ;\n",
      "250 -> 254 ;\n",
      "255 [label=\"X[15] <= 0.5\\ngini = 0.0919\\nsamples = 145\\nvalue = [138, 7]\"] ;\n",
      "254 -> 255 ;\n",
      "256 [label=\"X[3] <= 254.5\\ngini = 0.061\\nsamples = 127\\nvalue = [123, 4]\"] ;\n",
      "255 -> 256 ;\n",
      "257 [label=\"gini = 0.0\\nsamples = 88\\nvalue = [88, 0]\"] ;\n",
      "256 -> 257 ;\n",
      "258 [label=\"X[3] <= 256.0\\ngini = 0.1841\\nsamples = 39\\nvalue = [35, 4]\"] ;\n",
      "256 -> 258 ;\n",
      "259 [label=\"X[16] <= 0.5\\ngini = 0.375\\nsamples = 4\\nvalue = [1, 3]\"] ;\n",
      "258 -> 259 ;\n",
      "260 [label=\"gini = 0.0\\nsamples = 1\\nvalue = [1, 0]\"] ;\n",
      "259 -> 260 ;\n",
      "261 [label=\"gini = 0.0\\nsamples = 3\\nvalue = [0, 3]\"] ;\n",
      "259 -> 261 ;\n",
      "262 [label=\"X[7] <= 0.5\\ngini = 0.0555\\nsamples = 35\\nvalue = [34, 1]\"] ;\n",
      "258 -> 262 ;\n",
      "263 [label=\"gini = 0.0\\nsamples = 33\\nvalue = [33, 0]\"] ;\n",
      "262 -> 263 ;\n",
      "264 [label=\"X[3] <= 270.5\\ngini = 0.5\\nsamples = 2\\nvalue = [1, 1]\"] ;\n",
      "262 -> 264 ;\n",
      "265 [label=\"gini = 0.0\\nsamples = 1\\nvalue = [1, 0]\"] ;\n",
      "264 -> 265 ;\n",
      "266 [label=\"gini = 0.0\\nsamples = 1\\nvalue = [0, 1]\"] ;\n",
      "264 -> 266 ;\n",
      "267 [label=\"X[3] <= 211.5\\ngini = 0.2778\\nsamples = 18\\nvalue = [15, 3]\"] ;\n",
      "255 -> 267 ;\n",
      "268 [label=\"X[19] <= 0.5\\ngini = 0.375\\nsamples = 4\\nvalue = [1, 3]\"] ;\n",
      "267 -> 268 ;\n",
      "269 [label=\"gini = 0.0\\nsamples = 3\\nvalue = [0, 3]\"] ;\n",
      "268 -> 269 ;\n",
      "270 [label=\"gini = 0.0\\nsamples = 1\\nvalue = [1, 0]\"] ;\n",
      "268 -> 270 ;\n",
      "271 [label=\"gini = 0.0\\nsamples = 14\\nvalue = [14, 0]\"] ;\n",
      "267 -> 271 ;\n",
      "272 [label=\"X[18] <= 0.5\\ngini = 0.5\\nsamples = 2\\nvalue = [1, 1]\"] ;\n",
      "254 -> 272 ;\n",
      "273 [label=\"gini = 0.0\\nsamples = 1\\nvalue = [1, 0]\"] ;\n",
      "272 -> 273 ;\n",
      "274 [label=\"gini = 0.0\\nsamples = 1\\nvalue = [0, 1]\"] ;\n",
      "272 -> 274 ;\n",
      "275 [label=\"X[0] <= 0.475\\ngini = 0.0104\\nsamples = 5528\\nvalue = [5499, 29]\"] ;\n",
      "239 -> 275 ;\n",
      "276 [label=\"X[8] <= 0.5\\ngini = 0.1528\\nsamples = 12\\nvalue = [11, 1]\"] ;\n",
      "275 -> 276 ;\n",
      "277 [label=\"gini = 0.0\\nsamples = 11\\nvalue = [11, 0]\"] ;\n",
      "276 -> 277 ;\n",
      "278 [label=\"gini = 0.0\\nsamples = 1\\nvalue = [0, 1]\"] ;\n",
      "276 -> 278 ;\n",
      "279 [label=\"X[0] <= 0.585\\ngini = 0.0101\\nsamples = 5516\\nvalue = [5488, 28]\"] ;\n",
      "275 -> 279 ;\n",
      "280 [label=\"X[10] <= 0.5\\ngini = 0.0226\\nsamples = 1136\\nvalue = [1123, 13]\"] ;\n",
      "279 -> 280 ;\n",
      "281 [label=\"X[14] <= 0.5\\ngini = 0.0183\\nsamples = 1083\\nvalue = [1073, 10]\"] ;\n",
      "280 -> 281 ;\n",
      "282 [label=\"X[3] <= 139.0\\ngini = 0.0077\\nsamples = 781\\nvalue = [778, 3]\"] ;\n",
      "281 -> 282 ;\n",
      "283 [label=\"X[9] <= 0.5\\ngini = 0.0689\\nsamples = 56\\nvalue = [54, 2]\"] ;\n",
      "282 -> 283 ;\n",
      "284 [label=\"X[16] <= 0.5\\ngini = 0.037\\nsamples = 53\\nvalue = [52, 1]\"] ;\n",
      "283 -> 284 ;\n",
      "285 [label=\"gini = 0.0\\nsamples = 39\\nvalue = [39, 0]\"] ;\n",
      "284 -> 285 ;\n",
      "286 [label=\"X[0] <= 0.515\\ngini = 0.1327\\nsamples = 14\\nvalue = [13, 1]\"] ;\n",
      "284 -> 286 ;\n",
      "287 [label=\"X[0] <= 0.505\\ngini = 0.2778\\nsamples = 6\\nvalue = [5, 1]\"] ;\n",
      "286 -> 287 ;\n",
      "288 [label=\"gini = 0.0\\nsamples = 5\\nvalue = [5, 0]\"] ;\n",
      "287 -> 288 ;\n",
      "289 [label=\"gini = 0.0\\nsamples = 1\\nvalue = [0, 1]\"] ;\n",
      "287 -> 289 ;\n",
      "290 [label=\"gini = 0.0\\nsamples = 8\\nvalue = [8, 0]\"] ;\n",
      "286 -> 290 ;\n",
      "291 [label=\"X[1] <= 0.73\\ngini = 0.4444\\nsamples = 3\\nvalue = [2, 1]\"] ;\n",
      "283 -> 291 ;\n",
      "292 [label=\"gini = 0.0\\nsamples = 2\\nvalue = [2, 0]\"] ;\n",
      "291 -> 292 ;\n",
      "293 [label=\"gini = 0.0\\nsamples = 1\\nvalue = [0, 1]\"] ;\n",
      "291 -> 293 ;\n",
      "294 [label=\"X[7] <= 0.5\\ngini = 0.0028\\nsamples = 725\\nvalue = [724, 1]\"] ;\n",
      "282 -> 294 ;\n",
      "295 [label=\"gini = 0.0\\nsamples = 646\\nvalue = [646, 0]\"] ;\n",
      "294 -> 295 ;\n",
      "296 [label=\"X[1] <= 0.855\\ngini = 0.025\\nsamples = 79\\nvalue = [78, 1]\"] ;\n",
      "294 -> 296 ;\n",
      "297 [label=\"gini = 0.0\\nsamples = 65\\nvalue = [65, 0]\"] ;\n",
      "296 -> 297 ;\n",
      "298 [label=\"X[1] <= 0.865\\ngini = 0.1327\\nsamples = 14\\nvalue = [13, 1]\"] ;\n",
      "296 -> 298 ;\n",
      "299 [label=\"gini = 0.0\\nsamples = 1\\nvalue = [0, 1]\"] ;\n",
      "298 -> 299 ;\n",
      "300 [label=\"gini = 0.0\\nsamples = 13\\nvalue = [13, 0]\"] ;\n",
      "298 -> 300 ;\n",
      "301 [label=\"X[0] <= 0.535\\ngini = 0.0453\\nsamples = 302\\nvalue = [295, 7]\"] ;\n",
      "281 -> 301 ;\n",
      "302 [label=\"X[0] <= 0.485\\ngini = 0.0118\\nsamples = 168\\nvalue = [167, 1]\"] ;\n",
      "301 -> 302 ;\n",
      "303 [label=\"X[3] <= 233.0\\ngini = 0.142\\nsamples = 13\\nvalue = [12, 1]\"] ;\n",
      "302 -> 303 ;\n",
      "304 [label=\"gini = 0.0\\nsamples = 12\\nvalue = [12, 0]\"] ;\n",
      "303 -> 304 ;\n",
      "305 [label=\"gini = 0.0\\nsamples = 1\\nvalue = [0, 1]\"] ;\n",
      "303 -> 305 ;\n",
      "306 [label=\"gini = 0.0\\nsamples = 155\\nvalue = [155, 0]\"] ;\n",
      "302 -> 306 ;\n",
      "307 [label=\"X[0] <= 0.545\\ngini = 0.0855\\nsamples = 134\\nvalue = [128, 6]\"] ;\n",
      "301 -> 307 ;\n",
      "308 [label=\"X[3] <= 169.0\\ngini = 0.2688\\nsamples = 25\\nvalue = [21, 4]\"] ;\n",
      "307 -> 308 ;\n",
      "309 [label=\"X[3] <= 163.5\\ngini = 0.4898\\nsamples = 7\\nvalue = [4, 3]\"] ;\n",
      "308 -> 309 ;\n",
      "310 [label=\"gini = 0.0\\nsamples = 4\\nvalue = [4, 0]\"] ;\n",
      "309 -> 310 ;\n",
      "311 [label=\"gini = 0.0\\nsamples = 3\\nvalue = [0, 3]\"] ;\n",
      "309 -> 311 ;\n",
      "312 [label=\"X[3] <= 259.5\\ngini = 0.1049\\nsamples = 18\\nvalue = [17, 1]\"] ;\n",
      "308 -> 312 ;\n",
      "313 [label=\"gini = 0.0\\nsamples = 16\\nvalue = [16, 0]\"] ;\n",
      "312 -> 313 ;\n",
      "314 [label=\"X[19] <= 0.5\\ngini = 0.5\\nsamples = 2\\nvalue = [1, 1]\"] ;\n",
      "312 -> 314 ;\n",
      "315 [label=\"gini = 0.0\\nsamples = 1\\nvalue = [1, 0]\"] ;\n",
      "314 -> 315 ;\n",
      "316 [label=\"gini = 0.0\\nsamples = 1\\nvalue = [0, 1]\"] ;\n",
      "314 -> 316 ;\n",
      "317 [label=\"X[19] <= 0.5\\ngini = 0.036\\nsamples = 109\\nvalue = [107, 2]\"] ;\n",
      "307 -> 317 ;\n",
      "318 [label=\"gini = 0.0\\nsamples = 64\\nvalue = [64, 0]\"] ;\n",
      "317 -> 318 ;\n",
      "319 [label=\"X[4] <= 2.5\\ngini = 0.0849\\nsamples = 45\\nvalue = [43, 2]\"] ;\n",
      "317 -> 319 ;\n",
      "320 [label=\"X[3] <= 217.5\\ngini = 0.18\\nsamples = 20\\nvalue = [18, 2]\"] ;\n",
      "319 -> 320 ;\n",
      "321 [label=\"gini = 0.0\\nsamples = 12\\nvalue = [12, 0]\"] ;\n",
      "320 -> 321 ;\n",
      "322 [label=\"X[3] <= 237.0\\ngini = 0.375\\nsamples = 8\\nvalue = [6, 2]\"] ;\n",
      "320 -> 322 ;\n",
      "323 [label=\"X[1] <= 0.72\\ngini = 0.4444\\nsamples = 3\\nvalue = [1, 2]\"] ;\n",
      "322 -> 323 ;\n",
      "324 [label=\"gini = 0.0\\nsamples = 1\\nvalue = [1, 0]\"] ;\n",
      "323 -> 324 ;\n",
      "325 [label=\"gini = 0.0\\nsamples = 2\\nvalue = [0, 2]\"] ;\n",
      "323 -> 325 ;\n",
      "326 [label=\"gini = 0.0\\nsamples = 5\\nvalue = [5, 0]\"] ;\n",
      "322 -> 326 ;\n",
      "327 [label=\"gini = 0.0\\nsamples = 25\\nvalue = [25, 0]\"] ;\n",
      "319 -> 327 ;\n",
      "328 [label=\"X[0] <= 0.575\\ngini = 0.1068\\nsamples = 53\\nvalue = [50, 3]\"] ;\n",
      "280 -> 328 ;\n",
      "329 [label=\"gini = 0.0\\nsamples = 45\\nvalue = [45, 0]\"] ;\n",
      "328 -> 329 ;\n",
      "330 [label=\"X[3] <= 225.0\\ngini = 0.4688\\nsamples = 8\\nvalue = [5, 3]\"] ;\n",
      "328 -> 330 ;\n",
      "331 [label=\"gini = 0.0\\nsamples = 5\\nvalue = [5, 0]\"] ;\n",
      "330 -> 331 ;\n",
      "332 [label=\"gini = 0.0\\nsamples = 3\\nvalue = [0, 3]\"] ;\n",
      "330 -> 332 ;\n",
      "333 [label=\"X[3] <= 262.5\\ngini = 0.0068\\nsamples = 4380\\nvalue = [4365, 15]\"] ;\n",
      "279 -> 333 ;\n",
      "334 [label=\"X[6] <= 0.5\\ngini = 0.005\\nsamples = 3985\\nvalue = [3975, 10]\"] ;\n",
      "333 -> 334 ;\n",
      "335 [label=\"X[1] <= 0.455\\ngini = 0.0041\\nsamples = 3892\\nvalue = [3884, 8]\"] ;\n",
      "334 -> 335 ;\n",
      "336 [label=\"X[1] <= 0.445\\ngini = 0.0555\\nsamples = 35\\nvalue = [34, 1]\"] ;\n",
      "335 -> 336 ;\n",
      "337 [label=\"gini = 0.0\\nsamples = 30\\nvalue = [30, 0]\"] ;\n",
      "336 -> 337 ;\n",
      "338 [label=\"X[0] <= 0.77\\ngini = 0.32\\nsamples = 5\\nvalue = [4, 1]\"] ;\n",
      "336 -> 338 ;\n",
      "339 [label=\"gini = 0.0\\nsamples = 4\\nvalue = [4, 0]\"] ;\n",
      "338 -> 339 ;\n",
      "340 [label=\"gini = 0.0\\nsamples = 1\\nvalue = [0, 1]\"] ;\n",
      "338 -> 340 ;\n",
      "341 [label=\"X[1] <= 0.995\\ngini = 0.0036\\nsamples = 3857\\nvalue = [3850, 7]\"] ;\n",
      "335 -> 341 ;\n",
      "342 [label=\"X[2] <= 3.5\\ngini = 0.0031\\nsamples = 3817\\nvalue = [3811, 6]\"] ;\n",
      "341 -> 342 ;\n",
      "343 [label=\"X[15] <= 0.5\\ngini = 0.0076\\nsamples = 1565\\nvalue = [1559, 6]\"] ;\n",
      "342 -> 343 ;\n",
      "344 [label=\"X[14] <= 0.5\\ngini = 0.0045\\nsamples = 1318\\nvalue = [1315, 3]\"] ;\n",
      "343 -> 344 ;\n",
      "345 [label=\"gini = 0.0\\nsamples = 919\\nvalue = [919, 0]\"] ;\n",
      "344 -> 345 ;\n",
      "346 [label=\"X[18] <= 0.5\\ngini = 0.0149\\nsamples = 399\\nvalue = [396, 3]\"] ;\n",
      "344 -> 346 ;\n",
      "347 [label=\"gini = 0.0\\nsamples = 218\\nvalue = [218, 0]\"] ;\n",
      "346 -> 347 ;\n",
      "348 [label=\"X[0] <= 0.785\\ngini = 0.0326\\nsamples = 181\\nvalue = [178, 3]\"] ;\n",
      "346 -> 348 ;\n",
      "349 [label=\"X[0] <= 0.775\\ngini = 0.0631\\nsamples = 92\\nvalue = [89, 3]\"] ;\n",
      "348 -> 349 ;\n",
      "350 [label=\"gini = 0.0\\nsamples = 85\\nvalue = [85, 0]\"] ;\n",
      "349 -> 350 ;\n",
      "351 [label=\"X[1] <= 0.655\\ngini = 0.4898\\nsamples = 7\\nvalue = [4, 3]\"] ;\n",
      "349 -> 351 ;\n",
      "352 [label=\"gini = 0.0\\nsamples = 3\\nvalue = [3, 0]\"] ;\n",
      "351 -> 352 ;\n",
      "353 [label=\"X[1] <= 0.84\\ngini = 0.375\\nsamples = 4\\nvalue = [1, 3]\"] ;\n",
      "351 -> 353 ;\n",
      "354 [label=\"gini = 0.0\\nsamples = 3\\nvalue = [0, 3]\"] ;\n",
      "353 -> 354 ;\n",
      "355 [label=\"gini = 0.0\\nsamples = 1\\nvalue = [1, 0]\"] ;\n",
      "353 -> 355 ;\n",
      "356 [label=\"gini = 0.0\\nsamples = 89\\nvalue = [89, 0]\"] ;\n",
      "348 -> 356 ;\n",
      "357 [label=\"X[0] <= 0.635\\ngini = 0.024\\nsamples = 247\\nvalue = [244, 3]\"] ;\n",
      "343 -> 357 ;\n",
      "358 [label=\"X[3] <= 248.5\\ngini = 0.142\\nsamples = 26\\nvalue = [24, 2]\"] ;\n",
      "357 -> 358 ;\n",
      "359 [label=\"X[1] <= 0.92\\ngini = 0.0832\\nsamples = 23\\nvalue = [22, 1]\"] ;\n",
      "358 -> 359 ;\n",
      "360 [label=\"gini = 0.0\\nsamples = 18\\nvalue = [18, 0]\"] ;\n",
      "359 -> 360 ;\n",
      "361 [label=\"X[0] <= 0.62\\ngini = 0.32\\nsamples = 5\\nvalue = [4, 1]\"] ;\n",
      "359 -> 361 ;\n",
      "362 [label=\"gini = 0.0\\nsamples = 4\\nvalue = [4, 0]\"] ;\n",
      "361 -> 362 ;\n",
      "363 [label=\"gini = 0.0\\nsamples = 1\\nvalue = [0, 1]\"] ;\n",
      "361 -> 363 ;\n",
      "364 [label=\"X[1] <= 0.82\\ngini = 0.4444\\nsamples = 3\\nvalue = [2, 1]\"] ;\n",
      "358 -> 364 ;\n",
      "365 [label=\"gini = 0.0\\nsamples = 2\\nvalue = [2, 0]\"] ;\n",
      "364 -> 365 ;\n",
      "366 [label=\"gini = 0.0\\nsamples = 1\\nvalue = [0, 1]\"] ;\n",
      "364 -> 366 ;\n",
      "367 [label=\"X[3] <= 149.5\\ngini = 0.009\\nsamples = 221\\nvalue = [220, 1]\"] ;\n",
      "357 -> 367 ;\n",
      "368 [label=\"X[3] <= 148.5\\ngini = 0.0444\\nsamples = 44\\nvalue = [43, 1]\"] ;\n",
      "367 -> 368 ;\n",
      "369 [label=\"gini = 0.0\\nsamples = 33\\nvalue = [33, 0]\"] ;\n",
      "368 -> 369 ;\n",
      "370 [label=\"X[4] <= 2.5\\ngini = 0.1653\\nsamples = 11\\nvalue = [10, 1]\"] ;\n",
      "368 -> 370 ;\n",
      "371 [label=\"X[0] <= 0.81\\ngini = 0.4444\\nsamples = 3\\nvalue = [2, 1]\"] ;\n",
      "370 -> 371 ;\n",
      "372 [label=\"gini = 0.0\\nsamples = 2\\nvalue = [2, 0]\"] ;\n",
      "371 -> 372 ;\n",
      "373 [label=\"gini = 0.0\\nsamples = 1\\nvalue = [0, 1]\"] ;\n",
      "371 -> 373 ;\n",
      "374 [label=\"gini = 0.0\\nsamples = 8\\nvalue = [8, 0]\"] ;\n",
      "370 -> 374 ;\n",
      "375 [label=\"gini = 0.0\\nsamples = 177\\nvalue = [177, 0]\"] ;\n",
      "367 -> 375 ;\n",
      "376 [label=\"gini = 0.0\\nsamples = 2252\\nvalue = [2252, 0]\"] ;\n",
      "342 -> 376 ;\n",
      "377 [label=\"X[14] <= 0.5\\ngini = 0.0487\\nsamples = 40\\nvalue = [39, 1]\"] ;\n",
      "341 -> 377 ;\n",
      "378 [label=\"gini = 0.0\\nsamples = 29\\nvalue = [29, 0]\"] ;\n",
      "377 -> 378 ;\n",
      "379 [label=\"X[0] <= 0.715\\ngini = 0.1653\\nsamples = 11\\nvalue = [10, 1]\"] ;\n",
      "377 -> 379 ;\n",
      "380 [label=\"gini = 0.0\\nsamples = 8\\nvalue = [8, 0]\"] ;\n",
      "379 -> 380 ;\n",
      "381 [label=\"X[0] <= 0.725\\ngini = 0.4444\\nsamples = 3\\nvalue = [2, 1]\"] ;\n",
      "379 -> 381 ;\n",
      "382 [label=\"gini = 0.0\\nsamples = 1\\nvalue = [0, 1]\"] ;\n",
      "381 -> 382 ;\n",
      "383 [label=\"gini = 0.0\\nsamples = 2\\nvalue = [2, 0]\"] ;\n",
      "381 -> 383 ;\n",
      "384 [label=\"X[3] <= 140.0\\ngini = 0.0421\\nsamples = 93\\nvalue = [91, 2]\"] ;\n",
      "334 -> 384 ;\n",
      "385 [label=\"X[3] <= 138.0\\ngini = 0.32\\nsamples = 10\\nvalue = [8, 2]\"] ;\n",
      "384 -> 385 ;\n",
      "386 [label=\"gini = 0.0\\nsamples = 8\\nvalue = [8, 0]\"] ;\n",
      "385 -> 386 ;\n",
      "387 [label=\"gini = 0.0\\nsamples = 2\\nvalue = [0, 2]\"] ;\n",
      "385 -> 387 ;\n",
      "388 [label=\"gini = 0.0\\nsamples = 83\\nvalue = [83, 0]\"] ;\n",
      "384 -> 388 ;\n",
      "389 [label=\"X[0] <= 0.795\\ngini = 0.025\\nsamples = 395\\nvalue = [390, 5]\"] ;\n",
      "333 -> 389 ;\n",
      "390 [label=\"gini = 0.0\\nsamples = 218\\nvalue = [218, 0]\"] ;\n",
      "389 -> 390 ;\n",
      "391 [label=\"X[0] <= 0.805\\ngini = 0.0549\\nsamples = 177\\nvalue = [172, 5]\"] ;\n",
      "389 -> 391 ;\n",
      "392 [label=\"X[1] <= 0.755\\ngini = 0.32\\nsamples = 10\\nvalue = [8, 2]\"] ;\n",
      "391 -> 392 ;\n",
      "393 [label=\"X[1] <= 0.735\\ngini = 0.5\\nsamples = 4\\nvalue = [2, 2]\"] ;\n",
      "392 -> 393 ;\n",
      "394 [label=\"gini = 0.0\\nsamples = 2\\nvalue = [2, 0]\"] ;\n",
      "393 -> 394 ;\n",
      "395 [label=\"gini = 0.0\\nsamples = 2\\nvalue = [0, 2]\"] ;\n",
      "393 -> 395 ;\n",
      "396 [label=\"gini = 0.0\\nsamples = 6\\nvalue = [6, 0]\"] ;\n",
      "392 -> 396 ;\n",
      "397 [label=\"X[2] <= 4.5\\ngini = 0.0353\\nsamples = 167\\nvalue = [164, 3]\"] ;\n",
      "391 -> 397 ;\n",
      "398 [label=\"gini = 0.0\\nsamples = 133\\nvalue = [133, 0]\"] ;\n",
      "397 -> 398 ;\n",
      "399 [label=\"X[11] <= 0.5\\ngini = 0.1609\\nsamples = 34\\nvalue = [31, 3]\"] ;\n",
      "397 -> 399 ;\n",
      "400 [label=\"X[3] <= 263.5\\ngini = 0.1139\\nsamples = 33\\nvalue = [31, 2]\"] ;\n",
      "399 -> 400 ;\n",
      "401 [label=\"X[4] <= 2.5\\ngini = 0.5\\nsamples = 4\\nvalue = [2, 2]\"] ;\n",
      "400 -> 401 ;\n",
      "402 [label=\"gini = 0.0\\nsamples = 2\\nvalue = [0, 2]\"] ;\n",
      "401 -> 402 ;\n",
      "403 [label=\"gini = 0.0\\nsamples = 2\\nvalue = [2, 0]\"] ;\n",
      "401 -> 403 ;\n",
      "404 [label=\"gini = 0.0\\nsamples = 29\\nvalue = [29, 0]\"] ;\n",
      "400 -> 404 ;\n",
      "405 [label=\"gini = 0.0\\nsamples = 1\\nvalue = [0, 1]\"] ;\n",
      "399 -> 405 ;\n",
      "406 [label=\"X[1] <= 0.895\\ngini = 0.1653\\nsamples = 77\\nvalue = [70, 7]\"] ;\n",
      "238 -> 406 ;\n",
      "407 [label=\"X[0] <= 0.495\\ngini = 0.0605\\nsamples = 64\\nvalue = [62, 2]\"] ;\n",
      "406 -> 407 ;\n",
      "408 [label=\"X[14] <= 0.5\\ngini = 0.4444\\nsamples = 3\\nvalue = [2, 1]\"] ;\n",
      "407 -> 408 ;\n",
      "409 [label=\"gini = 0.0\\nsamples = 1\\nvalue = [0, 1]\"] ;\n",
      "408 -> 409 ;\n",
      "410 [label=\"gini = 0.0\\nsamples = 2\\nvalue = [2, 0]\"] ;\n",
      "408 -> 410 ;\n",
      "411 [label=\"X[7] <= 0.5\\ngini = 0.0322\\nsamples = 61\\nvalue = [60, 1]\"] ;\n",
      "407 -> 411 ;\n",
      "412 [label=\"gini = 0.0\\nsamples = 56\\nvalue = [56, 0]\"] ;\n",
      "411 -> 412 ;\n",
      "413 [label=\"X[1] <= 0.675\\ngini = 0.32\\nsamples = 5\\nvalue = [4, 1]\"] ;\n",
      "411 -> 413 ;\n",
      "414 [label=\"gini = 0.0\\nsamples = 4\\nvalue = [4, 0]\"] ;\n",
      "413 -> 414 ;\n",
      "415 [label=\"gini = 0.0\\nsamples = 1\\nvalue = [0, 1]\"] ;\n",
      "413 -> 415 ;\n",
      "416 [label=\"X[19] <= 0.5\\ngini = 0.4734\\nsamples = 13\\nvalue = [8, 5]\"] ;\n",
      "406 -> 416 ;\n",
      "417 [label=\"X[3] <= 178.0\\ngini = 0.4082\\nsamples = 7\\nvalue = [2, 5]\"] ;\n",
      "416 -> 417 ;\n",
      "418 [label=\"gini = 0.0\\nsamples = 2\\nvalue = [2, 0]\"] ;\n",
      "417 -> 418 ;\n",
      "419 [label=\"gini = 0.0\\nsamples = 5\\nvalue = [0, 5]\"] ;\n",
      "417 -> 419 ;\n",
      "420 [label=\"gini = 0.0\\nsamples = 6\\nvalue = [6, 0]\"] ;\n",
      "416 -> 420 ;\n",
      "421 [label=\"X[0] <= 0.475\\ngini = 0.075\\nsamples = 1102\\nvalue = [1059, 43]\"] ;\n",
      "237 -> 421 ;\n",
      "422 [label=\"X[3] <= 247.5\\ngini = 0.4898\\nsamples = 7\\nvalue = [4, 3]\"] ;\n",
      "421 -> 422 ;\n",
      "423 [label=\"gini = 0.0\\nsamples = 4\\nvalue = [4, 0]\"] ;\n",
      "422 -> 423 ;\n",
      "424 [label=\"gini = 0.0\\nsamples = 3\\nvalue = [0, 3]\"] ;\n",
      "422 -> 424 ;\n",
      "425 [label=\"X[16] <= 0.5\\ngini = 0.0704\\nsamples = 1095\\nvalue = [1055, 40]\"] ;\n",
      "421 -> 425 ;\n",
      "426 [label=\"X[10] <= 0.5\\ngini = 0.0504\\nsamples = 889\\nvalue = [866, 23]\"] ;\n",
      "425 -> 426 ;\n",
      "427 [label=\"X[18] <= 0.5\\ngini = 0.04\\nsamples = 833\\nvalue = [816, 17]\"] ;\n",
      "426 -> 427 ;\n",
      "428 [label=\"X[2] <= 5.5\\ngini = 0.0133\\nsamples = 448\\nvalue = [445, 3]\"] ;\n",
      "427 -> 428 ;\n",
      "429 [label=\"X[3] <= 131.0\\ngini = 0.0047\\nsamples = 423\\nvalue = [422, 1]\"] ;\n",
      "428 -> 429 ;\n",
      "430 [label=\"X[15] <= 0.5\\ngini = 0.1049\\nsamples = 18\\nvalue = [17, 1]\"] ;\n",
      "429 -> 430 ;\n",
      "431 [label=\"gini = 0.0\\nsamples = 16\\nvalue = [16, 0]\"] ;\n",
      "430 -> 431 ;\n",
      "432 [label=\"X[3] <= 124.0\\ngini = 0.5\\nsamples = 2\\nvalue = [1, 1]\"] ;\n",
      "430 -> 432 ;\n",
      "433 [label=\"gini = 0.0\\nsamples = 1\\nvalue = [1, 0]\"] ;\n",
      "432 -> 433 ;\n",
      "434 [label=\"gini = 0.0\\nsamples = 1\\nvalue = [0, 1]\"] ;\n",
      "432 -> 434 ;\n",
      "435 [label=\"gini = 0.0\\nsamples = 405\\nvalue = [405, 0]\"] ;\n",
      "429 -> 435 ;\n",
      "436 [label=\"X[7] <= 0.5\\ngini = 0.1472\\nsamples = 25\\nvalue = [23, 2]\"] ;\n",
      "428 -> 436 ;\n",
      "437 [label=\"gini = 0.0\\nsamples = 20\\nvalue = [20, 0]\"] ;\n",
      "436 -> 437 ;\n",
      "438 [label=\"X[0] <= 0.8\\ngini = 0.48\\nsamples = 5\\nvalue = [3, 2]\"] ;\n",
      "436 -> 438 ;\n",
      "439 [label=\"gini = 0.0\\nsamples = 3\\nvalue = [3, 0]\"] ;\n",
      "438 -> 439 ;\n",
      "440 [label=\"gini = 0.0\\nsamples = 2\\nvalue = [0, 2]\"] ;\n",
      "438 -> 440 ;\n",
      "441 [label=\"X[3] <= 273.5\\ngini = 0.0701\\nsamples = 385\\nvalue = [371, 14]\"] ;\n",
      "427 -> 441 ;\n",
      "442 [label=\"X[1] <= 0.755\\ngini = 0.0624\\nsamples = 372\\nvalue = [360, 12]\"] ;\n",
      "441 -> 442 ;\n",
      "443 [label=\"X[2] <= 4.5\\ngini = 0.0205\\nsamples = 193\\nvalue = [191, 2]\"] ;\n",
      "442 -> 443 ;\n",
      "444 [label=\"gini = 0.0\\nsamples = 152\\nvalue = [152, 0]\"] ;\n",
      "443 -> 444 ;\n",
      "445 [label=\"X[0] <= 0.505\\ngini = 0.0928\\nsamples = 41\\nvalue = [39, 2]\"] ;\n",
      "443 -> 445 ;\n",
      "446 [label=\"X[1] <= 0.625\\ngini = 0.5\\nsamples = 2\\nvalue = [1, 1]\"] ;\n",
      "445 -> 446 ;\n",
      "447 [label=\"gini = 0.0\\nsamples = 1\\nvalue = [0, 1]\"] ;\n",
      "446 -> 447 ;\n",
      "448 [label=\"gini = 0.0\\nsamples = 1\\nvalue = [1, 0]\"] ;\n",
      "446 -> 448 ;\n",
      "449 [label=\"X[1] <= 0.465\\ngini = 0.05\\nsamples = 39\\nvalue = [38, 1]\"] ;\n",
      "445 -> 449 ;\n",
      "450 [label=\"X[1] <= 0.455\\ngini = 0.2449\\nsamples = 7\\nvalue = [6, 1]\"] ;\n",
      "449 -> 450 ;\n",
      "451 [label=\"gini = 0.0\\nsamples = 6\\nvalue = [6, 0]\"] ;\n",
      "450 -> 451 ;\n",
      "452 [label=\"gini = 0.0\\nsamples = 1\\nvalue = [0, 1]\"] ;\n",
      "450 -> 452 ;\n",
      "453 [label=\"gini = 0.0\\nsamples = 32\\nvalue = [32, 0]\"] ;\n",
      "449 -> 453 ;\n",
      "454 [label=\"X[3] <= 234.0\\ngini = 0.1055\\nsamples = 179\\nvalue = [169, 10]\"] ;\n",
      "442 -> 454 ;\n",
      "455 [label=\"X[3] <= 232.5\\ngini = 0.1461\\nsamples = 126\\nvalue = [116, 10]\"] ;\n",
      "454 -> 455 ;\n",
      "456 [label=\"X[0] <= 0.635\\ngini = 0.109\\nsamples = 121\\nvalue = [114, 7]\"] ;\n",
      "455 -> 456 ;\n",
      "457 [label=\"X[0] <= 0.585\\ngini = 0.2392\\nsamples = 36\\nvalue = [31, 5]\"] ;\n",
      "456 -> 457 ;\n",
      "458 [label=\"X[12] <= 0.5\\ngini = 0.074\\nsamples = 26\\nvalue = [25, 1]\"] ;\n",
      "457 -> 458 ;\n",
      "459 [label=\"gini = 0.0\\nsamples = 24\\nvalue = [24, 0]\"] ;\n",
      "458 -> 459 ;\n",
      "460 [label=\"X[0] <= 0.52\\ngini = 0.5\\nsamples = 2\\nvalue = [1, 1]\"] ;\n",
      "458 -> 460 ;\n",
      "461 [label=\"gini = 0.0\\nsamples = 1\\nvalue = [1, 0]\"] ;\n",
      "460 -> 461 ;\n",
      "462 [label=\"gini = 0.0\\nsamples = 1\\nvalue = [0, 1]\"] ;\n",
      "460 -> 462 ;\n",
      "463 [label=\"X[1] <= 0.795\\ngini = 0.48\\nsamples = 10\\nvalue = [6, 4]\"] ;\n",
      "457 -> 463 ;\n",
      "464 [label=\"gini = 0.0\\nsamples = 2\\nvalue = [0, 2]\"] ;\n",
      "463 -> 464 ;\n",
      "465 [label=\"X[3] <= 132.0\\ngini = 0.375\\nsamples = 8\\nvalue = [6, 2]\"] ;\n",
      "463 -> 465 ;\n",
      "466 [label=\"gini = 0.0\\nsamples = 1\\nvalue = [0, 1]\"] ;\n",
      "465 -> 466 ;\n",
      "467 [label=\"X[9] <= 0.5\\ngini = 0.2449\\nsamples = 7\\nvalue = [6, 1]\"] ;\n",
      "465 -> 467 ;\n",
      "468 [label=\"gini = 0.0\\nsamples = 6\\nvalue = [6, 0]\"] ;\n",
      "467 -> 468 ;\n",
      "469 [label=\"gini = 0.0\\nsamples = 1\\nvalue = [0, 1]\"] ;\n",
      "467 -> 469 ;\n",
      "470 [label=\"X[3] <= 154.5\\ngini = 0.046\\nsamples = 85\\nvalue = [83, 2]\"] ;\n",
      "456 -> 470 ;\n",
      "471 [label=\"X[3] <= 153.5\\ngini = 0.1472\\nsamples = 25\\nvalue = [23, 2]\"] ;\n",
      "470 -> 471 ;\n",
      "472 [label=\"X[13] <= 0.5\\ngini = 0.0799\\nsamples = 24\\nvalue = [23, 1]\"] ;\n",
      "471 -> 472 ;\n",
      "473 [label=\"gini = 0.0\\nsamples = 22\\nvalue = [22, 0]\"] ;\n",
      "472 -> 473 ;\n",
      "474 [label=\"X[3] <= 149.0\\ngini = 0.5\\nsamples = 2\\nvalue = [1, 1]\"] ;\n",
      "472 -> 474 ;\n",
      "475 [label=\"gini = 0.0\\nsamples = 1\\nvalue = [1, 0]\"] ;\n",
      "474 -> 475 ;\n",
      "476 [label=\"gini = 0.0\\nsamples = 1\\nvalue = [0, 1]\"] ;\n",
      "474 -> 476 ;\n",
      "477 [label=\"gini = 0.0\\nsamples = 1\\nvalue = [0, 1]\"] ;\n",
      "471 -> 477 ;\n",
      "478 [label=\"gini = 0.0\\nsamples = 60\\nvalue = [60, 0]\"] ;\n",
      "470 -> 478 ;\n",
      "479 [label=\"X[15] <= 0.5\\ngini = 0.48\\nsamples = 5\\nvalue = [2, 3]\"] ;\n",
      "455 -> 479 ;\n",
      "480 [label=\"gini = 0.0\\nsamples = 2\\nvalue = [2, 0]\"] ;\n",
      "479 -> 480 ;\n",
      "481 [label=\"gini = 0.0\\nsamples = 3\\nvalue = [0, 3]\"] ;\n",
      "479 -> 481 ;\n",
      "482 [label=\"gini = 0.0\\nsamples = 53\\nvalue = [53, 0]\"] ;\n",
      "454 -> 482 ;\n",
      "483 [label=\"X[3] <= 275.0\\ngini = 0.2604\\nsamples = 13\\nvalue = [11, 2]\"] ;\n",
      "441 -> 483 ;\n",
      "484 [label=\"gini = 0.0\\nsamples = 2\\nvalue = [0, 2]\"] ;\n",
      "483 -> 484 ;\n",
      "485 [label=\"gini = 0.0\\nsamples = 11\\nvalue = [11, 0]\"] ;\n",
      "483 -> 485 ;\n",
      "486 [label=\"X[1] <= 0.855\\ngini = 0.1913\\nsamples = 56\\nvalue = [50, 6]\"] ;\n",
      "426 -> 486 ;\n",
      "487 [label=\"gini = 0.0\\nsamples = 33\\nvalue = [33, 0]\"] ;\n",
      "486 -> 487 ;\n",
      "488 [label=\"X[1] <= 0.885\\ngini = 0.3856\\nsamples = 23\\nvalue = [17, 6]\"] ;\n",
      "486 -> 488 ;\n",
      "489 [label=\"X[19] <= 0.5\\ngini = 0.4444\\nsamples = 9\\nvalue = [3, 6]\"] ;\n",
      "488 -> 489 ;\n",
      "490 [label=\"X[2] <= 3.5\\ngini = 0.375\\nsamples = 4\\nvalue = [3, 1]\"] ;\n",
      "489 -> 490 ;\n",
      "491 [label=\"gini = 0.0\\nsamples = 3\\nvalue = [3, 0]\"] ;\n",
      "490 -> 491 ;\n",
      "492 [label=\"gini = 0.0\\nsamples = 1\\nvalue = [0, 1]\"] ;\n",
      "490 -> 492 ;\n",
      "493 [label=\"gini = 0.0\\nsamples = 5\\nvalue = [0, 5]\"] ;\n",
      "489 -> 493 ;\n",
      "494 [label=\"gini = 0.0\\nsamples = 14\\nvalue = [14, 0]\"] ;\n",
      "488 -> 494 ;\n",
      "495 [label=\"X[0] <= 0.555\\ngini = 0.1514\\nsamples = 206\\nvalue = [189, 17]\"] ;\n",
      "425 -> 495 ;\n",
      "496 [label=\"X[3] <= 267.0\\ngini = 0.3829\\nsamples = 31\\nvalue = [23, 8]\"] ;\n",
      "495 -> 496 ;\n",
      "497 [label=\"X[19] <= 0.5\\ngini = 0.3282\\nsamples = 29\\nvalue = [23, 6]\"] ;\n",
      "496 -> 497 ;\n",
      "498 [label=\"gini = 0.0\\nsamples = 16\\nvalue = [16, 0]\"] ;\n",
      "497 -> 498 ;\n",
      "499 [label=\"X[0] <= 0.505\\ngini = 0.497\\nsamples = 13\\nvalue = [7, 6]\"] ;\n",
      "497 -> 499 ;\n",
      "500 [label=\"gini = 0.0\\nsamples = 3\\nvalue = [3, 0]\"] ;\n",
      "499 -> 500 ;\n",
      "501 [label=\"X[2] <= 4.5\\ngini = 0.48\\nsamples = 10\\nvalue = [4, 6]\"] ;\n",
      "499 -> 501 ;\n",
      "502 [label=\"X[3] <= 212.5\\ngini = 0.4898\\nsamples = 7\\nvalue = [4, 3]\"] ;\n",
      "501 -> 502 ;\n",
      "503 [label=\"X[1] <= 0.56\\ngini = 0.375\\nsamples = 4\\nvalue = [1, 3]\"] ;\n",
      "502 -> 503 ;\n",
      "504 [label=\"gini = 0.0\\nsamples = 1\\nvalue = [1, 0]\"] ;\n",
      "503 -> 504 ;\n",
      "505 [label=\"gini = 0.0\\nsamples = 3\\nvalue = [0, 3]\"] ;\n",
      "503 -> 505 ;\n",
      "506 [label=\"gini = 0.0\\nsamples = 3\\nvalue = [3, 0]\"] ;\n",
      "502 -> 506 ;\n",
      "507 [label=\"gini = 0.0\\nsamples = 3\\nvalue = [0, 3]\"] ;\n",
      "501 -> 507 ;\n",
      "508 [label=\"gini = 0.0\\nsamples = 2\\nvalue = [0, 2]\"] ;\n",
      "496 -> 508 ;\n",
      "509 [label=\"X[18] <= 0.5\\ngini = 0.0976\\nsamples = 175\\nvalue = [166, 9]\"] ;\n",
      "495 -> 509 ;\n",
      "510 [label=\"gini = 0.0\\nsamples = 92\\nvalue = [92, 0]\"] ;\n",
      "509 -> 510 ;\n",
      "511 [label=\"X[3] <= 206.5\\ngini = 0.1934\\nsamples = 83\\nvalue = [74, 9]\"] ;\n",
      "509 -> 511 ;\n",
      "512 [label=\"X[3] <= 204.5\\ngini = 0.2688\\nsamples = 50\\nvalue = [42, 8]\"] ;\n",
      "511 -> 512 ;\n",
      "513 [label=\"X[1] <= 0.735\\ngini = 0.2188\\nsamples = 48\\nvalue = [42, 6]\"] ;\n",
      "512 -> 513 ;\n",
      "514 [label=\"gini = 0.0\\nsamples = 19\\nvalue = [19, 0]\"] ;\n",
      "513 -> 514 ;\n",
      "515 [label=\"X[1] <= 0.745\\ngini = 0.3282\\nsamples = 29\\nvalue = [23, 6]\"] ;\n",
      "513 -> 515 ;\n",
      "516 [label=\"gini = 0.0\\nsamples = 3\\nvalue = [0, 3]\"] ;\n",
      "515 -> 516 ;\n",
      "517 [label=\"X[2] <= 5.5\\ngini = 0.2041\\nsamples = 26\\nvalue = [23, 3]\"] ;\n",
      "515 -> 517 ;\n",
      "518 [label=\"X[1] <= 0.925\\ngini = 0.0907\\nsamples = 21\\nvalue = [20, 1]\"] ;\n",
      "517 -> 518 ;\n",
      "519 [label=\"gini = 0.0\\nsamples = 16\\nvalue = [16, 0]\"] ;\n",
      "518 -> 519 ;\n",
      "520 [label=\"X[1] <= 0.935\\ngini = 0.32\\nsamples = 5\\nvalue = [4, 1]\"] ;\n",
      "518 -> 520 ;\n",
      "521 [label=\"gini = 0.0\\nsamples = 1\\nvalue = [0, 1]\"] ;\n",
      "520 -> 521 ;\n",
      "522 [label=\"gini = 0.0\\nsamples = 4\\nvalue = [4, 0]\"] ;\n",
      "520 -> 522 ;\n",
      "523 [label=\"X[0] <= 0.77\\ngini = 0.48\\nsamples = 5\\nvalue = [3, 2]\"] ;\n",
      "517 -> 523 ;\n",
      "524 [label=\"gini = 0.0\\nsamples = 2\\nvalue = [0, 2]\"] ;\n",
      "523 -> 524 ;\n",
      "525 [label=\"gini = 0.0\\nsamples = 3\\nvalue = [3, 0]\"] ;\n",
      "523 -> 525 ;\n",
      "526 [label=\"gini = 0.0\\nsamples = 2\\nvalue = [0, 2]\"] ;\n",
      "512 -> 526 ;\n",
      "527 [label=\"X[2] <= 2.5\\ngini = 0.0588\\nsamples = 33\\nvalue = [32, 1]\"] ;\n",
      "511 -> 527 ;\n",
      "528 [label=\"X[1] <= 0.67\\ngini = 0.32\\nsamples = 5\\nvalue = [4, 1]\"] ;\n",
      "527 -> 528 ;\n",
      "529 [label=\"gini = 0.0\\nsamples = 1\\nvalue = [0, 1]\"] ;\n",
      "528 -> 529 ;\n",
      "530 [label=\"gini = 0.0\\nsamples = 4\\nvalue = [4, 0]\"] ;\n",
      "528 -> 530 ;\n",
      "531 [label=\"gini = 0.0\\nsamples = 28\\nvalue = [28, 0]\"] ;\n",
      "527 -> 531 ;\n",
      "532 [label=\"gini = 0.0\\nsamples = 4\\nvalue = [0, 4]\"] ;\n",
      "236 -> 532 ;\n",
      "533 [label=\"gini = 0.0\\nsamples = 4\\nvalue = [0, 4]\"] ;\n",
      "235 -> 533 ;\n",
      "534 [label=\"X[1] <= 0.805\\ngini = 0.4959\\nsamples = 1592\\nvalue = [868, 724]\"] ;\n",
      "234 -> 534 ;\n",
      "535 [label=\"X[3] <= 272.5\\ngini = 0.0726\\nsamples = 610\\nvalue = [587, 23]\"] ;\n",
      "534 -> 535 ;\n",
      "536 [label=\"X[2] <= 6.5\\ngini = 0.0535\\nsamples = 582\\nvalue = [566, 16]\"] ;\n",
      "535 -> 536 ;\n",
      "537 [label=\"X[4] <= 5.5\\ngini = 0.0503\\nsamples = 581\\nvalue = [566, 15]\"] ;\n",
      "536 -> 537 ;\n",
      "538 [label=\"X[16] <= 0.5\\ngini = 0.1238\\nsamples = 181\\nvalue = [169, 12]\"] ;\n",
      "537 -> 538 ;\n",
      "539 [label=\"X[12] <= 0.5\\ngini = 0.0653\\nsamples = 148\\nvalue = [143, 5]\"] ;\n",
      "538 -> 539 ;\n",
      "540 [label=\"X[0] <= 0.665\\ngini = 0.0431\\nsamples = 136\\nvalue = [133, 3]\"] ;\n",
      "539 -> 540 ;\n",
      "541 [label=\"gini = 0.0\\nsamples = 56\\nvalue = [56, 0]\"] ;\n",
      "540 -> 541 ;\n",
      "542 [label=\"X[0] <= 0.685\\ngini = 0.0722\\nsamples = 80\\nvalue = [77, 3]\"] ;\n",
      "540 -> 542 ;\n",
      "543 [label=\"X[3] <= 201.5\\ngini = 0.375\\nsamples = 8\\nvalue = [6, 2]\"] ;\n",
      "542 -> 543 ;\n",
      "544 [label=\"gini = 0.0\\nsamples = 2\\nvalue = [0, 2]\"] ;\n",
      "543 -> 544 ;\n",
      "545 [label=\"gini = 0.0\\nsamples = 6\\nvalue = [6, 0]\"] ;\n",
      "543 -> 545 ;\n",
      "546 [label=\"X[15] <= 0.5\\ngini = 0.0274\\nsamples = 72\\nvalue = [71, 1]\"] ;\n",
      "542 -> 546 ;\n",
      "547 [label=\"gini = 0.0\\nsamples = 51\\nvalue = [51, 0]\"] ;\n",
      "546 -> 547 ;\n",
      "548 [label=\"X[2] <= 4.5\\ngini = 0.0907\\nsamples = 21\\nvalue = [20, 1]\"] ;\n",
      "546 -> 548 ;\n",
      "549 [label=\"gini = 0.0\\nsamples = 13\\nvalue = [13, 0]\"] ;\n",
      "548 -> 549 ;\n",
      "550 [label=\"X[0] <= 0.82\\ngini = 0.2188\\nsamples = 8\\nvalue = [7, 1]\"] ;\n",
      "548 -> 550 ;\n",
      "551 [label=\"X[1] <= 0.565\\ngini = 0.5\\nsamples = 2\\nvalue = [1, 1]\"] ;\n",
      "550 -> 551 ;\n",
      "552 [label=\"gini = 0.0\\nsamples = 1\\nvalue = [1, 0]\"] ;\n",
      "551 -> 552 ;\n",
      "553 [label=\"gini = 0.0\\nsamples = 1\\nvalue = [0, 1]\"] ;\n",
      "551 -> 553 ;\n",
      "554 [label=\"gini = 0.0\\nsamples = 6\\nvalue = [6, 0]\"] ;\n",
      "550 -> 554 ;\n",
      "555 [label=\"X[3] <= 235.5\\ngini = 0.2778\\nsamples = 12\\nvalue = [10, 2]\"] ;\n",
      "539 -> 555 ;\n",
      "556 [label=\"gini = 0.0\\nsamples = 10\\nvalue = [10, 0]\"] ;\n",
      "555 -> 556 ;\n",
      "557 [label=\"gini = 0.0\\nsamples = 2\\nvalue = [0, 2]\"] ;\n",
      "555 -> 557 ;\n",
      "558 [label=\"X[17] <= 0.5\\ngini = 0.3343\\nsamples = 33\\nvalue = [26, 7]\"] ;\n",
      "538 -> 558 ;\n",
      "559 [label=\"X[19] <= 0.5\\ngini = 0.1327\\nsamples = 28\\nvalue = [26, 2]\"] ;\n",
      "558 -> 559 ;\n",
      "560 [label=\"X[3] <= 166.5\\ngini = 0.32\\nsamples = 10\\nvalue = [8, 2]\"] ;\n",
      "559 -> 560 ;\n",
      "561 [label=\"X[3] <= 146.5\\ngini = 0.5\\nsamples = 4\\nvalue = [2, 2]\"] ;\n",
      "560 -> 561 ;\n",
      "562 [label=\"gini = 0.0\\nsamples = 2\\nvalue = [2, 0]\"] ;\n",
      "561 -> 562 ;\n",
      "563 [label=\"gini = 0.0\\nsamples = 2\\nvalue = [0, 2]\"] ;\n",
      "561 -> 563 ;\n",
      "564 [label=\"gini = 0.0\\nsamples = 6\\nvalue = [6, 0]\"] ;\n",
      "560 -> 564 ;\n",
      "565 [label=\"gini = 0.0\\nsamples = 18\\nvalue = [18, 0]\"] ;\n",
      "559 -> 565 ;\n",
      "566 [label=\"gini = 0.0\\nsamples = 5\\nvalue = [0, 5]\"] ;\n",
      "558 -> 566 ;\n",
      "567 [label=\"X[15] <= 0.5\\ngini = 0.0149\\nsamples = 400\\nvalue = [397, 3]\"] ;\n",
      "537 -> 567 ;\n",
      "568 [label=\"X[3] <= 132.5\\ngini = 0.0054\\nsamples = 372\\nvalue = [371, 1]\"] ;\n",
      "567 -> 568 ;\n",
      "569 [label=\"X[1] <= 0.72\\ngini = 0.0555\\nsamples = 35\\nvalue = [34, 1]\"] ;\n",
      "568 -> 569 ;\n",
      "570 [label=\"gini = 0.0\\nsamples = 33\\nvalue = [33, 0]\"] ;\n",
      "569 -> 570 ;\n",
      "571 [label=\"X[18] <= 0.5\\ngini = 0.5\\nsamples = 2\\nvalue = [1, 1]\"] ;\n",
      "569 -> 571 ;\n",
      "572 [label=\"gini = 0.0\\nsamples = 1\\nvalue = [1, 0]\"] ;\n",
      "571 -> 572 ;\n",
      "573 [label=\"gini = 0.0\\nsamples = 1\\nvalue = [0, 1]\"] ;\n",
      "571 -> 573 ;\n",
      "574 [label=\"gini = 0.0\\nsamples = 337\\nvalue = [337, 0]\"] ;\n",
      "568 -> 574 ;\n",
      "575 [label=\"X[0] <= 0.845\\ngini = 0.1327\\nsamples = 28\\nvalue = [26, 2]\"] ;\n",
      "567 -> 575 ;\n",
      "576 [label=\"gini = 0.0\\nsamples = 20\\nvalue = [20, 0]\"] ;\n",
      "575 -> 576 ;\n",
      "577 [label=\"X[0] <= 0.895\\ngini = 0.375\\nsamples = 8\\nvalue = [6, 2]\"] ;\n",
      "575 -> 577 ;\n",
      "578 [label=\"gini = 0.0\\nsamples = 2\\nvalue = [0, 2]\"] ;\n",
      "577 -> 578 ;\n",
      "579 [label=\"gini = 0.0\\nsamples = 6\\nvalue = [6, 0]\"] ;\n",
      "577 -> 579 ;\n",
      "580 [label=\"gini = 0.0\\nsamples = 1\\nvalue = [0, 1]\"] ;\n",
      "536 -> 580 ;\n",
      "581 [label=\"X[16] <= 0.5\\ngini = 0.375\\nsamples = 28\\nvalue = [21, 7]\"] ;\n",
      "535 -> 581 ;\n",
      "582 [label=\"X[15] <= 0.5\\ngini = 0.2688\\nsamples = 25\\nvalue = [21, 4]\"] ;\n",
      "581 -> 582 ;\n",
      "583 [label=\"X[10] <= 0.5\\ngini = 0.1588\\nsamples = 23\\nvalue = [21, 2]\"] ;\n",
      "582 -> 583 ;\n",
      "584 [label=\"gini = 0.0\\nsamples = 18\\nvalue = [18, 0]\"] ;\n",
      "583 -> 584 ;\n",
      "585 [label=\"X[3] <= 278.0\\ngini = 0.48\\nsamples = 5\\nvalue = [3, 2]\"] ;\n",
      "583 -> 585 ;\n",
      "586 [label=\"gini = 0.0\\nsamples = 3\\nvalue = [3, 0]\"] ;\n",
      "585 -> 586 ;\n",
      "587 [label=\"gini = 0.0\\nsamples = 2\\nvalue = [0, 2]\"] ;\n",
      "585 -> 587 ;\n",
      "588 [label=\"gini = 0.0\\nsamples = 2\\nvalue = [0, 2]\"] ;\n",
      "582 -> 588 ;\n",
      "589 [label=\"gini = 0.0\\nsamples = 3\\nvalue = [0, 3]\"] ;\n",
      "581 -> 589 ;\n",
      "590 [label=\"X[3] <= 216.5\\ngini = 0.4085\\nsamples = 982\\nvalue = [281, 701]\"] ;\n",
      "534 -> 590 ;\n",
      "591 [label=\"X[1] <= 0.995\\ngini = 0.0981\\nsamples = 174\\nvalue = [165, 9]\"] ;\n",
      "590 -> 591 ;\n",
      "592 [label=\"X[15] <= 0.5\\ngini = 0.0781\\nsamples = 172\\nvalue = [165, 7]\"] ;\n",
      "591 -> 592 ;\n",
      "593 [label=\"X[10] <= 0.5\\ngini = 0.028\\nsamples = 141\\nvalue = [139, 2]\"] ;\n",
      "592 -> 593 ;\n",
      "594 [label=\"X[2] <= 2.5\\ngini = 0.0148\\nsamples = 134\\nvalue = [133, 1]\"] ;\n",
      "593 -> 594 ;\n",
      "595 [label=\"X[3] <= 180.5\\ngini = 0.18\\nsamples = 10\\nvalue = [9, 1]\"] ;\n",
      "594 -> 595 ;\n",
      "596 [label=\"gini = 0.0\\nsamples = 7\\nvalue = [7, 0]\"] ;\n",
      "595 -> 596 ;\n",
      "597 [label=\"X[19] <= 0.5\\ngini = 0.4444\\nsamples = 3\\nvalue = [2, 1]\"] ;\n",
      "595 -> 597 ;\n",
      "598 [label=\"gini = 0.0\\nsamples = 2\\nvalue = [2, 0]\"] ;\n",
      "597 -> 598 ;\n",
      "599 [label=\"gini = 0.0\\nsamples = 1\\nvalue = [0, 1]\"] ;\n",
      "597 -> 599 ;\n",
      "600 [label=\"gini = 0.0\\nsamples = 124\\nvalue = [124, 0]\"] ;\n",
      "594 -> 600 ;\n",
      "601 [label=\"X[18] <= 0.5\\ngini = 0.2449\\nsamples = 7\\nvalue = [6, 1]\"] ;\n",
      "593 -> 601 ;\n",
      "602 [label=\"gini = 0.0\\nsamples = 6\\nvalue = [6, 0]\"] ;\n",
      "601 -> 602 ;\n",
      "603 [label=\"gini = 0.0\\nsamples = 1\\nvalue = [0, 1]\"] ;\n",
      "601 -> 603 ;\n",
      "604 [label=\"X[0] <= 0.555\\ngini = 0.2706\\nsamples = 31\\nvalue = [26, 5]\"] ;\n",
      "592 -> 604 ;\n",
      "605 [label=\"X[3] <= 175.0\\ngini = 0.48\\nsamples = 5\\nvalue = [2, 3]\"] ;\n",
      "604 -> 605 ;\n",
      "606 [label=\"gini = 0.0\\nsamples = 3\\nvalue = [0, 3]\"] ;\n",
      "605 -> 606 ;\n",
      "607 [label=\"gini = 0.0\\nsamples = 2\\nvalue = [2, 0]\"] ;\n",
      "605 -> 607 ;\n",
      "608 [label=\"X[4] <= 5.5\\ngini = 0.142\\nsamples = 26\\nvalue = [24, 2]\"] ;\n",
      "604 -> 608 ;\n",
      "609 [label=\"X[3] <= 163.0\\ngini = 0.4082\\nsamples = 7\\nvalue = [5, 2]\"] ;\n",
      "608 -> 609 ;\n",
      "610 [label=\"gini = 0.0\\nsamples = 4\\nvalue = [4, 0]\"] ;\n",
      "609 -> 610 ;\n",
      "611 [label=\"X[19] <= 0.5\\ngini = 0.4444\\nsamples = 3\\nvalue = [1, 2]\"] ;\n",
      "609 -> 611 ;\n",
      "612 [label=\"gini = 0.0\\nsamples = 2\\nvalue = [0, 2]\"] ;\n",
      "611 -> 612 ;\n",
      "613 [label=\"gini = 0.0\\nsamples = 1\\nvalue = [1, 0]\"] ;\n",
      "611 -> 613 ;\n",
      "614 [label=\"gini = 0.0\\nsamples = 19\\nvalue = [19, 0]\"] ;\n",
      "608 -> 614 ;\n",
      "615 [label=\"gini = 0.0\\nsamples = 2\\nvalue = [0, 2]\"] ;\n",
      "591 -> 615 ;\n",
      "616 [label=\"X[4] <= 6.5\\ngini = 0.2459\\nsamples = 808\\nvalue = [116, 692]\"] ;\n",
      "590 -> 616 ;\n",
      "617 [label=\"X[0] <= 0.715\\ngini = 0.1489\\nsamples = 753\\nvalue = [61, 692]\"] ;\n",
      "616 -> 617 ;\n",
      "618 [label=\"X[1] <= 0.915\\ngini = 0.3133\\nsamples = 36\\nvalue = [29, 7]\"] ;\n",
      "617 -> 618 ;\n",
      "619 [label=\"gini = 0.0\\nsamples = 22\\nvalue = [22, 0]\"] ;\n",
      "618 -> 619 ;\n",
      "620 [label=\"X[1] <= 0.94\\ngini = 0.5\\nsamples = 14\\nvalue = [7, 7]\"] ;\n",
      "618 -> 620 ;\n",
      "621 [label=\"X[0] <= 0.685\\ngini = 0.2778\\nsamples = 6\\nvalue = [1, 5]\"] ;\n",
      "620 -> 621 ;\n",
      "622 [label=\"gini = 0.0\\nsamples = 5\\nvalue = [0, 5]\"] ;\n",
      "621 -> 622 ;\n",
      "623 [label=\"gini = 0.0\\nsamples = 1\\nvalue = [1, 0]\"] ;\n",
      "621 -> 623 ;\n",
      "624 [label=\"X[3] <= 265.5\\ngini = 0.375\\nsamples = 8\\nvalue = [6, 2]\"] ;\n",
      "620 -> 624 ;\n",
      "625 [label=\"gini = 0.0\\nsamples = 6\\nvalue = [6, 0]\"] ;\n",
      "624 -> 625 ;\n",
      "626 [label=\"gini = 0.0\\nsamples = 2\\nvalue = [0, 2]\"] ;\n",
      "624 -> 626 ;\n",
      "627 [label=\"X[2] <= 3.5\\ngini = 0.0853\\nsamples = 717\\nvalue = [32, 685]\"] ;\n",
      "617 -> 627 ;\n",
      "628 [label=\"X[3] <= 296.5\\ngini = 0.1107\\nsamples = 17\\nvalue = [16, 1]\"] ;\n",
      "627 -> 628 ;\n",
      "629 [label=\"gini = 0.0\\nsamples = 16\\nvalue = [16, 0]\"] ;\n",
      "628 -> 629 ;\n",
      "630 [label=\"gini = 0.0\\nsamples = 1\\nvalue = [0, 1]\"] ;\n",
      "628 -> 630 ;\n",
      "631 [label=\"X[2] <= 5.5\\ngini = 0.0447\\nsamples = 700\\nvalue = [16, 684]\"] ;\n",
      "627 -> 631 ;\n",
      "632 [label=\"X[0] <= 0.925\\ngini = 0.0284\\nsamples = 694\\nvalue = [10, 684]\"] ;\n",
      "631 -> 632 ;\n",
      "633 [label=\"X[3] <= 223.5\\ngini = 0.0229\\nsamples = 692\\nvalue = [8, 684]\"] ;\n",
      "632 -> 633 ;\n",
      "634 [label=\"X[1] <= 0.88\\ngini = 0.0832\\nsamples = 69\\nvalue = [3, 66]\"] ;\n",
      "633 -> 634 ;\n",
      "635 [label=\"X[1] <= 0.865\\ngini = 0.2449\\nsamples = 21\\nvalue = [3, 18]\"] ;\n",
      "634 -> 635 ;\n",
      "636 [label=\"X[0] <= 0.775\\ngini = 0.1107\\nsamples = 17\\nvalue = [1, 16]\"] ;\n",
      "635 -> 636 ;\n",
      "637 [label=\"X[16] <= 0.5\\ngini = 0.4444\\nsamples = 3\\nvalue = [1, 2]\"] ;\n",
      "636 -> 637 ;\n",
      "638 [label=\"gini = 0.0\\nsamples = 2\\nvalue = [0, 2]\"] ;\n",
      "637 -> 638 ;\n",
      "639 [label=\"gini = 0.0\\nsamples = 1\\nvalue = [1, 0]\"] ;\n",
      "637 -> 639 ;\n",
      "640 [label=\"gini = 0.0\\nsamples = 14\\nvalue = [0, 14]\"] ;\n",
      "636 -> 640 ;\n",
      "641 [label=\"X[18] <= 0.5\\ngini = 0.5\\nsamples = 4\\nvalue = [2, 2]\"] ;\n",
      "635 -> 641 ;\n",
      "642 [label=\"gini = 0.0\\nsamples = 2\\nvalue = [2, 0]\"] ;\n",
      "641 -> 642 ;\n",
      "643 [label=\"gini = 0.0\\nsamples = 2\\nvalue = [0, 2]\"] ;\n",
      "641 -> 643 ;\n",
      "644 [label=\"gini = 0.0\\nsamples = 48\\nvalue = [0, 48]\"] ;\n",
      "634 -> 644 ;\n",
      "645 [label=\"X[5] <= 0.5\\ngini = 0.0159\\nsamples = 623\\nvalue = [5, 618]\"] ;\n",
      "633 -> 645 ;\n",
      "646 [label=\"X[11] <= 0.5\\ngini = 0.0101\\nsamples = 593\\nvalue = [3, 590]\"] ;\n",
      "645 -> 646 ;\n",
      "647 [label=\"X[1] <= 0.835\\ngini = 0.0069\\nsamples = 576\\nvalue = [2, 574]\"] ;\n",
      "646 -> 647 ;\n",
      "648 [label=\"X[0] <= 0.735\\ngini = 0.0555\\nsamples = 35\\nvalue = [1, 34]\"] ;\n",
      "647 -> 648 ;\n",
      "649 [label=\"gini = 0.0\\nsamples = 1\\nvalue = [1, 0]\"] ;\n",
      "648 -> 649 ;\n",
      "650 [label=\"gini = 0.0\\nsamples = 34\\nvalue = [0, 34]\"] ;\n",
      "648 -> 650 ;\n",
      "651 [label=\"X[4] <= 5.5\\ngini = 0.0037\\nsamples = 541\\nvalue = [1, 540]\"] ;\n",
      "647 -> 651 ;\n",
      "652 [label=\"gini = 0.0\\nsamples = 433\\nvalue = [0, 433]\"] ;\n",
      "651 -> 652 ;\n",
      "653 [label=\"X[19] <= 0.5\\ngini = 0.0183\\nsamples = 108\\nvalue = [1, 107]\"] ;\n",
      "651 -> 653 ;\n",
      "654 [label=\"gini = 0.0\\nsamples = 76\\nvalue = [0, 76]\"] ;\n",
      "653 -> 654 ;\n",
      "655 [label=\"X[3] <= 244.0\\ngini = 0.0605\\nsamples = 32\\nvalue = [1, 31]\"] ;\n",
      "653 -> 655 ;\n",
      "656 [label=\"X[3] <= 237.5\\ngini = 0.1975\\nsamples = 9\\nvalue = [1, 8]\"] ;\n",
      "655 -> 656 ;\n",
      "657 [label=\"gini = 0.0\\nsamples = 6\\nvalue = [0, 6]\"] ;\n",
      "656 -> 657 ;\n",
      "658 [label=\"X[0] <= 0.78\\ngini = 0.4444\\nsamples = 3\\nvalue = [1, 2]\"] ;\n",
      "656 -> 658 ;\n",
      "659 [label=\"gini = 0.0\\nsamples = 2\\nvalue = [0, 2]\"] ;\n",
      "658 -> 659 ;\n",
      "660 [label=\"gini = 0.0\\nsamples = 1\\nvalue = [1, 0]\"] ;\n",
      "658 -> 660 ;\n",
      "661 [label=\"gini = 0.0\\nsamples = 23\\nvalue = [0, 23]\"] ;\n",
      "655 -> 661 ;\n",
      "662 [label=\"X[0] <= 0.89\\ngini = 0.1107\\nsamples = 17\\nvalue = [1, 16]\"] ;\n",
      "646 -> 662 ;\n",
      "663 [label=\"gini = 0.0\\nsamples = 16\\nvalue = [0, 16]\"] ;\n",
      "662 -> 663 ;\n",
      "664 [label=\"gini = 0.0\\nsamples = 1\\nvalue = [1, 0]\"] ;\n",
      "662 -> 664 ;\n",
      "665 [label=\"X[1] <= 0.965\\ngini = 0.1244\\nsamples = 30\\nvalue = [2, 28]\"] ;\n",
      "645 -> 665 ;\n",
      "666 [label=\"gini = 0.0\\nsamples = 21\\nvalue = [0, 21]\"] ;\n",
      "665 -> 666 ;\n",
      "667 [label=\"X[0] <= 0.915\\ngini = 0.3457\\nsamples = 9\\nvalue = [2, 7]\"] ;\n",
      "665 -> 667 ;\n",
      "668 [label=\"X[19] <= 0.5\\ngini = 0.2188\\nsamples = 8\\nvalue = [1, 7]\"] ;\n",
      "667 -> 668 ;\n",
      "669 [label=\"X[0] <= 0.84\\ngini = 0.5\\nsamples = 2\\nvalue = [1, 1]\"] ;\n",
      "668 -> 669 ;\n",
      "670 [label=\"gini = 0.0\\nsamples = 1\\nvalue = [1, 0]\"] ;\n",
      "669 -> 670 ;\n",
      "671 [label=\"gini = 0.0\\nsamples = 1\\nvalue = [0, 1]\"] ;\n",
      "669 -> 671 ;\n",
      "672 [label=\"gini = 0.0\\nsamples = 6\\nvalue = [0, 6]\"] ;\n",
      "668 -> 672 ;\n",
      "673 [label=\"gini = 0.0\\nsamples = 1\\nvalue = [1, 0]\"] ;\n",
      "667 -> 673 ;\n",
      "674 [label=\"gini = 0.0\\nsamples = 2\\nvalue = [2, 0]\"] ;\n",
      "632 -> 674 ;\n",
      "675 [label=\"gini = 0.0\\nsamples = 6\\nvalue = [6, 0]\"] ;\n",
      "631 -> 675 ;\n",
      "676 [label=\"gini = 0.0\\nsamples = 55\\nvalue = [55, 0]\"] ;\n",
      "616 -> 676 ;\n",
      "}\n"
     ]
    }
   ],
   "source": [
    "# Install necessary packages\n",
    "! pip install graphviz\n",
    "! pip install pydot\n",
    "from io import StringIO\n",
    "from sklearn.tree import export_graphviz\n",
    "\n",
    "out = StringIO()\n",
    "tree.export_graphviz(dt, out_file = out)\n",
    "# OUTPUT DOT LANGUAGE SCRIPTS\n",
    "print(out.getvalue())\n",
    "# Create a feature vector\n",
    "features = hr_data_with_dummies.columns.tolist()\n",
    "\n",
    "from sklearn.tree import export_graphviz\n",
    "tree.export_graphviz(dt, out_file='tree_hr_analysis.dot', feature_names=features)"
   ]
  },
  {
   "cell_type": "code",
   "execution_count": 15,
   "metadata": {
    "collapsed": false
   },
   "outputs": [
    {
     "name": "stdout",
     "output_type": "stream",
     "text": [
      "Training score:  0.848404033669\n",
      "Testing score:  0.856\n"
     ]
    }
   ],
   "source": [
    "# Let's try running this with not as much depth\n",
    "# Decision tree\n",
    "from sklearn import tree\n",
    "dt = tree.DecisionTreeClassifier(random_state=1, max_depth=2)\n",
    "dt.fit(data_train, label_train)\n",
    "dt_score_train = dt.score(data_train, label_train)\n",
    "print(\"Training score: \",dt_score_train)\n",
    "dt_score_test = dt.score(data_test, label_test)\n",
    "print(\"Testing score: \",dt_score_test)\n",
    "\n",
    "# Create a feature vector\n",
    "features = hr_data_with_dummies.columns.tolist()\n",
    "\n",
    "from sklearn.tree import export_graphviz\n",
    "tree.export_graphviz(dt, out_file='tree_hr_analysis_smaller_tree.dot', feature_names=features)"
   ]
  },
  {
   "cell_type": "markdown",
   "metadata": {},
   "source": [
    "### Visualising the tree is a bit of a hassle... \n",
    "You can try copying and pasting the tree from the dot output into a tool like, (webgraphviz [http://www.webgraphviz.com/]."
   ]
  },
  {
   "cell_type": "markdown",
   "metadata": {},
   "source": []
  },
  {
   "cell_type": "markdown",
   "metadata": {},
   "source": [
    "### Additional readings\n",
    "- CIA using Decision Trees: https://www.cia.gov/library/center-for-the-study-of-intelligence/kent-csi/vol18no4/html/v18i4a03p_0001.htm\n",
    "- Overview of difference approaches to building models: https://www.amazon.com/Master-Algorithm-Ultimate-Learning-Machine/dp/\n",
    "0465065708"
   ]
  },
  {
   "cell_type": "markdown",
   "metadata": {},
   "source": [
    "---"
   ]
  },
  {
   "cell_type": "markdown",
   "metadata": {},
   "source": [
    "## Week 6 Lesson 2\n",
    "## Random forest\n",
    "12 - 29 June 2017"
   ]
  },
  {
   "cell_type": "markdown",
   "metadata": {},
   "source": []
  },
  {
   "cell_type": "markdown",
   "metadata": {},
   "source": [
    "---"
   ]
  },
  {
   "cell_type": "markdown",
   "metadata": {},
   "source": [
    "## Week 7 Lesson 1\n",
    "## X\n",
    "13 - 4 July 2017"
   ]
  },
  {
   "cell_type": "markdown",
   "metadata": {},
   "source": []
  },
  {
   "cell_type": "markdown",
   "metadata": {},
   "source": [
    "---"
   ]
  },
  {
   "cell_type": "markdown",
   "metadata": {},
   "source": [
    "## Week 7 Lesson 2\n",
    "## X\n",
    "14 - 6 July 2017"
   ]
  },
  {
   "cell_type": "markdown",
   "metadata": {},
   "source": []
  },
  {
   "cell_type": "markdown",
   "metadata": {},
   "source": [
    "---"
   ]
  },
  {
   "cell_type": "markdown",
   "metadata": {},
   "source": [
    "## Week 8 Lesson 1:\n",
    "15 - 11 July 2017"
   ]
  },
  {
   "cell_type": "markdown",
   "metadata": {},
   "source": []
  },
  {
   "cell_type": "markdown",
   "metadata": {},
   "source": [
    "---"
   ]
  },
  {
   "cell_type": "markdown",
   "metadata": {},
   "source": [
    "## Week 8 Lesson 2\n",
    "## X\n",
    "16 - 13 July 2017"
   ]
  },
  {
   "cell_type": "markdown",
   "metadata": {},
   "source": []
  },
  {
   "cell_type": "markdown",
   "metadata": {},
   "source": [
    "---"
   ]
  },
  {
   "cell_type": "markdown",
   "metadata": {},
   "source": [
    "## Week 9 Lesson 1\n",
    "## X\n",
    "17 - 18 July 2017"
   ]
  },
  {
   "cell_type": "markdown",
   "metadata": {},
   "source": []
  },
  {
   "cell_type": "markdown",
   "metadata": {},
   "source": [
    "---"
   ]
  },
  {
   "cell_type": "markdown",
   "metadata": {},
   "source": [
    "## Week 9 Lesson 2\n",
    "## X\n",
    "18 - 20 July 2017"
   ]
  },
  {
   "cell_type": "markdown",
   "metadata": {},
   "source": []
  },
  {
   "cell_type": "markdown",
   "metadata": {},
   "source": [
    "---"
   ]
  },
  {
   "cell_type": "markdown",
   "metadata": {},
   "source": [
    "## Week 10 Lesson 1\n",
    "## X\n",
    "19 - 25 July 2017"
   ]
  },
  {
   "cell_type": "markdown",
   "metadata": {},
   "source": []
  },
  {
   "cell_type": "markdown",
   "metadata": {},
   "source": [
    "---"
   ]
  },
  {
   "cell_type": "markdown",
   "metadata": {},
   "source": [
    "## Week 10 Lesson 2\n",
    "## X\n",
    "20 - 27 July 2017"
   ]
  },
  {
   "cell_type": "markdown",
   "metadata": {},
   "source": []
  },
  {
   "cell_type": "markdown",
   "metadata": {},
   "source": [
    "---"
   ]
  }
 ],
 "metadata": {
  "kernelspec": {
   "display_name": "Python 3",
   "language": "python",
   "name": "python3"
  },
  "language_info": {
   "codemirror_mode": {
    "name": "ipython",
    "version": 3
   },
   "file_extension": ".py",
   "mimetype": "text/x-python",
   "name": "python",
   "nbconvert_exporter": "python",
   "pygments_lexer": "ipython3",
   "version": "3.6.0"
  }
 },
 "nbformat": 4,
 "nbformat_minor": 2
}
