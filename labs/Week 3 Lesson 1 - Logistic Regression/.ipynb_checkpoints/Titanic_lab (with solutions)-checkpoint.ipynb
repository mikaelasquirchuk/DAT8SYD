{
 "cells": [
  {
   "cell_type": "markdown",
   "metadata": {},
   "source": [
    "# Lab Week 3 - Logistic Regression\n",
    "\n",
    "## EXERCISE: Predicting Survival on the Titanic\n",
    "\n",
    "The sinking of the RMS Titanic is one of the most infamous shipwrecks in history.  On April 15, 1912, during her maiden voyage, the Titanic sank after colliding with an iceberg, killing 1502 out of 2224 passengers and crew. This sensational tragedy shocked the international community and led to better safety regulations for ships.\n",
    "\n",
    "One of the reasons that the shipwreck led to such loss of life was that there were not enough lifeboats for the passengers and crew. Although there was some element of luck involved in surviving the sinking, some groups of people were more likely to survive than others, such as women, children, and the upper-class."
   ]
  },
  {
   "cell_type": "code",
   "execution_count": 1,
   "metadata": {
    "collapsed": false
   },
   "outputs": [
    {
     "name": "stdout",
     "output_type": "stream",
     "text": [
      "             Survived  Pclass  \\\n",
      "PassengerId                     \n",
      "1                   0       3   \n",
      "2                   1       1   \n",
      "3                   1       3   \n",
      "4                   1       1   \n",
      "5                   0       3   \n",
      "6                   0       3   \n",
      "7                   0       1   \n",
      "8                   0       3   \n",
      "9                   1       3   \n",
      "10                  1       2   \n",
      "11                  1       3   \n",
      "12                  1       1   \n",
      "13                  0       3   \n",
      "14                  0       3   \n",
      "15                  0       3   \n",
      "16                  1       2   \n",
      "17                  0       3   \n",
      "18                  1       2   \n",
      "19                  0       3   \n",
      "20                  1       3   \n",
      "21                  0       2   \n",
      "22                  1       2   \n",
      "23                  1       3   \n",
      "24                  1       1   \n",
      "25                  0       3   \n",
      "26                  1       3   \n",
      "27                  0       3   \n",
      "28                  0       1   \n",
      "29                  1       3   \n",
      "30                  0       3   \n",
      "...               ...     ...   \n",
      "862                 0       2   \n",
      "863                 1       1   \n",
      "864                 0       3   \n",
      "865                 0       2   \n",
      "866                 1       2   \n",
      "867                 1       2   \n",
      "868                 0       1   \n",
      "869                 0       3   \n",
      "870                 1       3   \n",
      "871                 0       3   \n",
      "872                 1       1   \n",
      "873                 0       1   \n",
      "874                 0       3   \n",
      "875                 1       2   \n",
      "876                 1       3   \n",
      "877                 0       3   \n",
      "878                 0       3   \n",
      "879                 0       3   \n",
      "880                 1       1   \n",
      "881                 1       2   \n",
      "882                 0       3   \n",
      "883                 0       3   \n",
      "884                 0       2   \n",
      "885                 0       3   \n",
      "886                 0       3   \n",
      "887                 0       2   \n",
      "888                 1       1   \n",
      "889                 0       3   \n",
      "890                 1       1   \n",
      "891                 0       3   \n",
      "\n",
      "                                                          Name     Sex   Age  \\\n",
      "PassengerId                                                                    \n",
      "1                                      Braund, Mr. Owen Harris    male  22.0   \n",
      "2            Cumings, Mrs. John Bradley (Florence Briggs Th...  female  38.0   \n",
      "3                                       Heikkinen, Miss. Laina  female  26.0   \n",
      "4                 Futrelle, Mrs. Jacques Heath (Lily May Peel)  female  35.0   \n",
      "5                                     Allen, Mr. William Henry    male  35.0   \n",
      "6                                             Moran, Mr. James    male   NaN   \n",
      "7                                      McCarthy, Mr. Timothy J    male  54.0   \n",
      "8                               Palsson, Master. Gosta Leonard    male   2.0   \n",
      "9            Johnson, Mrs. Oscar W (Elisabeth Vilhelmina Berg)  female  27.0   \n",
      "10                         Nasser, Mrs. Nicholas (Adele Achem)  female  14.0   \n",
      "11                             Sandstrom, Miss. Marguerite Rut  female   4.0   \n",
      "12                                    Bonnell, Miss. Elizabeth  female  58.0   \n",
      "13                              Saundercock, Mr. William Henry    male  20.0   \n",
      "14                                 Andersson, Mr. Anders Johan    male  39.0   \n",
      "15                        Vestrom, Miss. Hulda Amanda Adolfina  female  14.0   \n",
      "16                            Hewlett, Mrs. (Mary D Kingcome)   female  55.0   \n",
      "17                                        Rice, Master. Eugene    male   2.0   \n",
      "18                                Williams, Mr. Charles Eugene    male   NaN   \n",
      "19           Vander Planke, Mrs. Julius (Emelia Maria Vande...  female  31.0   \n",
      "20                                     Masselmani, Mrs. Fatima  female   NaN   \n",
      "21                                        Fynney, Mr. Joseph J    male  35.0   \n",
      "22                                       Beesley, Mr. Lawrence    male  34.0   \n",
      "23                                 McGowan, Miss. Anna \"Annie\"  female  15.0   \n",
      "24                                Sloper, Mr. William Thompson    male  28.0   \n",
      "25                               Palsson, Miss. Torborg Danira  female   8.0   \n",
      "26           Asplund, Mrs. Carl Oscar (Selma Augusta Emilia...  female  38.0   \n",
      "27                                     Emir, Mr. Farred Chehab    male   NaN   \n",
      "28                              Fortune, Mr. Charles Alexander    male  19.0   \n",
      "29                               O'Dwyer, Miss. Ellen \"Nellie\"  female   NaN   \n",
      "30                                         Todoroff, Mr. Lalio    male   NaN   \n",
      "...                                                        ...     ...   ...   \n",
      "862                                Giles, Mr. Frederick Edward    male  21.0   \n",
      "863          Swift, Mrs. Frederick Joel (Margaret Welles Ba...  female  48.0   \n",
      "864                          Sage, Miss. Dorothy Edith \"Dolly\"  female   NaN   \n",
      "865                                     Gill, Mr. John William    male  24.0   \n",
      "866                                   Bystrom, Mrs. (Karolina)  female  42.0   \n",
      "867                               Duran y More, Miss. Asuncion  female  27.0   \n",
      "868                       Roebling, Mr. Washington Augustus II    male  31.0   \n",
      "869                                van Melkebeke, Mr. Philemon    male   NaN   \n",
      "870                            Johnson, Master. Harold Theodor    male   4.0   \n",
      "871                                          Balkic, Mr. Cerin    male  26.0   \n",
      "872           Beckwith, Mrs. Richard Leonard (Sallie Monypeny)  female  47.0   \n",
      "873                                   Carlsson, Mr. Frans Olof    male  33.0   \n",
      "874                                Vander Cruyssen, Mr. Victor    male  47.0   \n",
      "875                      Abelson, Mrs. Samuel (Hannah Wizosky)  female  28.0   \n",
      "876                           Najib, Miss. Adele Kiamie \"Jane\"  female  15.0   \n",
      "877                              Gustafsson, Mr. Alfred Ossian    male  20.0   \n",
      "878                                       Petroff, Mr. Nedelio    male  19.0   \n",
      "879                                         Laleff, Mr. Kristo    male   NaN   \n",
      "880              Potter, Mrs. Thomas Jr (Lily Alexenia Wilson)  female  56.0   \n",
      "881               Shelley, Mrs. William (Imanita Parrish Hall)  female  25.0   \n",
      "882                                         Markun, Mr. Johann    male  33.0   \n",
      "883                               Dahlberg, Miss. Gerda Ulrika  female  22.0   \n",
      "884                              Banfield, Mr. Frederick James    male  28.0   \n",
      "885                                     Sutehall, Mr. Henry Jr    male  25.0   \n",
      "886                       Rice, Mrs. William (Margaret Norton)  female  39.0   \n",
      "887                                      Montvila, Rev. Juozas    male  27.0   \n",
      "888                               Graham, Miss. Margaret Edith  female  19.0   \n",
      "889                   Johnston, Miss. Catherine Helen \"Carrie\"  female   NaN   \n",
      "890                                      Behr, Mr. Karl Howell    male  26.0   \n",
      "891                                        Dooley, Mr. Patrick    male  32.0   \n",
      "\n",
      "             SibSp  Parch            Ticket      Fare        Cabin Embarked  \n",
      "PassengerId                                                                  \n",
      "1                1      0         A/5 21171    7.2500          NaN        S  \n",
      "2                1      0          PC 17599   71.2833          C85        C  \n",
      "3                0      0  STON/O2. 3101282    7.9250          NaN        S  \n",
      "4                1      0            113803   53.1000         C123        S  \n",
      "5                0      0            373450    8.0500          NaN        S  \n",
      "6                0      0            330877    8.4583          NaN        Q  \n",
      "7                0      0             17463   51.8625          E46        S  \n",
      "8                3      1            349909   21.0750          NaN        S  \n",
      "9                0      2            347742   11.1333          NaN        S  \n",
      "10               1      0            237736   30.0708          NaN        C  \n",
      "11               1      1           PP 9549   16.7000           G6        S  \n",
      "12               0      0            113783   26.5500         C103        S  \n",
      "13               0      0         A/5. 2151    8.0500          NaN        S  \n",
      "14               1      5            347082   31.2750          NaN        S  \n",
      "15               0      0            350406    7.8542          NaN        S  \n",
      "16               0      0            248706   16.0000          NaN        S  \n",
      "17               4      1            382652   29.1250          NaN        Q  \n",
      "18               0      0            244373   13.0000          NaN        S  \n",
      "19               1      0            345763   18.0000          NaN        S  \n",
      "20               0      0              2649    7.2250          NaN        C  \n",
      "21               0      0            239865   26.0000          NaN        S  \n",
      "22               0      0            248698   13.0000          D56        S  \n",
      "23               0      0            330923    8.0292          NaN        Q  \n",
      "24               0      0            113788   35.5000           A6        S  \n",
      "25               3      1            349909   21.0750          NaN        S  \n",
      "26               1      5            347077   31.3875          NaN        S  \n",
      "27               0      0              2631    7.2250          NaN        C  \n",
      "28               3      2             19950  263.0000  C23 C25 C27        S  \n",
      "29               0      0            330959    7.8792          NaN        Q  \n",
      "30               0      0            349216    7.8958          NaN        S  \n",
      "...            ...    ...               ...       ...          ...      ...  \n",
      "862              1      0             28134   11.5000          NaN        S  \n",
      "863              0      0             17466   25.9292          D17        S  \n",
      "864              8      2          CA. 2343   69.5500          NaN        S  \n",
      "865              0      0            233866   13.0000          NaN        S  \n",
      "866              0      0            236852   13.0000          NaN        S  \n",
      "867              1      0     SC/PARIS 2149   13.8583          NaN        C  \n",
      "868              0      0          PC 17590   50.4958          A24        S  \n",
      "869              0      0            345777    9.5000          NaN        S  \n",
      "870              1      1            347742   11.1333          NaN        S  \n",
      "871              0      0            349248    7.8958          NaN        S  \n",
      "872              1      1             11751   52.5542          D35        S  \n",
      "873              0      0               695    5.0000  B51 B53 B55        S  \n",
      "874              0      0            345765    9.0000          NaN        S  \n",
      "875              1      0         P/PP 3381   24.0000          NaN        C  \n",
      "876              0      0              2667    7.2250          NaN        C  \n",
      "877              0      0              7534    9.8458          NaN        S  \n",
      "878              0      0            349212    7.8958          NaN        S  \n",
      "879              0      0            349217    7.8958          NaN        S  \n",
      "880              0      1             11767   83.1583          C50        C  \n",
      "881              0      1            230433   26.0000          NaN        S  \n",
      "882              0      0            349257    7.8958          NaN        S  \n",
      "883              0      0              7552   10.5167          NaN        S  \n",
      "884              0      0  C.A./SOTON 34068   10.5000          NaN        S  \n",
      "885              0      0   SOTON/OQ 392076    7.0500          NaN        S  \n",
      "886              0      5            382652   29.1250          NaN        Q  \n",
      "887              0      0            211536   13.0000          NaN        S  \n",
      "888              0      0            112053   30.0000          B42        S  \n",
      "889              1      2        W./C. 6607   23.4500          NaN        S  \n",
      "890              0      0            111369   30.0000         C148        C  \n",
      "891              0      0            370376    7.7500          NaN        Q  \n",
      "\n",
      "[891 rows x 11 columns]\n"
     ]
    }
   ],
   "source": [
    "# TASK 1: read the data from titanic.csv into a DataFrame\n",
    "import pandas as pd\n",
    "titanic = pd.read_csv('../../data/titanic.csv', index_col='PassengerId')\n",
    "print(titanic)"
   ]
  },
  {
   "cell_type": "code",
   "execution_count": 2,
   "metadata": {
    "collapsed": true
   },
   "outputs": [],
   "source": [
    "# TASK 2: define Pclass/Parch as the features and Survived as the response\n",
    "feature_cols = ['Pclass', 'Parch']\n",
    "X = titanic[feature_cols]\n",
    "y = titanic.Survived"
   ]
  },
  {
   "cell_type": "code",
   "execution_count": 3,
   "metadata": {
    "collapsed": false
   },
   "outputs": [
    {
     "name": "stderr",
     "output_type": "stream",
     "text": [
      "/anaconda/lib/python3.6/site-packages/sklearn/cross_validation.py:44: DeprecationWarning: This module was deprecated in version 0.18 in favor of the model_selection module into which all the refactored classes and functions are moved. Also note that the interface of the new CV iterators are different from that of this module. This module will be removed in 0.20.\n",
      "  \"This module will be removed in 0.20.\", DeprecationWarning)\n"
     ]
    }
   ],
   "source": [
    "# TASK 3: split the data into training and testing sets\n",
    "from sklearn.cross_validation import train_test_split\n",
    "X_train, X_test, y_train, y_test = train_test_split(X, y, random_state=1)"
   ]
  },
  {
   "cell_type": "code",
   "execution_count": 4,
   "metadata": {
    "collapsed": false
   },
   "outputs": [
    {
     "name": "stdout",
     "output_type": "stream",
     "text": [
      "LogisticRegression(C=1.0, class_weight=None, dual=False, fit_intercept=True,\n",
      "          intercept_scaling=1, max_iter=100, multi_class='ovr', n_jobs=1,\n",
      "          penalty='l2', random_state=None, solver='liblinear', tol=0.0001,\n",
      "          verbose=0, warm_start=False)\n"
     ]
    }
   ],
   "source": [
    "# TASK 4: fit a logistic regression model and examine the coefficients\n",
    "from sklearn.linear_model import LogisticRegression\n",
    "logreg = LogisticRegression()\n",
    "logreg.fit(X_train, y_train)\n",
    "zip(feature_cols, logreg.coef_[0])\n",
    "print(logreg.fit(X_train, y_train))"
   ]
  },
  {
   "cell_type": "code",
   "execution_count": 5,
   "metadata": {
    "collapsed": false
   },
   "outputs": [
    {
     "name": "stdout",
     "output_type": "stream",
     "text": [
      "0.668161434978\n"
     ]
    }
   ],
   "source": [
    "# TASK 5: make predictions on testing set and calculate accuracy\n",
    "y_pred_class = logreg.predict(X_test)\n",
    "from sklearn import metrics\n",
    "print(metrics.accuracy_score(y_test, y_pred_class))"
   ]
  },
  {
   "cell_type": "code",
   "execution_count": 6,
   "metadata": {
    "collapsed": false
   },
   "outputs": [
    {
     "name": "stdout",
     "output_type": "stream",
     "text": [
      "0.686098654709\n"
     ]
    }
   ],
   "source": [
    "# TASK 6: add Age as a feature and calculate testing accuracy\n",
    "titanic.Age.fillna(titanic.Age.mean(), inplace=True)\n",
    "feature_cols = ['Pclass', 'Parch', 'Age']\n",
    "X = titanic[feature_cols]\n",
    "X_train, X_test, y_train, y_test = train_test_split(X, y, random_state=1)\n",
    "logreg.fit(X_train, y_train)\n",
    "zip(feature_cols, logreg.coef_[0])\n",
    "y_pred_class = logreg.predict(X_test)\n",
    "print(metrics.accuracy_score(y_test, y_pred_class))\n"
   ]
  },
  {
   "cell_type": "code",
   "execution_count": 7,
   "metadata": {
    "collapsed": false
   },
   "outputs": [
    {
     "name": "stdout",
     "output_type": "stream",
     "text": [
      "[[112  16]\n",
      " [ 54  41]]\n"
     ]
    }
   ],
   "source": [
    "# TASK 7 : Confusion Matrix\n",
    "from sklearn import metrics\n",
    "prds = logreg.predict(X)\n",
    "print(metrics.confusion_matrix(y_test, y_pred_class))"
   ]
  },
  {
   "cell_type": "code",
   "execution_count": 8,
   "metadata": {
    "collapsed": false
   },
   "outputs": [
    {
     "data": {
      "image/png": "[encoded data removed]",
      "text/plain": [
       "<matplotlib.figure.Figure at 0x119e45630>"
      ]
     },
     "metadata": {},
     "output_type": "display_data"
    }
   ],
   "source": [
    "# TASK 8: Generate the ROC Curve\n",
    "\n",
    "# Import the Plotting library so we can draw the graph\n",
    "import matplotlib.pyplot as plt\n",
    "\n",
    "# Generate the prediction values for each of the test observations using predict_proba() function rather than just predict\n",
    "preds = logreg.predict_proba(X_test)[:,1]\n",
    "\n",
    "# Store the false positive rate(fpr), true positive rate (tpr) in vectors for use in the graph\n",
    "fpr, tpr, _ = metrics.roc_curve(y_test, preds)\n",
    "\n",
    "# Store the Area Under the Curve (AUC) so we can annotate our graph with theis metric\n",
    "roc_auc = metrics.auc(fpr,tpr)\n",
    "\n",
    "# Plot the ROC Curve\n",
    "plt.figure()\n",
    "lw = 2\n",
    "plt.plot(fpr, tpr, color='darkorange',\n",
    "         lw=lw, label='ROC curve (area = %0.2f)' % roc_auc)\n",
    "plt.plot([0, 1], [0, 1], color='navy', lw=lw, linestyle='--')\n",
    "plt.xlim([0.0, 1.0])\n",
    "plt.ylim([0.0, 1.05])\n",
    "plt.xlabel('False Positive Rate')\n",
    "plt.ylabel('True Positive Rate')\n",
    "plt.title('Receiver operating characteristic example')\n",
    "plt.legend(loc=\"lower right\")\n",
    "plt.show()\n",
    "\n",
    "# What's happening here is we are changing the cutoff value from 0 to 1.\n",
    "# When we have a cutoff of zero this means that we have no positive predictions so both fpr and tpr are both 0\n",
    "# Our aim when modelling is to maximise the area under the curve, the closer to one the better the model."
   ]
  },
  {
   "cell_type": "code",
   "execution_count": null,
   "metadata": {
    "collapsed": false,
    "scrolled": false
   },
   "outputs": [],
   "source": [
    "# TASK 9: What variables should we include in the model to improve it?\n",
    "\n",
    "# Firstly, let's convert our character vectors to binary represnetations so we can use them in the model\n",
    "titanic_with_dummies = pd.get_dummies(data=titanic, columns = ['Sex', 'Embarked', 'Pclass'], prefix = ['Sex', 'Embarked', 'Pclass'] )\n",
    "\n",
    "# Inspect the new data set with one-hot encoding done through pandas\n",
    "#print(titanic_with_dummies.head())\n",
    "\n",
    "# For now we will just fill the age column by taking the average by sex, class and Parch\n",
    "# Later on we will use methods that can handle missing values better.\n",
    "titanic_with_dummies['Age'] = titanic_with_dummies[['Age',\"Parch\",\"Sex_male\",'Pclass_1', 'Pclass_2']].groupby([\"Parch\",\"Sex_male\",'Pclass_1', 'Pclass_2'])['Age'].transform(lambda x: x.fillna(x.mean()))\n",
    "\n",
    "\n",
    "# Now let's include them one by one and see if they improve the model\n",
    "# NOTE!!! We don't do this in practive and will learn better techniques mext week. But the idea is useful to thing about\n",
    "feature_cols = ['Parch', 'Sex_male', 'Sex_female', 'Pclass_1', 'Pclass_2', 'Pclass_3', 'Fare', 'Age']\n",
    "X = titanic_with_dummies[feature_cols]\n",
    "y = titanic_with_dummies.Survived\n",
    "\n",
    "X_train, X_test, y_train, y_test = train_test_split(X, y, random_state=1)\n",
    "logreg.fit(X_train, y_train)\n",
    "zip(feature_cols, logreg.coef_[0])\n",
    "y_pred_class = logreg.predict(X_test)\n",
    "\n",
    "# Print the new accuracy rate\n",
    "print(metrics.accuracy_score(y_test, y_pred_class))"
   ]
  },
  {
   "cell_type": "code",
   "execution_count": null,
   "metadata": {
    "collapsed": false
   },
   "outputs": [],
   "source": [
    "# Generate the ROC curve for our ne model\n",
    "\n",
    "# Generate the prediction values for each of the test observations using predict_proba() function rather than just predict\n",
    "preds = logreg.predict_proba(X_test)[:,1]\n",
    "\n",
    "# Store the false positive rate(fpr), true positive rate (tpr) in vectors for use in the graph\n",
    "fpr, tpr, _ = metrics.roc_curve(y_test, preds)\n",
    "\n",
    "# Store the Area Under the Curve (AUC) so we can annotate our graph with theis metric\n",
    "roc_auc = metrics.auc(fpr,tpr)\n",
    "\n",
    "# Plot the ROC Curve\n",
    "plt.figure()\n",
    "lw = 2\n",
    "plt.plot(fpr, tpr, color='darkorange',\n",
    "         lw=lw, label='ROC curve (area = %0.2f)' % roc_auc)\n",
    "plt.plot([0, 1], [0, 1], color='navy', lw=lw, linestyle='--')\n",
    "plt.xlim([0.0, 1.0])\n",
    "plt.ylim([0.0, 1.05])\n",
    "plt.xlabel('False Positive Rate')\n",
    "plt.ylabel('True Positive Rate')\n",
    "plt.title('Receiver operating characteristic example')\n",
    "plt.legend(loc=\"lower right\")\n",
    "plt.show()\n",
    "\n",
    "# Notice how the area under the curve changes when we imporve the model.\n",
    "\n",
    "# Actually, we can fit an even better model than this, try and beat this model \n",
    "# Prize for the first person to get accuracy above 0.85 on the test set!"
   ]
  },
  {
   "cell_type": "code",
   "execution_count": null,
   "metadata": {
    "collapsed": false
   },
   "outputs": [],
   "source": [
    "# Task 10: Try a different classification algorithm like Naive Bayes or Nearest Neighbours\n",
    "from sklearn.neighbors import KNeighborsClassifier\n",
    "KNN_model = KNeighborsClassifier(5)\n",
    "KNN_model.fit(X_train, y_train)\n",
    "y_pred_class = KNN_model.predict(X_test)\n",
    "# Print the new accuracy rate\n",
    "print(metrics.accuracy_score(y_test, y_pred_class))"
   ]
  },
  {
   "cell_type": "code",
   "execution_count": null,
   "metadata": {
    "collapsed": false
   },
   "outputs": [],
   "source": [
    "from sklearn.naive_bayes import GaussianNB\n",
    "NB_model = GaussianNB()\n",
    "NB_model.fit(X_train, y_train)\n",
    "y_pred_class = NB_model.predict(X_test)\n",
    "# Print the new accuracy rate\n",
    "print(metrics.accuracy_score(y_test, y_pred_class))"
   ]
  }
 ],
 "metadata": {
  "kernelspec": {
   "display_name": "Python 3",
   "language": "python",
   "name": "python3"
  },
  "language_info": {
   "codemirror_mode": {
    "name": "ipython",
    "version": 3
   },
   "file_extension": ".py",
   "mimetype": "text/x-python",
   "name": "python",
   "nbconvert_exporter": "python",
   "pygments_lexer": "ipython3",
   "version": "3.6.0"
  }
 },
 "nbformat": 4,
 "nbformat_minor": 0
}
