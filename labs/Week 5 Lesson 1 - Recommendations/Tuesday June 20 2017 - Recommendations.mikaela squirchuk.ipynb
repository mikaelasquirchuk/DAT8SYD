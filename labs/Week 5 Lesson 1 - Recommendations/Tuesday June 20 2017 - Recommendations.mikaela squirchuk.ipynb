{
 "cells": [
  {
   "cell_type": "markdown",
   "metadata": {},
   "source": [
    "# Recommendation Engines - MovieLens Data\n",
    "\n",
    "## Tuesday June 20 2017\n",
    "\n",
    "MovieLens data sets were collected by the GroupLens Research Project at the University of Minnesota.\n",
    "\n",
    "This data set consists of: * 100,000 ratings (1-5) from 943 users on 1682 movies. * Each user has rated at least 20 movies. * Simple demographic info for the users (age, gender, occupation, zip)\n",
    "\n",
    "The data was collected through the MovieLens web site (movielens.umn.edu) during the seven-month period from September 19th, 1997 through April 22nd, 1998. This data has been cleaned up - users who had less than 20 ratings or did not have complete demographic information were removed from this data set. Detailed descriptions of the data file can be found at the end of this file.\n",
    "\n",
    "### Tasks\n",
    "\n",
    "1. Load the data into the recommendation format\n",
    "2. Build and assess model accuracy\n",
    "3. Make individual recommendations\n",
    "4. Try multiple models and compare accuracy\n",
    "5. Consider how a company could use this"
   ]
  },
  {
   "cell_type": "code",
   "execution_count": 1,
   "metadata": {
    "collapsed": false
   },
   "outputs": [
    {
     "name": "stdout",
     "output_type": "stream",
     "text": [
      "Collecting scikit-surprise\n",
      "  Downloading scikit-surprise-1.0.3.tar.gz (2.4MB)\n",
      "\u001b[K    100% |████████████████████████████████| 2.4MB 296kB/s ta 0:00:011\n",
      "\u001b[?25hRequirement already satisfied: numpy>=1.11.2 in /anaconda/lib/python3.6/site-packages (from scikit-surprise)\n",
      "Requirement already satisfied: six>=1.10.0 in /anaconda/lib/python3.6/site-packages (from scikit-surprise)\n",
      "Building wheels for collected packages: scikit-surprise\n",
      "  Running setup.py bdist_wheel for scikit-surprise ... \u001b[?25l-\b \b\\\b \b|\b \b/\b \b-\b \b\\\b \b|\b \b/\b \b-\b \b\\\b \b|\b \b/\b \bdone\n",
      "\u001b[?25h  Stored in directory: /Users/mikaelasquirchuk/Library/Caches/pip/wheels/5c/84/0c/21a872115299d7e2170620fc9fad866ec7588e958d9ac77b35\n",
      "Successfully built scikit-surprise\n",
      "Installing collected packages: scikit-surprise\n",
      "Successfully installed scikit-surprise-1.0.3\n"
     ]
    }
   ],
   "source": [
    "# Install Surpise - a useful library for recommendation engines\n",
    "!pip install scikit-surprise"
   ]
  },
  {
   "cell_type": "code",
   "execution_count": 6,
   "metadata": {
    "collapsed": true
   },
   "outputs": [],
   "source": [
    "# Load Surprise\n",
    "from surprise import SVD\n",
    "from surprise import Dataset\n",
    "from surprise import evaluate, print_perf\n",
    "from surprise import Reader"
   ]
  },
  {
   "cell_type": "code",
   "execution_count": 9,
   "metadata": {
    "collapsed": false
   },
   "outputs": [],
   "source": [
    "# 1. Load the data into the recommendation format\n",
    "\n",
    "# As we're loading a custom dataset, we need to define a reader. In the\n",
    "# movielens dataset, each line has the following format:\n",
    "# 'user item rating timestamp', separated by '\\t' characters.\n",
    "reader = Reader(line_format='user item rating timestamp', sep='\\t')\n",
    "\n",
    "data = Dataset.load_from_file(file_path = '../../data/u.data', reader=reader)\n",
    "data.split(n_folds=5)"
   ]
  },
  {
   "cell_type": "code",
   "execution_count": 10,
   "metadata": {
    "collapsed": false
   },
   "outputs": [
    {
     "name": "stdout",
     "output_type": "stream",
     "text": [
      "Evaluating RMSE, MAE of algorithm SVD.\n",
      "\n",
      "------------\n",
      "Fold 1\n",
      "RMSE: 0.9284\n",
      "MAE:  0.7350\n",
      "------------\n",
      "Fold 2\n",
      "RMSE: 0.9366\n",
      "MAE:  0.7388\n",
      "------------\n",
      "Fold 3\n",
      "RMSE: 0.9477\n",
      "MAE:  0.7468\n",
      "------------\n",
      "Fold 4\n",
      "RMSE: 0.9351\n",
      "MAE:  0.7354\n",
      "------------\n",
      "Fold 5\n",
      "RMSE: 0.9320\n",
      "MAE:  0.7339\n",
      "------------\n",
      "------------\n",
      "Mean RMSE: 0.9360\n",
      "Mean MAE : 0.7380\n",
      "------------\n",
      "------------\n",
      "        Fold 1  Fold 2  Fold 3  Fold 4  Fold 5  Mean    \n",
      "RMSE    0.9284  0.9366  0.9477  0.9351  0.9320  0.9360  \n",
      "MAE     0.7350  0.7388  0.7468  0.7354  0.7339  0.7380  \n"
     ]
    }
   ],
   "source": [
    "# 2. Build and assess model accuracy\n",
    "\n",
    "# We'll use the famous SVD algorithm.\n",
    "algo = SVD()\n",
    "\n",
    "# Evaluate performances of our algorithm on the dataset.\n",
    "perf = evaluate(algo, data, measures=['RMSE', 'MAE'])\n",
    "\n",
    "print_perf(perf)"
   ]
  },
  {
   "cell_type": "code",
   "execution_count": 11,
   "metadata": {
    "collapsed": false
   },
   "outputs": [
    {
     "name": "stdout",
     "output_type": "stream",
     "text": [
      "user: 196        item: 302        r_ui = 2.00   est = 4.18   {'was_impossible': False}\n"
     ]
    }
   ],
   "source": [
    "# 3. Make individual recommendations\n",
    "uid = str(196)  # raw user id (as in the ratings file). They are **strings**!\n",
    "iid = str(302)  # raw item id (as in the ratings file). They are **strings**!\n",
    "\n",
    "# get a prediction for specific users and items.\n",
    "pred = algo.predict(uid, iid, r_ui=2, verbose=True)"
   ]
  },
  {
   "cell_type": "code",
   "execution_count": 12,
   "metadata": {
    "collapsed": false
   },
   "outputs": [
    {
     "name": "stdout",
     "output_type": "stream",
     "text": [
      "Evaluating RMSE, MAE of algorithm NMF.\n",
      "\n",
      "------------\n",
      "Fold 1\n",
      "RMSE: 0.9654\n",
      "MAE:  0.7615\n",
      "------------\n",
      "Fold 2\n",
      "RMSE: 0.9576\n",
      "MAE:  0.7535\n",
      "------------\n",
      "Fold 3\n",
      "RMSE: 0.9792\n",
      "MAE:  0.7706\n",
      "------------\n",
      "Fold 4\n",
      "RMSE: 0.9612\n",
      "MAE:  0.7523\n",
      "------------\n",
      "Fold 5\n",
      "RMSE: 0.9623\n",
      "MAE:  0.7548\n",
      "------------\n",
      "------------\n",
      "Mean RMSE: 0.9652\n",
      "Mean MAE : 0.7585\n",
      "------------\n",
      "------------\n",
      "        Fold 1  Fold 2  Fold 3  Fold 4  Fold 5  Mean    \n",
      "RMSE    0.9654  0.9576  0.9792  0.9612  0.9623  0.9652  \n",
      "MAE     0.7615  0.7535  0.7706  0.7523  0.7548  0.7585  \n"
     ]
    }
   ],
   "source": [
    "# 4. Try multiple models and compare accuracy\n",
    "\n",
    "# Try at least 3 of the models mentioned below:\n",
    "#random_pred.NormalPredictor    Algorithm predicting a random rating based on the distribution of the training set, which is assumed to be normal.\n",
    "#baseline_only.BaselineOnly    Algorithm predicting the baseline estimate for given user and item.\n",
    "#knns.KNNBasic    A basic collaborative filtering algorithm.\n",
    "#knns.KNNWithMeans    A basic collaborative filtering algorithm, taking into account the mean ratings of each user.\n",
    "#knns.KNNBaseline    A basic collaborative filtering algorithm taking into account a baseline rating.\n",
    "#matrix_factorization.SVD    The famous SVD algorithm, as popularized by Simon Funk during the Netflix Prize.\n",
    "#matrix_factorization.SVDpp    The SVD++ algorithm, an extension of SVD taking into account implicit ratings.\n",
    "#matrix_factorization.NMF    A collaborative filtering algorithm based on Non-negative Matrix Factorization.\n",
    "#slope_one.SlopeOne    A simple yet accurate collaborative filtering algorithm.\n",
    "#co_clustering.CoClustering    A collaborative filtering algorithm based on co-clustering.\n",
    "\n",
    "\n",
    "# Here's how to run Non-Negative Matrix Factorisiation\n",
    "from surprise import NMF\n",
    "\n",
    "# Now we will try Non-Negative Matrix Factorisiation (a form of collaborative filtering)\n",
    "algo.NMF = NMF()\n",
    "\n",
    "# Evaluate performances of our algorithm on the dataset.\n",
    "perf.NMF = evaluate(algo.NMF, data, measures=['RMSE', 'MAE'])\n",
    "\n",
    "print_perf(perf.NMF)"
   ]
  },
  {
   "cell_type": "code",
   "execution_count": 16,
   "metadata": {
    "collapsed": false
   },
   "outputs": [
    {
     "name": "stdout",
     "output_type": "stream",
     "text": [
      "Evaluating RMSE, MAE of algorithm NormalPredictor.\n",
      "\n",
      "------------\n",
      "Fold 1\n",
      "RMSE: 1.5057\n",
      "MAE:  1.2079\n",
      "------------\n",
      "Fold 2\n",
      "RMSE: 1.5203\n",
      "MAE:  1.2203\n",
      "------------\n",
      "Fold 3\n",
      "RMSE: 1.5218\n",
      "MAE:  1.2204\n",
      "------------\n",
      "Fold 4\n",
      "RMSE: 1.5168\n",
      "MAE:  1.2226\n",
      "------------\n",
      "Fold 5\n",
      "RMSE: 1.5142\n",
      "MAE:  1.2157\n",
      "------------\n",
      "------------\n",
      "Mean RMSE: 1.5158\n",
      "Mean MAE : 1.2174\n",
      "------------\n",
      "------------\n",
      "        Fold 1  Fold 2  Fold 3  Fold 4  Fold 5  Mean    \n",
      "RMSE    1.5057  1.5203  1.5218  1.5168  1.5142  1.5158  \n",
      "MAE     1.2079  1.2203  1.2204  1.2226  1.2157  1.2174  \n"
     ]
    }
   ],
   "source": [
    "#random_pred.NormalPredictor    Algorithm predicting a random rating based on the distribution of the training set, which is assumed to be normal.\n",
    "\n",
    "from surprise import NormalPredictor\n",
    "\n",
    "algo.NP = NormalPredictor()\n",
    "\n",
    "perf.NP = evaluate(algo.NP, data, measures=['RMSE', 'MAE'])\n",
    "\n",
    "print_perf(perf.NP)"
   ]
  },
  {
   "cell_type": "code",
   "execution_count": 17,
   "metadata": {
    "collapsed": false
   },
   "outputs": [
    {
     "name": "stdout",
     "output_type": "stream",
     "text": [
      "Evaluating RMSE, MAE of algorithm BaselineOnly.\n",
      "\n",
      "------------\n",
      "Fold 1\n",
      "Estimating biases using als...\n",
      "RMSE: 0.9379\n",
      "MAE:  0.7467\n",
      "------------\n",
      "Fold 2\n",
      "Estimating biases using als...\n",
      "RMSE: 0.9423\n",
      "MAE:  0.7469\n",
      "------------\n",
      "Fold 3\n",
      "Estimating biases using als...\n",
      "RMSE: 0.9564\n",
      "MAE:  0.7569\n",
      "------------\n",
      "Fold 4\n",
      "Estimating biases using als...\n",
      "RMSE: 0.9419\n",
      "MAE:  0.7451\n",
      "------------\n",
      "Fold 5\n",
      "Estimating biases using als...\n",
      "RMSE: 0.9401\n",
      "MAE:  0.7454\n",
      "------------\n",
      "------------\n",
      "Mean RMSE: 0.9437\n",
      "Mean MAE : 0.7482\n",
      "------------\n",
      "------------\n",
      "        Fold 1  Fold 2  Fold 3  Fold 4  Fold 5  Mean    \n",
      "RMSE    0.9379  0.9423  0.9564  0.9419  0.9401  0.9437  \n",
      "MAE     0.7467  0.7469  0.7569  0.7451  0.7454  0.7482  \n"
     ]
    }
   ],
   "source": [
    "#baseline_only.BaselineOnly    Algorithm predicting the baseline estimate for given user and item.\n",
    "\n",
    "from surprise import BaselineOnly\n",
    "\n",
    "algo.BLO = BaselineOnly()\n",
    "\n",
    "perf.BLO = evaluate(algo.BLO, data, measures=['RMSE', 'MAE'])\n",
    "\n",
    "print_perf(perf.BLO)"
   ]
  },
  {
   "cell_type": "code",
   "execution_count": 18,
   "metadata": {
    "collapsed": false
   },
   "outputs": [
    {
     "name": "stdout",
     "output_type": "stream",
     "text": [
      "Evaluating RMSE, MAE of algorithm KNNBasic.\n",
      "\n",
      "------------\n",
      "Fold 1\n",
      "Computing the msd similarity matrix...\n",
      "Done computing similarity matrix.\n",
      "RMSE: 0.9738\n",
      "MAE:  0.7705\n",
      "------------\n",
      "Fold 2\n",
      "Computing the msd similarity matrix...\n",
      "Done computing similarity matrix.\n",
      "RMSE: 0.9750\n",
      "MAE:  0.7694\n",
      "------------\n",
      "Fold 3\n",
      "Computing the msd similarity matrix...\n",
      "Done computing similarity matrix.\n",
      "RMSE: 0.9890\n",
      "MAE:  0.7810\n",
      "------------\n",
      "Fold 4\n",
      "Computing the msd similarity matrix...\n",
      "Done computing similarity matrix.\n",
      "RMSE: 0.9767\n",
      "MAE:  0.7703\n",
      "------------\n",
      "Fold 5\n",
      "Computing the msd similarity matrix...\n",
      "Done computing similarity matrix.\n",
      "RMSE: 0.9786\n",
      "MAE:  0.7727\n",
      "------------\n",
      "------------\n",
      "Mean RMSE: 0.9786\n",
      "Mean MAE : 0.7728\n",
      "------------\n",
      "------------\n",
      "        Fold 1  Fold 2  Fold 3  Fold 4  Fold 5  Mean    \n",
      "RMSE    0.9738  0.9750  0.9890  0.9767  0.9786  0.9786  \n",
      "MAE     0.7705  0.7694  0.7810  0.7703  0.7727  0.7728  \n"
     ]
    }
   ],
   "source": [
    "#knns.KNNBasic    A basic collaborative filtering algorithm.\n",
    "\n",
    "from surprise import KNNBasic\n",
    "\n",
    "algo.KNNBasic = KNNBasic()\n",
    "\n",
    "perf.KNNBasic = evaluate(algo.KNNBasic, data, measures=['RMSE', 'MAE'])\n",
    "\n",
    "print_perf(perf.KNNBasic)"
   ]
  },
  {
   "cell_type": "code",
   "execution_count": 19,
   "metadata": {
    "collapsed": false
   },
   "outputs": [
    {
     "name": "stdout",
     "output_type": "stream",
     "text": [
      "Evaluating RMSE, MAE of algorithm KNNWithMeans.\n",
      "\n",
      "------------\n",
      "Fold 1\n",
      "Computing the msd similarity matrix...\n",
      "Done computing similarity matrix.\n",
      "RMSE: 0.9484\n",
      "MAE:  0.7510\n",
      "------------\n",
      "Fold 2\n",
      "Computing the msd similarity matrix...\n",
      "Done computing similarity matrix.\n",
      "RMSE: 0.9478\n",
      "MAE:  0.7462\n",
      "------------\n",
      "Fold 3\n",
      "Computing the msd similarity matrix...\n",
      "Done computing similarity matrix.\n",
      "RMSE: 0.9617\n",
      "MAE:  0.7579\n",
      "------------\n",
      "Fold 4\n",
      "Computing the msd similarity matrix...\n",
      "Done computing similarity matrix.\n",
      "RMSE: 0.9468\n",
      "MAE:  0.7440\n",
      "------------\n",
      "Fold 5\n",
      "Computing the msd similarity matrix...\n",
      "Done computing similarity matrix.\n",
      "RMSE: 0.9472\n",
      "MAE:  0.7449\n",
      "------------\n",
      "------------\n",
      "Mean RMSE: 0.9504\n",
      "Mean MAE : 0.7488\n",
      "------------\n",
      "------------\n",
      "        Fold 1  Fold 2  Fold 3  Fold 4  Fold 5  Mean    \n",
      "RMSE    0.9484  0.9478  0.9617  0.9468  0.9472  0.9504  \n",
      "MAE     0.7510  0.7462  0.7579  0.7440  0.7449  0.7488  \n"
     ]
    }
   ],
   "source": [
    "#knns.KNNWithMeans    A basic collaborative filtering algorithm, taking into account the mean ratings of each user.\n",
    "\n",
    "from surprise import KNNWithMeans\n",
    "\n",
    "algo.KNNWithMeans = KNNWithMeans()\n",
    "\n",
    "perf.KNNWithMeans = evaluate(algo.KNNWithMeans, data, measures=['RMSE', 'MAE'])\n",
    "\n",
    "print_perf(perf.KNNWithMeans)"
   ]
  },
  {
   "cell_type": "code",
   "execution_count": 20,
   "metadata": {
    "collapsed": false
   },
   "outputs": [
    {
     "name": "stdout",
     "output_type": "stream",
     "text": [
      "Evaluating RMSE, MAE of algorithm KNNBaseline.\n",
      "\n",
      "------------\n",
      "Fold 1\n",
      "Estimating biases using als...\n",
      "Computing the msd similarity matrix...\n",
      "Done computing similarity matrix.\n",
      "RMSE: 0.9254\n",
      "MAE:  0.7330\n",
      "------------\n",
      "Fold 2\n",
      "Estimating biases using als...\n",
      "Computing the msd similarity matrix...\n",
      "Done computing similarity matrix.\n",
      "RMSE: 0.9279\n",
      "MAE:  0.7304\n",
      "------------\n",
      "Fold 3\n",
      "Estimating biases using als...\n",
      "Computing the msd similarity matrix...\n",
      "Done computing similarity matrix.\n",
      "RMSE: 0.9422\n",
      "MAE:  0.7412\n",
      "------------\n",
      "Fold 4\n",
      "Estimating biases using als...\n",
      "Computing the msd similarity matrix...\n",
      "Done computing similarity matrix.\n",
      "RMSE: 0.9281\n",
      "MAE:  0.7297\n",
      "------------\n",
      "Fold 5\n",
      "Estimating biases using als...\n",
      "Computing the msd similarity matrix...\n",
      "Done computing similarity matrix.\n",
      "RMSE: 0.9260\n",
      "MAE:  0.7290\n",
      "------------\n",
      "------------\n",
      "Mean RMSE: 0.9299\n",
      "Mean MAE : 0.7327\n",
      "------------\n",
      "------------\n",
      "        Fold 1  Fold 2  Fold 3  Fold 4  Fold 5  Mean    \n",
      "RMSE    0.9254  0.9279  0.9422  0.9281  0.9260  0.9299  \n",
      "MAE     0.7330  0.7304  0.7412  0.7297  0.7290  0.7327  \n"
     ]
    }
   ],
   "source": [
    "#knns.KNNBaseline    A basic collaborative filtering algorithm taking into account a baseline rating.\n",
    "\n",
    "from surprise import KNNBaseline\n",
    "\n",
    "algo.KNNBaseline = KNNBaseline()\n",
    "\n",
    "perf.KNNBaseline = evaluate(algo.KNNBaseline, data, measures=['RMSE', 'MAE'])\n",
    "\n",
    "print_perf(perf.KNNBaseline)"
   ]
  },
  {
   "cell_type": "code",
   "execution_count": 23,
   "metadata": {
    "collapsed": false
   },
   "outputs": [
    {
     "name": "stdout",
     "output_type": "stream",
     "text": [
      "Evaluating RMSE, MAE of algorithm SVD.\n",
      "\n",
      "------------\n",
      "Fold 1\n",
      "RMSE: 0.9291\n",
      "MAE:  0.7342\n",
      "------------\n",
      "Fold 2\n",
      "RMSE: 0.9384\n",
      "MAE:  0.7401\n",
      "------------\n",
      "Fold 3\n",
      "RMSE: 0.9485\n",
      "MAE:  0.7450\n",
      "------------\n",
      "Fold 4\n",
      "RMSE: 0.9332\n",
      "MAE:  0.7344\n",
      "------------\n",
      "Fold 5\n",
      "RMSE: 0.9322\n",
      "MAE:  0.7343\n",
      "------------\n",
      "------------\n",
      "Mean RMSE: 0.9363\n",
      "Mean MAE : 0.7376\n",
      "------------\n",
      "------------\n",
      "        Fold 1  Fold 2  Fold 3  Fold 4  Fold 5  Mean    \n",
      "RMSE    0.9291  0.9384  0.9485  0.9332  0.9322  0.9363  \n",
      "MAE     0.7342  0.7401  0.7450  0.7344  0.7343  0.7376  \n"
     ]
    }
   ],
   "source": [
    "#matrix_factorization.SVD    The famous SVD algorithm, as popularized by Simon Funk during the Netflix Prize.\n",
    "\n",
    "from surprise import SVD\n",
    "\n",
    "algo.SVD = SVD()\n",
    "\n",
    "perf.SVD = evaluate(algo.SVD, data, measures=['RMSE', 'MAE'])\n",
    "\n",
    "print_perf(perf.SVD)"
   ]
  },
  {
   "cell_type": "code",
   "execution_count": 50,
   "metadata": {
    "collapsed": false
   },
   "outputs": [
    {
     "name": "stdout",
     "output_type": "stream",
     "text": [
      "Evaluating RMSE, MAE of algorithm SVDpp.\n",
      "\n",
      "------------\n",
      "Fold 1\n"
     ]
    },
    {
     "ename": "KeyboardInterrupt",
     "evalue": "",
     "output_type": "error",
     "traceback": [
      "\u001b[0;31m---------------------------------------------------------------------------\u001b[0m",
      "\u001b[0;31mKeyboardInterrupt\u001b[0m                         Traceback (most recent call last)",
      "\u001b[0;32m<ipython-input-50-5fb96336d373>\u001b[0m in \u001b[0;36m<module>\u001b[0;34m()\u001b[0m\n\u001b[1;32m      5\u001b[0m \u001b[0malgo\u001b[0m\u001b[0;34m.\u001b[0m\u001b[0mSVDpp\u001b[0m \u001b[0;34m=\u001b[0m \u001b[0mSVDpp\u001b[0m\u001b[0;34m(\u001b[0m\u001b[0;34m)\u001b[0m\u001b[0;34m\u001b[0m\u001b[0m\n\u001b[1;32m      6\u001b[0m \u001b[0;34m\u001b[0m\u001b[0m\n\u001b[0;32m----> 7\u001b[0;31m \u001b[0mperf\u001b[0m\u001b[0;34m.\u001b[0m\u001b[0mSVDpp\u001b[0m \u001b[0;34m=\u001b[0m \u001b[0mevaluate\u001b[0m\u001b[0;34m(\u001b[0m\u001b[0malgo\u001b[0m\u001b[0;34m.\u001b[0m\u001b[0mSVDpp\u001b[0m\u001b[0;34m,\u001b[0m \u001b[0mdata\u001b[0m\u001b[0;34m,\u001b[0m \u001b[0mmeasures\u001b[0m\u001b[0;34m=\u001b[0m\u001b[0;34m[\u001b[0m\u001b[0;34m'RMSE'\u001b[0m\u001b[0;34m,\u001b[0m \u001b[0;34m'MAE'\u001b[0m\u001b[0;34m]\u001b[0m\u001b[0;34m)\u001b[0m\u001b[0;34m\u001b[0m\u001b[0m\n\u001b[0m\u001b[1;32m      8\u001b[0m \u001b[0;34m\u001b[0m\u001b[0m\n\u001b[1;32m      9\u001b[0m \u001b[0mprint_perf\u001b[0m\u001b[0;34m(\u001b[0m\u001b[0mperf\u001b[0m\u001b[0;34m.\u001b[0m\u001b[0mSVDpp\u001b[0m\u001b[0;34m)\u001b[0m\u001b[0;34m\u001b[0m\u001b[0m\n",
      "\u001b[0;32m/anaconda/lib/python3.6/site-packages/surprise/evaluate.py\u001b[0m in \u001b[0;36mevaluate\u001b[0;34m(algo, data, measures, with_dump, dump_dir, verbose)\u001b[0m\n\u001b[1;32m     63\u001b[0m \u001b[0;34m\u001b[0m\u001b[0m\n\u001b[1;32m     64\u001b[0m         \u001b[0;31m# train and test algorithm. Keep all rating predictions in a list\u001b[0m\u001b[0;34m\u001b[0m\u001b[0;34m\u001b[0m\u001b[0m\n\u001b[0;32m---> 65\u001b[0;31m         \u001b[0malgo\u001b[0m\u001b[0;34m.\u001b[0m\u001b[0mtrain\u001b[0m\u001b[0;34m(\u001b[0m\u001b[0mtrainset\u001b[0m\u001b[0;34m)\u001b[0m\u001b[0;34m\u001b[0m\u001b[0m\n\u001b[0m\u001b[1;32m     66\u001b[0m         \u001b[0mpredictions\u001b[0m \u001b[0;34m=\u001b[0m \u001b[0malgo\u001b[0m\u001b[0;34m.\u001b[0m\u001b[0mtest\u001b[0m\u001b[0;34m(\u001b[0m\u001b[0mtestset\u001b[0m\u001b[0;34m,\u001b[0m \u001b[0mverbose\u001b[0m\u001b[0;34m=\u001b[0m\u001b[0;34m(\u001b[0m\u001b[0mverbose\u001b[0m \u001b[0;34m==\u001b[0m \u001b[0;36m2\u001b[0m\u001b[0;34m)\u001b[0m\u001b[0;34m)\u001b[0m\u001b[0;34m\u001b[0m\u001b[0m\n\u001b[1;32m     67\u001b[0m \u001b[0;34m\u001b[0m\u001b[0m\n",
      "\u001b[0;32m/anaconda/lib/python3.6/site-packages/surprise/prediction_algorithms/matrix_factorization.pyx\u001b[0m in \u001b[0;36msurprise.prediction_algorithms.matrix_factorization.SVDpp.train (surprise/prediction_algorithms/matrix_factorization.c:5726)\u001b[0;34m()\u001b[0m\n",
      "\u001b[0;32m/anaconda/lib/python3.6/site-packages/surprise/prediction_algorithms/matrix_factorization.pyx\u001b[0m in \u001b[0;36msurprise.prediction_algorithms.matrix_factorization.SVDpp.sgd (surprise/prediction_algorithms/matrix_factorization.c:6983)\u001b[0;34m()\u001b[0m\n",
      "\u001b[0;32m/anaconda/lib/python3.6/site-packages/surprise/dataset.py\u001b[0m in \u001b[0;36mall_ratings\u001b[0;34m(self)\u001b[0m\n\u001b[1;32m    627\u001b[0m         \u001b[0;32mfor\u001b[0m \u001b[0mu\u001b[0m\u001b[0;34m,\u001b[0m \u001b[0mu_ratings\u001b[0m \u001b[0;32min\u001b[0m \u001b[0miteritems\u001b[0m\u001b[0;34m(\u001b[0m\u001b[0mself\u001b[0m\u001b[0;34m.\u001b[0m\u001b[0mur\u001b[0m\u001b[0;34m)\u001b[0m\u001b[0;34m:\u001b[0m\u001b[0;34m\u001b[0m\u001b[0m\n\u001b[1;32m    628\u001b[0m             \u001b[0;32mfor\u001b[0m \u001b[0mi\u001b[0m\u001b[0;34m,\u001b[0m \u001b[0mr\u001b[0m \u001b[0;32min\u001b[0m \u001b[0mu_ratings\u001b[0m\u001b[0;34m:\u001b[0m\u001b[0;34m\u001b[0m\u001b[0m\n\u001b[0;32m--> 629\u001b[0;31m                 \u001b[0;32myield\u001b[0m \u001b[0mu\u001b[0m\u001b[0;34m,\u001b[0m \u001b[0mi\u001b[0m\u001b[0;34m,\u001b[0m \u001b[0mr\u001b[0m\u001b[0;34m\u001b[0m\u001b[0m\n\u001b[0m\u001b[1;32m    630\u001b[0m \u001b[0;34m\u001b[0m\u001b[0m\n\u001b[1;32m    631\u001b[0m     \u001b[0;32mdef\u001b[0m \u001b[0mbuild_testset\u001b[0m\u001b[0;34m(\u001b[0m\u001b[0mself\u001b[0m\u001b[0;34m)\u001b[0m\u001b[0;34m:\u001b[0m\u001b[0;34m\u001b[0m\u001b[0m\n",
      "\u001b[0;31mKeyboardInterrupt\u001b[0m: "
     ]
    }
   ],
   "source": [
    "#matrix_factorization.SVDpp    The SVD++ algorithm, an extension of SVD taking into account implicit ratings.\n",
    "\n",
    "from surprise import SVDpp\n",
    "\n",
    "algo.SVDpp = SVDpp()\n",
    "\n",
    "perf.SVDpp = evaluate(algo.SVDpp, data, measures=['RMSE', 'MAE'])\n",
    "\n",
    "print_perf(perf.SVDpp)"
   ]
  },
  {
   "cell_type": "code",
   "execution_count": 28,
   "metadata": {
    "collapsed": false
   },
   "outputs": [
    {
     "name": "stdout",
     "output_type": "stream",
     "text": [
      "Evaluating RMSE, MAE of algorithm SlopeOne.\n",
      "\n",
      "------------\n",
      "Fold 1\n",
      "RMSE: 0.9408\n",
      "MAE:  0.7426\n",
      "------------\n",
      "Fold 2\n",
      "RMSE: 0.9425\n",
      "MAE:  0.7409\n",
      "------------\n",
      "Fold 3\n",
      "RMSE: 0.9553\n",
      "MAE:  0.7501\n",
      "------------\n",
      "Fold 4\n",
      "RMSE: 0.9441\n",
      "MAE:  0.7404\n",
      "------------\n",
      "Fold 5\n",
      "RMSE: 0.9430\n",
      "MAE:  0.7403\n",
      "------------\n",
      "------------\n",
      "Mean RMSE: 0.9451\n",
      "Mean MAE : 0.7429\n",
      "------------\n",
      "------------\n",
      "        Fold 1  Fold 2  Fold 3  Fold 4  Fold 5  Mean    \n",
      "RMSE    0.9408  0.9425  0.9553  0.9441  0.9430  0.9451  \n",
      "MAE     0.7426  0.7409  0.7501  0.7404  0.7403  0.7429  \n"
     ]
    }
   ],
   "source": [
    "#slope_one.SlopeOne    A simple yet accurate collaborative filtering algorithm.\n",
    "\n",
    "from surprise import SlopeOne\n",
    "\n",
    "algo.SlopeOne = SlopeOne()\n",
    "\n",
    "perf.SlopeOne = evaluate(algo.SlopeOne, data, measures=['RMSE', 'MAE'])\n",
    "\n",
    "print_perf(perf.SlopeOne)"
   ]
  },
  {
   "cell_type": "code",
   "execution_count": 30,
   "metadata": {
    "collapsed": false
   },
   "outputs": [
    {
     "name": "stdout",
     "output_type": "stream",
     "text": [
      "Evaluating RMSE, MAE of algorithm CoClustering.\n",
      "\n",
      "------------\n",
      "Fold 1\n",
      "RMSE: 0.9586\n",
      "MAE:  0.7543\n",
      "------------\n",
      "Fold 2\n",
      "RMSE: 0.9583\n",
      "MAE:  0.7479\n",
      "------------\n",
      "Fold 3\n",
      "RMSE: 0.9766\n",
      "MAE:  0.7655\n",
      "------------\n",
      "Fold 4\n",
      "RMSE: 0.9593\n",
      "MAE:  0.7487\n",
      "------------\n",
      "Fold 5\n",
      "RMSE: 0.9627\n",
      "MAE:  0.7525\n",
      "------------\n",
      "------------\n",
      "Mean RMSE: 0.9631\n",
      "Mean MAE : 0.7538\n",
      "------------\n",
      "------------\n",
      "        Fold 1  Fold 2  Fold 3  Fold 4  Fold 5  Mean    \n",
      "RMSE    0.9586  0.9583  0.9766  0.9593  0.9627  0.9631  \n",
      "MAE     0.7543  0.7479  0.7655  0.7487  0.7525  0.7538  \n"
     ]
    }
   ],
   "source": [
    "#co_clustering.CoClustering    A collaborative filtering algorithm based on co-clustering.\n",
    "\n",
    "from surprise import CoClustering\n",
    "\n",
    "algo.CoClustering = CoClustering()\n",
    "\n",
    "perf.CoClustering = evaluate(algo.CoClustering, data, measures=['RMSE', 'MAE'])\n",
    "\n",
    "print_perf(perf.CoClustering)"
   ]
  },
  {
   "cell_type": "code",
   "execution_count": 31,
   "metadata": {
    "collapsed": false
   },
   "outputs": [
    {
     "name": "stdout",
     "output_type": "stream",
     "text": [
      "Evaluating RMSE, MAE of algorithm NMF.\n",
      "\n",
      "------------\n",
      "Fold 1\n",
      "RMSE: 0.9581\n",
      "MAE:  0.7569\n",
      "------------\n",
      "Fold 2\n",
      "RMSE: 0.9602\n",
      "MAE:  0.7563\n",
      "------------\n",
      "Fold 3\n",
      "RMSE: 0.9731\n",
      "MAE:  0.7653\n",
      "------------\n",
      "Fold 4\n",
      "RMSE: 0.9624\n",
      "MAE:  0.7537\n",
      "------------\n",
      "Fold 5\n",
      "RMSE: 0.9638\n",
      "MAE:  0.7583\n",
      "------------\n",
      "------------\n",
      "Mean RMSE: 0.9635\n",
      "Mean MAE : 0.7581\n",
      "------------\n",
      "------------\n",
      "        Fold 1  Fold 2  Fold 3  Fold 4  Fold 5  Mean    \n",
      "RMSE    0.9581  0.9602  0.9731  0.9624  0.9638  0.9635  \n",
      "MAE     0.7569  0.7563  0.7653  0.7537  0.7583  0.7581  \n"
     ]
    }
   ],
   "source": [
    "#matrix_factorization.NMF    A collaborative filtering algorithm based on Non-negative Matrix Factorization.\n",
    "\n",
    "from surprise import NMF\n",
    "\n",
    "algo.NMF = NMF()\n",
    "\n",
    "perf.NMF = evaluate(algo.NMF, data, measures=['RMSE', 'MAE'])\n",
    "\n",
    "print_perf(perf.NMF)"
   ]
  },
  {
   "cell_type": "code",
   "execution_count": 52,
   "metadata": {
    "collapsed": false
   },
   "outputs": [
    {
     "name": "stdout",
     "output_type": "stream",
     "text": [
      "user: 4          item: 10         r_ui = 1.00   est = 4.58   {'actual_k': 40, 'was_impossible': False}\n"
     ]
    }
   ],
   "source": [
    "uid = str(4)\n",
    "iid = str(10)\n",
    "\n",
    "pred = algo.KNNBaseline.predict(uid, iid, r_ui=1, verbose=True)"
   ]
  },
  {
   "cell_type": "markdown",
   "metadata": {},
   "source": [
    "##### 5. Consider how a company could use this\n",
    "\n",
    "How might a company use a recommendation like this in practice? Write a few paragraphs covering how they could use the above covering:\n",
    "- How the algorithm works?\n",
    "- What data would be used?\n",
    "- How would we know if it's working?\n",
    "- What is the benefit of using an algorithm over this over just recommending the most popular films overall?"
   ]
  },
  {
   "cell_type": "markdown",
   "metadata": {},
   "source": [
    "KNNBaseline appears to be the best prediction algorith with this data set - it has the lowest RMSE and MAE, meaning the error is minimised. That is, the predicted rating is the closest to the actual rating of each user.\n",
    "\n",
    "KNN or \"K Nearest Neighbours\" functions work by classifying a datapoint to be predicted by finding the most similar datapoints and identifying their classification, then applying this classification. The value of K is how many neighbours are used to identify the classification.\n",
    "\n",
    "KNNBaseline differs from \n",
    "\n",
    "The data could be used in the same way that it's used when Netflix uses it - in order to recommend movies to users to ensure maximum engagement on some kind of streaming engine. It could also be used by a rental service to recommend movies to users who have rented other movies from the service before, e.g. Google Play. Basically, it can be used to recommend movies to users who have previously consumed movies using the service before (since the algorithm/data presupposes that users have made \"recommendations\" before).\n",
    "\n",
    "We would know that the algorithm is working if the MAE/RMSE are both low, and if users are using the service!\n",
    "\n"
   ]
  },
  {
   "cell_type": "code",
   "execution_count": null,
   "metadata": {
    "collapsed": true
   },
   "outputs": [],
   "source": []
  }
 ],
 "metadata": {
  "kernelspec": {
   "display_name": "Python 3",
   "language": "python",
   "name": "python3"
  },
  "language_info": {
   "codemirror_mode": {
    "name": "ipython",
    "version": 3
   },
   "file_extension": ".py",
   "mimetype": "text/x-python",
   "name": "python",
   "nbconvert_exporter": "python",
   "pygments_lexer": "ipython3",
   "version": "3.6.0"
  }
 },
 "nbformat": 4,
 "nbformat_minor": 0
}
