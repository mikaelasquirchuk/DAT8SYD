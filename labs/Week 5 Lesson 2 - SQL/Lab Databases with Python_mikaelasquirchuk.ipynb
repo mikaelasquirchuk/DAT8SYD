{
 "cells": [
  {
   "cell_type": "markdown",
   "metadata": {},
   "source": [
    "# Data Science Part Time Course\n",
    "\n",
    "## Week 5 - Lesson 2 - Lab: Databases with Python\n",
    "\n",
    "In this Lab the goal is connect to a database (created form a local file), read the data into Python and interact with it."
   ]
  },
  {
   "cell_type": "markdown",
   "metadata": {},
   "source": [
    "## 1. Data import\n",
    "\n",
    "Connect to the file 'assets/datasets/enron.db' using one of these methods:\n",
    "\n",
    "- sqlite3 python package\n",
    "- pandas.read_sql\n",
    "- SQLite Manager Firefox extension\n",
    "\n",
    "Take a look at the database and query the master table. How many Tables are there in the db?\n",
    "\n",
    "> Answer:\n",
    "There are 3 tables:\n",
    "- MessageBase\n",
    "- RecipientBase\n",
    "- EmployeeBase"
   ]
  },
  {
   "cell_type": "code",
   "execution_count": 1,
   "metadata": {
    "collapsed": false
   },
   "outputs": [
    {
     "data": {
      "text/plain": [
       "[('MessageBase',), ('RecipientBase',), ('EmployeeBase',)]"
      ]
     },
     "execution_count": 1,
     "metadata": {},
     "output_type": "execute_result"
    }
   ],
   "source": [
    "import sqlite3\n",
    "conn = sqlite3.connect('enron.db') \n",
    "c = conn.cursor()\n",
    "c.execute(\"SELECT name FROM sqlite_master WHERE type='table';\").fetchall()"
   ]
  },
  {
   "cell_type": "markdown",
   "metadata": {},
   "source": [
    "Query the `sqlite_master` table to retrieve the **schema** of the `EmployeeBase` table.\n",
    "\n",
    "1. What fields are there?\n",
    "1. What's the type of each of them?"
   ]
  },
  {
   "cell_type": "code",
   "execution_count": 6,
   "metadata": {
    "collapsed": false
   },
   "outputs": [
    {
     "name": "stdout",
     "output_type": "stream",
     "text": [
      "CREATE TABLE MessageBase (\n",
      "    mid INTEGER,\n",
      "    filename TEXT,\n",
      "    unix_time INTEGER,\n",
      "    subject TEXT,\n",
      "    from_eid INTEGER,\n",
      "    \n",
      "    PRIMARY KEY(mid ASC),\n",
      "    FOREIGN KEY(from_eid) REFERENCES Employee(eid)\n",
      ")\n",
      "CREATE TABLE RecipientBase (\n",
      "    mid INTEGER,\n",
      "    rno INTEGER,\n",
      "    to_eid INTEGER,\n",
      "    \n",
      "    PRIMARY KEY(mid ASC, rno ASC)\n",
      "    FOREIGN KEY(mid) REFERENCES Message(mid)\n",
      "    FOREIGN KEY(to_eid) REFERENCES Employee(eid)\n",
      ")\n",
      "CREATE TABLE EmployeeBase (\n",
      "                  [eid] INTEGER,\n",
      "  [name] TEXT,\n",
      "  [department] TEXT,\n",
      "  [longdepartment] TEXT,\n",
      "  [title] TEXT,\n",
      "  [gender] TEXT,\n",
      "  [seniority] TEXT\n",
      "                  \n",
      "                  )\n"
     ]
    }
   ],
   "source": [
    "fields = c.execute(\"SELECT sql from sqlite_master WHERE type='table' and name='MessageBase';\").fetchall()\n",
    "print (''.join(fields[0]))\n",
    "\n",
    "fields = c.execute(\"SELECT sql from sqlite_master WHERE type='table' and name='RecipientBase';\").fetchall()\n",
    "print (''.join(fields[0]))\n",
    "\n",
    "fields = c.execute(\"SELECT sql from sqlite_master WHERE type='table' and name='EmployeeBase';\").fetchall()\n",
    "print (''.join(fields[0]))"
   ]
  },
  {
   "cell_type": "markdown",
   "metadata": {},
   "source": [
    "1. Print the first 5 rows of EmployeeBase table\n",
    "1. Print the first 5 rows of MessageBase table\n",
    "1. Print the first 5 rows of RecipientBase table\n",
    "\n",
    "**Hint**  use `SELECT` and `LIMIT`."
   ]
  },
  {
   "cell_type": "code",
   "execution_count": 7,
   "metadata": {
    "collapsed": false
   },
   "outputs": [
    {
     "name": "stdout",
     "output_type": "stream",
     "text": [
      "(1, 'John Arnold', 'Forestry', 'ENA Gas Financial', 'VP Trading', 'Male', 'Senior')\n",
      "(2, 'Harry Arora', 'Forestry', 'ENA East Power', 'VP Trading', 'Male', 'Senior')\n",
      "(3, 'Robert Badeer', 'Forestry', 'ENA West Power', 'Mgr Trading', 'Male', 'Junior')\n",
      "(4, 'Susan Bailey', 'Legal', 'ENA Legal', 'Specialist Legal', 'Female', 'Junior')\n",
      "(5, 'Eric Bass', 'Forestry', 'ENA Gas Texas', 'Trader', 'Male', 'Junior')\n"
     ]
    }
   ],
   "source": [
    "results = c.execute(\"SELECT * FROM EmployeeBase LIMIT 5;\").fetchall()\n",
    "for row in results:\n",
    "    print (row)"
   ]
  },
  {
   "cell_type": "code",
   "execution_count": 8,
   "metadata": {
    "collapsed": false
   },
   "outputs": [
    {
     "name": "stdout",
     "output_type": "stream",
     "text": [
      "(1, 'taylor-m/sent/11', 910930020, 'Cd$ CME letter', 138)\n",
      "(2, 'taylor-m/sent/17', 911459940, 'Indemnification', 138)\n",
      "(3, 'taylor-m/sent/18', 911463840, 'Re: Indemnification', 138)\n",
      "(4, 'taylor-m/sent/23', 911874180, 'Re: Coral Energy, L.P.', 138)\n",
      "(5, 'taylor-m/sent/27', 912396120, 'Bankruptcy Code revisions', 138)\n"
     ]
    }
   ],
   "source": [
    "results = c.execute(\"SELECT * FROM MessageBase LIMIT 5;\").fetchall()\n",
    "for row in results:\n",
    "    print (row)"
   ]
  },
  {
   "cell_type": "code",
   "execution_count": 9,
   "metadata": {
    "collapsed": false,
    "scrolled": true
   },
   "outputs": [
    {
     "name": "stdout",
     "output_type": "stream",
     "text": [
      "(1, 1, 59)\n",
      "(2, 1, 15)\n",
      "(3, 1, 15)\n",
      "(4, 1, 109)\n",
      "(4, 2, 49)\n",
      "(4, 3, 120)\n",
      "(4, 4, 59)\n",
      "(5, 1, 45)\n",
      "(5, 2, 53)\n",
      "(6, 1, 113)\n"
     ]
    }
   ],
   "source": [
    "results = c.execute(\"SELECT * FROM RecipientBase LIMIT 10;\").fetchall()\n",
    "for row in results:\n",
    "    print (row)\n",
    "    \n",
    "# The first field is message id, the second is recipient number, and the third is the id of the recipient.\n",
    "# mid, rno, to_eid"
   ]
  },
  {
   "cell_type": "markdown",
   "metadata": {},
   "source": [
    "Now try other SQL statements on the local database, such as SELECT .... FROM ... WHERE ....\n",
    "\n",
    "For example, print the records of EmployeeBase where the Gender is male "
   ]
  },
  {
   "cell_type": "code",
   "execution_count": 17,
   "metadata": {
    "collapsed": false
   },
   "outputs": [
    {
     "name": "stdout",
     "output_type": "stream",
     "text": [
      "(1, 'John Arnold', 'Forestry', 'ENA Gas Financial', 'VP Trading', 'Male', 'Senior')\n",
      "(2, 'Harry Arora', 'Forestry', 'ENA East Power', 'VP Trading', 'Male', 'Senior')\n",
      "(3, 'Robert Badeer', 'Forestry', 'ENA West Power', 'Mgr Trading', 'Male', 'Junior')\n",
      "(5, 'Eric Bass', 'Forestry', 'ENA Gas Texas', 'Trader', 'Male', 'Junior')\n",
      "(6, 'Don Baughman Jr.', 'Forestry', 'ENA East Power', 'Mgr Trading', 'Male', 'Junior')\n",
      "(8, 'Robert Benson', 'Forestry', 'ENA East Power', 'Dir Trading', 'Male', 'Senior')\n",
      "(11, 'Rick Buy', 'Forestry', 'Enron', 'VP & CRO', 'Male', 'Senior')\n",
      "(12, 'Larry Campbell', 'Other', 'ETS', 'Specialist', 'Male', 'Junior')\n",
      "(13, 'Larry F. Campbell', 'Other', 'ENA East Power', 'Specialist', 'Male', 'Junior')\n",
      "(14, 'Mike Carson', 'Forestry', 'ENA East Power', 'Mgr Trading', 'Male', 'Junior')\n",
      "(18, 'Sean Crandall', 'Forestry', 'ENA West Power', 'Dir Trading', 'Male', 'Senior')\n",
      "(19, 'Martin Cuilla', 'Forestry', 'ENA Gas Central', 'Mgr Trading', 'Male', 'Junior')\n",
      "(20, 'Jeff Dasovich', 'Legal', 'Regulatory and Government Affairs', 'Director', 'Male', 'Senior')\n",
      "(22, 'Clint Dean', 'Forestry', 'ENA East Power', 'Mgr Trading', 'Male', 'Junior')\n",
      "(23, 'Craig Dean', 'Other', 'ENA West Power Real Time', 'Specialist', 'Male', 'Junior')\n",
      "(24, 'David W. Delainey', 'Other', 'EWS', 'President & CEO', 'Male', 'Senior')\n",
      "(25, 'James Derrick Jr.', 'Legal', 'Enron', 'VP & Gen Cnsl', 'Male', 'Senior')\n",
      "(28, 'Tom Donohoe', 'Forestry', 'ENA Gas Central', 'Mgr Trading', 'Male', 'Junior')\n",
      "(29, 'Chris Dorland', 'Forestry', 'ENA East Power', 'Mgr Trading', 'Male', 'Junior')\n",
      "(30, 'Frank Ermis', 'Forestry', 'ENA Gas West', 'Dir Trading', 'Male', 'Senior')\n",
      "(31, 'Daren J. Farmer', 'Forestry', 'ENA Gas Texas', 'Dir Trading', 'Male', 'Senior')\n",
      "(33, 'John M. Forney', 'Forestry', 'ENA East Power', 'Dir Trading', 'Male', 'Senior')\n",
      "(34, 'Drew Fossum', 'Legal', 'ETS', 'VP & Gen Cnsl', 'Male', 'Senior')\n",
      "(36, 'Randall L. Gay', 'Other', 'ENA Gas West', 'Associate', 'Male', 'Junior')\n",
      "(37, 'Rob G. Gay', 'Other', 'NA', 'Employee', 'Male', 'Junior')\n",
      "(39, 'Chris Germany', 'Forestry', 'ENA Gas East', 'Mgr Trading', 'Male', 'Junior')\n",
      "(40, 'Doug Gilbert-Smith', 'Forestry', 'ENA East Power', 'Dir Trading', 'Male', 'Senior')\n",
      "(41, 'Darron C. Giron', 'Forestry', 'Energy Operations', 'Mgr Trading', 'Male', 'Junior')\n",
      "(42, 'John Griffith', 'Forestry', 'ENA Gas Financial', 'Mgr Trading', 'Male', 'Junior')\n",
      "(43, 'Mike Grigsby', 'Forestry', 'ENA Gas West', 'VP Trading', 'Male', 'Senior')\n",
      "(44, 'Mark Guzman', 'Other', 'ENA West Power Real Time', 'Specialist', 'Male', 'Junior')\n",
      "(45, 'Mark E. Haedicke', 'Legal', 'ENA Legal', 'Mng Director & Gen Cnsl', 'Male', 'Senior')\n",
      "(47, 'Steven Harris', 'Other', 'ETS', 'VP', 'Male', 'Senior')\n",
      "(48, 'Rod Hayslett', 'Other', 'ETS', 'VP & CFO', 'Male', 'Senior')\n",
      "(50, 'Scott Hendrickson', 'Forestry', 'ENA Gas East', 'Dir Trading', 'Male', 'Senior')\n",
      "(51, 'Juan Hernandez', 'Forestry', 'ENA East Power', 'Mgr Trading', 'Male', 'Junior')\n",
      "(53, 'Jeffrey T. Hodge', 'Legal', 'ENA Legal', 'VP & Asst Gen Cnsl', 'Male', 'Senior')\n",
      "(54, 'John Hodge', 'Forestry', 'ENA Gas East', 'Dir Trading', 'Male', 'Senior')\n",
      "(55, 'Keith Holst', 'Forestry', 'ENA Gas West', 'Dir Trading', 'Male', 'Senior')\n",
      "(56, 'Stanley Horton', 'Other', 'ETS', 'President & CEO', 'Male', 'Senior')\n",
      "(57, 'Kevin Hyatt', 'Other', 'ETS', 'Director', 'Male', 'Senior')\n",
      "(58, 'Dan J. Hyvl', 'Legal', 'ENA Legal', 'Employee', 'Male', 'Junior')\n",
      "(60, 'Vince J. Kaminski', 'Other', 'EWS', 'Mng Director Research', 'Male', 'Senior')\n",
      "(61, 'Steven J. Kean', 'Other', 'Enron', 'VP & Chief of Staff', 'Male', 'Senior')\n",
      "(62, 'Peter F. Keavey', 'Forestry', 'ENA Gas East', 'Mgr Trading', 'Male', 'Junior')\n",
      "(64, 'Jeff King', 'Forestry', 'ENA East Power', 'Mgr Trading', 'Male', 'Junior')\n",
      "(67, 'John J. Lavorato', 'Other', 'EWS', 'ENA President & CEO', 'Male', 'Senior')\n",
      "(68, 'Kenneth Lay', 'Other', 'Enron', 'President & CEO', 'Male', 'Senior')\n",
      "(69, 'Matthew Lenhart', 'Other', 'ENA Gas West', 'Analyst', 'Male', 'Junior')\n",
      "(70, 'Andrew H. Lewis', 'Forestry', 'ENA Gas Central', 'Dir Trading', 'Male', 'Senior')\n",
      "(71, 'Eric Linder', 'Other', 'ENA West Power Real Time', 'Specialist', 'Male', 'Junior')\n",
      "(73, 'Teb Lokey', 'Other', 'ETS', 'Employee', 'Male', 'Junior')\n",
      "(74, 'Phillip M. Love', 'Other', 'Energy Operations', 'Specialist', 'Male', 'Junior')\n",
      "(75, 'Paul T. Lucci', 'Forestry', 'ENA Gas West', 'Dir Trading', 'Male', 'Senior')\n",
      "(76, 'Mike Maggi', 'Forestry', 'ENA Gas Financial', 'Dir Trading', 'Male', 'Senior')\n",
      "(78, 'Thomas A. Martin', 'Forestry', 'ENA Gas Texas', 'VP Trading', 'Male', 'Senior')\n",
      "(79, 'Larry May', 'Forestry', 'ENA Gas Financial', 'Dir Trading', 'Male', 'Senior')\n",
      "(80, 'Danny McCarty', 'Other', 'ETS', 'VP & CTO', 'Male', 'Senior')\n",
      "(81, 'Mark McConnell', 'Other', 'ETS', 'Director', 'Male', 'Senior')\n",
      "(82, 'Mike McConnell', 'Other', 'EWS', 'EGM President & CEO', 'Male', 'Senior')\n",
      "(83, 'Brad McKay', 'Forestry', 'ENA Gas East', 'Dir Trading', 'Male', 'Senior')\n",
      "(84, 'Jonathan McKay', 'Forestry', 'ENA Gas East', 'Dir Trading', 'Male', 'Senior')\n",
      "(85, 'Errol McLaughlin Jr.', 'Other', 'Energy Operations', 'Specialist', 'Male', 'Junior')\n",
      "(86, 'Steven Merris', 'Other', 'ENA West Power Real Time', 'Specialist', 'Male', 'Junior')\n",
      "(87, 'Bert Meyers', 'Other', 'ENA West Power Real Time', 'Specialist', 'Male', 'Junior')\n",
      "(89, 'Matt Motley', 'Forestry', 'ENA West Power Real Time', 'Dir Trading', 'Male', 'Senior')\n",
      "(90, 'Scott Neal', 'Forestry', 'ENA Gas East', 'VP Trading', 'Male', 'Senior')\n",
      "(91, 'Gerald Nemec', 'Legal', 'ENA Legal', 'Manager', 'Male', 'Junior')\n",
      "(93, 'Joe Parks', 'Forestry', 'ENA Gas Central', 'Mgr Trading', 'Male', 'Junior')\n",
      "(96, 'Vladi Pimenov', 'Other', 'ENA Gas East', 'Associate', 'Male', 'Junior')\n",
      "(97, 'Phillip Platter', 'Other', 'ENA West Power', 'Specialist', 'Male', 'Junior')\n",
      "(98, 'Kevin M. Presto', 'Forestry', 'ENA East Power', 'VP Trading', 'Male', 'Senior')\n",
      "(99, 'Joe Quenet', 'Forestry', 'ENA East Power', 'Mgr Trading', 'Male', 'Junior')\n",
      "(100, 'Dutch Quigley', 'Other', 'ENA Gas Financial', 'Associate', 'Male', 'Junior')\n",
      "(101, 'Bill Rapp', 'Legal', 'ETS', 'Attorney', 'Male', 'Junior')\n",
      "(102, 'Jay Reitmeyer', 'Other', 'ENA Gas West', 'Associate', 'Male', 'Junior')\n",
      "(103, 'Cooper Richey', 'Other', 'ENA West Power', 'Associate', 'Male', 'Junior')\n",
      "(105, 'Richard Ring', 'Other', 'EES', 'Employee', 'Male', 'Junior')\n",
      "(107, 'Benjamin Rogers', 'Other', 'ENA East Power', 'Associate', 'Male', 'Junior')\n",
      "(108, 'Kevin Ruscitti', 'Forestry', 'ENA Gas Central', 'Mgr Trading', 'Male', 'Junior')\n",
      "(110, 'Eric Saibi', 'Other', 'ENA East Power', 'Analyst', 'Male', 'Junior')\n",
      "(111, 'Holden Salisbury', 'Other', 'ENA West Power', 'Analyst', 'Male', 'Junior')\n",
      "(113, 'Richard B. Sanders', 'Legal', 'ENA Legal', 'VP & Asst Gen Cnsl', 'Male', 'Senior')\n",
      "(115, 'Darrell Schoolcraft', 'Other', 'ETS', 'Employee', 'Male', 'Junior')\n",
      "(116, 'Jim Schwieger', 'Forestry', 'ENA Gas Texas', 'Trader', 'Male', 'Junior')\n",
      "(121, 'Jeffrey A. Shankman', 'Other', 'EWS', 'COO', 'Male', 'Senior')\n",
      "(122, 'Richard Shapiro', 'Legal', 'Regulatory and Government Affairs', 'VP of Regulatory Affairs', 'Male', 'Senior')\n",
      "(123, 'Hunter S. Shively', 'Forestry', 'ENA Gas Central', 'VP Trading', 'Male', 'Senior')\n",
      "(124, 'Jeff Skilling', 'Other', 'Enron', 'President & CEO', 'Male', 'Senior')\n",
      "(125, 'Ryan Slinger', 'Other', 'ENA West Power Real Time', 'Specialist', 'Male', 'Junior')\n",
      "(126, 'Matt Smith', 'Other', 'ENA Gas West', 'Associate', 'Male', 'Junior')\n",
      "(127, 'Geir Solberg', 'Other', 'ENA West Power Real Time', 'Analyst', 'Male', 'Junior')\n",
      "(128, 'Steven P. South', 'Forestry', 'ENA Gas West', 'Dir Trading', 'Male', 'Senior')\n",
      "(131, 'James D. Steffes', 'Legal', 'Regulatory and Government Affairs', 'VP of Government Affairs', 'Male', 'Senior')\n",
      "(132, 'Joe Stepenovitch', 'Other', 'ENA East Power', 'Specialist', 'Male', 'Junior')\n",
      "(133, 'Chris Stokley', 'Other', 'ENA West Power', 'Specialist', 'Male', 'Junior')\n",
      "(134, 'Geoff Storey', 'Forestry', 'ENA Gas Central', 'Dir Trading', 'Male', 'Senior')\n",
      "(135, 'Fletcher J. Sturm', 'Forestry', 'ENA East Power', 'VP Trading', 'Male', 'Senior')\n",
      "(136, 'Mike Swerzbin', 'Forestry', 'ENA West Power', 'VP Trading', 'Male', 'Senior')\n",
      "(138, 'Mark E. Taylor', 'Legal', 'ENA Legal', 'VP & Gen Cnsl', 'Male', 'Senior')\n",
      "(139, 'Michael E. Taylor', 'Forestry', 'Energy Operations', 'Trader', 'Male', 'Junior')\n",
      "(141, 'Paul D. Thomas', 'Other', 'ENA East Power', 'Associate', 'Male', 'Junior')\n",
      "(143, 'Barry Tycholiz', 'Forestry', 'ENA Gas West', 'VP Trading', 'Male', 'Senior')\n",
      "(146, 'V Charles Weldon', 'Other', 'ENA Gas Texas', 'Associate', 'Male', 'Junior')\n",
      "(147, 'Greg Whalley', 'Other', 'EWS', 'President & CEO', 'Male', 'Senior')\n",
      "(149, 'Mark Whitt', 'Forestry', 'ENA Gas West', 'VP Trading', 'Male', 'Senior')\n",
      "(150, 'Jason Williams', 'Other', 'ENA Gas Central', 'Specialist', 'Male', 'Junior')\n",
      "(151, 'Bill Williams III', 'Other', 'ENA West Power Real Time', 'Analyst', 'Male', 'Junior')\n",
      "(152, 'Jason Wolfe', 'Other', 'ENA Gas West', 'Analyst', 'Male', 'Junior')\n",
      "(153, 'Paul Y’Barbo', 'Other', 'ETS', 'Director', 'Male', 'Senior')\n",
      "(154, 'Andy Zipper', 'Other', 'EWS', 'VP of Enron Online', 'Male', 'Senior')\n",
      "(155, 'John Zufferli', 'Other', 'EWS', 'VP of Enron Canada', 'Male', 'Senior')\n",
      "(156, 'Phillip K. Allen', 'Forestry', 'ENA Gas West', 'Mng Dir Trading', 'Male', 'Senior')\n"
     ]
    }
   ],
   "source": [
    "results = c.execute(\"SELECT * FROM EmployeeBase WHERE gender='Male'\").fetchall()\n",
    "for row in results:\n",
    "    print(row)"
   ]
  },
  {
   "cell_type": "markdown",
   "metadata": {},
   "source": [
    "#### Import each of the 3 tables to a Pandas Dataframes"
   ]
  },
  {
   "cell_type": "code",
   "execution_count": 72,
   "metadata": {
    "collapsed": true
   },
   "outputs": [],
   "source": [
    "import pandas as pd\n",
    "employees = pd.read_sql(\"SELECT * FROM EmployeeBase;\", conn)\n",
    "recipients = pd.read_sql(\"SELECT * FROM RecipientBase;\", conn)\n",
    "messages = pd.read_sql(\"SELECT * FROM MessageBase;\", conn)"
   ]
  },
  {
   "cell_type": "code",
   "execution_count": 73,
   "metadata": {
    "collapsed": false
   },
   "outputs": [
    {
     "data": {
      "text/html": [
       "<div>\n",
       "<table border=\"1\" class=\"dataframe\">\n",
       "  <thead>\n",
       "    <tr style=\"text-align: right;\">\n",
       "      <th></th>\n",
       "      <th>mid</th>\n",
       "      <th>rno</th>\n",
       "      <th>to_eid</th>\n",
       "    </tr>\n",
       "  </thead>\n",
       "  <tbody>\n",
       "    <tr>\n",
       "      <th>0</th>\n",
       "      <td>1</td>\n",
       "      <td>1</td>\n",
       "      <td>59</td>\n",
       "    </tr>\n",
       "    <tr>\n",
       "      <th>1</th>\n",
       "      <td>2</td>\n",
       "      <td>1</td>\n",
       "      <td>15</td>\n",
       "    </tr>\n",
       "    <tr>\n",
       "      <th>2</th>\n",
       "      <td>3</td>\n",
       "      <td>1</td>\n",
       "      <td>15</td>\n",
       "    </tr>\n",
       "    <tr>\n",
       "      <th>3</th>\n",
       "      <td>4</td>\n",
       "      <td>1</td>\n",
       "      <td>109</td>\n",
       "    </tr>\n",
       "    <tr>\n",
       "      <th>4</th>\n",
       "      <td>4</td>\n",
       "      <td>2</td>\n",
       "      <td>49</td>\n",
       "    </tr>\n",
       "    <tr>\n",
       "      <th>5</th>\n",
       "      <td>4</td>\n",
       "      <td>3</td>\n",
       "      <td>120</td>\n",
       "    </tr>\n",
       "    <tr>\n",
       "      <th>6</th>\n",
       "      <td>4</td>\n",
       "      <td>4</td>\n",
       "      <td>59</td>\n",
       "    </tr>\n",
       "    <tr>\n",
       "      <th>7</th>\n",
       "      <td>5</td>\n",
       "      <td>1</td>\n",
       "      <td>45</td>\n",
       "    </tr>\n",
       "    <tr>\n",
       "      <th>8</th>\n",
       "      <td>5</td>\n",
       "      <td>2</td>\n",
       "      <td>53</td>\n",
       "    </tr>\n",
       "    <tr>\n",
       "      <th>9</th>\n",
       "      <td>6</td>\n",
       "      <td>1</td>\n",
       "      <td>113</td>\n",
       "    </tr>\n",
       "  </tbody>\n",
       "</table>\n",
       "</div>"
      ],
      "text/plain": [
       "   mid  rno  to_eid\n",
       "0    1    1      59\n",
       "1    2    1      15\n",
       "2    3    1      15\n",
       "3    4    1     109\n",
       "4    4    2      49\n",
       "5    4    3     120\n",
       "6    4    4      59\n",
       "7    5    1      45\n",
       "8    5    2      53\n",
       "9    6    1     113"
      ]
     },
     "execution_count": 73,
     "metadata": {},
     "output_type": "execute_result"
    }
   ],
   "source": [
    "recipients.head(10)"
   ]
  },
  {
   "cell_type": "markdown",
   "metadata": {},
   "source": [
    "## 2. Data Exploration\n",
    "\n",
    "Use the 3 dataframes to answer the following questions:\n",
    "\n",
    "How many employees are there in the company? 156"
   ]
  },
  {
   "cell_type": "code",
   "execution_count": 74,
   "metadata": {
    "collapsed": false
   },
   "outputs": [
    {
     "data": {
      "text/html": [
       "<div>\n",
       "<table border=\"1\" class=\"dataframe\">\n",
       "  <thead>\n",
       "    <tr style=\"text-align: right;\">\n",
       "      <th></th>\n",
       "      <th>eid</th>\n",
       "    </tr>\n",
       "  </thead>\n",
       "  <tbody>\n",
       "    <tr>\n",
       "      <th>count</th>\n",
       "      <td>156.000000</td>\n",
       "    </tr>\n",
       "    <tr>\n",
       "      <th>mean</th>\n",
       "      <td>78.500000</td>\n",
       "    </tr>\n",
       "    <tr>\n",
       "      <th>std</th>\n",
       "      <td>45.177428</td>\n",
       "    </tr>\n",
       "    <tr>\n",
       "      <th>min</th>\n",
       "      <td>1.000000</td>\n",
       "    </tr>\n",
       "    <tr>\n",
       "      <th>25%</th>\n",
       "      <td>39.750000</td>\n",
       "    </tr>\n",
       "    <tr>\n",
       "      <th>50%</th>\n",
       "      <td>78.500000</td>\n",
       "    </tr>\n",
       "    <tr>\n",
       "      <th>75%</th>\n",
       "      <td>117.250000</td>\n",
       "    </tr>\n",
       "    <tr>\n",
       "      <th>max</th>\n",
       "      <td>156.000000</td>\n",
       "    </tr>\n",
       "  </tbody>\n",
       "</table>\n",
       "</div>"
      ],
      "text/plain": [
       "              eid\n",
       "count  156.000000\n",
       "mean    78.500000\n",
       "std     45.177428\n",
       "min      1.000000\n",
       "25%     39.750000\n",
       "50%     78.500000\n",
       "75%    117.250000\n",
       "max    156.000000"
      ]
     },
     "execution_count": 74,
     "metadata": {},
     "output_type": "execute_result"
    }
   ],
   "source": [
    "employees.describe()"
   ]
  },
  {
   "cell_type": "markdown",
   "metadata": {
    "collapsed": true
   },
   "source": [
    "How many messages are there in the database?"
   ]
  },
  {
   "cell_type": "code",
   "execution_count": 75,
   "metadata": {
    "collapsed": false
   },
   "outputs": [
    {
     "data": {
      "text/plain": [
       "mid       38388\n",
       "rno       38388\n",
       "to_eid    38388\n",
       "dtype: int64"
      ]
     },
     "execution_count": 75,
     "metadata": {},
     "output_type": "execute_result"
    }
   ],
   "source": [
    "recipients.count()"
   ]
  },
  {
   "cell_type": "markdown",
   "metadata": {
    "collapsed": true
   },
   "source": [
    "Some messages are sent to more than one recipient. Group the messages by message_id and count the number of recepients. Then look at the distribution of recepient numbers.\n",
    "    - How many messages have only one recipient?\n",
    "    - How many messages have >= 5 recipients?\n",
    "    - What's the highest number of recipients?\n",
    "    - Who sent the message with the highest number of recipients?"
   ]
  },
  {
   "cell_type": "code",
   "execution_count": 76,
   "metadata": {
    "collapsed": false
   },
   "outputs": [
    {
     "data": {
      "text/plain": [
       "mid       21635\n",
       "rno       21635\n",
       "to_eid    21635\n",
       "dtype: int64"
      ]
     },
     "execution_count": 76,
     "metadata": {},
     "output_type": "execute_result"
    }
   ],
   "source": [
    "singlerec = recipients.rno == 1\n",
    "recipients[singlerec].count()"
   ]
  },
  {
   "cell_type": "code",
   "execution_count": 77,
   "metadata": {
    "collapsed": false
   },
   "outputs": [
    {
     "data": {
      "text/plain": [
       "mid       4162\n",
       "rno       4162\n",
       "to_eid    4162\n",
       "dtype: int64"
      ]
     },
     "execution_count": 77,
     "metadata": {},
     "output_type": "execute_result"
    }
   ],
   "source": [
    "overfive = recipients.rno >= 5\n",
    "recipients[overfive].count()"
   ]
  },
  {
   "cell_type": "code",
   "execution_count": 80,
   "metadata": {
    "collapsed": false
   },
   "outputs": [
    {
     "name": "stdout",
     "output_type": "stream",
     "text": [
      "         mid  rno  to_eid\n",
      "21179  12116   57      51\n",
      "21361  12151   57      51\n"
     ]
    }
   ],
   "source": [
    "most = recipients.rno == 57\n",
    "print(recipients[most])"
   ]
  },
  {
   "cell_type": "code",
   "execution_count": 83,
   "metadata": {
    "collapsed": false
   },
   "outputs": [
    {
     "name": "stdout",
     "output_type": "stream",
     "text": [
      "         mid                      filename  unix_time subject  from_eid\n",
      "12115  12116  baughman-d/all_documents/398  990510780                67\n",
      "         mid                 filename  unix_time subject  from_eid\n",
      "12150  12151  baughman-d/ect_admin/22  990546780                67\n"
     ]
    }
   ],
   "source": [
    "print(messages[messages.mid == 12116])\n",
    "print(messages[messages.mid == 12151])"
   ]
  },
  {
   "cell_type": "markdown",
   "metadata": {},
   "source": [
    "* 38,388 messages in the recipient database, and 21,635 were sent to only a single recipient. 4,162 were sent to over five recipients. \n",
    "* The highest number of recipients is 57.\n",
    "* Two messages were sent to 57 people, messages with ID 12116 and 12151. Both of these messages were sent by Baughman D.\n"
   ]
  },
  {
   "cell_type": "markdown",
   "metadata": {
    "collapsed": true
   },
   "source": [
    "Plot the distribution of recepient numbers using Bokeh."
   ]
  },
  {
   "cell_type": "code",
   "execution_count": 135,
   "metadata": {
    "collapsed": false
   },
   "outputs": [
    {
     "data": {
      "text/html": [
       "\n",
       "    <div class=\"bk-root\">\n",
       "        <a href=\"http://bokeh.pydata.org\" target=\"_blank\" class=\"bk-logo bk-logo-small bk-logo-notebook\"></a>\n",
       "        <span id=\"08ccf856-084b-4838-a915-1f78926f8699\">Loading BokehJS ...</span>\n",
       "    </div>"
      ]
     },
     "metadata": {},
     "output_type": "display_data"
    },
    {
     "data": {
      "application/javascript": [
       "\n",
       "(function(global) {\n",
       "  function now() {\n",
       "    return new Date();\n",
       "  }\n",
       "\n",
       "  var force = true;\n",
       "\n",
       "  if (typeof (window._bokeh_onload_callbacks) === \"undefined\" || force === true) {\n",
       "    window._bokeh_onload_callbacks = [];\n",
       "    window._bokeh_is_loading = undefined;\n",
       "  }\n",
       "\n",
       "\n",
       "  \n",
       "  if (typeof (window._bokeh_timeout) === \"undefined\" || force === true) {\n",
       "    window._bokeh_timeout = Date.now() + 5000;\n",
       "    window._bokeh_failed_load = false;\n",
       "  }\n",
       "\n",
       "  var NB_LOAD_WARNING = {'data': {'text/html':\n",
       "     \"<div style='background-color: #fdd'>\\n\"+\n",
       "     \"<p>\\n\"+\n",
       "     \"BokehJS does not appear to have successfully loaded. If loading BokehJS from CDN, this \\n\"+\n",
       "     \"may be due to a slow or bad network connection. Possible fixes:\\n\"+\n",
       "     \"</p>\\n\"+\n",
       "     \"<ul>\\n\"+\n",
       "     \"<li>re-rerun `output_notebook()` to attempt to load from CDN again, or</li>\\n\"+\n",
       "     \"<li>use INLINE resources instead, as so:</li>\\n\"+\n",
       "     \"</ul>\\n\"+\n",
       "     \"<code>\\n\"+\n",
       "     \"from bokeh.resources import INLINE\\n\"+\n",
       "     \"output_notebook(resources=INLINE)\\n\"+\n",
       "     \"</code>\\n\"+\n",
       "     \"</div>\"}};\n",
       "\n",
       "  function display_loaded() {\n",
       "    if (window.Bokeh !== undefined) {\n",
       "      document.getElementById(\"08ccf856-084b-4838-a915-1f78926f8699\").textContent = \"BokehJS successfully loaded.\";\n",
       "    } else if (Date.now() < window._bokeh_timeout) {\n",
       "      setTimeout(display_loaded, 100)\n",
       "    }\n",
       "  }\n",
       "\n",
       "  function run_callbacks() {\n",
       "    window._bokeh_onload_callbacks.forEach(function(callback) { callback() });\n",
       "    delete window._bokeh_onload_callbacks\n",
       "    console.info(\"Bokeh: all callbacks have finished\");\n",
       "  }\n",
       "\n",
       "  function load_libs(js_urls, callback) {\n",
       "    window._bokeh_onload_callbacks.push(callback);\n",
       "    if (window._bokeh_is_loading > 0) {\n",
       "      console.log(\"Bokeh: BokehJS is being loaded, scheduling callback at\", now());\n",
       "      return null;\n",
       "    }\n",
       "    if (js_urls == null || js_urls.length === 0) {\n",
       "      run_callbacks();\n",
       "      return null;\n",
       "    }\n",
       "    console.log(\"Bokeh: BokehJS not loaded, scheduling load and callback at\", now());\n",
       "    window._bokeh_is_loading = js_urls.length;\n",
       "    for (var i = 0; i < js_urls.length; i++) {\n",
       "      var url = js_urls[i];\n",
       "      var s = document.createElement('script');\n",
       "      s.src = url;\n",
       "      s.async = false;\n",
       "      s.onreadystatechange = s.onload = function() {\n",
       "        window._bokeh_is_loading--;\n",
       "        if (window._bokeh_is_loading === 0) {\n",
       "          console.log(\"Bokeh: all BokehJS libraries loaded\");\n",
       "          run_callbacks()\n",
       "        }\n",
       "      };\n",
       "      s.onerror = function() {\n",
       "        console.warn(\"failed to load library \" + url);\n",
       "      };\n",
       "      console.log(\"Bokeh: injecting script tag for BokehJS library: \", url);\n",
       "      document.getElementsByTagName(\"head\")[0].appendChild(s);\n",
       "    }\n",
       "  };var element = document.getElementById(\"08ccf856-084b-4838-a915-1f78926f8699\");\n",
       "  if (element == null) {\n",
       "    console.log(\"Bokeh: ERROR: autoload.js configured with elementid '08ccf856-084b-4838-a915-1f78926f8699' but no matching script tag was found. \")\n",
       "    return false;\n",
       "  }\n",
       "\n",
       "  var js_urls = [\"https://cdn.pydata.org/bokeh/release/bokeh-0.12.4.min.js\", \"https://cdn.pydata.org/bokeh/release/bokeh-widgets-0.12.4.min.js\"];\n",
       "\n",
       "  var inline_js = [\n",
       "    function(Bokeh) {\n",
       "      Bokeh.set_log_level(\"info\");\n",
       "    },\n",
       "    \n",
       "    function(Bokeh) {\n",
       "      \n",
       "      document.getElementById(\"08ccf856-084b-4838-a915-1f78926f8699\").textContent = \"BokehJS is loading...\";\n",
       "    },\n",
       "    function(Bokeh) {\n",
       "      console.log(\"Bokeh: injecting CSS: https://cdn.pydata.org/bokeh/release/bokeh-0.12.4.min.css\");\n",
       "      Bokeh.embed.inject_css(\"https://cdn.pydata.org/bokeh/release/bokeh-0.12.4.min.css\");\n",
       "      console.log(\"Bokeh: injecting CSS: https://cdn.pydata.org/bokeh/release/bokeh-widgets-0.12.4.min.css\");\n",
       "      Bokeh.embed.inject_css(\"https://cdn.pydata.org/bokeh/release/bokeh-widgets-0.12.4.min.css\");\n",
       "    }\n",
       "  ];\n",
       "\n",
       "  function run_inline_js() {\n",
       "    \n",
       "    if ((window.Bokeh !== undefined) || (force === true)) {\n",
       "      for (var i = 0; i < inline_js.length; i++) {\n",
       "        inline_js[i](window.Bokeh);\n",
       "      }if (force === true) {\n",
       "        display_loaded();\n",
       "      }} else if (Date.now() < window._bokeh_timeout) {\n",
       "      setTimeout(run_inline_js, 100);\n",
       "    } else if (!window._bokeh_failed_load) {\n",
       "      console.log(\"Bokeh: BokehJS failed to load within specified timeout.\");\n",
       "      window._bokeh_failed_load = true;\n",
       "    } else if (force !== true) {\n",
       "      var cell = $(document.getElementById(\"08ccf856-084b-4838-a915-1f78926f8699\")).parents('.cell').data().cell;\n",
       "      cell.output_area.append_execute_result(NB_LOAD_WARNING)\n",
       "    }\n",
       "\n",
       "  }\n",
       "\n",
       "  if (window._bokeh_is_loading === 0) {\n",
       "    console.log(\"Bokeh: BokehJS loaded, going straight to plotting\");\n",
       "    run_inline_js();\n",
       "  } else {\n",
       "    load_libs(js_urls, function() {\n",
       "      console.log(\"Bokeh: BokehJS plotting callback run at\", now());\n",
       "      run_inline_js();\n",
       "    });\n",
       "  }\n",
       "}(this));"
      ]
     },
     "metadata": {},
     "output_type": "display_data"
    },
    {
     "data": {
      "text/html": [
       "\n",
       "\n",
       "    <div class=\"bk-root\">\n",
       "        <div class=\"bk-plotdiv\" id=\"bda24405-e9ba-4e26-adc6-900416c325bf\"></div>\n",
       "    </div>\n",
       "<script type=\"text/javascript\">\n",
       "  \n",
       "  (function(global) {\n",
       "    function now() {\n",
       "      return new Date();\n",
       "    }\n",
       "  \n",
       "    var force = false;\n",
       "  \n",
       "    if (typeof (window._bokeh_onload_callbacks) === \"undefined\" || force === true) {\n",
       "      window._bokeh_onload_callbacks = [];\n",
       "      window._bokeh_is_loading = undefined;\n",
       "    }\n",
       "  \n",
       "  \n",
       "    \n",
       "    if (typeof (window._bokeh_timeout) === \"undefined\" || force === true) {\n",
       "      window._bokeh_timeout = Date.now() + 0;\n",
       "      window._bokeh_failed_load = false;\n",
       "    }\n",
       "  \n",
       "    var NB_LOAD_WARNING = {'data': {'text/html':\n",
       "       \"<div style='background-color: #fdd'>\\n\"+\n",
       "       \"<p>\\n\"+\n",
       "       \"BokehJS does not appear to have successfully loaded. If loading BokehJS from CDN, this \\n\"+\n",
       "       \"may be due to a slow or bad network connection. Possible fixes:\\n\"+\n",
       "       \"</p>\\n\"+\n",
       "       \"<ul>\\n\"+\n",
       "       \"<li>re-rerun `output_notebook()` to attempt to load from CDN again, or</li>\\n\"+\n",
       "       \"<li>use INLINE resources instead, as so:</li>\\n\"+\n",
       "       \"</ul>\\n\"+\n",
       "       \"<code>\\n\"+\n",
       "       \"from bokeh.resources import INLINE\\n\"+\n",
       "       \"output_notebook(resources=INLINE)\\n\"+\n",
       "       \"</code>\\n\"+\n",
       "       \"</div>\"}};\n",
       "  \n",
       "    function display_loaded() {\n",
       "      if (window.Bokeh !== undefined) {\n",
       "        document.getElementById(\"bda24405-e9ba-4e26-adc6-900416c325bf\").textContent = \"BokehJS successfully loaded.\";\n",
       "      } else if (Date.now() < window._bokeh_timeout) {\n",
       "        setTimeout(display_loaded, 100)\n",
       "      }\n",
       "    }\n",
       "  \n",
       "    function run_callbacks() {\n",
       "      window._bokeh_onload_callbacks.forEach(function(callback) { callback() });\n",
       "      delete window._bokeh_onload_callbacks\n",
       "      console.info(\"Bokeh: all callbacks have finished\");\n",
       "    }\n",
       "  \n",
       "    function load_libs(js_urls, callback) {\n",
       "      window._bokeh_onload_callbacks.push(callback);\n",
       "      if (window._bokeh_is_loading > 0) {\n",
       "        console.log(\"Bokeh: BokehJS is being loaded, scheduling callback at\", now());\n",
       "        return null;\n",
       "      }\n",
       "      if (js_urls == null || js_urls.length === 0) {\n",
       "        run_callbacks();\n",
       "        return null;\n",
       "      }\n",
       "      console.log(\"Bokeh: BokehJS not loaded, scheduling load and callback at\", now());\n",
       "      window._bokeh_is_loading = js_urls.length;\n",
       "      for (var i = 0; i < js_urls.length; i++) {\n",
       "        var url = js_urls[i];\n",
       "        var s = document.createElement('script');\n",
       "        s.src = url;\n",
       "        s.async = false;\n",
       "        s.onreadystatechange = s.onload = function() {\n",
       "          window._bokeh_is_loading--;\n",
       "          if (window._bokeh_is_loading === 0) {\n",
       "            console.log(\"Bokeh: all BokehJS libraries loaded\");\n",
       "            run_callbacks()\n",
       "          }\n",
       "        };\n",
       "        s.onerror = function() {\n",
       "          console.warn(\"failed to load library \" + url);\n",
       "        };\n",
       "        console.log(\"Bokeh: injecting script tag for BokehJS library: \", url);\n",
       "        document.getElementsByTagName(\"head\")[0].appendChild(s);\n",
       "      }\n",
       "    };var element = document.getElementById(\"bda24405-e9ba-4e26-adc6-900416c325bf\");\n",
       "    if (element == null) {\n",
       "      console.log(\"Bokeh: ERROR: autoload.js configured with elementid 'bda24405-e9ba-4e26-adc6-900416c325bf' but no matching script tag was found. \")\n",
       "      return false;\n",
       "    }\n",
       "  \n",
       "    var js_urls = [];\n",
       "  \n",
       "    var inline_js = [\n",
       "      function(Bokeh) {\n",
       "        (function() {\n",
       "          var fn = function() {\n",
       "            var docs_json = {\"8651ea57-475f-415a-90d1-abb22c1905e1\":{\"roots\":{\"references\":[{\"attributes\":{\"bottom\":{\"value\":0},\"fill_alpha\":{\"value\":0.1},\"fill_color\":{\"value\":\"#1f77b4\"},\"left\":{\"field\":\"left\"},\"line_alpha\":{\"value\":0.1},\"line_color\":{\"value\":\"#1f77b4\"},\"right\":{\"field\":\"right\"},\"top\":{\"field\":\"top\"}},\"id\":\"f310f8c8-3670-4c84-8661-ba8ccd7baba3\",\"type\":\"Quad\"},{\"attributes\":{\"dimension\":1,\"plot\":{\"id\":\"c66007fe-3751-4a43-b398-552d23a5db15\",\"subtype\":\"Figure\",\"type\":\"Plot\"},\"ticker\":{\"id\":\"dd09c5b7-0af9-4fd7-8693-65d3eb7cc899\",\"type\":\"BasicTicker\"}},\"id\":\"067e0273-4ec4-4abd-b1d9-725ffcbd6cb4\",\"type\":\"Grid\"},{\"attributes\":{\"active_drag\":\"auto\",\"active_scroll\":\"auto\",\"active_tap\":\"auto\",\"tools\":[{\"id\":\"03ce95c2-1495-47ce-b5b9-f8e52c49fb0b\",\"type\":\"SaveTool\"}]},\"id\":\"61c4e851-4a11-4561-83a1-8b9933526e71\",\"type\":\"Toolbar\"},{\"attributes\":{\"data_source\":{\"id\":\"3627d8a9-50cd-4b32-a89f-d6d84361724c\",\"type\":\"ColumnDataSource\"},\"glyph\":{\"id\":\"2bd1679f-9d0a-40d5-9f05-c3f6f599dacd\",\"type\":\"Quad\"},\"hover_glyph\":null,\"nonselection_glyph\":{\"id\":\"f310f8c8-3670-4c84-8661-ba8ccd7baba3\",\"type\":\"Quad\"},\"selection_glyph\":null},\"id\":\"ac4cb959-f463-4c72-980b-3287880bf661\",\"type\":\"GlyphRenderer\"},{\"attributes\":{\"plot\":null,\"text\":\"Distribution of Recipients\"},\"id\":\"77683491-b4fb-4ac8-8a0e-b3d3a17c6536\",\"type\":\"Title\"},{\"attributes\":{\"plot\":{\"id\":\"c66007fe-3751-4a43-b398-552d23a5db15\",\"subtype\":\"Figure\",\"type\":\"Plot\"},\"ticker\":{\"id\":\"8467a553-8803-48fa-ad61-898d98d652e7\",\"type\":\"BasicTicker\"}},\"id\":\"fcc291f7-8b67-4414-a8b2-40137de58b4c\",\"type\":\"Grid\"},{\"attributes\":{\"plot\":{\"id\":\"c66007fe-3751-4a43-b398-552d23a5db15\",\"subtype\":\"Figure\",\"type\":\"Plot\"}},\"id\":\"03ce95c2-1495-47ce-b5b9-f8e52c49fb0b\",\"type\":\"SaveTool\"},{\"attributes\":{\"callback\":null,\"column_names\":[\"left\",\"right\",\"top\"],\"data\":{\"left\":{\"__ndarray__\":\"AAAAAAAA8D9mZmZmZmYaQGZmZmZmZihAzMzMzMzMMUBmZmZmZmY3QAAAAAAAAD1AzMzMzMxMQUCZmZmZmRlEQGZmZmZm5kZAMzMzMzOzSUA=\",\"dtype\":\"float64\",\"shape\":[10]},\"right\":{\"__ndarray__\":\"ZmZmZmZmGkBmZmZmZmYoQMzMzMzMzDFAZmZmZmZmN0AAAAAAAAA9QMzMzMzMTEFAmZmZmZkZREBmZmZmZuZGQDMzMzMzs0lAAAAAAACATEA=\",\"dtype\":\"float64\",\"shape\":[10]},\"top\":[36275,1633,269,55,26,30,30,25,28,17]}},\"id\":\"3627d8a9-50cd-4b32-a89f-d6d84361724c\",\"type\":\"ColumnDataSource\"},{\"attributes\":{},\"id\":\"765a3113-03d0-471f-8a73-9b035a70c559\",\"type\":\"ToolEvents\"},{\"attributes\":{\"axis_label\":\"Messages\",\"formatter\":{\"id\":\"3e14f125-906b-4e0d-bd09-6aa701a3eeee\",\"type\":\"BasicTickFormatter\"},\"plot\":{\"id\":\"c66007fe-3751-4a43-b398-552d23a5db15\",\"subtype\":\"Figure\",\"type\":\"Plot\"},\"ticker\":{\"id\":\"dd09c5b7-0af9-4fd7-8693-65d3eb7cc899\",\"type\":\"BasicTicker\"}},\"id\":\"10a91f00-ebcf-426c-a706-03b9ff3ed4fe\",\"type\":\"LinearAxis\"},{\"attributes\":{\"axis_label\":\"No of Recipients\",\"formatter\":{\"id\":\"354b28d6-28ba-4c54-8f48-514b1c1c6a9d\",\"type\":\"BasicTickFormatter\"},\"plot\":{\"id\":\"c66007fe-3751-4a43-b398-552d23a5db15\",\"subtype\":\"Figure\",\"type\":\"Plot\"},\"ticker\":{\"id\":\"8467a553-8803-48fa-ad61-898d98d652e7\",\"type\":\"BasicTicker\"}},\"id\":\"6097354d-ff9f-4a9e-b2a0-2a944cfcd248\",\"type\":\"LinearAxis\"},{\"attributes\":{},\"id\":\"354b28d6-28ba-4c54-8f48-514b1c1c6a9d\",\"type\":\"BasicTickFormatter\"},{\"attributes\":{\"callback\":null},\"id\":\"15bb3524-61b4-4e1f-a659-462b00c36d0e\",\"type\":\"DataRange1d\"},{\"attributes\":{\"bottom\":{\"value\":0},\"fill_color\":{\"value\":\"#008080\"},\"left\":{\"field\":\"left\"},\"line_color\":{\"value\":\"#1f77b4\"},\"right\":{\"field\":\"right\"},\"top\":{\"field\":\"top\"}},\"id\":\"2bd1679f-9d0a-40d5-9f05-c3f6f599dacd\",\"type\":\"Quad\"},{\"attributes\":{},\"id\":\"3e14f125-906b-4e0d-bd09-6aa701a3eeee\",\"type\":\"BasicTickFormatter\"},{\"attributes\":{\"below\":[{\"id\":\"6097354d-ff9f-4a9e-b2a0-2a944cfcd248\",\"type\":\"LinearAxis\"}],\"left\":[{\"id\":\"10a91f00-ebcf-426c-a706-03b9ff3ed4fe\",\"type\":\"LinearAxis\"}],\"renderers\":[{\"id\":\"6097354d-ff9f-4a9e-b2a0-2a944cfcd248\",\"type\":\"LinearAxis\"},{\"id\":\"fcc291f7-8b67-4414-a8b2-40137de58b4c\",\"type\":\"Grid\"},{\"id\":\"10a91f00-ebcf-426c-a706-03b9ff3ed4fe\",\"type\":\"LinearAxis\"},{\"id\":\"067e0273-4ec4-4abd-b1d9-725ffcbd6cb4\",\"type\":\"Grid\"},{\"id\":\"ac4cb959-f463-4c72-980b-3287880bf661\",\"type\":\"GlyphRenderer\"}],\"title\":{\"id\":\"77683491-b4fb-4ac8-8a0e-b3d3a17c6536\",\"type\":\"Title\"},\"tool_events\":{\"id\":\"765a3113-03d0-471f-8a73-9b035a70c559\",\"type\":\"ToolEvents\"},\"toolbar\":{\"id\":\"61c4e851-4a11-4561-83a1-8b9933526e71\",\"type\":\"Toolbar\"},\"x_range\":{\"id\":\"df5eb02e-9a85-44f2-9470-ea30d16cedf8\",\"type\":\"DataRange1d\"},\"y_range\":{\"id\":\"15bb3524-61b4-4e1f-a659-462b00c36d0e\",\"type\":\"DataRange1d\"}},\"id\":\"c66007fe-3751-4a43-b398-552d23a5db15\",\"subtype\":\"Figure\",\"type\":\"Plot\"},{\"attributes\":{},\"id\":\"8467a553-8803-48fa-ad61-898d98d652e7\",\"type\":\"BasicTicker\"},{\"attributes\":{},\"id\":\"dd09c5b7-0af9-4fd7-8693-65d3eb7cc899\",\"type\":\"BasicTicker\"},{\"attributes\":{\"callback\":null},\"id\":\"df5eb02e-9a85-44f2-9470-ea30d16cedf8\",\"type\":\"DataRange1d\"}],\"root_ids\":[\"c66007fe-3751-4a43-b398-552d23a5db15\"]},\"title\":\"Bokeh Application\",\"version\":\"0.12.4\"}};\n",
       "            var render_items = [{\"docid\":\"8651ea57-475f-415a-90d1-abb22c1905e1\",\"elementid\":\"bda24405-e9ba-4e26-adc6-900416c325bf\",\"modelid\":\"c66007fe-3751-4a43-b398-552d23a5db15\"}];\n",
       "            \n",
       "            Bokeh.embed.embed_items(docs_json, render_items);\n",
       "          };\n",
       "          if (document.readyState != \"loading\") fn();\n",
       "          else document.addEventListener(\"DOMContentLoaded\", fn);\n",
       "        })();\n",
       "      },\n",
       "      function(Bokeh) {\n",
       "      }\n",
       "    ];\n",
       "  \n",
       "    function run_inline_js() {\n",
       "      \n",
       "      if ((window.Bokeh !== undefined) || (force === true)) {\n",
       "        for (var i = 0; i < inline_js.length; i++) {\n",
       "          inline_js[i](window.Bokeh);\n",
       "        }if (force === true) {\n",
       "          display_loaded();\n",
       "        }} else if (Date.now() < window._bokeh_timeout) {\n",
       "        setTimeout(run_inline_js, 100);\n",
       "      } else if (!window._bokeh_failed_load) {\n",
       "        console.log(\"Bokeh: BokehJS failed to load within specified timeout.\");\n",
       "        window._bokeh_failed_load = true;\n",
       "      } else if (force !== true) {\n",
       "        var cell = $(document.getElementById(\"bda24405-e9ba-4e26-adc6-900416c325bf\")).parents('.cell').data().cell;\n",
       "        cell.output_area.append_execute_result(NB_LOAD_WARNING)\n",
       "      }\n",
       "  \n",
       "    }\n",
       "  \n",
       "    if (window._bokeh_is_loading === 0) {\n",
       "      console.log(\"Bokeh: BokehJS loaded, going straight to plotting\");\n",
       "      run_inline_js();\n",
       "    } else {\n",
       "      load_libs(js_urls, function() {\n",
       "        console.log(\"Bokeh: BokehJS plotting callback run at\", now());\n",
       "        run_inline_js();\n",
       "      });\n",
       "    }\n",
       "  }(this));\n",
       "</script>"
      ]
     },
     "metadata": {},
     "output_type": "display_data"
    }
   ],
   "source": [
    "import numpy as np\n",
    "import scipy.special\n",
    "from bokeh.layouts import gridplot\n",
    "from bokeh.plotting import figure, output_notebook, show\n",
    "\n",
    "p1 = figure(title=\"Distribution of Recipients\",tools=\"save\")\n",
    "hist, edges = np.histogram(recipients.rno, density=False, bins=10)\n",
    "x = np.arange(0,57)\n",
    "p1.quad(top=hist, bottom=0, left=edges[:10], right=edges[1:], fill_color=\"#008080\")\n",
    "p1.legend.location = \"center_right\"\n",
    "p1.xaxis.axis_label = 'No of Recipients'\n",
    "p1.yaxis.axis_label = 'Messages'\n",
    "output_notebook()\n",
    "show(p1)"
   ]
  },
  {
   "cell_type": "markdown",
   "metadata": {},
   "source": [
    "## 3. Data Merging\n",
    "\n",
    "Use the pandas merge function to combine the information in the 3 dataframes to answer the following questions:\n",
    "\n",
    "1. Are there more Men or Women employees?\n",
    "- How is gender distributed across departments?\n",
    "- Who is sending more emails? Men or Women?\n",
    "- What's the average number of emails sent by each gender?\n",
    "- Are there more Juniors or Seniors?\n",
    "- Who is sending more emails? Juniors or Seniors?\n",
    "- Which department is sending more emails? How does that relate with the number of employees in the department?\n",
    "- Who are the top 3 senders of emails? (people who sent out the most emails)"
   ]
  },
  {
   "cell_type": "code",
   "execution_count": null,
   "metadata": {
    "collapsed": true
   },
   "outputs": [],
   "source": []
  },
  {
   "cell_type": "code",
   "execution_count": null,
   "metadata": {
    "collapsed": true
   },
   "outputs": [],
   "source": []
  },
  {
   "cell_type": "code",
   "execution_count": null,
   "metadata": {
    "collapsed": true
   },
   "outputs": [],
   "source": []
  },
  {
   "cell_type": "code",
   "execution_count": null,
   "metadata": {
    "collapsed": true
   },
   "outputs": [],
   "source": []
  },
  {
   "cell_type": "code",
   "execution_count": null,
   "metadata": {
    "collapsed": true
   },
   "outputs": [],
   "source": []
  }
 ],
 "metadata": {
  "kernelspec": {
   "display_name": "Python 3",
   "language": "python",
   "name": "python3"
  },
  "language_info": {
   "codemirror_mode": {
    "name": "ipython",
    "version": 3
   },
   "file_extension": ".py",
   "mimetype": "text/x-python",
   "name": "python",
   "nbconvert_exporter": "python",
   "pygments_lexer": "ipython3",
   "version": "3.6.0"
  }
 },
 "nbformat": 4,
 "nbformat_minor": 0
}
